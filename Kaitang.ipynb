{
 "cells": [
  {
   "cell_type": "code",
   "execution_count": 98,
   "id": "1457a943",
   "metadata": {},
   "outputs": [],
   "source": [
    "import matplotlib\n",
    "import matplotlib.pyplot as plt\n",
    "import seaborn as sns; sns.set()\n",
    "import numpy as np\n",
    "import pandas as pd\n",
    "from sklearn.preprocessing import StandardScaler\n",
    "from sklearn import tree"
   ]
  },
  {
   "cell_type": "markdown",
   "id": "61da875a",
   "metadata": {},
   "source": [
    "# 1. Get the suicidal dataset"
   ]
  },
  {
   "cell_type": "markdown",
   "id": "300fcca1",
   "metadata": {},
   "source": [
    "## 1.1 Load all death data"
   ]
  },
  {
   "cell_type": "code",
   "execution_count": 2,
   "id": "303324bd",
   "metadata": {},
   "outputs": [
    {
     "name": "stderr",
     "output_type": "stream",
     "text": [
      "C:\\Users\\hukai\\AppData\\Local\\Temp\\ipykernel_2408\\3490527375.py:2: DtypeWarning: Columns (60,63,66,69,99,100,101,102) have mixed types. Specify dtype option on import or set low_memory=False.\n",
      "  df_raw = pd.read_csv(\"2020.csv\")\n"
     ]
    }
   ],
   "source": [
    "#df_raw = pd.read_csv(\"../Morality Data/2020.csv\",low_memory=False,nrows=10000)\n",
    "df_raw = pd.read_csv(\"2020.csv\")"
   ]
  },
  {
   "cell_type": "code",
   "execution_count": 3,
   "id": "176d5595",
   "metadata": {},
   "outputs": [
    {
     "name": "stdout",
     "output_type": "stream",
     "text": [
      "['restatus', 'educ1989', 'educ2003', 'educflag', 'monthdth', 'sex', 'age', 'ageflag', 'ager52', 'ager27', 'ager12', 'ager22', 'placdth', 'marstat', 'weekday', 'year', 'injwork', 'mandeath', 'methdisp', 'autopsy', 'activity', 'injury', 'ucod', 'ucr358', 'ucr113', 'ucr130', 'ucr39', 'eanum', 'econdp_1', 'econds_1', 'enicon_1', 'econdp_2', 'econds_2', 'enicon_2', 'econdp_3', 'econds_3', 'enicon_3', 'econdp_4', 'econds_4', 'enicon_4', 'econdp_5', 'econds_5', 'enicon_5', 'econdp_6', 'econds_6', 'enicon_6', 'econdp_7', 'econds_7', 'enicon_7', 'econdp_8', 'econds_8', 'enicon_8', 'econdp_9', 'econds_9', 'enicon_9', 'econdp_10', 'econds_10', 'enicon_10', 'econdp_11', 'econds_11', 'enicon_11', 'econdp_12', 'econds_12', 'enicon_12', 'econdp_13', 'econds_13', 'enicon_13', 'econdp_14', 'econds_14', 'enicon_14', 'econdp_15', 'econds_15', 'enicon_15', 'econdp_16', 'econds_16', 'enicon_16', 'econdp_17', 'econds_17', 'enicon_17', 'econdp_18', 'econds_18', 'enicon_18', 'econdp_19', 'econds_19', 'enicon_19', 'econdp_20', 'econds_20', 'enicon_20', 'ranum', 'record_1', 'record_2', 'record_3', 'record_4', 'record_5', 'record_6', 'record_7', 'record_8', 'record_9', 'record_10', 'record_11', 'record_12', 'record_13', 'record_14', 'record_15', 'record_16', 'record_17', 'record_18', 'record_19', 'record_20', 'race', 'brace', 'raceimp', 'racer3', 'racer5', 'hispanic', 'hspanicr', 'race40', 'occupation', 'occptnr', 'industry', 'indstryr']，"
     ]
    }
   ],
   "source": [
    "features= df_raw.columns.tolist()\n",
    "print(features,end=\"，\")"
   ]
  },
  {
   "cell_type": "markdown",
   "id": "cd64cd88",
   "metadata": {},
   "source": [
    "## 1.2 Fill the NaN "
   ]
  },
  {
   "cell_type": "code",
   "execution_count": 4,
   "id": "7fb9c95c",
   "metadata": {},
   "outputs": [],
   "source": [
    "df = df_raw.fillna(0)"
   ]
  },
  {
   "cell_type": "code",
   "execution_count": 5,
   "id": "64ccc500",
   "metadata": {},
   "outputs": [
    {
     "data": {
      "text/html": [
       "<div>\n",
       "<style scoped>\n",
       "    .dataframe tbody tr th:only-of-type {\n",
       "        vertical-align: middle;\n",
       "    }\n",
       "\n",
       "    .dataframe tbody tr th {\n",
       "        vertical-align: top;\n",
       "    }\n",
       "\n",
       "    .dataframe thead th {\n",
       "        text-align: right;\n",
       "    }\n",
       "</style>\n",
       "<table border=\"1\" class=\"dataframe\">\n",
       "  <thead>\n",
       "    <tr style=\"text-align: right;\">\n",
       "      <th></th>\n",
       "      <th>restatus</th>\n",
       "      <th>educ1989</th>\n",
       "      <th>educ2003</th>\n",
       "      <th>educflag</th>\n",
       "      <th>monthdth</th>\n",
       "      <th>age</th>\n",
       "      <th>ageflag</th>\n",
       "      <th>ager52</th>\n",
       "      <th>ager27</th>\n",
       "      <th>ager12</th>\n",
       "      <th>...</th>\n",
       "      <th>raceimp</th>\n",
       "      <th>racer3</th>\n",
       "      <th>racer5</th>\n",
       "      <th>hispanic</th>\n",
       "      <th>hspanicr</th>\n",
       "      <th>race40</th>\n",
       "      <th>occupation</th>\n",
       "      <th>occptnr</th>\n",
       "      <th>industry</th>\n",
       "      <th>indstryr</th>\n",
       "    </tr>\n",
       "  </thead>\n",
       "  <tbody>\n",
       "    <tr>\n",
       "      <th>count</th>\n",
       "      <td>34426.000000</td>\n",
       "      <td>34426.0</td>\n",
       "      <td>34426.000000</td>\n",
       "      <td>34426.0</td>\n",
       "      <td>34426.000000</td>\n",
       "      <td>34426.000000</td>\n",
       "      <td>34426.000000</td>\n",
       "      <td>34426.000000</td>\n",
       "      <td>34426.000000</td>\n",
       "      <td>34426.000000</td>\n",
       "      <td>...</td>\n",
       "      <td>34426.000000</td>\n",
       "      <td>34426.000000</td>\n",
       "      <td>34426.000000</td>\n",
       "      <td>34426.000000</td>\n",
       "      <td>34426.000000</td>\n",
       "      <td>34426.000000</td>\n",
       "      <td>34426.0</td>\n",
       "      <td>34426.0</td>\n",
       "      <td>34426.0</td>\n",
       "      <td>34426.0</td>\n",
       "    </tr>\n",
       "    <tr>\n",
       "      <th>mean</th>\n",
       "      <td>1.360629</td>\n",
       "      <td>0.0</td>\n",
       "      <td>3.082932</td>\n",
       "      <td>1.0</td>\n",
       "      <td>6.650061</td>\n",
       "      <td>1105.023732</td>\n",
       "      <td>0.000029</td>\n",
       "      <td>40.256405</td>\n",
       "      <td>20.315198</td>\n",
       "      <td>9.355255</td>\n",
       "      <td>...</td>\n",
       "      <td>0.037123</td>\n",
       "      <td>1.166880</td>\n",
       "      <td>1.186952</td>\n",
       "      <td>255.791756</td>\n",
       "      <td>2.500232</td>\n",
       "      <td>1.530064</td>\n",
       "      <td>0.0</td>\n",
       "      <td>0.0</td>\n",
       "      <td>0.0</td>\n",
       "      <td>0.0</td>\n",
       "    </tr>\n",
       "    <tr>\n",
       "      <th>std</th>\n",
       "      <td>0.537181</td>\n",
       "      <td>0.0</td>\n",
       "      <td>2.206495</td>\n",
       "      <td>0.0</td>\n",
       "      <td>3.496683</td>\n",
       "      <td>442.850876</td>\n",
       "      <td>0.005390</td>\n",
       "      <td>4.116438</td>\n",
       "      <td>3.602842</td>\n",
       "      <td>1.715623</td>\n",
       "      <td>...</td>\n",
       "      <td>0.237669</td>\n",
       "      <td>0.513981</td>\n",
       "      <td>0.631738</td>\n",
       "      <td>83.943738</td>\n",
       "      <td>1.549629</td>\n",
       "      <td>2.398543</td>\n",
       "      <td>0.0</td>\n",
       "      <td>0.0</td>\n",
       "      <td>0.0</td>\n",
       "      <td>0.0</td>\n",
       "    </tr>\n",
       "    <tr>\n",
       "      <th>min</th>\n",
       "      <td>1.000000</td>\n",
       "      <td>0.0</td>\n",
       "      <td>1.000000</td>\n",
       "      <td>1.0</td>\n",
       "      <td>1.000000</td>\n",
       "      <td>1001.000000</td>\n",
       "      <td>0.000000</td>\n",
       "      <td>1.000000</td>\n",
       "      <td>1.000000</td>\n",
       "      <td>1.000000</td>\n",
       "      <td>...</td>\n",
       "      <td>0.000000</td>\n",
       "      <td>1.000000</td>\n",
       "      <td>1.000000</td>\n",
       "      <td>100.000000</td>\n",
       "      <td>1.000000</td>\n",
       "      <td>1.000000</td>\n",
       "      <td>0.0</td>\n",
       "      <td>0.0</td>\n",
       "      <td>0.0</td>\n",
       "      <td>0.0</td>\n",
       "    </tr>\n",
       "    <tr>\n",
       "      <th>25%</th>\n",
       "      <td>1.000000</td>\n",
       "      <td>0.0</td>\n",
       "      <td>1.000000</td>\n",
       "      <td>1.0</td>\n",
       "      <td>4.000000</td>\n",
       "      <td>1065.000000</td>\n",
       "      <td>0.000000</td>\n",
       "      <td>39.000000</td>\n",
       "      <td>19.000000</td>\n",
       "      <td>9.000000</td>\n",
       "      <td>...</td>\n",
       "      <td>0.000000</td>\n",
       "      <td>1.000000</td>\n",
       "      <td>1.000000</td>\n",
       "      <td>260.000000</td>\n",
       "      <td>2.000000</td>\n",
       "      <td>1.000000</td>\n",
       "      <td>0.0</td>\n",
       "      <td>0.0</td>\n",
       "      <td>0.0</td>\n",
       "      <td>0.0</td>\n",
       "    </tr>\n",
       "    <tr>\n",
       "      <th>50%</th>\n",
       "      <td>1.000000</td>\n",
       "      <td>0.0</td>\n",
       "      <td>3.000000</td>\n",
       "      <td>1.0</td>\n",
       "      <td>7.000000</td>\n",
       "      <td>1077.000000</td>\n",
       "      <td>0.000000</td>\n",
       "      <td>41.000000</td>\n",
       "      <td>21.000000</td>\n",
       "      <td>10.000000</td>\n",
       "      <td>...</td>\n",
       "      <td>0.000000</td>\n",
       "      <td>1.000000</td>\n",
       "      <td>1.000000</td>\n",
       "      <td>260.000000</td>\n",
       "      <td>2.000000</td>\n",
       "      <td>1.000000</td>\n",
       "      <td>0.0</td>\n",
       "      <td>0.0</td>\n",
       "      <td>0.0</td>\n",
       "      <td>0.0</td>\n",
       "    </tr>\n",
       "    <tr>\n",
       "      <th>75%</th>\n",
       "      <td>2.000000</td>\n",
       "      <td>0.0</td>\n",
       "      <td>4.000000</td>\n",
       "      <td>1.0</td>\n",
       "      <td>10.000000</td>\n",
       "      <td>1086.000000</td>\n",
       "      <td>0.000000</td>\n",
       "      <td>43.000000</td>\n",
       "      <td>23.000000</td>\n",
       "      <td>11.000000</td>\n",
       "      <td>...</td>\n",
       "      <td>0.000000</td>\n",
       "      <td>1.000000</td>\n",
       "      <td>1.000000</td>\n",
       "      <td>260.000000</td>\n",
       "      <td>2.000000</td>\n",
       "      <td>1.000000</td>\n",
       "      <td>0.0</td>\n",
       "      <td>0.0</td>\n",
       "      <td>0.0</td>\n",
       "      <td>0.0</td>\n",
       "    </tr>\n",
       "    <tr>\n",
       "      <th>max</th>\n",
       "      <td>4.000000</td>\n",
       "      <td>0.0</td>\n",
       "      <td>9.000000</td>\n",
       "      <td>1.0</td>\n",
       "      <td>12.000000</td>\n",
       "      <td>9999.000000</td>\n",
       "      <td>1.000000</td>\n",
       "      <td>52.000000</td>\n",
       "      <td>27.000000</td>\n",
       "      <td>12.000000</td>\n",
       "      <td>...</td>\n",
       "      <td>2.000000</td>\n",
       "      <td>3.000000</td>\n",
       "      <td>4.000000</td>\n",
       "      <td>998.000000</td>\n",
       "      <td>9.000000</td>\n",
       "      <td>39.000000</td>\n",
       "      <td>0.0</td>\n",
       "      <td>0.0</td>\n",
       "      <td>0.0</td>\n",
       "      <td>0.0</td>\n",
       "    </tr>\n",
       "  </tbody>\n",
       "</table>\n",
       "<p>8 rows × 87 columns</p>\n",
       "</div>"
      ],
      "text/plain": [
       "           restatus  educ1989      educ2003  educflag      monthdth  \\\n",
       "count  34426.000000   34426.0  34426.000000   34426.0  34426.000000   \n",
       "mean       1.360629       0.0      3.082932       1.0      6.650061   \n",
       "std        0.537181       0.0      2.206495       0.0      3.496683   \n",
       "min        1.000000       0.0      1.000000       1.0      1.000000   \n",
       "25%        1.000000       0.0      1.000000       1.0      4.000000   \n",
       "50%        1.000000       0.0      3.000000       1.0      7.000000   \n",
       "75%        2.000000       0.0      4.000000       1.0     10.000000   \n",
       "max        4.000000       0.0      9.000000       1.0     12.000000   \n",
       "\n",
       "                age       ageflag        ager52        ager27        ager12  \\\n",
       "count  34426.000000  34426.000000  34426.000000  34426.000000  34426.000000   \n",
       "mean    1105.023732      0.000029     40.256405     20.315198      9.355255   \n",
       "std      442.850876      0.005390      4.116438      3.602842      1.715623   \n",
       "min     1001.000000      0.000000      1.000000      1.000000      1.000000   \n",
       "25%     1065.000000      0.000000     39.000000     19.000000      9.000000   \n",
       "50%     1077.000000      0.000000     41.000000     21.000000     10.000000   \n",
       "75%     1086.000000      0.000000     43.000000     23.000000     11.000000   \n",
       "max     9999.000000      1.000000     52.000000     27.000000     12.000000   \n",
       "\n",
       "       ...       raceimp        racer3        racer5      hispanic  \\\n",
       "count  ...  34426.000000  34426.000000  34426.000000  34426.000000   \n",
       "mean   ...      0.037123      1.166880      1.186952    255.791756   \n",
       "std    ...      0.237669      0.513981      0.631738     83.943738   \n",
       "min    ...      0.000000      1.000000      1.000000    100.000000   \n",
       "25%    ...      0.000000      1.000000      1.000000    260.000000   \n",
       "50%    ...      0.000000      1.000000      1.000000    260.000000   \n",
       "75%    ...      0.000000      1.000000      1.000000    260.000000   \n",
       "max    ...      2.000000      3.000000      4.000000    998.000000   \n",
       "\n",
       "           hspanicr        race40  occupation  occptnr  industry  indstryr  \n",
       "count  34426.000000  34426.000000     34426.0  34426.0   34426.0   34426.0  \n",
       "mean       2.500232      1.530064         0.0      0.0       0.0       0.0  \n",
       "std        1.549629      2.398543         0.0      0.0       0.0       0.0  \n",
       "min        1.000000      1.000000         0.0      0.0       0.0       0.0  \n",
       "25%        2.000000      1.000000         0.0      0.0       0.0       0.0  \n",
       "50%        2.000000      1.000000         0.0      0.0       0.0       0.0  \n",
       "75%        2.000000      1.000000         0.0      0.0       0.0       0.0  \n",
       "max        9.000000     39.000000         0.0      0.0       0.0       0.0  \n",
       "\n",
       "[8 rows x 87 columns]"
      ]
     },
     "execution_count": 5,
     "metadata": {},
     "output_type": "execute_result"
    }
   ],
   "source": [
    "df.describe()"
   ]
  },
  {
   "cell_type": "markdown",
   "id": "ad21e980",
   "metadata": {},
   "source": [
    "## 1.3 Drop those columns with no data"
   ]
  },
  {
   "cell_type": "code",
   "execution_count": 6,
   "id": "57227559",
   "metadata": {},
   "outputs": [],
   "source": [
    "df = df.loc[:, (df != 0).any(axis=0)]"
   ]
  },
  {
   "cell_type": "code",
   "execution_count": 7,
   "id": "276a5729",
   "metadata": {},
   "outputs": [
    {
     "data": {
      "text/html": [
       "<div>\n",
       "<style scoped>\n",
       "    .dataframe tbody tr th:only-of-type {\n",
       "        vertical-align: middle;\n",
       "    }\n",
       "\n",
       "    .dataframe tbody tr th {\n",
       "        vertical-align: top;\n",
       "    }\n",
       "\n",
       "    .dataframe thead th {\n",
       "        text-align: right;\n",
       "    }\n",
       "</style>\n",
       "<table border=\"1\" class=\"dataframe\">\n",
       "  <thead>\n",
       "    <tr style=\"text-align: right;\">\n",
       "      <th></th>\n",
       "      <th>restatus</th>\n",
       "      <th>educ2003</th>\n",
       "      <th>educflag</th>\n",
       "      <th>monthdth</th>\n",
       "      <th>age</th>\n",
       "      <th>ageflag</th>\n",
       "      <th>ager52</th>\n",
       "      <th>ager27</th>\n",
       "      <th>ager12</th>\n",
       "      <th>ager22</th>\n",
       "      <th>...</th>\n",
       "      <th>econds_14</th>\n",
       "      <th>ranum</th>\n",
       "      <th>race</th>\n",
       "      <th>brace</th>\n",
       "      <th>raceimp</th>\n",
       "      <th>racer3</th>\n",
       "      <th>racer5</th>\n",
       "      <th>hispanic</th>\n",
       "      <th>hspanicr</th>\n",
       "      <th>race40</th>\n",
       "    </tr>\n",
       "  </thead>\n",
       "  <tbody>\n",
       "    <tr>\n",
       "      <th>count</th>\n",
       "      <td>34426.000000</td>\n",
       "      <td>34426.000000</td>\n",
       "      <td>34426.0</td>\n",
       "      <td>34426.000000</td>\n",
       "      <td>34426.000000</td>\n",
       "      <td>34426.000000</td>\n",
       "      <td>34426.000000</td>\n",
       "      <td>34426.000000</td>\n",
       "      <td>34426.000000</td>\n",
       "      <td>34426.000000</td>\n",
       "      <td>...</td>\n",
       "      <td>34426.000000</td>\n",
       "      <td>34426.000000</td>\n",
       "      <td>34426.000000</td>\n",
       "      <td>34426.000000</td>\n",
       "      <td>34426.000000</td>\n",
       "      <td>34426.000000</td>\n",
       "      <td>34426.000000</td>\n",
       "      <td>34426.000000</td>\n",
       "      <td>34426.000000</td>\n",
       "      <td>34426.000000</td>\n",
       "    </tr>\n",
       "    <tr>\n",
       "      <th>mean</th>\n",
       "      <td>1.360629</td>\n",
       "      <td>3.082932</td>\n",
       "      <td>1.0</td>\n",
       "      <td>6.650061</td>\n",
       "      <td>1105.023732</td>\n",
       "      <td>0.000029</td>\n",
       "      <td>40.256405</td>\n",
       "      <td>20.315198</td>\n",
       "      <td>9.355255</td>\n",
       "      <td>0.039040</td>\n",
       "      <td>...</td>\n",
       "      <td>0.000320</td>\n",
       "      <td>3.539999</td>\n",
       "      <td>2.382966</td>\n",
       "      <td>0.001307</td>\n",
       "      <td>0.037123</td>\n",
       "      <td>1.166880</td>\n",
       "      <td>1.186952</td>\n",
       "      <td>255.791756</td>\n",
       "      <td>2.500232</td>\n",
       "      <td>1.530064</td>\n",
       "    </tr>\n",
       "    <tr>\n",
       "      <th>std</th>\n",
       "      <td>0.537181</td>\n",
       "      <td>2.206495</td>\n",
       "      <td>0.0</td>\n",
       "      <td>3.496683</td>\n",
       "      <td>442.850876</td>\n",
       "      <td>0.005390</td>\n",
       "      <td>4.116438</td>\n",
       "      <td>3.602842</td>\n",
       "      <td>1.715623</td>\n",
       "      <td>0.654386</td>\n",
       "      <td>...</td>\n",
       "      <td>0.041398</td>\n",
       "      <td>1.535041</td>\n",
       "      <td>8.308837</td>\n",
       "      <td>0.036131</td>\n",
       "      <td>0.237669</td>\n",
       "      <td>0.513981</td>\n",
       "      <td>0.631738</td>\n",
       "      <td>83.943738</td>\n",
       "      <td>1.549629</td>\n",
       "      <td>2.398543</td>\n",
       "    </tr>\n",
       "    <tr>\n",
       "      <th>min</th>\n",
       "      <td>1.000000</td>\n",
       "      <td>1.000000</td>\n",
       "      <td>1.0</td>\n",
       "      <td>1.000000</td>\n",
       "      <td>1001.000000</td>\n",
       "      <td>0.000000</td>\n",
       "      <td>1.000000</td>\n",
       "      <td>1.000000</td>\n",
       "      <td>1.000000</td>\n",
       "      <td>0.000000</td>\n",
       "      <td>...</td>\n",
       "      <td>0.000000</td>\n",
       "      <td>1.000000</td>\n",
       "      <td>0.000000</td>\n",
       "      <td>0.000000</td>\n",
       "      <td>0.000000</td>\n",
       "      <td>1.000000</td>\n",
       "      <td>1.000000</td>\n",
       "      <td>100.000000</td>\n",
       "      <td>1.000000</td>\n",
       "      <td>1.000000</td>\n",
       "    </tr>\n",
       "    <tr>\n",
       "      <th>25%</th>\n",
       "      <td>1.000000</td>\n",
       "      <td>1.000000</td>\n",
       "      <td>1.0</td>\n",
       "      <td>4.000000</td>\n",
       "      <td>1065.000000</td>\n",
       "      <td>0.000000</td>\n",
       "      <td>39.000000</td>\n",
       "      <td>19.000000</td>\n",
       "      <td>9.000000</td>\n",
       "      <td>0.000000</td>\n",
       "      <td>...</td>\n",
       "      <td>0.000000</td>\n",
       "      <td>3.000000</td>\n",
       "      <td>1.000000</td>\n",
       "      <td>0.000000</td>\n",
       "      <td>0.000000</td>\n",
       "      <td>1.000000</td>\n",
       "      <td>1.000000</td>\n",
       "      <td>260.000000</td>\n",
       "      <td>2.000000</td>\n",
       "      <td>1.000000</td>\n",
       "    </tr>\n",
       "    <tr>\n",
       "      <th>50%</th>\n",
       "      <td>1.000000</td>\n",
       "      <td>3.000000</td>\n",
       "      <td>1.0</td>\n",
       "      <td>7.000000</td>\n",
       "      <td>1077.000000</td>\n",
       "      <td>0.000000</td>\n",
       "      <td>41.000000</td>\n",
       "      <td>21.000000</td>\n",
       "      <td>10.000000</td>\n",
       "      <td>0.000000</td>\n",
       "      <td>...</td>\n",
       "      <td>0.000000</td>\n",
       "      <td>3.000000</td>\n",
       "      <td>1.000000</td>\n",
       "      <td>0.000000</td>\n",
       "      <td>0.000000</td>\n",
       "      <td>1.000000</td>\n",
       "      <td>1.000000</td>\n",
       "      <td>260.000000</td>\n",
       "      <td>2.000000</td>\n",
       "      <td>1.000000</td>\n",
       "    </tr>\n",
       "    <tr>\n",
       "      <th>75%</th>\n",
       "      <td>2.000000</td>\n",
       "      <td>4.000000</td>\n",
       "      <td>1.0</td>\n",
       "      <td>10.000000</td>\n",
       "      <td>1086.000000</td>\n",
       "      <td>0.000000</td>\n",
       "      <td>43.000000</td>\n",
       "      <td>23.000000</td>\n",
       "      <td>11.000000</td>\n",
       "      <td>0.000000</td>\n",
       "      <td>...</td>\n",
       "      <td>0.000000</td>\n",
       "      <td>4.000000</td>\n",
       "      <td>1.000000</td>\n",
       "      <td>0.000000</td>\n",
       "      <td>0.000000</td>\n",
       "      <td>1.000000</td>\n",
       "      <td>1.000000</td>\n",
       "      <td>260.000000</td>\n",
       "      <td>2.000000</td>\n",
       "      <td>1.000000</td>\n",
       "    </tr>\n",
       "    <tr>\n",
       "      <th>max</th>\n",
       "      <td>4.000000</td>\n",
       "      <td>9.000000</td>\n",
       "      <td>1.0</td>\n",
       "      <td>12.000000</td>\n",
       "      <td>9999.000000</td>\n",
       "      <td>1.000000</td>\n",
       "      <td>52.000000</td>\n",
       "      <td>27.000000</td>\n",
       "      <td>12.000000</td>\n",
       "      <td>22.000000</td>\n",
       "      <td>...</td>\n",
       "      <td>7.000000</td>\n",
       "      <td>14.000000</td>\n",
       "      <td>78.000000</td>\n",
       "      <td>1.000000</td>\n",
       "      <td>2.000000</td>\n",
       "      <td>3.000000</td>\n",
       "      <td>4.000000</td>\n",
       "      <td>998.000000</td>\n",
       "      <td>9.000000</td>\n",
       "      <td>39.000000</td>\n",
       "    </tr>\n",
       "  </tbody>\n",
       "</table>\n",
       "<p>8 rows × 58 columns</p>\n",
       "</div>"
      ],
      "text/plain": [
       "           restatus      educ2003  educflag      monthdth           age  \\\n",
       "count  34426.000000  34426.000000   34426.0  34426.000000  34426.000000   \n",
       "mean       1.360629      3.082932       1.0      6.650061   1105.023732   \n",
       "std        0.537181      2.206495       0.0      3.496683    442.850876   \n",
       "min        1.000000      1.000000       1.0      1.000000   1001.000000   \n",
       "25%        1.000000      1.000000       1.0      4.000000   1065.000000   \n",
       "50%        1.000000      3.000000       1.0      7.000000   1077.000000   \n",
       "75%        2.000000      4.000000       1.0     10.000000   1086.000000   \n",
       "max        4.000000      9.000000       1.0     12.000000   9999.000000   \n",
       "\n",
       "            ageflag        ager52        ager27        ager12        ager22  \\\n",
       "count  34426.000000  34426.000000  34426.000000  34426.000000  34426.000000   \n",
       "mean       0.000029     40.256405     20.315198      9.355255      0.039040   \n",
       "std        0.005390      4.116438      3.602842      1.715623      0.654386   \n",
       "min        0.000000      1.000000      1.000000      1.000000      0.000000   \n",
       "25%        0.000000     39.000000     19.000000      9.000000      0.000000   \n",
       "50%        0.000000     41.000000     21.000000     10.000000      0.000000   \n",
       "75%        0.000000     43.000000     23.000000     11.000000      0.000000   \n",
       "max        1.000000     52.000000     27.000000     12.000000     22.000000   \n",
       "\n",
       "       ...     econds_14         ranum          race         brace  \\\n",
       "count  ...  34426.000000  34426.000000  34426.000000  34426.000000   \n",
       "mean   ...      0.000320      3.539999      2.382966      0.001307   \n",
       "std    ...      0.041398      1.535041      8.308837      0.036131   \n",
       "min    ...      0.000000      1.000000      0.000000      0.000000   \n",
       "25%    ...      0.000000      3.000000      1.000000      0.000000   \n",
       "50%    ...      0.000000      3.000000      1.000000      0.000000   \n",
       "75%    ...      0.000000      4.000000      1.000000      0.000000   \n",
       "max    ...      7.000000     14.000000     78.000000      1.000000   \n",
       "\n",
       "            raceimp        racer3        racer5      hispanic      hspanicr  \\\n",
       "count  34426.000000  34426.000000  34426.000000  34426.000000  34426.000000   \n",
       "mean       0.037123      1.166880      1.186952    255.791756      2.500232   \n",
       "std        0.237669      0.513981      0.631738     83.943738      1.549629   \n",
       "min        0.000000      1.000000      1.000000    100.000000      1.000000   \n",
       "25%        0.000000      1.000000      1.000000    260.000000      2.000000   \n",
       "50%        0.000000      1.000000      1.000000    260.000000      2.000000   \n",
       "75%        0.000000      1.000000      1.000000    260.000000      2.000000   \n",
       "max        2.000000      3.000000      4.000000    998.000000      9.000000   \n",
       "\n",
       "             race40  \n",
       "count  34426.000000  \n",
       "mean       1.530064  \n",
       "std        2.398543  \n",
       "min        1.000000  \n",
       "25%        1.000000  \n",
       "50%        1.000000  \n",
       "75%        1.000000  \n",
       "max       39.000000  \n",
       "\n",
       "[8 rows x 58 columns]"
      ]
     },
     "execution_count": 7,
     "metadata": {},
     "output_type": "execute_result"
    }
   ],
   "source": [
    "df.describe()"
   ]
  },
  {
   "cell_type": "code",
   "execution_count": 8,
   "id": "3240580d",
   "metadata": {},
   "outputs": [
    {
     "data": {
      "text/plain": [
       "31294"
      ]
     },
     "execution_count": 8,
     "metadata": {},
     "output_type": "execute_result"
    }
   ],
   "source": [
    "sum(df['mandeath'] == 7)"
   ]
  },
  {
   "cell_type": "markdown",
   "id": "9bdbe13f",
   "metadata": {},
   "source": [
    "## 1.4 Drop the data points that hasn't specified the manner of death"
   ]
  },
  {
   "cell_type": "code",
   "execution_count": 9,
   "id": "e90d7e60",
   "metadata": {},
   "outputs": [],
   "source": [
    "df = df.loc[df['mandeath'] != 0]"
   ]
  },
  {
   "cell_type": "markdown",
   "id": "ca703014",
   "metadata": {},
   "source": [
    "#### Manner of Death: 1. accident 2. suicide 3. homicide 4. pending investigation 5. could not determine 6. self-inflicted 7. natural Nan: Not Specified "
   ]
  },
  {
   "cell_type": "code",
   "execution_count": 10,
   "id": "0214d009",
   "metadata": {},
   "outputs": [],
   "source": [
    "df[\"mandeath\"].replace({2: 1, 1: 0,3: 0,4: 0,5: 0,6: 0,7: 0}, inplace=True)"
   ]
  },
  {
   "cell_type": "markdown",
   "id": "3b8ba77a",
   "metadata": {},
   "source": [
    "Now we have the modified death data, mandeath == 1 is suicide, mandeath == other values means death caused by other reasons."
   ]
  },
  {
   "cell_type": "code",
   "execution_count": 11,
   "id": "f47c9d77",
   "metadata": {},
   "outputs": [],
   "source": [
    "suicide = df"
   ]
  },
  {
   "cell_type": "code",
   "execution_count": 82,
   "id": "64d1856c",
   "metadata": {},
   "outputs": [
    {
     "data": {
      "text/html": [
       "<div>\n",
       "<style scoped>\n",
       "    .dataframe tbody tr th:only-of-type {\n",
       "        vertical-align: middle;\n",
       "    }\n",
       "\n",
       "    .dataframe tbody tr th {\n",
       "        vertical-align: top;\n",
       "    }\n",
       "\n",
       "    .dataframe thead th {\n",
       "        text-align: right;\n",
       "    }\n",
       "</style>\n",
       "<table border=\"1\" class=\"dataframe\">\n",
       "  <thead>\n",
       "    <tr style=\"text-align: right;\">\n",
       "      <th></th>\n",
       "      <th>restatus</th>\n",
       "      <th>educ2003</th>\n",
       "      <th>monthdth</th>\n",
       "      <th>sex</th>\n",
       "      <th>age</th>\n",
       "      <th>placdth</th>\n",
       "      <th>marstat</th>\n",
       "      <th>weekday</th>\n",
       "      <th>injwork</th>\n",
       "      <th>mandeath</th>\n",
       "      <th>...</th>\n",
       "      <th>race_Korean</th>\n",
       "      <th>race_Other Asian</th>\n",
       "      <th>race_Other Asian or Pacific Islander</th>\n",
       "      <th>race_Other Race</th>\n",
       "      <th>race_White</th>\n",
       "      <th>ICD_1</th>\n",
       "      <th>ICD_2</th>\n",
       "      <th>ICD_3</th>\n",
       "      <th>ICD_4</th>\n",
       "      <th>Age Group</th>\n",
       "    </tr>\n",
       "  </thead>\n",
       "  <tbody>\n",
       "    <tr>\n",
       "      <th>0</th>\n",
       "      <td>1</td>\n",
       "      <td>3</td>\n",
       "      <td>1</td>\n",
       "      <td>M</td>\n",
       "      <td>72.0</td>\n",
       "      <td>1</td>\n",
       "      <td>M</td>\n",
       "      <td>4</td>\n",
       "      <td>U</td>\n",
       "      <td>0</td>\n",
       "      <td>...</td>\n",
       "      <td>0</td>\n",
       "      <td>0</td>\n",
       "      <td>0</td>\n",
       "      <td>0</td>\n",
       "      <td>0</td>\n",
       "      <td>C</td>\n",
       "      <td>9</td>\n",
       "      <td>5</td>\n",
       "      <td>0</td>\n",
       "      <td>Senior</td>\n",
       "    </tr>\n",
       "    <tr>\n",
       "      <th>1</th>\n",
       "      <td>1</td>\n",
       "      <td>3</td>\n",
       "      <td>1</td>\n",
       "      <td>M</td>\n",
       "      <td>43.0</td>\n",
       "      <td>3</td>\n",
       "      <td>M</td>\n",
       "      <td>5</td>\n",
       "      <td>U</td>\n",
       "      <td>0</td>\n",
       "      <td>...</td>\n",
       "      <td>0</td>\n",
       "      <td>0</td>\n",
       "      <td>0</td>\n",
       "      <td>0</td>\n",
       "      <td>0</td>\n",
       "      <td>C</td>\n",
       "      <td>3</td>\n",
       "      <td>4</td>\n",
       "      <td>0</td>\n",
       "      <td>Mid-age Adult</td>\n",
       "    </tr>\n",
       "    <tr>\n",
       "      <th>2</th>\n",
       "      <td>1</td>\n",
       "      <td>1</td>\n",
       "      <td>1</td>\n",
       "      <td>F</td>\n",
       "      <td>64.0</td>\n",
       "      <td>3</td>\n",
       "      <td>S</td>\n",
       "      <td>7</td>\n",
       "      <td>U</td>\n",
       "      <td>0</td>\n",
       "      <td>...</td>\n",
       "      <td>0</td>\n",
       "      <td>0</td>\n",
       "      <td>0</td>\n",
       "      <td>0</td>\n",
       "      <td>0</td>\n",
       "      <td>I</td>\n",
       "      <td>2</td>\n",
       "      <td>5</td>\n",
       "      <td>0</td>\n",
       "      <td>Senior</td>\n",
       "    </tr>\n",
       "    <tr>\n",
       "      <th>3</th>\n",
       "      <td>1</td>\n",
       "      <td>3</td>\n",
       "      <td>1</td>\n",
       "      <td>M</td>\n",
       "      <td>85.0</td>\n",
       "      <td>1</td>\n",
       "      <td>W</td>\n",
       "      <td>7</td>\n",
       "      <td>U</td>\n",
       "      <td>0</td>\n",
       "      <td>...</td>\n",
       "      <td>0</td>\n",
       "      <td>0</td>\n",
       "      <td>0</td>\n",
       "      <td>0</td>\n",
       "      <td>0</td>\n",
       "      <td>F</td>\n",
       "      <td>0</td>\n",
       "      <td>1</td>\n",
       "      <td>0</td>\n",
       "      <td>Senior</td>\n",
       "    </tr>\n",
       "    <tr>\n",
       "      <th>4</th>\n",
       "      <td>1</td>\n",
       "      <td>3</td>\n",
       "      <td>1</td>\n",
       "      <td>M</td>\n",
       "      <td>76.0</td>\n",
       "      <td>1</td>\n",
       "      <td>W</td>\n",
       "      <td>5</td>\n",
       "      <td>U</td>\n",
       "      <td>0</td>\n",
       "      <td>...</td>\n",
       "      <td>0</td>\n",
       "      <td>0</td>\n",
       "      <td>0</td>\n",
       "      <td>0</td>\n",
       "      <td>0</td>\n",
       "      <td>I</td>\n",
       "      <td>6</td>\n",
       "      <td>0</td>\n",
       "      <td>0</td>\n",
       "      <td>Senior</td>\n",
       "    </tr>\n",
       "    <tr>\n",
       "      <th>...</th>\n",
       "      <td>...</td>\n",
       "      <td>...</td>\n",
       "      <td>...</td>\n",
       "      <td>...</td>\n",
       "      <td>...</td>\n",
       "      <td>...</td>\n",
       "      <td>...</td>\n",
       "      <td>...</td>\n",
       "      <td>...</td>\n",
       "      <td>...</td>\n",
       "      <td>...</td>\n",
       "      <td>...</td>\n",
       "      <td>...</td>\n",
       "      <td>...</td>\n",
       "      <td>...</td>\n",
       "      <td>...</td>\n",
       "      <td>...</td>\n",
       "      <td>...</td>\n",
       "      <td>...</td>\n",
       "      <td>...</td>\n",
       "      <td>...</td>\n",
       "    </tr>\n",
       "    <tr>\n",
       "      <th>34418</th>\n",
       "      <td>1</td>\n",
       "      <td>1</td>\n",
       "      <td>3</td>\n",
       "      <td>F</td>\n",
       "      <td>95.0</td>\n",
       "      <td>4</td>\n",
       "      <td>S</td>\n",
       "      <td>5</td>\n",
       "      <td>U</td>\n",
       "      <td>0</td>\n",
       "      <td>...</td>\n",
       "      <td>0</td>\n",
       "      <td>0</td>\n",
       "      <td>0</td>\n",
       "      <td>0</td>\n",
       "      <td>0</td>\n",
       "      <td>G</td>\n",
       "      <td>3</td>\n",
       "      <td>0</td>\n",
       "      <td>0</td>\n",
       "      <td>Senior</td>\n",
       "    </tr>\n",
       "    <tr>\n",
       "      <th>34419</th>\n",
       "      <td>1</td>\n",
       "      <td>3</td>\n",
       "      <td>3</td>\n",
       "      <td>F</td>\n",
       "      <td>80.0</td>\n",
       "      <td>4</td>\n",
       "      <td>W</td>\n",
       "      <td>2</td>\n",
       "      <td>U</td>\n",
       "      <td>0</td>\n",
       "      <td>...</td>\n",
       "      <td>0</td>\n",
       "      <td>0</td>\n",
       "      <td>0</td>\n",
       "      <td>0</td>\n",
       "      <td>0</td>\n",
       "      <td>I</td>\n",
       "      <td>3</td>\n",
       "      <td>5</td>\n",
       "      <td>0</td>\n",
       "      <td>Senior</td>\n",
       "    </tr>\n",
       "    <tr>\n",
       "      <th>34420</th>\n",
       "      <td>1</td>\n",
       "      <td>1</td>\n",
       "      <td>3</td>\n",
       "      <td>F</td>\n",
       "      <td>103.0</td>\n",
       "      <td>4</td>\n",
       "      <td>W</td>\n",
       "      <td>4</td>\n",
       "      <td>U</td>\n",
       "      <td>0</td>\n",
       "      <td>...</td>\n",
       "      <td>0</td>\n",
       "      <td>0</td>\n",
       "      <td>0</td>\n",
       "      <td>0</td>\n",
       "      <td>0</td>\n",
       "      <td>R</td>\n",
       "      <td>5</td>\n",
       "      <td>0</td>\n",
       "      <td>0</td>\n",
       "      <td>Senior</td>\n",
       "    </tr>\n",
       "    <tr>\n",
       "      <th>34422</th>\n",
       "      <td>1</td>\n",
       "      <td>4</td>\n",
       "      <td>3</td>\n",
       "      <td>F</td>\n",
       "      <td>65.0</td>\n",
       "      <td>1</td>\n",
       "      <td>M</td>\n",
       "      <td>1</td>\n",
       "      <td>U</td>\n",
       "      <td>0</td>\n",
       "      <td>...</td>\n",
       "      <td>0</td>\n",
       "      <td>0</td>\n",
       "      <td>0</td>\n",
       "      <td>0</td>\n",
       "      <td>1</td>\n",
       "      <td>D</td>\n",
       "      <td>6</td>\n",
       "      <td>4</td>\n",
       "      <td>0</td>\n",
       "      <td>Senior</td>\n",
       "    </tr>\n",
       "    <tr>\n",
       "      <th>34424</th>\n",
       "      <td>1</td>\n",
       "      <td>3</td>\n",
       "      <td>7</td>\n",
       "      <td>F</td>\n",
       "      <td>84.0</td>\n",
       "      <td>1</td>\n",
       "      <td>M</td>\n",
       "      <td>5</td>\n",
       "      <td>U</td>\n",
       "      <td>0</td>\n",
       "      <td>...</td>\n",
       "      <td>0</td>\n",
       "      <td>0</td>\n",
       "      <td>0</td>\n",
       "      <td>0</td>\n",
       "      <td>0</td>\n",
       "      <td>N</td>\n",
       "      <td>1</td>\n",
       "      <td>7</td>\n",
       "      <td>0</td>\n",
       "      <td>Senior</td>\n",
       "    </tr>\n",
       "  </tbody>\n",
       "</table>\n",
       "<p>32082 rows × 103 columns</p>\n",
       "</div>"
      ],
      "text/plain": [
       "       restatus  educ2003  monthdth sex    age  placdth marstat  weekday  \\\n",
       "0             1         3         1   M   72.0        1       M        4   \n",
       "1             1         3         1   M   43.0        3       M        5   \n",
       "2             1         1         1   F   64.0        3       S        7   \n",
       "3             1         3         1   M   85.0        1       W        7   \n",
       "4             1         3         1   M   76.0        1       W        5   \n",
       "...         ...       ...       ...  ..    ...      ...     ...      ...   \n",
       "34418         1         1         3   F   95.0        4       S        5   \n",
       "34419         1         3         3   F   80.0        4       W        2   \n",
       "34420         1         1         3   F  103.0        4       W        4   \n",
       "34422         1         4         3   F   65.0        1       M        1   \n",
       "34424         1         3         7   F   84.0        1       M        5   \n",
       "\n",
       "      injwork  mandeath  ...  race_Korean  race_Other Asian  \\\n",
       "0           U         0  ...            0                 0   \n",
       "1           U         0  ...            0                 0   \n",
       "2           U         0  ...            0                 0   \n",
       "3           U         0  ...            0                 0   \n",
       "4           U         0  ...            0                 0   \n",
       "...       ...       ...  ...          ...               ...   \n",
       "34418       U         0  ...            0                 0   \n",
       "34419       U         0  ...            0                 0   \n",
       "34420       U         0  ...            0                 0   \n",
       "34422       U         0  ...            0                 0   \n",
       "34424       U         0  ...            0                 0   \n",
       "\n",
       "      race_Other Asian or Pacific Islander  race_Other Race  race_White  \\\n",
       "0                                        0                0           0   \n",
       "1                                        0                0           0   \n",
       "2                                        0                0           0   \n",
       "3                                        0                0           0   \n",
       "4                                        0                0           0   \n",
       "...                                    ...              ...         ...   \n",
       "34418                                    0                0           0   \n",
       "34419                                    0                0           0   \n",
       "34420                                    0                0           0   \n",
       "34422                                    0                0           1   \n",
       "34424                                    0                0           0   \n",
       "\n",
       "       ICD_1  ICD_2  ICD_3  ICD_4      Age Group  \n",
       "0          C      9      5      0         Senior  \n",
       "1          C      3      4      0  Mid-age Adult  \n",
       "2          I      2      5      0         Senior  \n",
       "3          F      0      1      0         Senior  \n",
       "4          I      6      0      0         Senior  \n",
       "...      ...    ...    ...    ...            ...  \n",
       "34418      G      3      0      0         Senior  \n",
       "34419      I      3      5      0         Senior  \n",
       "34420      R      5      0      0         Senior  \n",
       "34422      D      6      4      0         Senior  \n",
       "34424      N      1      7      0         Senior  \n",
       "\n",
       "[32082 rows x 103 columns]"
      ]
     },
     "execution_count": 82,
     "metadata": {},
     "output_type": "execute_result"
    }
   ],
   "source": [
    "suicide.loc[suicide['mandeath'] == 0]"
   ]
  },
  {
   "cell_type": "markdown",
   "id": "7953f290",
   "metadata": {},
   "source": [
    "#扔数据\n",
    "年龄定义在12岁之后，因为之前的年龄都不一定"
   ]
  },
  {
   "cell_type": "code",
   "execution_count": 13,
   "id": "df5f535c",
   "metadata": {},
   "outputs": [],
   "source": [
    "suicide_str = pd.DataFrame(suicide)\n",
    "suicide_str['age'] = suicide['age'].apply(str)\n",
    "age_NotSpecified = list(suicide_str[suicide_str['age'].str.contains('999')].index)\n",
    "suicide = suicide.drop(index = age_NotSpecified, axis=1)\n",
    "suicide['age'] = suicide['age'].apply(int)"
   ]
  },
  {
   "cell_type": "markdown",
   "id": "72967538",
   "metadata": {},
   "source": [
    "## 1.5 Decoding the age:\n",
    "#### 1. if the first digit is 1, then the last three digits represent the age under years.\n",
    "#### 2. if the first digit is 2, then the last three digits represent the age under months.\n",
    "#### 3. if the first digit is 4, then the last three digits represent the age under days.\n",
    "#### 4. if the first digit is 5, then the last three digits represent the age under hours.\n",
    "#### 5. if the first digit is 6, then the last three digits represent the age under minutes.\n",
    "#### 6. if any three digits are 999, then the age is not speficied.\n",
    "\n",
    "Here we filter out the index of keys with unspecified age, and get the index list to drop at next step."
   ]
  },
  {
   "cell_type": "code",
   "execution_count": 14,
   "id": "0bb3caf0",
   "metadata": {},
   "outputs": [],
   "source": [
    "suicide.loc[(suicide['age']>=1000)&(suicide['age']<2000),'age']= suicide['age'] - 1000\n",
    "suicide.loc[(suicide['age']>=2000)&(suicide['age']<3000),'age']=(suicide['age']-2000)/12\n",
    "suicide.loc[(suicide['age']>=4000)&(suicide['age']<5000),'age']=(suicide['age']-4000)/365\n",
    "#Although we have people died when they were just a couple of hours old, we actually can ignore that since since they were that young, it is impossible for them to \"commit a suicide\"\n",
    "suicide[(suicide['age']>=5000)&(suicide['age']<6000)]\n",
    "suicide.loc[(suicide['age']>=5000)&(suicide['age']<6000),'age']=(suicide['age']-5000)/24/365\n",
    "#I am so sorry that you died so young babe!\n",
    "suicide[(suicide['age']>=6000)&(suicide['age']<7000)]\n",
    "suicide.loc[(suicide['age']>=6000)&(suicide['age']<7000),'age']=(suicide['age']-6000)/60/24/365"
   ]
  },
  {
   "cell_type": "markdown",
   "id": "c75c9b5b",
   "metadata": {},
   "source": [
    "We throw away rows with unspecified education levels."
   ]
  },
  {
   "cell_type": "code",
   "execution_count": 15,
   "id": "ad27926f",
   "metadata": {},
   "outputs": [],
   "source": [
    "suicide=suicide.loc[suicide['educ2003'] != 9]\n",
    "suicide=suicide.loc[suicide['marstat'] != 'U']\n",
    "suicide=suicide.loc[suicide['weekday'] != 9]\n",
    "suicide=suicide.loc[suicide['placdth'] != 9]\n",
    "suicide=suicide.loc[suicide['injury'] != 'U']"
   ]
  },
  {
   "cell_type": "markdown",
   "id": "aef29451",
   "metadata": {},
   "source": [
    "One hot Encoding for Sex"
   ]
  },
  {
   "cell_type": "code",
   "execution_count": 16,
   "id": "30b9cbcb",
   "metadata": {},
   "outputs": [],
   "source": [
    "suicide = suicide.join(pd.get_dummies(suicide[[\"sex\"]]))"
   ]
  },
  {
   "cell_type": "markdown",
   "id": "cc7810bf",
   "metadata": {},
   "source": [
    "One hot Encoding for Maritial Status"
   ]
  },
  {
   "cell_type": "code",
   "execution_count": 17,
   "id": "61ee90e9",
   "metadata": {},
   "outputs": [],
   "source": [
    "suicide = suicide.join(pd.get_dummies(suicide[[\"marstat\"]]))"
   ]
  },
  {
   "cell_type": "code",
   "execution_count": 18,
   "id": "f5a751ea",
   "metadata": {},
   "outputs": [],
   "source": [
    "suicide[\"racer5\"].replace({0:\"Other(Puerto Rico only)\",1: \"White\", 2: \"Black\",3: \"American Indian\",4:\"Asian/Pacific Islander\"}, inplace=True)"
   ]
  },
  {
   "cell_type": "markdown",
   "id": "e3f1d6fd",
   "metadata": {},
   "source": [
    "可能要先encode一下race 然后再去one hot encoding；"
   ]
  },
  {
   "cell_type": "code",
   "execution_count": 19,
   "id": "6e29d894",
   "metadata": {},
   "outputs": [
    {
     "name": "stdout",
     "output_type": "stream",
     "text": [
      "Index(['restatus', 'educ2003', 'educflag', 'monthdth', 'sex', 'age', 'ageflag',\n",
      "       'ager52', 'ager27', 'ager12', 'ager22', 'placdth', 'marstat', 'weekday',\n",
      "       'year', 'injwork', 'mandeath', 'methdisp', 'autopsy', 'activity',\n",
      "       'injury', 'ucod', 'ucr358', 'ucr113', 'ucr130', 'ucr39', 'eanum',\n",
      "       'econdp_1', 'econds_1', 'enicon_1', 'econdp_2', 'econds_2', 'enicon_2',\n",
      "       'econdp_3', 'econds_3', 'enicon_3', 'econdp_4', 'econds_4', 'enicon_4',\n",
      "       'econdp_5', 'econds_5', 'enicon_5', 'econdp_6', 'econds_6', 'enicon_6',\n",
      "       'econdp_7', 'econds_7', 'enicon_7', 'econdp_8', 'econds_8', 'enicon_8',\n",
      "       'econdp_9', 'econds_9', 'enicon_9', 'econdp_10', 'econds_10',\n",
      "       'enicon_10', 'econdp_11', 'econds_11', 'enicon_11', 'econdp_12',\n",
      "       'econds_12', 'enicon_12', 'econdp_13', 'econds_13', 'enicon_13',\n",
      "       'econdp_14', 'econds_14', 'enicon_14', 'ranum', 'record_1', 'record_2',\n",
      "       'record_3', 'record_4', 'record_5', 'record_6', 'record_7', 'record_8',\n",
      "       'record_9', 'record_10', 'record_11', 'record_12', 'record_13',\n",
      "       'record_14', 'race', 'brace', 'raceimp', 'racer3', 'racer5', 'hispanic',\n",
      "       'hspanicr', 'race40', 'sex_F', 'sex_M', 'marstat_D', 'marstat_M',\n",
      "       'marstat_S', 'marstat_W'],\n",
      "      dtype='object')\n"
     ]
    }
   ],
   "source": [
    "print(suicide.columns)\n",
    "suicide=suicide.drop(columns=['educflag','econds_1','year','methdisp','autopsy',\\\n",
    "                      'ageflag','ager52', 'ager27', 'ager12', 'ager22',\\\n",
    "                      'brace','raceimp', 'racer3', 'hspanicr'])"
   ]
  },
  {
   "cell_type": "markdown",
   "id": "730126cd",
   "metadata": {},
   "source": [
    "1. ranum: Number of Entity-Axis Conditions 这个列出来了有多少个conditions\n",
    "2. record_n: position number of nth condition\n",
    "3. record_n: Sequence of condition within part/line\n",
    "\n",
    "The record axis codes are assigned in terms of the set of codes that best describe the overall medical certification portion of the death certificate.\n",
    "\n",
    "Refer to https://www.cdc.gov/nchs/data/datalinkage/underlying_and_multiple_cause_of_death_codes.pdf\n",
    "\n"
   ]
  },
  {
   "cell_type": "code",
   "execution_count": 20,
   "id": "a40d5074",
   "metadata": {},
   "outputs": [],
   "source": [
    "suicide[\"raceforvis\"]= suicide[\"race\"]"
   ]
  },
  {
   "cell_type": "code",
   "execution_count": 21,
   "id": "f14b7fd5",
   "metadata": {},
   "outputs": [],
   "source": [
    "suicide[\"race\"].replace({0:\"Other Race\",1: \"White\", 2: \"Black\",3: \"American Indian\",4: \"Chinese\", 5: \"Japanese\",\\\n",
    "                         6: \"Hawaiian\",7: \"Filipino\",8:\"Other Asian or Pacific Islander\", 18: \"Asian Indian\",\\\n",
    "                         28: \"Korean\", 38: \"Samoan\",48:\"Vietnamese\", 58: \"Guamanian\", 68:\"Other Asian\",78:\"Combined Other Asian\"}, inplace=True)"
   ]
  },
  {
   "cell_type": "code",
   "execution_count": 22,
   "id": "c86a6222",
   "metadata": {},
   "outputs": [],
   "source": [
    "suicide = suicide.join(pd.get_dummies(suicide[[\"race\"]]))"
   ]
  },
  {
   "cell_type": "markdown",
   "id": "cdc45721",
   "metadata": {},
   "source": [
    "出一个自杀情况下的 ICD-10 编码热力图 横轴（A,B,C,...) 纵轴(10,20,30,...),热力是数量\n",
    "    这样我们就可以清楚地看到自杀的人的疾病记录大概率集中在哪个部分。\n",
    "    "
   ]
  },
  {
   "cell_type": "markdown",
   "id": "6ba75a6e",
   "metadata": {},
   "source": [
    "Let‘s define a function to split ICD code."
   ]
  },
  {
   "cell_type": "code",
   "execution_count": 23,
   "id": "2dd3cf3f",
   "metadata": {},
   "outputs": [],
   "source": [
    "def concat_split(x,width=1):\n",
    "    result=''\n",
    "    start=0\n",
    "    while True:\n",
    "        s=str(x)[start:start+width]\n",
    "        \n",
    "        if s:\n",
    "            result =result + s \n",
    "        else:\n",
    "            break\n",
    "        start=start+width\n",
    "        \n",
    "    return result[:-1]"
   ]
  },
  {
   "cell_type": "code",
   "execution_count": 24,
   "id": "ca07bb86",
   "metadata": {},
   "outputs": [],
   "source": [
    "ICD_Split = suicide['ucod'].map(concat_split).str.split('',expand=True)"
   ]
  },
  {
   "cell_type": "code",
   "execution_count": 25,
   "id": "57d5600b",
   "metadata": {},
   "outputs": [],
   "source": [
    "ICD_Split.columns = ['ICD_'+str(i) for i in ICD_Split.columns]"
   ]
  },
  {
   "cell_type": "code",
   "execution_count": 26,
   "id": "0ae66095",
   "metadata": {},
   "outputs": [],
   "source": [
    "ICD_Split['ICD_3']=ICD_Split['ICD_3'].replace({'':'0'})\n",
    "ICD_Split['ICD_3']=ICD_Split['ICD_3'].apply(int)\n",
    "ICD_Split['ICD_4']=ICD_Split['ICD_4'].replace({'':'0',None :'0'})\n",
    "ICD_Split['ICD_4']=ICD_Split['ICD_4'].apply(int)\n",
    "suicide = suicide.join(ICD_Split[['ICD_1','ICD_2','ICD_3','ICD_4']])"
   ]
  },
  {
   "cell_type": "code",
   "execution_count": null,
   "id": "698efbb9",
   "metadata": {},
   "outputs": [],
   "source": []
  },
  {
   "cell_type": "markdown",
   "id": "928a5a5a",
   "metadata": {},
   "source": [
    "## 2 Descriptive Analysis"
   ]
  },
  {
   "cell_type": "markdown",
   "id": "8ff9c5cb",
   "metadata": {},
   "source": [
    "Pie Chart for 自杀人数占总死亡人数百分比"
   ]
  },
  {
   "cell_type": "markdown",
   "id": "692e5160",
   "metadata": {},
   "source": [
    "### 2.1 Underlying Cause of Suicide Analysis"
   ]
  },
  {
   "cell_type": "markdown",
   "id": "577cebe1",
   "metadata": {},
   "source": [
    "#### 2.1.1 Heatmap of ICD-10 encoding system for Suicide cases."
   ]
  },
  {
   "cell_type": "code",
   "execution_count": 27,
   "id": "4220c7c5",
   "metadata": {},
   "outputs": [
    {
     "data": {
      "text/plain": [
       "<AxesSubplot:xlabel='ICD_2', ylabel='ICD_1'>"
      ]
     },
     "execution_count": 27,
     "metadata": {},
     "output_type": "execute_result"
    },
    {
     "data": {
      "image/png": "[encoded data removed]",
      "text/plain": [
       "<Figure size 720x720 with 2 Axes>"
      ]
     },
     "metadata": {},
     "output_type": "display_data"
    }
   ],
   "source": [
    "heattable = suicide.pivot_table(index = 'ICD_1', columns = 'ICD_2', values = 'mandeath', aggfunc = np.sum)\n",
    "plt.figure(figsize=(10, 10))\n",
    "sns.heatmap(data = heattable,cmap='YlGnBu', annot=True, fmt=\"g\")"
   ]
  },
  {
   "cell_type": "code",
   "execution_count": null,
   "id": "3cfa7a93",
   "metadata": {},
   "outputs": [],
   "source": []
  },
  {
   "cell_type": "markdown",
   "id": "ccd42d40",
   "metadata": {},
   "source": [
    "上图解释：X60-X84 这一块是ICD10系统里的X60-X84 故意自害，make sense\n",
    "于是之后我们可以再dig into X7 这一块儿看看他们自杀的方式有哪些：具体可以查阅\n",
    "https://zh.m.wikipedia.org/wiki/ICD-10_第二十章：疾病和死亡的外因\n",
    "这里有一个假设，或许我们可以分析一下某个有自杀倾向的人，会倾向于用什么样的方式自杀，然后可以让他们远离这种东西。"
   ]
  },
  {
   "cell_type": "markdown",
   "id": "463ff839",
   "metadata": {},
   "source": [
    "From the Figure above we can see that most of the suicidal cases, the underlying cause of death belongs to X7**"
   ]
  },
  {
   "cell_type": "markdown",
   "id": "8c622f69",
   "metadata": {},
   "source": [
    "### 2.1.2 Deeper insight into X7"
   ]
  },
  {
   "cell_type": "markdown",
   "id": "523a1ff0",
   "metadata": {},
   "source": [
    "We can dig into Block X7 and take a look inside to see the main method that people use to suicide."
   ]
  },
  {
   "cell_type": "code",
   "execution_count": 28,
   "id": "9f071183",
   "metadata": {},
   "outputs": [
    {
     "data": {
      "text/plain": [
       "<AxesSubplot:xlabel='ICD_4', ylabel='ICD_3'>"
      ]
     },
     "execution_count": 28,
     "metadata": {},
     "output_type": "execute_result"
    },
    {
     "data": {
      "image/png": "[encoded data removed]",
      "text/plain": [
       "<Figure size 720x720 with 2 Axes>"
      ]
     },
     "metadata": {},
     "output_type": "display_data"
    }
   ],
   "source": [
    "suicide_X=suicide[suicide['ICD_1']==\"X\"]\n",
    "suicide_X7=suicide_X[suicide_X['ICD_2']=='7']\n",
    "heattable_X7 = suicide_X7.pivot_table(index = 'ICD_3', columns = 'ICD_4',values='mandeath',aggfunc=np.sum)\n",
    "plt.figure(figsize=(10, 10))\n",
    "sns.heatmap(data = heattable_X7,cmap='YlGnBu',annot = True, fmt=\"g\")"
   ]
  },
  {
   "cell_type": "markdown",
   "id": "ac607301",
   "metadata": {},
   "source": [
    "From the Figure above we can see they did not further define "
   ]
  },
  {
   "cell_type": "markdown",
   "id": "6aad9371",
   "metadata": {},
   "source": [
    "### 2.1.3 Other underlying cause of death"
   ]
  },
  {
   "cell_type": "markdown",
   "id": "f10da766",
   "metadata": {},
   "source": [
    "Let's remove Block X7 and see what other underlying causes of suicide."
   ]
  },
  {
   "cell_type": "code",
   "execution_count": 29,
   "id": "7994edf2",
   "metadata": {},
   "outputs": [
    {
     "data": {
      "text/plain": [
       "<AxesSubplot:xlabel='ICD_2', ylabel='ICD_1'>"
      ]
     },
     "execution_count": 29,
     "metadata": {},
     "output_type": "execute_result"
    },
    {
     "data": {
      "image/png": "[encoded data removed]",
      "text/plain": [
       "<Figure size 720x720 with 2 Axes>"
      ]
     },
     "metadata": {},
     "output_type": "display_data"
    }
   ],
   "source": [
    "#suicide_other = suicide.loc[(suicide['ICD_1'] != \"X\")&(suicide['ICD_2'] != \"7\")]\n",
    "#heaptable_other = suicide_other.pivot_table(index = 'ICD_1', columns = 'ICD_2', values = 'mandeath', aggfunc = np.sum)\n",
    "plt.figure(figsize=(10, 10))\n",
    "sns.heatmap(data = heattable,cmap='coolwarm', annot=True,fmt='g',mask = heattable == 199 )"
   ]
  },
  {
   "cell_type": "markdown",
   "id": "902ef16c",
   "metadata": {},
   "source": [
    "### Let's refer to the ICD System, we can see that:\n",
    "#### 1. There are 12 cases people's underlying cause of death is \"Intentional self-harm by jumping from a high place\"\n",
    "#### 2. There are 6 peoples' ucod is \"Intentional self-poisoning by and exposure to nonopioid analgesics, antipyretics and antirheumatics\"\n",
    "#### 3. There is 1 person's ucod is \"Type 1 Diabetes\"\n",
    "#### 4. There is 1 person's ucod is \"Malignant neoplasms\""
   ]
  },
  {
   "cell_type": "markdown",
   "id": "79af6b09",
   "metadata": {},
   "source": [
    "## 2.2 Trends"
   ]
  },
  {
   "cell_type": "code",
   "execution_count": 30,
   "id": "7acb9e45",
   "metadata": {},
   "outputs": [
    {
     "data": {
      "text/plain": [
       "<AxesSubplot:xlabel='weekday', ylabel='monthdth'>"
      ]
     },
     "execution_count": 30,
     "metadata": {},
     "output_type": "execute_result"
    },
    {
     "data": {
      "image/png": "[encoded data removed]",
      "text/plain": [
       "<Figure size 720x720 with 2 Axes>"
      ]
     },
     "metadata": {},
     "output_type": "display_data"
    }
   ],
   "source": [
    "heaptable_trends = suicide.pivot_table(index = 'monthdth', columns = 'weekday', values = 'mandeath', aggfunc = np.sum)\n",
    "\n",
    "plt.figure(figsize=(10, 10))\n",
    "sns.heatmap(data = heaptable_trends,cmap='YlGnBu',annot = True, fmt=\"g\")\n"
   ]
  },
  {
   "cell_type": "markdown",
   "id": "0e0af20d",
   "metadata": {},
   "source": [
    "The figure about tells us the suicide case number regarding to Month and weekday. 重灾区在1月的周六，8月的周日"
   ]
  },
  {
   "cell_type": "code",
   "execution_count": 31,
   "id": "6d5a84c3",
   "metadata": {},
   "outputs": [
    {
     "data": {
      "image/png": "[encoded data removed]",
      "text/plain": [
       "<Figure size 432x288 with 1 Axes>"
      ]
     },
     "metadata": {},
     "output_type": "display_data"
    }
   ],
   "source": [
    "monthly_trends = suicide.pivot_table(index = 'monthdth', columns = 'sex', values = 'mandeath', aggfunc = np.sum)\n",
    "monthly_trends.plot()\n",
    "plt.xticks(np.arange(1, 13, step=1))\n",
    "plt.show()"
   ]
  },
  {
   "cell_type": "code",
   "execution_count": 32,
   "id": "cecda978",
   "metadata": {},
   "outputs": [
    {
     "data": {
      "image/png": "[encoded data removed]",
      "text/plain": [
       "<Figure size 432x288 with 1 Axes>"
      ]
     },
     "metadata": {},
     "output_type": "display_data"
    }
   ],
   "source": [
    "weekly_trends = suicide.pivot_table(index = 'weekday',columns= 'sex',values = 'mandeath', aggfunc = np.sum)\n",
    "weekly_trends.plot()\n",
    "plt.xticks(np.arange(1, 8, step=1))\n",
    "plt.show()"
   ]
  },
  {
   "cell_type": "markdown",
   "id": "e4dc9566",
   "metadata": {},
   "source": [
    "Everyone Enjoys Friday"
   ]
  },
  {
   "cell_type": "markdown",
   "id": "95a97abb",
   "metadata": {},
   "source": [
    "## 2.3 Gender & Age Analysis"
   ]
  },
  {
   "cell_type": "markdown",
   "id": "8373372b",
   "metadata": {},
   "source": [
    "Age Category Referred to :https://integrisok.com/resources/on-your-health/2015/october/stages-of-life-health-for-every-age"
   ]
  },
  {
   "cell_type": "code",
   "execution_count": 33,
   "id": "550c1c05",
   "metadata": {},
   "outputs": [],
   "source": [
    "def get_age_group(x):\n",
    "    if (x[\"age\"] >= 0) &(x[\"age\"] <= 1):\n",
    "        return \"Infant\"\n",
    "    if (x[\"age\"] >= 2) &(x[\"age\"] <= 4):\n",
    "        return \"Toddler\"\n",
    "    if (x[\"age\"] >= 5) &(x[\"age\"] <= 12):\n",
    "        return \"Child\"\n",
    "    if (x[\"age\"] >= 13) &(x[\"age\"] <= 19):\n",
    "        return \"Teen\"\n",
    "    if (x[\"age\"] >= 20) &(x[\"age\"] <= 39):\n",
    "        return \"Adult\"\n",
    "    if (x[\"age\"] >= 40) &(x[\"age\"] <= 59):\n",
    "        return \"Mid-age Adult\"\n",
    "    else:\n",
    "        return \"Senior\"\n",
    "    \n",
    "suicide.loc[:,\"Age Group\"] = suicide.apply(get_age_group,axis=1)"
   ]
  },
  {
   "cell_type": "code",
   "execution_count": 34,
   "id": "3cf01458",
   "metadata": {},
   "outputs": [
    {
     "data": {
      "text/plain": [
       "<AxesSubplot:xlabel='Age Group', ylabel='sex'>"
      ]
     },
     "execution_count": 34,
     "metadata": {},
     "output_type": "execute_result"
    },
    {
     "data": {
      "image/png": "[encoded data removed]",
      "text/plain": [
       "<Figure size 720x720 with 2 Axes>"
      ]
     },
     "metadata": {},
     "output_type": "display_data"
    }
   ],
   "source": [
    "heaptable_genderage = suicide.pivot_table(index = 'sex', columns = 'Age Group', values = 'mandeath', aggfunc = np.sum)\n",
    "\n",
    "plt.figure(figsize=(10, 10))\n",
    "sns.heatmap(data = heaptable_genderage,cmap='YlGnBu',annot = True, fmt=\"g\")"
   ]
  },
  {
   "cell_type": "markdown",
   "id": "23f061fc",
   "metadata": {},
   "source": [
    "From the Figure above we can see that male people have larger potential to suicide than female.\n",
    "More, Adult and Senior are more likely to suicide."
   ]
  },
  {
   "cell_type": "markdown",
   "id": "62d22f5f",
   "metadata": {},
   "source": [
    "## 2.3 Gender & Martial Status Analysis"
   ]
  },
  {
   "cell_type": "code",
   "execution_count": 35,
   "id": "610af1a6",
   "metadata": {},
   "outputs": [
    {
     "data": {
      "text/plain": [
       "<AxesSubplot:xlabel='marstat', ylabel='sex'>"
      ]
     },
     "execution_count": 35,
     "metadata": {},
     "output_type": "execute_result"
    },
    {
     "data": {
      "image/png": "[encoded data removed]",
      "text/plain": [
       "<Figure size 720x720 with 2 Axes>"
      ]
     },
     "metadata": {},
     "output_type": "display_data"
    }
   ],
   "source": [
    "heaptable_gendermarstat = suicide.pivot_table(index = 'sex', columns = 'marstat', values = 'mandeath', aggfunc = np.sum)\n",
    "\n",
    "\n",
    "plt.figure(figsize=(10, 10))\n",
    "\n",
    "\n",
    "sns.heatmap(data = heaptable_gendermarstat,cmap='YlGnBu',annot = True, fmt=\"g\")"
   ]
  },
  {
   "cell_type": "markdown",
   "id": "024230d1",
   "metadata": {},
   "source": [
    "We need to revise this part in order to get the ratio value of the stuff above."
   ]
  },
  {
   "cell_type": "code",
   "execution_count": 36,
   "id": "92b2edfd",
   "metadata": {},
   "outputs": [],
   "source": [
    "percentage_gendermarstat = heaptable_gendermarstat.copy()\n",
    "gender_list = [\"F\",\"M\"]\n",
    "marstat_list = [\"W\",\"M\",\"S\",\"D\"]\n",
    "\n",
    "for sex in gender_list:\n",
    "    for marstat in marstat_list:\n",
    "        percentage_gendermarstat.loc[sex,marstat] = percentage_gendermarstat.loc[sex,marstat]/len(suicide.loc[(suicide[\"sex\"] == sex) & (suicide[\"marstat\"] == marstat)])\n",
    "    "
   ]
  },
  {
   "cell_type": "code",
   "execution_count": 37,
   "id": "c319ab64",
   "metadata": {},
   "outputs": [
    {
     "data": {
      "text/plain": [
       "<AxesSubplot:xlabel='marstat', ylabel='sex'>"
      ]
     },
     "execution_count": 37,
     "metadata": {},
     "output_type": "execute_result"
    },
    {
     "data": {
      "image/png": "[encoded data removed]",
      "text/plain": [
       "<Figure size 720x720 with 2 Axes>"
      ]
     },
     "metadata": {},
     "output_type": "display_data"
    }
   ],
   "source": [
    "plt.figure(figsize=(10, 10))\n",
    "sns.heatmap(data = percentage_gendermarstat,cmap='YlGnBu',annot = True, fmt=\".4f\")"
   ]
  },
  {
   "cell_type": "markdown",
   "id": "9423f96e",
   "metadata": {},
   "source": [
    "# As suggested by Giri, here is a figure for representing the ratio of suicide cases over gender and martial status"
   ]
  },
  {
   "cell_type": "markdown",
   "id": "f9680ce3",
   "metadata": {},
   "source": [
    "# Conclusion: Single Male, in the Hell; (and why the HELL are WIDOWED people less likely to commit suicide???)"
   ]
  },
  {
   "cell_type": "markdown",
   "id": "d97598df",
   "metadata": {},
   "source": [
    "## 2.4 Gender Race Analysis"
   ]
  },
  {
   "cell_type": "code",
   "execution_count": 38,
   "id": "1e1b9f62",
   "metadata": {},
   "outputs": [
    {
     "data": {
      "text/plain": [
       "<AxesSubplot:xlabel='sex', ylabel='race'>"
      ]
     },
     "execution_count": 38,
     "metadata": {},
     "output_type": "execute_result"
    },
    {
     "data": {
      "image/png": "[encoded data removed]",
      "text/plain": [
       "<Figure size 720x720 with 2 Axes>"
      ]
     },
     "metadata": {},
     "output_type": "display_data"
    }
   ],
   "source": [
    "heaptable_genderrace = suicide.pivot_table(index = 'race', columns = 'sex', values = 'mandeath', aggfunc = np.sum)\n",
    "\n",
    "plt.figure(figsize=(10, 10))\n",
    "sns.heatmap(data = heaptable_genderrace,cmap='YlGnBu',annot = True, fmt=\"g\")"
   ]
  },
  {
   "cell_type": "markdown",
   "id": "8044d96f",
   "metadata": {},
   "source": [
    "## Because here simply counting the numbers does not make sense because our sample data is also super imbalanced. Therefore, getiing the ratio is more accurate."
   ]
  },
  {
   "cell_type": "code",
   "execution_count": 39,
   "id": "086d912d",
   "metadata": {},
   "outputs": [
    {
     "data": {
      "text/plain": [
       "<AxesSubplot:xlabel='sex', ylabel='race'>"
      ]
     },
     "execution_count": 39,
     "metadata": {},
     "output_type": "execute_result"
    },
    {
     "data": {
      "image/png": "[encoded data removed]",
      "text/plain": [
       "<Figure size 720x720 with 2 Axes>"
      ]
     },
     "metadata": {},
     "output_type": "display_data"
    }
   ],
   "source": [
    "percentage_genderrace = heaptable_genderrace.copy()\n",
    "gender_list = [\"F\",\"M\"]\n",
    "race_list = suicide['race'].unique()\n",
    "\n",
    "for sex in gender_list:\n",
    "    for race in race_list:\n",
    "        percentage_genderrace.loc[race,sex] = percentage_genderrace.loc[race,sex]/len(suicide.loc[(suicide[\"sex\"] == sex) & (suicide[\"race\"] == race)])\n",
    "    \n",
    "\n",
    "plt.figure(figsize=(10, 10))\n",
    "sns.heatmap(data = percentage_genderrace,cmap='YlGnBu',annot = True, fmt=\".4f\")"
   ]
  },
  {
   "cell_type": "code",
   "execution_count": 40,
   "id": "dcb242b3",
   "metadata": {},
   "outputs": [
    {
     "data": {
      "text/plain": [
       "<AxesSubplot:xlabel='racer5', ylabel='sex'>"
      ]
     },
     "execution_count": 40,
     "metadata": {},
     "output_type": "execute_result"
    },
    {
     "data": {
      "image/png": "[encoded data removed]",
      "text/plain": [
       "<Figure size 720x720 with 2 Axes>"
      ]
     },
     "metadata": {},
     "output_type": "display_data"
    },
    {
     "data": {
      "image/png": "[encoded data removed]",
      "text/plain": [
       "<Figure size 720x720 with 2 Axes>"
      ]
     },
     "metadata": {},
     "output_type": "display_data"
    }
   ],
   "source": [
    "heaptable_genderrace = suicide.pivot_table(index = 'sex', columns = 'racer5', values = 'mandeath', aggfunc = np.sum)\n",
    "\n",
    "plt.figure(figsize=(10, 10))\n",
    "sns.heatmap(data = heaptable_genderrace,cmap='YlGnBu',annot = True, fmt=\"g\")\n",
    "\n",
    "percentage_genderrace = heaptable_genderrace.copy()\n",
    "gender_list = [\"F\",\"M\"]\n",
    "racer5_list = suicide['racer5'].unique()\n",
    "\n",
    "for sex in gender_list:\n",
    "    for racer5 in racer5_list:\n",
    "        percentage_genderrace.loc[sex,racer5] = percentage_genderrace.loc[sex,racer5]/len(suicide.loc[(suicide[\"sex\"] == sex) & (suicide[\"racer5\"] == racer5)])\n",
    "    \n",
    "\n",
    "plt.figure(figsize=(10, 10))\n",
    "sns.heatmap(data = percentage_genderrace,cmap='YlGnBu',annot = True, fmt=\".4f\")"
   ]
  },
  {
   "cell_type": "markdown",
   "id": "df0b5665",
   "metadata": {},
   "source": []
  },
  {
   "cell_type": "markdown",
   "id": "7c881328",
   "metadata": {},
   "source": [
    "## 2.5 Education Level Analysis"
   ]
  },
  {
   "cell_type": "code",
   "execution_count": 41,
   "id": "4a5a9f4d",
   "metadata": {},
   "outputs": [
    {
     "data": {
      "image/png": "[encoded data removed]",
      "text/plain": [
       "<Figure size 432x288 with 1 Axes>"
      ]
     },
     "metadata": {},
     "output_type": "display_data"
    }
   ],
   "source": [
    "heaptable_educlevel = suicide.pivot_table(index = 'educ2003',columns='sex', values = 'mandeath', aggfunc = np.sum)\n",
    "heaptable_educlevel.plot()\n",
    "plt.xticks(np.arange(1, 10, step=1))\n",
    "plt.show()"
   ]
  },
  {
   "cell_type": "markdown",
   "id": "7ab196ed",
   "metadata": {},
   "source": [
    "### Make a kernel density estimate of the distribution of the target values and interpret the distribution. \n"
   ]
  },
  {
   "cell_type": "code",
   "execution_count": 42,
   "id": "06357d9f",
   "metadata": {},
   "outputs": [
    {
     "data": {
      "image/png": "[encoded data removed]",
      "text/plain": [
       "<Figure size 432x288 with 1 Axes>"
      ]
     },
     "metadata": {},
     "output_type": "display_data"
    }
   ],
   "source": [
    "sns.kdeplot(data=suicide[\"mandeath\"])\n",
    "plt.xlabel(\"target\")\n",
    "plt.show()"
   ]
  },
  {
   "cell_type": "markdown",
   "id": "583db46e",
   "metadata": {},
   "source": [
    "from this distribution, we can see that the target variable follows a skewed distribution with the mean not centered with the median."
   ]
  },
  {
   "cell_type": "markdown",
   "id": "b356dff9",
   "metadata": {},
   "source": [
    "### Compute the correlation between each feature and the target and find the 3 most correlated features.\n"
   ]
  },
  {
   "cell_type": "code",
   "execution_count": 43,
   "id": "a0a7467e",
   "metadata": {},
   "outputs": [
    {
     "data": {
      "text/html": [
       "<div>\n",
       "<style scoped>\n",
       "    .dataframe tbody tr th:only-of-type {\n",
       "        vertical-align: middle;\n",
       "    }\n",
       "\n",
       "    .dataframe tbody tr th {\n",
       "        vertical-align: top;\n",
       "    }\n",
       "\n",
       "    .dataframe thead th {\n",
       "        text-align: right;\n",
       "    }\n",
       "</style>\n",
       "<table border=\"1\" class=\"dataframe\">\n",
       "  <thead>\n",
       "    <tr style=\"text-align: right;\">\n",
       "      <th></th>\n",
       "      <th>restatus</th>\n",
       "      <th>educ2003</th>\n",
       "      <th>monthdth</th>\n",
       "      <th>age</th>\n",
       "      <th>placdth</th>\n",
       "      <th>weekday</th>\n",
       "      <th>mandeath</th>\n",
       "      <th>activity</th>\n",
       "      <th>injury</th>\n",
       "      <th>ucr358</th>\n",
       "      <th>...</th>\n",
       "      <th>race_Guamanian</th>\n",
       "      <th>race_Hawaiian</th>\n",
       "      <th>race_Japanese</th>\n",
       "      <th>race_Korean</th>\n",
       "      <th>race_Other Asian</th>\n",
       "      <th>race_Other Asian or Pacific Islander</th>\n",
       "      <th>race_Other Race</th>\n",
       "      <th>race_White</th>\n",
       "      <th>ICD_3</th>\n",
       "      <th>ICD_4</th>\n",
       "    </tr>\n",
       "  </thead>\n",
       "  <tbody>\n",
       "    <tr>\n",
       "      <th>restatus</th>\n",
       "      <td>1.000000</td>\n",
       "      <td>0.015856</td>\n",
       "      <td>0.002689</td>\n",
       "      <td>-0.089857</td>\n",
       "      <td>-0.328754</td>\n",
       "      <td>0.008211</td>\n",
       "      <td>-0.033052</td>\n",
       "      <td>0.050311</td>\n",
       "      <td>0.047116</td>\n",
       "      <td>0.055093</td>\n",
       "      <td>...</td>\n",
       "      <td>-0.087837</td>\n",
       "      <td>-0.006677</td>\n",
       "      <td>-0.000948</td>\n",
       "      <td>0.012193</td>\n",
       "      <td>-0.026506</td>\n",
       "      <td>-0.055032</td>\n",
       "      <td>0.013926</td>\n",
       "      <td>0.080994</td>\n",
       "      <td>0.098898</td>\n",
       "      <td>NaN</td>\n",
       "    </tr>\n",
       "    <tr>\n",
       "      <th>educ2003</th>\n",
       "      <td>0.015856</td>\n",
       "      <td>1.000000</td>\n",
       "      <td>0.006763</td>\n",
       "      <td>-0.116087</td>\n",
       "      <td>-0.022639</td>\n",
       "      <td>0.001559</td>\n",
       "      <td>0.013545</td>\n",
       "      <td>0.015497</td>\n",
       "      <td>0.001093</td>\n",
       "      <td>-0.041878</td>\n",
       "      <td>...</td>\n",
       "      <td>0.005757</td>\n",
       "      <td>0.000852</td>\n",
       "      <td>0.006984</td>\n",
       "      <td>0.004278</td>\n",
       "      <td>-0.007689</td>\n",
       "      <td>-0.007969</td>\n",
       "      <td>-0.002359</td>\n",
       "      <td>0.005492</td>\n",
       "      <td>0.010932</td>\n",
       "      <td>NaN</td>\n",
       "    </tr>\n",
       "    <tr>\n",
       "      <th>monthdth</th>\n",
       "      <td>0.002689</td>\n",
       "      <td>0.006763</td>\n",
       "      <td>1.000000</td>\n",
       "      <td>-0.010005</td>\n",
       "      <td>-0.028832</td>\n",
       "      <td>-0.008074</td>\n",
       "      <td>-0.007328</td>\n",
       "      <td>-0.024100</td>\n",
       "      <td>-0.018592</td>\n",
       "      <td>-0.063954</td>\n",
       "      <td>...</td>\n",
       "      <td>0.012045</td>\n",
       "      <td>-0.000849</td>\n",
       "      <td>-0.000581</td>\n",
       "      <td>-0.012772</td>\n",
       "      <td>-0.005295</td>\n",
       "      <td>0.012915</td>\n",
       "      <td>-0.021695</td>\n",
       "      <td>-0.009162</td>\n",
       "      <td>0.046502</td>\n",
       "      <td>NaN</td>\n",
       "    </tr>\n",
       "    <tr>\n",
       "      <th>age</th>\n",
       "      <td>-0.089857</td>\n",
       "      <td>-0.116087</td>\n",
       "      <td>-0.010005</td>\n",
       "      <td>1.000000</td>\n",
       "      <td>0.001643</td>\n",
       "      <td>-0.003568</td>\n",
       "      <td>-0.126865</td>\n",
       "      <td>-0.344007</td>\n",
       "      <td>-0.135669</td>\n",
       "      <td>-0.200645</td>\n",
       "      <td>...</td>\n",
       "      <td>-0.082034</td>\n",
       "      <td>-0.014055</td>\n",
       "      <td>-0.004921</td>\n",
       "      <td>-0.016711</td>\n",
       "      <td>-0.032811</td>\n",
       "      <td>-0.089555</td>\n",
       "      <td>-0.001280</td>\n",
       "      <td>0.122925</td>\n",
       "      <td>-0.028273</td>\n",
       "      <td>NaN</td>\n",
       "    </tr>\n",
       "    <tr>\n",
       "      <th>placdth</th>\n",
       "      <td>-0.328754</td>\n",
       "      <td>-0.022639</td>\n",
       "      <td>-0.028832</td>\n",
       "      <td>0.001643</td>\n",
       "      <td>1.000000</td>\n",
       "      <td>0.005960</td>\n",
       "      <td>0.048940</td>\n",
       "      <td>0.163396</td>\n",
       "      <td>0.079834</td>\n",
       "      <td>0.091075</td>\n",
       "      <td>...</td>\n",
       "      <td>-0.051012</td>\n",
       "      <td>-0.001324</td>\n",
       "      <td>-0.003245</td>\n",
       "      <td>-0.006285</td>\n",
       "      <td>-0.021606</td>\n",
       "      <td>-0.035515</td>\n",
       "      <td>0.006140</td>\n",
       "      <td>0.037210</td>\n",
       "      <td>-0.244069</td>\n",
       "      <td>NaN</td>\n",
       "    </tr>\n",
       "    <tr>\n",
       "      <th>...</th>\n",
       "      <td>...</td>\n",
       "      <td>...</td>\n",
       "      <td>...</td>\n",
       "      <td>...</td>\n",
       "      <td>...</td>\n",
       "      <td>...</td>\n",
       "      <td>...</td>\n",
       "      <td>...</td>\n",
       "      <td>...</td>\n",
       "      <td>...</td>\n",
       "      <td>...</td>\n",
       "      <td>...</td>\n",
       "      <td>...</td>\n",
       "      <td>...</td>\n",
       "      <td>...</td>\n",
       "      <td>...</td>\n",
       "      <td>...</td>\n",
       "      <td>...</td>\n",
       "      <td>...</td>\n",
       "      <td>...</td>\n",
       "      <td>...</td>\n",
       "    </tr>\n",
       "    <tr>\n",
       "      <th>race_Other Asian or Pacific Islander</th>\n",
       "      <td>-0.055032</td>\n",
       "      <td>-0.007969</td>\n",
       "      <td>0.012915</td>\n",
       "      <td>-0.089555</td>\n",
       "      <td>-0.035515</td>\n",
       "      <td>-0.005595</td>\n",
       "      <td>0.032774</td>\n",
       "      <td>0.026653</td>\n",
       "      <td>0.004854</td>\n",
       "      <td>0.007892</td>\n",
       "      <td>...</td>\n",
       "      <td>-0.011586</td>\n",
       "      <td>-0.000825</td>\n",
       "      <td>-0.002021</td>\n",
       "      <td>-0.000825</td>\n",
       "      <td>-0.003784</td>\n",
       "      <td>1.000000</td>\n",
       "      <td>-0.004345</td>\n",
       "      <td>-0.264874</td>\n",
       "      <td>0.023690</td>\n",
       "      <td>NaN</td>\n",
       "    </tr>\n",
       "    <tr>\n",
       "      <th>race_Other Race</th>\n",
       "      <td>0.013926</td>\n",
       "      <td>-0.002359</td>\n",
       "      <td>-0.021695</td>\n",
       "      <td>-0.001280</td>\n",
       "      <td>0.006140</td>\n",
       "      <td>-0.002415</td>\n",
       "      <td>-0.004203</td>\n",
       "      <td>-0.001176</td>\n",
       "      <td>0.004894</td>\n",
       "      <td>-0.004005</td>\n",
       "      <td>...</td>\n",
       "      <td>-0.006869</td>\n",
       "      <td>-0.000489</td>\n",
       "      <td>-0.001198</td>\n",
       "      <td>-0.000489</td>\n",
       "      <td>-0.002244</td>\n",
       "      <td>-0.004345</td>\n",
       "      <td>1.000000</td>\n",
       "      <td>-0.157043</td>\n",
       "      <td>-0.000176</td>\n",
       "      <td>NaN</td>\n",
       "    </tr>\n",
       "    <tr>\n",
       "      <th>race_White</th>\n",
       "      <td>0.080994</td>\n",
       "      <td>0.005492</td>\n",
       "      <td>-0.009162</td>\n",
       "      <td>0.122925</td>\n",
       "      <td>0.037210</td>\n",
       "      <td>-0.010231</td>\n",
       "      <td>-0.031120</td>\n",
       "      <td>-0.049809</td>\n",
       "      <td>-0.022366</td>\n",
       "      <td>-0.019689</td>\n",
       "      <td>...</td>\n",
       "      <td>-0.418745</td>\n",
       "      <td>-0.029820</td>\n",
       "      <td>-0.073060</td>\n",
       "      <td>-0.029820</td>\n",
       "      <td>-0.136777</td>\n",
       "      <td>-0.264874</td>\n",
       "      <td>-0.157043</td>\n",
       "      <td>1.000000</td>\n",
       "      <td>-0.018954</td>\n",
       "      <td>NaN</td>\n",
       "    </tr>\n",
       "    <tr>\n",
       "      <th>ICD_3</th>\n",
       "      <td>0.098898</td>\n",
       "      <td>0.010932</td>\n",
       "      <td>0.046502</td>\n",
       "      <td>-0.028273</td>\n",
       "      <td>-0.244069</td>\n",
       "      <td>0.000193</td>\n",
       "      <td>-0.084626</td>\n",
       "      <td>-0.081908</td>\n",
       "      <td>-0.071160</td>\n",
       "      <td>-0.050784</td>\n",
       "      <td>...</td>\n",
       "      <td>0.020015</td>\n",
       "      <td>-0.002463</td>\n",
       "      <td>0.006295</td>\n",
       "      <td>-0.003541</td>\n",
       "      <td>-0.003053</td>\n",
       "      <td>0.023690</td>\n",
       "      <td>-0.000176</td>\n",
       "      <td>-0.018954</td>\n",
       "      <td>1.000000</td>\n",
       "      <td>NaN</td>\n",
       "    </tr>\n",
       "    <tr>\n",
       "      <th>ICD_4</th>\n",
       "      <td>NaN</td>\n",
       "      <td>NaN</td>\n",
       "      <td>NaN</td>\n",
       "      <td>NaN</td>\n",
       "      <td>NaN</td>\n",
       "      <td>NaN</td>\n",
       "      <td>NaN</td>\n",
       "      <td>NaN</td>\n",
       "      <td>NaN</td>\n",
       "      <td>NaN</td>\n",
       "      <td>...</td>\n",
       "      <td>NaN</td>\n",
       "      <td>NaN</td>\n",
       "      <td>NaN</td>\n",
       "      <td>NaN</td>\n",
       "      <td>NaN</td>\n",
       "      <td>NaN</td>\n",
       "      <td>NaN</td>\n",
       "      <td>NaN</td>\n",
       "      <td>NaN</td>\n",
       "      <td>NaN</td>\n",
       "    </tr>\n",
       "  </tbody>\n",
       "</table>\n",
       "<p>66 rows × 66 columns</p>\n",
       "</div>"
      ],
      "text/plain": [
       "                                      restatus  educ2003  monthdth       age  \\\n",
       "restatus                              1.000000  0.015856  0.002689 -0.089857   \n",
       "educ2003                              0.015856  1.000000  0.006763 -0.116087   \n",
       "monthdth                              0.002689  0.006763  1.000000 -0.010005   \n",
       "age                                  -0.089857 -0.116087 -0.010005  1.000000   \n",
       "placdth                              -0.328754 -0.022639 -0.028832  0.001643   \n",
       "...                                        ...       ...       ...       ...   \n",
       "race_Other Asian or Pacific Islander -0.055032 -0.007969  0.012915 -0.089555   \n",
       "race_Other Race                       0.013926 -0.002359 -0.021695 -0.001280   \n",
       "race_White                            0.080994  0.005492 -0.009162  0.122925   \n",
       "ICD_3                                 0.098898  0.010932  0.046502 -0.028273   \n",
       "ICD_4                                      NaN       NaN       NaN       NaN   \n",
       "\n",
       "                                       placdth   weekday  mandeath  activity  \\\n",
       "restatus                             -0.328754  0.008211 -0.033052  0.050311   \n",
       "educ2003                             -0.022639  0.001559  0.013545  0.015497   \n",
       "monthdth                             -0.028832 -0.008074 -0.007328 -0.024100   \n",
       "age                                   0.001643 -0.003568 -0.126865 -0.344007   \n",
       "placdth                               1.000000  0.005960  0.048940  0.163396   \n",
       "...                                        ...       ...       ...       ...   \n",
       "race_Other Asian or Pacific Islander -0.035515 -0.005595  0.032774  0.026653   \n",
       "race_Other Race                       0.006140 -0.002415 -0.004203 -0.001176   \n",
       "race_White                            0.037210 -0.010231 -0.031120 -0.049809   \n",
       "ICD_3                                -0.244069  0.000193 -0.084626 -0.081908   \n",
       "ICD_4                                      NaN       NaN       NaN       NaN   \n",
       "\n",
       "                                        injury    ucr358  ...  race_Guamanian  \\\n",
       "restatus                              0.047116  0.055093  ...       -0.087837   \n",
       "educ2003                              0.001093 -0.041878  ...        0.005757   \n",
       "monthdth                             -0.018592 -0.063954  ...        0.012045   \n",
       "age                                  -0.135669 -0.200645  ...       -0.082034   \n",
       "placdth                               0.079834  0.091075  ...       -0.051012   \n",
       "...                                        ...       ...  ...             ...   \n",
       "race_Other Asian or Pacific Islander  0.004854  0.007892  ...       -0.011586   \n",
       "race_Other Race                       0.004894 -0.004005  ...       -0.006869   \n",
       "race_White                           -0.022366 -0.019689  ...       -0.418745   \n",
       "ICD_3                                -0.071160 -0.050784  ...        0.020015   \n",
       "ICD_4                                      NaN       NaN  ...             NaN   \n",
       "\n",
       "                                      race_Hawaiian  race_Japanese  \\\n",
       "restatus                                  -0.006677      -0.000948   \n",
       "educ2003                                   0.000852       0.006984   \n",
       "monthdth                                  -0.000849      -0.000581   \n",
       "age                                       -0.014055      -0.004921   \n",
       "placdth                                   -0.001324      -0.003245   \n",
       "...                                             ...            ...   \n",
       "race_Other Asian or Pacific Islander      -0.000825      -0.002021   \n",
       "race_Other Race                           -0.000489      -0.001198   \n",
       "race_White                                -0.029820      -0.073060   \n",
       "ICD_3                                     -0.002463       0.006295   \n",
       "ICD_4                                           NaN            NaN   \n",
       "\n",
       "                                      race_Korean  race_Other Asian  \\\n",
       "restatus                                 0.012193         -0.026506   \n",
       "educ2003                                 0.004278         -0.007689   \n",
       "monthdth                                -0.012772         -0.005295   \n",
       "age                                     -0.016711         -0.032811   \n",
       "placdth                                 -0.006285         -0.021606   \n",
       "...                                           ...               ...   \n",
       "race_Other Asian or Pacific Islander    -0.000825         -0.003784   \n",
       "race_Other Race                         -0.000489         -0.002244   \n",
       "race_White                              -0.029820         -0.136777   \n",
       "ICD_3                                   -0.003541         -0.003053   \n",
       "ICD_4                                         NaN               NaN   \n",
       "\n",
       "                                      race_Other Asian or Pacific Islander  \\\n",
       "restatus                                                         -0.055032   \n",
       "educ2003                                                         -0.007969   \n",
       "monthdth                                                          0.012915   \n",
       "age                                                              -0.089555   \n",
       "placdth                                                          -0.035515   \n",
       "...                                                                    ...   \n",
       "race_Other Asian or Pacific Islander                              1.000000   \n",
       "race_Other Race                                                  -0.004345   \n",
       "race_White                                                       -0.264874   \n",
       "ICD_3                                                             0.023690   \n",
       "ICD_4                                                                  NaN   \n",
       "\n",
       "                                      race_Other Race  race_White     ICD_3  \\\n",
       "restatus                                     0.013926    0.080994  0.098898   \n",
       "educ2003                                    -0.002359    0.005492  0.010932   \n",
       "monthdth                                    -0.021695   -0.009162  0.046502   \n",
       "age                                         -0.001280    0.122925 -0.028273   \n",
       "placdth                                      0.006140    0.037210 -0.244069   \n",
       "...                                               ...         ...       ...   \n",
       "race_Other Asian or Pacific Islander        -0.004345   -0.264874  0.023690   \n",
       "race_Other Race                              1.000000   -0.157043 -0.000176   \n",
       "race_White                                  -0.157043    1.000000 -0.018954   \n",
       "ICD_3                                       -0.000176   -0.018954  1.000000   \n",
       "ICD_4                                             NaN         NaN       NaN   \n",
       "\n",
       "                                      ICD_4  \n",
       "restatus                                NaN  \n",
       "educ2003                                NaN  \n",
       "monthdth                                NaN  \n",
       "age                                     NaN  \n",
       "placdth                                 NaN  \n",
       "...                                     ...  \n",
       "race_Other Asian or Pacific Islander    NaN  \n",
       "race_Other Race                         NaN  \n",
       "race_White                              NaN  \n",
       "ICD_3                                   NaN  \n",
       "ICD_4                                   NaN  \n",
       "\n",
       "[66 rows x 66 columns]"
      ]
     },
     "execution_count": 43,
     "metadata": {},
     "output_type": "execute_result"
    }
   ],
   "source": [
    "suicide.corr()"
   ]
  },
  {
   "cell_type": "code",
   "execution_count": 44,
   "id": "595a8a16",
   "metadata": {},
   "outputs": [
    {
     "data": {
      "text/plain": [
       "marstat_D                               0.010589\n",
       "educ2003                                0.013545\n",
       "race_Other Asian or Pacific Islander    0.032774\n",
       "placdth                                 0.048940\n",
       "sex_M                                   0.052796\n",
       "race40                                  0.056832\n",
       "raceforvis                              0.059178\n",
       "race_Guamanian                          0.059598\n",
       "marstat_S                               0.062013\n",
       "injury                                  0.090360\n",
       "econdp_3                                0.092062\n",
       "ucr39                                   0.124366\n",
       "ucr113                                  0.157244\n",
       "econds_2                                0.188015\n",
       "ucr358                                  0.193842\n",
       "activity                                0.343623\n",
       "mandeath                                1.000000\n",
       "dtype: float64"
      ]
     },
     "execution_count": 44,
     "metadata": {},
     "output_type": "execute_result"
    }
   ],
   "source": [
    "correlation = suicide.corrwith(suicide['mandeath'])\n",
    "correlationmost = correlation.loc[suicide.corrwith(suicide['mandeath'])>0.01]\n",
    "correlationmost.sort_values()"
   ]
  },
  {
   "cell_type": "code",
   "execution_count": 45,
   "id": "d8e5f34f",
   "metadata": {},
   "outputs": [
    {
     "data": {
      "text/plain": [
       "age          -0.126865\n",
       "ICD_3        -0.084626\n",
       "ranum        -0.073685\n",
       "sex_F        -0.052796\n",
       "econdp_2     -0.051668\n",
       "marstat_W    -0.047989\n",
       "econds_4     -0.042763\n",
       "econdp_4     -0.041531\n",
       "econdp_5     -0.041084\n",
       "eanum        -0.039596\n",
       "econds_5     -0.034500\n",
       "hispanic     -0.033772\n",
       "restatus     -0.033052\n",
       "race_White   -0.031120\n",
       "econdp_6     -0.030264\n",
       "econds_6     -0.027734\n",
       "econdp_7     -0.022372\n",
       "econds_7     -0.021115\n",
       "econdp_8     -0.014822\n",
       "marstat_M    -0.014721\n",
       "econds_8     -0.014011\n",
       "dtype: float64"
      ]
     },
     "execution_count": 45,
     "metadata": {},
     "output_type": "execute_result"
    }
   ],
   "source": [
    "correlationleast = correlation.loc[suicide.corrwith(suicide['mandeath'])<-0.01]\n",
    "correlationleast.sort_values()"
   ]
  },
  {
   "cell_type": "code",
   "execution_count": 46,
   "id": "bd537419",
   "metadata": {
    "scrolled": true
   },
   "outputs": [
    {
     "data": {
      "text/plain": [
       "['restatus',\n",
       " 'educ2003',\n",
       " 'monthdth',\n",
       " 'sex',\n",
       " 'age',\n",
       " 'placdth',\n",
       " 'marstat',\n",
       " 'weekday',\n",
       " 'injwork',\n",
       " 'mandeath',\n",
       " 'activity',\n",
       " 'injury',\n",
       " 'ucod',\n",
       " 'ucr358',\n",
       " 'ucr113',\n",
       " 'ucr130',\n",
       " 'ucr39',\n",
       " 'eanum',\n",
       " 'econdp_1',\n",
       " 'enicon_1',\n",
       " 'econdp_2',\n",
       " 'econds_2',\n",
       " 'enicon_2',\n",
       " 'econdp_3',\n",
       " 'econds_3',\n",
       " 'enicon_3',\n",
       " 'econdp_4',\n",
       " 'econds_4',\n",
       " 'enicon_4',\n",
       " 'econdp_5',\n",
       " 'econds_5',\n",
       " 'enicon_5',\n",
       " 'econdp_6',\n",
       " 'econds_6',\n",
       " 'enicon_6',\n",
       " 'econdp_7',\n",
       " 'econds_7',\n",
       " 'enicon_7',\n",
       " 'econdp_8',\n",
       " 'econds_8',\n",
       " 'enicon_8',\n",
       " 'econdp_9',\n",
       " 'econds_9',\n",
       " 'enicon_9',\n",
       " 'econdp_10',\n",
       " 'econds_10',\n",
       " 'enicon_10',\n",
       " 'econdp_11',\n",
       " 'econds_11',\n",
       " 'enicon_11',\n",
       " 'econdp_12',\n",
       " 'econds_12',\n",
       " 'enicon_12',\n",
       " 'econdp_13',\n",
       " 'econds_13',\n",
       " 'enicon_13',\n",
       " 'econdp_14',\n",
       " 'econds_14',\n",
       " 'enicon_14',\n",
       " 'ranum',\n",
       " 'record_1',\n",
       " 'record_2',\n",
       " 'record_3',\n",
       " 'record_4',\n",
       " 'record_5',\n",
       " 'record_6',\n",
       " 'record_7',\n",
       " 'record_8',\n",
       " 'record_9',\n",
       " 'record_10',\n",
       " 'record_11',\n",
       " 'record_12',\n",
       " 'record_13',\n",
       " 'record_14',\n",
       " 'race',\n",
       " 'racer5',\n",
       " 'hispanic',\n",
       " 'race40',\n",
       " 'sex_F',\n",
       " 'sex_M',\n",
       " 'marstat_D',\n",
       " 'marstat_M',\n",
       " 'marstat_S',\n",
       " 'marstat_W',\n",
       " 'raceforvis',\n",
       " 'race_American Indian',\n",
       " 'race_Black',\n",
       " 'race_Chinese',\n",
       " 'race_Combined Other Asian',\n",
       " 'race_Filipino',\n",
       " 'race_Guamanian',\n",
       " 'race_Hawaiian',\n",
       " 'race_Japanese',\n",
       " 'race_Korean',\n",
       " 'race_Other Asian',\n",
       " 'race_Other Asian or Pacific Islander',\n",
       " 'race_Other Race',\n",
       " 'race_White',\n",
       " 'ICD_1',\n",
       " 'ICD_2',\n",
       " 'ICD_3',\n",
       " 'ICD_4',\n",
       " 'Age Group']"
      ]
     },
     "execution_count": 46,
     "metadata": {},
     "output_type": "execute_result"
    }
   ],
   "source": [
    "suicide.columns.tolist()"
   ]
  },
  {
   "cell_type": "code",
   "execution_count": 47,
   "id": "04173ca2",
   "metadata": {},
   "outputs": [],
   "source": [
    "#plt.figure(figsize=(58,58))\n",
    "#sns.heatmap(suicide.corr(),annot=True, cmap='coolwarm',fmt='.2f')"
   ]
  },
  {
   "cell_type": "code",
   "execution_count": 48,
   "id": "75d2231e",
   "metadata": {},
   "outputs": [],
   "source": [
    "#dfhalf = suicide[['mandeath','educ2003','sex','age','placdth',\n",
    "# 'sex_F', 'sex_M', 'marstat_D', 'marstat_M','marstat_S', 'marstat_W',\n",
    "#'race_American Indian', 'race_Black', 'race_Chinese', 'race_Filipino', 'race_Guamanian',\n",
    "#'race_Hawaiian', 'race_Japanese', 'race_Korean', 'race_White','ranum','hispanic','restatus']]\n",
    "#plt.figure(figsize=(20,20))\n",
    "#sns.heatmap(dfhalf.corr(),annot=True, cmap='coolwarm',fmt='.3f')"
   ]
  },
  {
   "cell_type": "code",
   "execution_count": 49,
   "id": "1de050b8",
   "metadata": {},
   "outputs": [
    {
     "data": {
      "text/html": [
       "<div>\n",
       "<style scoped>\n",
       "    .dataframe tbody tr th:only-of-type {\n",
       "        vertical-align: middle;\n",
       "    }\n",
       "\n",
       "    .dataframe tbody tr th {\n",
       "        vertical-align: top;\n",
       "    }\n",
       "\n",
       "    .dataframe thead th {\n",
       "        text-align: right;\n",
       "    }\n",
       "</style>\n",
       "<table border=\"1\" class=\"dataframe\">\n",
       "  <thead>\n",
       "    <tr style=\"text-align: right;\">\n",
       "      <th></th>\n",
       "      <th>mandeath</th>\n",
       "      <th>educ2003</th>\n",
       "      <th>sex</th>\n",
       "      <th>age</th>\n",
       "      <th>placdth</th>\n",
       "      <th>sex_F</th>\n",
       "      <th>sex_M</th>\n",
       "      <th>marstat_D</th>\n",
       "      <th>marstat_M</th>\n",
       "      <th>marstat_S</th>\n",
       "      <th>marstat_W</th>\n",
       "      <th>race_American Indian</th>\n",
       "      <th>race_Black</th>\n",
       "      <th>race_Chinese</th>\n",
       "      <th>race_Filipino</th>\n",
       "      <th>race_Guamanian</th>\n",
       "      <th>race_Hawaiian</th>\n",
       "      <th>race_Japanese</th>\n",
       "      <th>race_Korean</th>\n",
       "      <th>race_White</th>\n",
       "    </tr>\n",
       "  </thead>\n",
       "  <tbody>\n",
       "    <tr>\n",
       "      <th>0</th>\n",
       "      <td>0.0</td>\n",
       "      <td>3</td>\n",
       "      <td>M</td>\n",
       "      <td>72.0</td>\n",
       "      <td>1</td>\n",
       "      <td>0</td>\n",
       "      <td>1</td>\n",
       "      <td>0</td>\n",
       "      <td>1</td>\n",
       "      <td>0</td>\n",
       "      <td>0</td>\n",
       "      <td>0</td>\n",
       "      <td>0</td>\n",
       "      <td>0</td>\n",
       "      <td>0</td>\n",
       "      <td>1</td>\n",
       "      <td>0</td>\n",
       "      <td>0</td>\n",
       "      <td>0</td>\n",
       "      <td>0</td>\n",
       "    </tr>\n",
       "    <tr>\n",
       "      <th>1</th>\n",
       "      <td>0.0</td>\n",
       "      <td>3</td>\n",
       "      <td>M</td>\n",
       "      <td>43.0</td>\n",
       "      <td>3</td>\n",
       "      <td>0</td>\n",
       "      <td>1</td>\n",
       "      <td>0</td>\n",
       "      <td>1</td>\n",
       "      <td>0</td>\n",
       "      <td>0</td>\n",
       "      <td>0</td>\n",
       "      <td>0</td>\n",
       "      <td>0</td>\n",
       "      <td>0</td>\n",
       "      <td>1</td>\n",
       "      <td>0</td>\n",
       "      <td>0</td>\n",
       "      <td>0</td>\n",
       "      <td>0</td>\n",
       "    </tr>\n",
       "    <tr>\n",
       "      <th>2</th>\n",
       "      <td>0.0</td>\n",
       "      <td>1</td>\n",
       "      <td>F</td>\n",
       "      <td>64.0</td>\n",
       "      <td>3</td>\n",
       "      <td>1</td>\n",
       "      <td>0</td>\n",
       "      <td>0</td>\n",
       "      <td>0</td>\n",
       "      <td>1</td>\n",
       "      <td>0</td>\n",
       "      <td>0</td>\n",
       "      <td>0</td>\n",
       "      <td>0</td>\n",
       "      <td>0</td>\n",
       "      <td>1</td>\n",
       "      <td>0</td>\n",
       "      <td>0</td>\n",
       "      <td>0</td>\n",
       "      <td>0</td>\n",
       "    </tr>\n",
       "    <tr>\n",
       "      <th>3</th>\n",
       "      <td>0.0</td>\n",
       "      <td>3</td>\n",
       "      <td>M</td>\n",
       "      <td>85.0</td>\n",
       "      <td>1</td>\n",
       "      <td>0</td>\n",
       "      <td>1</td>\n",
       "      <td>0</td>\n",
       "      <td>0</td>\n",
       "      <td>0</td>\n",
       "      <td>1</td>\n",
       "      <td>0</td>\n",
       "      <td>0</td>\n",
       "      <td>0</td>\n",
       "      <td>0</td>\n",
       "      <td>1</td>\n",
       "      <td>0</td>\n",
       "      <td>0</td>\n",
       "      <td>0</td>\n",
       "      <td>0</td>\n",
       "    </tr>\n",
       "    <tr>\n",
       "      <th>4</th>\n",
       "      <td>0.0</td>\n",
       "      <td>3</td>\n",
       "      <td>M</td>\n",
       "      <td>76.0</td>\n",
       "      <td>1</td>\n",
       "      <td>0</td>\n",
       "      <td>1</td>\n",
       "      <td>0</td>\n",
       "      <td>0</td>\n",
       "      <td>0</td>\n",
       "      <td>1</td>\n",
       "      <td>0</td>\n",
       "      <td>0</td>\n",
       "      <td>0</td>\n",
       "      <td>0</td>\n",
       "      <td>1</td>\n",
       "      <td>0</td>\n",
       "      <td>0</td>\n",
       "      <td>0</td>\n",
       "      <td>0</td>\n",
       "    </tr>\n",
       "    <tr>\n",
       "      <th>...</th>\n",
       "      <td>...</td>\n",
       "      <td>...</td>\n",
       "      <td>...</td>\n",
       "      <td>...</td>\n",
       "      <td>...</td>\n",
       "      <td>...</td>\n",
       "      <td>...</td>\n",
       "      <td>...</td>\n",
       "      <td>...</td>\n",
       "      <td>...</td>\n",
       "      <td>...</td>\n",
       "      <td>...</td>\n",
       "      <td>...</td>\n",
       "      <td>...</td>\n",
       "      <td>...</td>\n",
       "      <td>...</td>\n",
       "      <td>...</td>\n",
       "      <td>...</td>\n",
       "      <td>...</td>\n",
       "      <td>...</td>\n",
       "    </tr>\n",
       "    <tr>\n",
       "      <th>34418</th>\n",
       "      <td>0.0</td>\n",
       "      <td>1</td>\n",
       "      <td>F</td>\n",
       "      <td>95.0</td>\n",
       "      <td>4</td>\n",
       "      <td>1</td>\n",
       "      <td>0</td>\n",
       "      <td>0</td>\n",
       "      <td>0</td>\n",
       "      <td>1</td>\n",
       "      <td>0</td>\n",
       "      <td>0</td>\n",
       "      <td>1</td>\n",
       "      <td>0</td>\n",
       "      <td>0</td>\n",
       "      <td>0</td>\n",
       "      <td>0</td>\n",
       "      <td>0</td>\n",
       "      <td>0</td>\n",
       "      <td>0</td>\n",
       "    </tr>\n",
       "    <tr>\n",
       "      <th>34419</th>\n",
       "      <td>0.0</td>\n",
       "      <td>3</td>\n",
       "      <td>F</td>\n",
       "      <td>80.0</td>\n",
       "      <td>4</td>\n",
       "      <td>1</td>\n",
       "      <td>0</td>\n",
       "      <td>0</td>\n",
       "      <td>0</td>\n",
       "      <td>0</td>\n",
       "      <td>1</td>\n",
       "      <td>0</td>\n",
       "      <td>1</td>\n",
       "      <td>0</td>\n",
       "      <td>0</td>\n",
       "      <td>0</td>\n",
       "      <td>0</td>\n",
       "      <td>0</td>\n",
       "      <td>0</td>\n",
       "      <td>0</td>\n",
       "    </tr>\n",
       "    <tr>\n",
       "      <th>34420</th>\n",
       "      <td>0.0</td>\n",
       "      <td>1</td>\n",
       "      <td>F</td>\n",
       "      <td>103.0</td>\n",
       "      <td>4</td>\n",
       "      <td>1</td>\n",
       "      <td>0</td>\n",
       "      <td>0</td>\n",
       "      <td>0</td>\n",
       "      <td>0</td>\n",
       "      <td>1</td>\n",
       "      <td>0</td>\n",
       "      <td>1</td>\n",
       "      <td>0</td>\n",
       "      <td>0</td>\n",
       "      <td>0</td>\n",
       "      <td>0</td>\n",
       "      <td>0</td>\n",
       "      <td>0</td>\n",
       "      <td>0</td>\n",
       "    </tr>\n",
       "    <tr>\n",
       "      <th>34422</th>\n",
       "      <td>0.0</td>\n",
       "      <td>4</td>\n",
       "      <td>F</td>\n",
       "      <td>65.0</td>\n",
       "      <td>1</td>\n",
       "      <td>1</td>\n",
       "      <td>0</td>\n",
       "      <td>0</td>\n",
       "      <td>1</td>\n",
       "      <td>0</td>\n",
       "      <td>0</td>\n",
       "      <td>0</td>\n",
       "      <td>0</td>\n",
       "      <td>0</td>\n",
       "      <td>0</td>\n",
       "      <td>0</td>\n",
       "      <td>0</td>\n",
       "      <td>0</td>\n",
       "      <td>0</td>\n",
       "      <td>1</td>\n",
       "    </tr>\n",
       "    <tr>\n",
       "      <th>34424</th>\n",
       "      <td>0.0</td>\n",
       "      <td>3</td>\n",
       "      <td>F</td>\n",
       "      <td>84.0</td>\n",
       "      <td>1</td>\n",
       "      <td>1</td>\n",
       "      <td>0</td>\n",
       "      <td>0</td>\n",
       "      <td>1</td>\n",
       "      <td>0</td>\n",
       "      <td>0</td>\n",
       "      <td>0</td>\n",
       "      <td>1</td>\n",
       "      <td>0</td>\n",
       "      <td>0</td>\n",
       "      <td>0</td>\n",
       "      <td>0</td>\n",
       "      <td>0</td>\n",
       "      <td>0</td>\n",
       "      <td>0</td>\n",
       "    </tr>\n",
       "  </tbody>\n",
       "</table>\n",
       "<p>32302 rows × 20 columns</p>\n",
       "</div>"
      ],
      "text/plain": [
       "       mandeath  educ2003 sex    age  placdth  sex_F  sex_M  marstat_D  \\\n",
       "0           0.0         3   M   72.0        1      0      1          0   \n",
       "1           0.0         3   M   43.0        3      0      1          0   \n",
       "2           0.0         1   F   64.0        3      1      0          0   \n",
       "3           0.0         3   M   85.0        1      0      1          0   \n",
       "4           0.0         3   M   76.0        1      0      1          0   \n",
       "...         ...       ...  ..    ...      ...    ...    ...        ...   \n",
       "34418       0.0         1   F   95.0        4      1      0          0   \n",
       "34419       0.0         3   F   80.0        4      1      0          0   \n",
       "34420       0.0         1   F  103.0        4      1      0          0   \n",
       "34422       0.0         4   F   65.0        1      1      0          0   \n",
       "34424       0.0         3   F   84.0        1      1      0          0   \n",
       "\n",
       "       marstat_M  marstat_S  marstat_W  race_American Indian  race_Black  \\\n",
       "0              1          0          0                     0           0   \n",
       "1              1          0          0                     0           0   \n",
       "2              0          1          0                     0           0   \n",
       "3              0          0          1                     0           0   \n",
       "4              0          0          1                     0           0   \n",
       "...          ...        ...        ...                   ...         ...   \n",
       "34418          0          1          0                     0           1   \n",
       "34419          0          0          1                     0           1   \n",
       "34420          0          0          1                     0           1   \n",
       "34422          1          0          0                     0           0   \n",
       "34424          1          0          0                     0           1   \n",
       "\n",
       "       race_Chinese  race_Filipino  race_Guamanian  race_Hawaiian  \\\n",
       "0                 0              0               1              0   \n",
       "1                 0              0               1              0   \n",
       "2                 0              0               1              0   \n",
       "3                 0              0               1              0   \n",
       "4                 0              0               1              0   \n",
       "...             ...            ...             ...            ...   \n",
       "34418             0              0               0              0   \n",
       "34419             0              0               0              0   \n",
       "34420             0              0               0              0   \n",
       "34422             0              0               0              0   \n",
       "34424             0              0               0              0   \n",
       "\n",
       "       race_Japanese  race_Korean  race_White  \n",
       "0                  0            0           0  \n",
       "1                  0            0           0  \n",
       "2                  0            0           0  \n",
       "3                  0            0           0  \n",
       "4                  0            0           0  \n",
       "...              ...          ...         ...  \n",
       "34418              0            0           0  \n",
       "34419              0            0           0  \n",
       "34420              0            0           0  \n",
       "34422              0            0           1  \n",
       "34424              0            0           0  \n",
       "\n",
       "[32302 rows x 20 columns]"
      ]
     },
     "execution_count": 49,
     "metadata": {},
     "output_type": "execute_result"
    }
   ],
   "source": [
    "suicide[['mandeath','educ2003','sex','age','placdth',\n",
    " 'sex_F', 'sex_M', 'marstat_D', 'marstat_M','marstat_S', 'marstat_W',\n",
    "'race_American Indian', 'race_Black', 'race_Chinese', 'race_Filipino', 'race_Guamanian',\n",
    "'race_Hawaiian', 'race_Japanese', 'race_Korean', 'race_White']]"
   ]
  },
  {
   "cell_type": "code",
   "execution_count": 50,
   "id": "ee146c10",
   "metadata": {},
   "outputs": [
    {
     "data": {
      "text/plain": [
       "0        58\n",
       "1        58\n",
       "2        58\n",
       "3        58\n",
       "4        58\n",
       "         ..\n",
       "34418     2\n",
       "34419     2\n",
       "34420     2\n",
       "34422     1\n",
       "34424     2\n",
       "Name: raceforvis, Length: 32302, dtype: int64"
      ]
     },
     "execution_count": 50,
     "metadata": {},
     "output_type": "execute_result"
    }
   ],
   "source": [
    "suicide['raceforvis']"
   ]
  },
  {
   "cell_type": "code",
   "execution_count": 51,
   "id": "16ebac3b",
   "metadata": {},
   "outputs": [
    {
     "data": {
      "text/plain": [
       "count    32302.000000\n",
       "mean         1.377159\n",
       "std          1.743515\n",
       "min          0.000000\n",
       "25%          1.000000\n",
       "50%          1.000000\n",
       "75%          1.000000\n",
       "max         14.000000\n",
       "Name: raceforvis, dtype: float64"
      ]
     },
     "execution_count": 51,
     "metadata": {},
     "output_type": "execute_result"
    }
   ],
   "source": [
    "suicide[\"raceforvis\"].replace({18: 8, 28: 9, 38: 10,\\\n",
    "                         48:11, 58: 12,68:13,78:14}, inplace=True)\n",
    "suicide[\"raceforvis\"].describe()"
   ]
  },
  {
   "cell_type": "code",
   "execution_count": 52,
   "id": "672d00d0",
   "metadata": {},
   "outputs": [
    {
     "data": {
      "text/plain": [
       "0        0\n",
       "1        0\n",
       "2        0\n",
       "3        0\n",
       "4        0\n",
       "        ..\n",
       "34418    0\n",
       "34419    0\n",
       "34420    0\n",
       "34422    0\n",
       "34424    0\n",
       "Name: mandeath, Length: 32302, dtype: int32"
      ]
     },
     "execution_count": 52,
     "metadata": {},
     "output_type": "execute_result"
    }
   ],
   "source": [
    "suicide['mandeath'] =  suicide['mandeath'].astype(int)\n",
    "suicide['mandeath']"
   ]
  },
  {
   "cell_type": "code",
   "execution_count": 53,
   "id": "e1bda347",
   "metadata": {},
   "outputs": [
    {
     "data": {
      "text/plain": [
       "(array([2.933e+04, 1.800e+03, 2.200e+01, 1.800e+01, 3.000e+00, 4.790e+02,\n",
       "        3.000e+00, 0.000e+00, 5.810e+02, 6.600e+01]),\n",
       " array([ 0. ,  1.4,  2.8,  4.2,  5.6,  7. ,  8.4,  9.8, 11.2, 12.6, 14. ]),\n",
       " <BarContainer object of 10 artists>)"
      ]
     },
     "execution_count": 53,
     "metadata": {},
     "output_type": "execute_result"
    },
    {
     "data": {
      "image/png": "[encoded data removed]",
      "text/plain": [
       "<Figure size 432x288 with 1 Axes>"
      ]
     },
     "metadata": {},
     "output_type": "display_data"
    }
   ],
   "source": [
    "plt.hist(suicide['raceforvis'])"
   ]
  },
  {
   "cell_type": "code",
   "execution_count": 54,
   "id": "31f4e38f",
   "metadata": {},
   "outputs": [
    {
     "data": {
      "text/plain": [
       "(array([32082.,     0.,     0.,     0.,     0.,     0.,     0.,     0.,\n",
       "            0.,   220.]),\n",
       " array([0. , 0.1, 0.2, 0.3, 0.4, 0.5, 0.6, 0.7, 0.8, 0.9, 1. ]),\n",
       " <BarContainer object of 10 artists>)"
      ]
     },
     "execution_count": 54,
     "metadata": {},
     "output_type": "execute_result"
    },
    {
     "data": {
      "image/png": "[encoded data removed]",
      "text/plain": [
       "<Figure size 432x288 with 1 Axes>"
      ]
     },
     "metadata": {},
     "output_type": "display_data"
    }
   ],
   "source": [
    "plt.hist(suicide['mandeath'])"
   ]
  },
  {
   "cell_type": "code",
   "execution_count": 55,
   "id": "483658f4",
   "metadata": {},
   "outputs": [
    {
     "data": {
      "text/plain": [
       "count    32302.000000\n",
       "mean        74.029401\n",
       "std         16.934283\n",
       "min          0.000006\n",
       "25%         66.000000\n",
       "50%         77.000000\n",
       "75%         86.000000\n",
       "max        109.000000\n",
       "Name: age, dtype: float64"
      ]
     },
     "execution_count": 55,
     "metadata": {},
     "output_type": "execute_result"
    }
   ],
   "source": [
    "suicide[\"age\"].describe()"
   ]
  },
  {
   "cell_type": "code",
   "execution_count": 56,
   "id": "56756e77",
   "metadata": {},
   "outputs": [
    {
     "data": {
      "text/plain": [
       "(array([ 128.,  191.,  674.,  973., 1940., 4143., 7471., 9945., 6250.,\n",
       "         587.]),\n",
       " array([5.70776256e-06, 1.09000051e+01, 2.18000046e+01, 3.27000040e+01,\n",
       "        4.36000034e+01, 5.45000029e+01, 6.54000023e+01, 7.63000017e+01,\n",
       "        8.72000011e+01, 9.81000006e+01, 1.09000000e+02]),\n",
       " <BarContainer object of 10 artists>)"
      ]
     },
     "execution_count": 56,
     "metadata": {},
     "output_type": "execute_result"
    },
    {
     "data": {
      "image/png": "[encoded data removed]",
      "text/plain": [
       "<Figure size 432x288 with 1 Axes>"
      ]
     },
     "metadata": {},
     "output_type": "display_data"
    }
   ],
   "source": [
    "plt.hist(suicide['age'])"
   ]
  },
  {
   "cell_type": "code",
   "execution_count": 57,
   "id": "9757583f",
   "metadata": {},
   "outputs": [
    {
     "data": {
      "text/plain": [
       "(array([17644.,     0.,     0.,     0.,     0.,     0.,     0.,     0.,\n",
       "            0., 14658.]),\n",
       " array([0. , 0.1, 0.2, 0.3, 0.4, 0.5, 0.6, 0.7, 0.8, 0.9, 1. ]),\n",
       " <BarContainer object of 10 artists>)"
      ]
     },
     "execution_count": 57,
     "metadata": {},
     "output_type": "execute_result"
    },
    {
     "data": {
      "image/png": "[encoded data removed]",
      "text/plain": [
       "<Figure size 432x288 with 1 Axes>"
      ]
     },
     "metadata": {},
     "output_type": "display_data"
    }
   ],
   "source": [
    "plt.hist(suicide['sex'])"
   ]
  },
  {
   "cell_type": "code",
   "execution_count": 58,
   "id": "8fe1124b",
   "metadata": {},
   "outputs": [
    {
     "data": {
      "text/plain": [
       "(array([11315.,  4417.,  8053.,     0.,  1591.,  2396.,     0.,  3243.,\n",
       "          857.,   430.]),\n",
       " array([1. , 1.7, 2.4, 3.1, 3.8, 4.5, 5.2, 5.9, 6.6, 7.3, 8. ]),\n",
       " <BarContainer object of 10 artists>)"
      ]
     },
     "execution_count": 58,
     "metadata": {},
     "output_type": "execute_result"
    },
    {
     "data": {
      "image/png": "[encoded data removed]",
      "text/plain": [
       "<Figure size 432x288 with 1 Axes>"
      ]
     },
     "metadata": {},
     "output_type": "display_data"
    }
   ],
   "source": [
    "plt.hist(suicide['educ2003'])"
   ]
  },
  {
   "cell_type": "code",
   "execution_count": 59,
   "id": "59944e36",
   "metadata": {},
   "outputs": [
    {
     "data": {
      "text/plain": [
       "(array([11096.,     0.,     0.,  6659.,     0.,     0.,  9577.,     0.,\n",
       "            0.,  4970.]),\n",
       " array([0. , 0.3, 0.6, 0.9, 1.2, 1.5, 1.8, 2.1, 2.4, 2.7, 3. ]),\n",
       " <BarContainer object of 10 artists>)"
      ]
     },
     "execution_count": 59,
     "metadata": {},
     "output_type": "execute_result"
    },
    {
     "data": {
      "image/png": "[encoded data removed]",
      "text/plain": [
       "<Figure size 432x288 with 1 Axes>"
      ]
     },
     "metadata": {},
     "output_type": "display_data"
    }
   ],
   "source": [
    "plt.hist(suicide['marstat'])"
   ]
  },
  {
   "cell_type": "code",
   "execution_count": 60,
   "id": "89de80e0",
   "metadata": {},
   "outputs": [
    {
     "data": {
      "text/plain": [
       "(array([1.3788e+04, 1.7960e+03, 0.0000e+00, 5.7800e+02, 0.0000e+00,\n",
       "        1.1364e+04, 3.0000e+00, 0.0000e+00, 3.2330e+03, 1.5400e+03]),\n",
       " array([1. , 1.6, 2.2, 2.8, 3.4, 4. , 4.6, 5.2, 5.8, 6.4, 7. ]),\n",
       " <BarContainer object of 10 artists>)"
      ]
     },
     "execution_count": 60,
     "metadata": {},
     "output_type": "execute_result"
    },
    {
     "data": {
      "image/png": "[encoded data removed]",
      "text/plain": [
       "<Figure size 432x288 with 1 Axes>"
      ]
     },
     "metadata": {},
     "output_type": "display_data"
    }
   ],
   "source": [
    "plt.hist(suicide['placdth'])"
   ]
  },
  {
   "cell_type": "code",
   "execution_count": 61,
   "id": "fab4c0ea",
   "metadata": {},
   "outputs": [
    {
     "data": {
      "text/plain": [
       "([<matplotlib.axis.XTick at 0x23dd8431f40>,\n",
       "  <matplotlib.axis.XTick at 0x23dd8431f10>,\n",
       "  <matplotlib.axis.XTick at 0x23dd8431610>,\n",
       "  <matplotlib.axis.XTick at 0x23dd846daf0>,\n",
       "  <matplotlib.axis.XTick at 0x23dd847b280>,\n",
       "  <matplotlib.axis.XTick at 0x23dd847b9d0>,\n",
       "  <matplotlib.axis.XTick at 0x23dd8480160>,\n",
       "  <matplotlib.axis.XTick at 0x23dd84808b0>,\n",
       "  <matplotlib.axis.XTick at 0x23dd8487040>,\n",
       "  <matplotlib.axis.XTick at 0x23dd84803d0>,\n",
       "  <matplotlib.axis.XTick at 0x23dd846de80>,\n",
       "  <matplotlib.axis.XTick at 0x23dd8487550>,\n",
       "  <matplotlib.axis.XTick at 0x23dd8487ca0>,\n",
       "  <matplotlib.axis.XTick at 0x23dd848c430>,\n",
       "  <matplotlib.axis.XTick at 0x23dd848cb80>],\n",
       " [Text(0, 0, ''),\n",
       "  Text(0, 0, ''),\n",
       "  Text(0, 0, ''),\n",
       "  Text(0, 0, ''),\n",
       "  Text(0, 0, ''),\n",
       "  Text(0, 0, ''),\n",
       "  Text(0, 0, ''),\n",
       "  Text(0, 0, ''),\n",
       "  Text(0, 0, ''),\n",
       "  Text(0, 0, ''),\n",
       "  Text(0, 0, ''),\n",
       "  Text(0, 0, ''),\n",
       "  Text(0, 0, ''),\n",
       "  Text(0, 0, ''),\n",
       "  Text(0, 0, '')])"
      ]
     },
     "execution_count": 61,
     "metadata": {},
     "output_type": "execute_result"
    },
    {
     "data": {
      "image/png": "[encoded data removed]",
      "text/plain": [
       "<Figure size 432x288 with 1 Axes>"
      ]
     },
     "metadata": {},
     "output_type": "display_data"
    }
   ],
   "source": [
    "plt.hist(suicide['ranum'])\n",
    "plt.xticks(np.arange(15,step=1))"
   ]
  },
  {
   "cell_type": "code",
   "execution_count": 62,
   "id": "3f84fa48",
   "metadata": {},
   "outputs": [
    {
     "data": {
      "text/plain": [
       "([<matplotlib.axis.XTick at 0x23dd7b822b0>,\n",
       "  <matplotlib.axis.XTick at 0x23dd84b5670>,\n",
       "  <matplotlib.axis.XTick at 0x23dd84ae2e0>,\n",
       "  <matplotlib.axis.XTick at 0x23dd8e1c5b0>],\n",
       " [Text(0, 0, ''), Text(0, 0, ''), Text(0, 0, ''), Text(0, 0, '')])"
      ]
     },
     "execution_count": 62,
     "metadata": {},
     "output_type": "execute_result"
    },
    {
     "data": {
      "image/png": "[encoded data removed]",
      "text/plain": [
       "<Figure size 432x288 with 1 Axes>"
      ]
     },
     "metadata": {},
     "output_type": "display_data"
    }
   ],
   "source": [
    "plt.hist(suicide['restatus'])\n",
    "plt.xticks([1,2,3,4])"
   ]
  },
  {
   "cell_type": "code",
   "execution_count": 63,
   "id": "a542de8b",
   "metadata": {},
   "outputs": [
    {
     "data": {
      "text/plain": [
       "(array([ 1927., 30177.,    67.,     0.,     0.,     0.,     0.,     0.,\n",
       "            0.,   131.]),\n",
       " array([100. , 189.8, 279.6, 369.4, 459.2, 549. , 638.8, 728.6, 818.4,\n",
       "        908.2, 998. ]),\n",
       " <BarContainer object of 10 artists>)"
      ]
     },
     "execution_count": 63,
     "metadata": {},
     "output_type": "execute_result"
    },
    {
     "data": {
      "image/png": "[encoded data removed]",
      "text/plain": [
       "<Figure size 432x288 with 1 Axes>"
      ]
     },
     "metadata": {},
     "output_type": "display_data"
    }
   ],
   "source": [
    "plt.hist(suicide['hispanic'])"
   ]
  },
  {
   "cell_type": "code",
   "execution_count": 64,
   "id": "f90a52cf",
   "metadata": {},
   "outputs": [],
   "source": [
    "suicide_people=suicide.loc[suicide['mandeath']==1]"
   ]
  },
  {
   "cell_type": "code",
   "execution_count": 65,
   "id": "e8d0d94b",
   "metadata": {},
   "outputs": [
    {
     "data": {
      "text/plain": [
       "(array([190.,   0.,   0.,   0.,   0.,   0.,   0.,   0.,   0.,  30.]),\n",
       " array([0. , 0.1, 0.2, 0.3, 0.4, 0.5, 0.6, 0.7, 0.8, 0.9, 1. ]),\n",
       " <BarContainer object of 10 artists>)"
      ]
     },
     "execution_count": 65,
     "metadata": {},
     "output_type": "execute_result"
    },
    {
     "data": {
      "image/png": "[encoded data removed]",
      "text/plain": [
       "<Figure size 432x288 with 1 Axes>"
      ]
     },
     "metadata": {},
     "output_type": "display_data"
    }
   ],
   "source": [
    "plt.hist(suicide_people['sex'])"
   ]
  },
  {
   "cell_type": "code",
   "execution_count": 66,
   "id": "c880ea32",
   "metadata": {},
   "outputs": [
    {
     "data": {
      "text/plain": [
       "([<matplotlib.axis.XTick at 0x23dd7ebae20>,\n",
       "  <matplotlib.axis.XTick at 0x23dd7ebadf0>,\n",
       "  <matplotlib.axis.XTick at 0x23dd84d0070>,\n",
       "  <matplotlib.axis.XTick at 0x23dd84ddbb0>,\n",
       "  <matplotlib.axis.XTick at 0x23dd7d83340>,\n",
       "  <matplotlib.axis.XTick at 0x23dd7d83a90>,\n",
       "  <matplotlib.axis.XTick at 0x23dd7d97220>,\n",
       "  <matplotlib.axis.XTick at 0x23dd7d97970>,\n",
       "  <matplotlib.axis.XTick at 0x23dd7d97a60>,\n",
       "  <matplotlib.axis.XTick at 0x23dd7d83ac0>,\n",
       "  <matplotlib.axis.XTick at 0x23dd7d92100>,\n",
       "  <matplotlib.axis.XTick at 0x23dd7d92850>,\n",
       "  <matplotlib.axis.XTick at 0x23dd7d9c070>],\n",
       " [Text(0, 0, ''),\n",
       "  Text(0, 0, ''),\n",
       "  Text(0, 0, ''),\n",
       "  Text(0, 0, ''),\n",
       "  Text(0, 0, ''),\n",
       "  Text(0, 0, ''),\n",
       "  Text(0, 0, ''),\n",
       "  Text(0, 0, ''),\n",
       "  Text(0, 0, ''),\n",
       "  Text(0, 0, ''),\n",
       "  Text(0, 0, ''),\n",
       "  Text(0, 0, ''),\n",
       "  Text(0, 0, '')])"
      ]
     },
     "execution_count": 66,
     "metadata": {},
     "output_type": "execute_result"
    },
    {
     "data": {
      "image/png": "[encoded data removed]",
      "text/plain": [
       "<Figure size 432x288 with 1 Axes>"
      ]
     },
     "metadata": {},
     "output_type": "display_data"
    }
   ],
   "source": [
    "plt.hist(suicide_people['raceforvis'],log=True)\n",
    "plt.xticks(np.arange(max(suicide_people['raceforvis']),step=1))"
   ]
  },
  {
   "cell_type": "code",
   "execution_count": 67,
   "id": "f43eb967",
   "metadata": {},
   "outputs": [
    {
     "data": {
      "text/plain": [
       "0.7954545454545454"
      ]
     },
     "execution_count": 67,
     "metadata": {},
     "output_type": "execute_result"
    }
   ],
   "source": [
    "white_suicide_ratio_all = sum(suicide_people['raceforvis']==1)/len(suicide_people)\n",
    "white_suicide_ratio_all"
   ]
  },
  {
   "cell_type": "code",
   "execution_count": 68,
   "id": "15ae57b7",
   "metadata": {},
   "outputs": [
    {
     "data": {
      "text/plain": [
       "0.9054238127670113"
      ]
     },
     "execution_count": 68,
     "metadata": {},
     "output_type": "execute_result"
    }
   ],
   "source": [
    "white_suicide_ratio_suicide = sum(suicide['raceforvis']==1)/len(suicide)\n",
    "white_suicide_ratio_suicide"
   ]
  },
  {
   "cell_type": "code",
   "execution_count": 69,
   "id": "e3979631",
   "metadata": {},
   "outputs": [
    {
     "data": {
      "text/plain": [
       "([<matplotlib.axis.XTick at 0x23dd862dac0>,\n",
       "  <matplotlib.axis.XTick at 0x23dd862daf0>,\n",
       "  <matplotlib.axis.XTick at 0x23dd86002b0>,\n",
       "  <matplotlib.axis.XTick at 0x23dd865caf0>,\n",
       "  <matplotlib.axis.XTick at 0x23dd86640d0>,\n",
       "  <matplotlib.axis.XTick at 0x23dd8664700>,\n",
       "  <matplotlib.axis.XTick at 0x23dd8664e50>,\n",
       "  <matplotlib.axis.XTick at 0x23dd86655e0>],\n",
       " [Text(0, 0, ''),\n",
       "  Text(0, 0, ''),\n",
       "  Text(0, 0, ''),\n",
       "  Text(0, 0, ''),\n",
       "  Text(0, 0, ''),\n",
       "  Text(0, 0, ''),\n",
       "  Text(0, 0, ''),\n",
       "  Text(0, 0, '')])"
      ]
     },
     "execution_count": 69,
     "metadata": {},
     "output_type": "execute_result"
    },
    {
     "data": {
      "image/png": "[encoded data removed]",
      "text/plain": [
       "<Figure size 432x288 with 1 Axes>"
      ]
     },
     "metadata": {},
     "output_type": "display_data"
    }
   ],
   "source": [
    "plt.hist(suicide_people['educ2003'])\n",
    "plt.xticks(np.arange(max(suicide_people['educ2003']),step=1))"
   ]
  },
  {
   "cell_type": "code",
   "execution_count": 70,
   "id": "bf1ba330",
   "metadata": {},
   "outputs": [
    {
     "data": {
      "text/plain": [
       "(array([14., 30., 31., 28., 25., 32., 23., 17., 17.,  3.]),\n",
       " array([14. , 21.8, 29.6, 37.4, 45.2, 53. , 60.8, 68.6, 76.4, 84.2, 92. ]),\n",
       " <BarContainer object of 10 artists>)"
      ]
     },
     "execution_count": 70,
     "metadata": {},
     "output_type": "execute_result"
    },
    {
     "data": {
      "image/png": "[encoded data removed]",
      "text/plain": [
       "<Figure size 432x288 with 1 Axes>"
      ]
     },
     "metadata": {},
     "output_type": "display_data"
    }
   ],
   "source": [
    "plt.hist(suicide_people['age'])"
   ]
  },
  {
   "cell_type": "code",
   "execution_count": 71,
   "id": "15a30911",
   "metadata": {},
   "outputs": [
    {
     "data": {
      "text/plain": [
       "(array([ 57.,   0.,   0., 112.,   0.,   0.,  44.,   0.,   0.,   7.]),\n",
       " array([0. , 0.3, 0.6, 0.9, 1.2, 1.5, 1.8, 2.1, 2.4, 2.7, 3. ]),\n",
       " <BarContainer object of 10 artists>)"
      ]
     },
     "execution_count": 71,
     "metadata": {},
     "output_type": "execute_result"
    },
    {
     "data": {
      "image/png": "[encoded data removed]",
      "text/plain": [
       "<Figure size 432x288 with 1 Axes>"
      ]
     },
     "metadata": {},
     "output_type": "display_data"
    }
   ],
   "source": [
    "plt.hist(suicide_people['marstat'])"
   ]
  },
  {
   "cell_type": "code",
   "execution_count": 72,
   "id": "5d3b551d",
   "metadata": {},
   "outputs": [
    {
     "data": {
      "text/plain": [
       "(array([ 15.,   5.,   0.,  35.,   0., 129.,   0.,   0.,   0.,  36.]),\n",
       " array([1. , 1.6, 2.2, 2.8, 3.4, 4. , 4.6, 5.2, 5.8, 6.4, 7. ]),\n",
       " <BarContainer object of 10 artists>)"
      ]
     },
     "execution_count": 72,
     "metadata": {},
     "output_type": "execute_result"
    },
    {
     "data": {
      "image/png": "[encoded data removed]",
      "text/plain": [
       "<Figure size 432x288 with 1 Axes>"
      ]
     },
     "metadata": {},
     "output_type": "display_data"
    }
   ],
   "source": [
    "plt.hist(suicide_people['placdth'])"
   ]
  },
  {
   "cell_type": "code",
   "execution_count": 73,
   "id": "bc4ef524",
   "metadata": {},
   "outputs": [
    {
     "data": {
      "text/plain": [
       "(array([183.,   0.,   0.,  30.,   0.,   0.,   3.,   0.,   0.,   4.]),\n",
       " array([2. , 2.3, 2.6, 2.9, 3.2, 3.5, 3.8, 4.1, 4.4, 4.7, 5. ]),\n",
       " <BarContainer object of 10 artists>)"
      ]
     },
     "execution_count": 73,
     "metadata": {},
     "output_type": "execute_result"
    },
    {
     "data": {
      "image/png": "[encoded data removed]",
      "text/plain": [
       "<Figure size 432x288 with 1 Axes>"
      ]
     },
     "metadata": {},
     "output_type": "display_data"
    }
   ],
   "source": [
    "plt.hist(suicide_people['ranum'])"
   ]
  },
  {
   "cell_type": "code",
   "execution_count": 74,
   "id": "b7c45dd2",
   "metadata": {},
   "outputs": [
    {
     "data": {
      "text/plain": [
       "(array([191.,   0.,   0.,  27.,   0.,   0.,   0.,   0.,   0.,   2.]),\n",
       " array([1. , 1.3, 1.6, 1.9, 2.2, 2.5, 2.8, 3.1, 3.4, 3.7, 4. ]),\n",
       " <BarContainer object of 10 artists>)"
      ]
     },
     "execution_count": 74,
     "metadata": {},
     "output_type": "execute_result"
    },
    {
     "data": {
      "image/png": "[encoded data removed]",
      "text/plain": [
       "<Figure size 432x288 with 1 Axes>"
      ]
     },
     "metadata": {},
     "output_type": "display_data"
    }
   ],
   "source": [
    "plt.hist(suicide_people['restatus'])"
   ]
  },
  {
   "cell_type": "code",
   "execution_count": 75,
   "id": "f607fe3e",
   "metadata": {
    "scrolled": true
   },
   "outputs": [
    {
     "data": {
      "text/plain": [
       "(array([ 52., 166.,   0.,   0.,   0.,   0.,   0.,   0.,   0.,   2.]),\n",
       " array([100. , 189.8, 279.6, 369.4, 459.2, 549. , 638.8, 728.6, 818.4,\n",
       "        908.2, 998. ]),\n",
       " <BarContainer object of 10 artists>)"
      ]
     },
     "execution_count": 75,
     "metadata": {},
     "output_type": "execute_result"
    },
    {
     "data": {
      "image/png": "[encoded data removed]",
      "text/plain": [
       "<Figure size 432x288 with 1 Axes>"
      ]
     },
     "metadata": {},
     "output_type": "display_data"
    }
   ],
   "source": [
    "plt.hist(suicide_people['hispanic'])"
   ]
  },
  {
   "cell_type": "markdown",
   "id": "693a19e3",
   "metadata": {},
   "source": [
    "downsampling"
   ]
  },
  {
   "cell_type": "code",
   "execution_count": 85,
   "id": "c54cc986",
   "metadata": {},
   "outputs": [],
   "source": [
    "suicide_people=suicide.loc[suicide['mandeath'] == 1]\n",
    "no_suicide_people = suicide.loc[suicide['mandeath'] == 0]"
   ]
  },
  {
   "cell_type": "code",
   "execution_count": 86,
   "id": "c4663cf4",
   "metadata": {},
   "outputs": [],
   "source": [
    "suicide_people = suicide_people[['mandeath','educ2003','age','placdth',\n",
    " 'sex_F', 'sex_M', 'marstat_D', 'marstat_M','marstat_S', 'marstat_W',\n",
    "'race_American Indian', 'race_Black', 'race_Chinese', 'race_Filipino', 'race_Guamanian',\n",
    "'race_Hawaiian', 'race_Japanese', 'race_Korean', 'race_White']]\n",
    "no_suicide_people = no_suicide_people[['mandeath','educ2003','age','placdth',\n",
    " 'sex_F', 'sex_M', 'marstat_D', 'marstat_M','marstat_S', 'marstat_W',\n",
    "'race_American Indian', 'race_Black', 'race_Chinese', 'race_Filipino', 'race_Guamanian',\n",
    "'race_Hawaiian', 'race_Japanese', 'race_Korean', 'race_White']]"
   ]
  },
  {
   "cell_type": "code",
   "execution_count": 87,
   "id": "4ce9d537",
   "metadata": {},
   "outputs": [],
   "source": [
    "from sklearn.utils import resample\n",
    "no_suicide_people = resample(no_suicide_people,replace=True,n_samples=len(suicide_people),random_state=42)"
   ]
  },
  {
   "cell_type": "code",
   "execution_count": 88,
   "id": "1a75cb45",
   "metadata": {},
   "outputs": [
    {
     "data": {
      "text/html": [
       "<div>\n",
       "<style scoped>\n",
       "    .dataframe tbody tr th:only-of-type {\n",
       "        vertical-align: middle;\n",
       "    }\n",
       "\n",
       "    .dataframe tbody tr th {\n",
       "        vertical-align: top;\n",
       "    }\n",
       "\n",
       "    .dataframe thead th {\n",
       "        text-align: right;\n",
       "    }\n",
       "</style>\n",
       "<table border=\"1\" class=\"dataframe\">\n",
       "  <thead>\n",
       "    <tr style=\"text-align: right;\">\n",
       "      <th></th>\n",
       "      <th>mandeath</th>\n",
       "      <th>educ2003</th>\n",
       "      <th>age</th>\n",
       "      <th>placdth</th>\n",
       "      <th>sex_F</th>\n",
       "      <th>sex_M</th>\n",
       "      <th>marstat_D</th>\n",
       "      <th>marstat_M</th>\n",
       "      <th>marstat_S</th>\n",
       "      <th>marstat_W</th>\n",
       "      <th>race_American Indian</th>\n",
       "      <th>race_Black</th>\n",
       "      <th>race_Chinese</th>\n",
       "      <th>race_Filipino</th>\n",
       "      <th>race_Guamanian</th>\n",
       "      <th>race_Hawaiian</th>\n",
       "      <th>race_Japanese</th>\n",
       "      <th>race_Korean</th>\n",
       "      <th>race_White</th>\n",
       "    </tr>\n",
       "  </thead>\n",
       "  <tbody>\n",
       "    <tr>\n",
       "      <th>24945</th>\n",
       "      <td>0</td>\n",
       "      <td>5</td>\n",
       "      <td>54.0</td>\n",
       "      <td>2</td>\n",
       "      <td>0</td>\n",
       "      <td>1</td>\n",
       "      <td>0</td>\n",
       "      <td>0</td>\n",
       "      <td>1</td>\n",
       "      <td>0</td>\n",
       "      <td>0</td>\n",
       "      <td>0</td>\n",
       "      <td>0</td>\n",
       "      <td>0</td>\n",
       "      <td>0</td>\n",
       "      <td>0</td>\n",
       "      <td>0</td>\n",
       "      <td>0</td>\n",
       "      <td>1</td>\n",
       "    </tr>\n",
       "    <tr>\n",
       "      <th>16696</th>\n",
       "      <td>0</td>\n",
       "      <td>3</td>\n",
       "      <td>82.0</td>\n",
       "      <td>2</td>\n",
       "      <td>0</td>\n",
       "      <td>1</td>\n",
       "      <td>0</td>\n",
       "      <td>0</td>\n",
       "      <td>0</td>\n",
       "      <td>1</td>\n",
       "      <td>0</td>\n",
       "      <td>0</td>\n",
       "      <td>0</td>\n",
       "      <td>0</td>\n",
       "      <td>0</td>\n",
       "      <td>0</td>\n",
       "      <td>0</td>\n",
       "      <td>0</td>\n",
       "      <td>1</td>\n",
       "    </tr>\n",
       "    <tr>\n",
       "      <th>1053</th>\n",
       "      <td>0</td>\n",
       "      <td>1</td>\n",
       "      <td>72.0</td>\n",
       "      <td>3</td>\n",
       "      <td>1</td>\n",
       "      <td>0</td>\n",
       "      <td>0</td>\n",
       "      <td>1</td>\n",
       "      <td>0</td>\n",
       "      <td>0</td>\n",
       "      <td>0</td>\n",
       "      <td>0</td>\n",
       "      <td>0</td>\n",
       "      <td>0</td>\n",
       "      <td>0</td>\n",
       "      <td>0</td>\n",
       "      <td>0</td>\n",
       "      <td>0</td>\n",
       "      <td>0</td>\n",
       "    </tr>\n",
       "    <tr>\n",
       "      <th>5771</th>\n",
       "      <td>0</td>\n",
       "      <td>1</td>\n",
       "      <td>66.0</td>\n",
       "      <td>1</td>\n",
       "      <td>0</td>\n",
       "      <td>1</td>\n",
       "      <td>1</td>\n",
       "      <td>0</td>\n",
       "      <td>0</td>\n",
       "      <td>0</td>\n",
       "      <td>0</td>\n",
       "      <td>0</td>\n",
       "      <td>0</td>\n",
       "      <td>0</td>\n",
       "      <td>0</td>\n",
       "      <td>0</td>\n",
       "      <td>0</td>\n",
       "      <td>0</td>\n",
       "      <td>1</td>\n",
       "    </tr>\n",
       "    <tr>\n",
       "      <th>31485</th>\n",
       "      <td>0</td>\n",
       "      <td>3</td>\n",
       "      <td>42.0</td>\n",
       "      <td>1</td>\n",
       "      <td>0</td>\n",
       "      <td>1</td>\n",
       "      <td>0</td>\n",
       "      <td>1</td>\n",
       "      <td>0</td>\n",
       "      <td>0</td>\n",
       "      <td>0</td>\n",
       "      <td>0</td>\n",
       "      <td>0</td>\n",
       "      <td>0</td>\n",
       "      <td>0</td>\n",
       "      <td>0</td>\n",
       "      <td>0</td>\n",
       "      <td>0</td>\n",
       "      <td>1</td>\n",
       "    </tr>\n",
       "    <tr>\n",
       "      <th>...</th>\n",
       "      <td>...</td>\n",
       "      <td>...</td>\n",
       "      <td>...</td>\n",
       "      <td>...</td>\n",
       "      <td>...</td>\n",
       "      <td>...</td>\n",
       "      <td>...</td>\n",
       "      <td>...</td>\n",
       "      <td>...</td>\n",
       "      <td>...</td>\n",
       "      <td>...</td>\n",
       "      <td>...</td>\n",
       "      <td>...</td>\n",
       "      <td>...</td>\n",
       "      <td>...</td>\n",
       "      <td>...</td>\n",
       "      <td>...</td>\n",
       "      <td>...</td>\n",
       "      <td>...</td>\n",
       "    </tr>\n",
       "    <tr>\n",
       "      <th>10506</th>\n",
       "      <td>0</td>\n",
       "      <td>4</td>\n",
       "      <td>60.0</td>\n",
       "      <td>4</td>\n",
       "      <td>1</td>\n",
       "      <td>0</td>\n",
       "      <td>0</td>\n",
       "      <td>1</td>\n",
       "      <td>0</td>\n",
       "      <td>0</td>\n",
       "      <td>0</td>\n",
       "      <td>0</td>\n",
       "      <td>0</td>\n",
       "      <td>0</td>\n",
       "      <td>0</td>\n",
       "      <td>0</td>\n",
       "      <td>0</td>\n",
       "      <td>0</td>\n",
       "      <td>1</td>\n",
       "    </tr>\n",
       "    <tr>\n",
       "      <th>29388</th>\n",
       "      <td>0</td>\n",
       "      <td>2</td>\n",
       "      <td>34.0</td>\n",
       "      <td>2</td>\n",
       "      <td>0</td>\n",
       "      <td>1</td>\n",
       "      <td>0</td>\n",
       "      <td>0</td>\n",
       "      <td>1</td>\n",
       "      <td>0</td>\n",
       "      <td>0</td>\n",
       "      <td>0</td>\n",
       "      <td>0</td>\n",
       "      <td>0</td>\n",
       "      <td>0</td>\n",
       "      <td>0</td>\n",
       "      <td>0</td>\n",
       "      <td>0</td>\n",
       "      <td>1</td>\n",
       "    </tr>\n",
       "    <tr>\n",
       "      <th>20625</th>\n",
       "      <td>0</td>\n",
       "      <td>1</td>\n",
       "      <td>93.0</td>\n",
       "      <td>4</td>\n",
       "      <td>1</td>\n",
       "      <td>0</td>\n",
       "      <td>0</td>\n",
       "      <td>0</td>\n",
       "      <td>0</td>\n",
       "      <td>1</td>\n",
       "      <td>0</td>\n",
       "      <td>0</td>\n",
       "      <td>0</td>\n",
       "      <td>0</td>\n",
       "      <td>0</td>\n",
       "      <td>0</td>\n",
       "      <td>0</td>\n",
       "      <td>0</td>\n",
       "      <td>1</td>\n",
       "    </tr>\n",
       "    <tr>\n",
       "      <th>23517</th>\n",
       "      <td>0</td>\n",
       "      <td>3</td>\n",
       "      <td>95.0</td>\n",
       "      <td>6</td>\n",
       "      <td>1</td>\n",
       "      <td>0</td>\n",
       "      <td>0</td>\n",
       "      <td>0</td>\n",
       "      <td>0</td>\n",
       "      <td>1</td>\n",
       "      <td>0</td>\n",
       "      <td>0</td>\n",
       "      <td>0</td>\n",
       "      <td>0</td>\n",
       "      <td>0</td>\n",
       "      <td>0</td>\n",
       "      <td>0</td>\n",
       "      <td>0</td>\n",
       "      <td>1</td>\n",
       "    </tr>\n",
       "    <tr>\n",
       "      <th>11471</th>\n",
       "      <td>0</td>\n",
       "      <td>6</td>\n",
       "      <td>83.0</td>\n",
       "      <td>1</td>\n",
       "      <td>0</td>\n",
       "      <td>1</td>\n",
       "      <td>0</td>\n",
       "      <td>1</td>\n",
       "      <td>0</td>\n",
       "      <td>0</td>\n",
       "      <td>0</td>\n",
       "      <td>0</td>\n",
       "      <td>0</td>\n",
       "      <td>0</td>\n",
       "      <td>0</td>\n",
       "      <td>0</td>\n",
       "      <td>0</td>\n",
       "      <td>0</td>\n",
       "      <td>1</td>\n",
       "    </tr>\n",
       "  </tbody>\n",
       "</table>\n",
       "<p>220 rows × 19 columns</p>\n",
       "</div>"
      ],
      "text/plain": [
       "       mandeath  educ2003   age  placdth  sex_F  sex_M  marstat_D  marstat_M  \\\n",
       "24945         0         5  54.0        2      0      1          0          0   \n",
       "16696         0         3  82.0        2      0      1          0          0   \n",
       "1053          0         1  72.0        3      1      0          0          1   \n",
       "5771          0         1  66.0        1      0      1          1          0   \n",
       "31485         0         3  42.0        1      0      1          0          1   \n",
       "...         ...       ...   ...      ...    ...    ...        ...        ...   \n",
       "10506         0         4  60.0        4      1      0          0          1   \n",
       "29388         0         2  34.0        2      0      1          0          0   \n",
       "20625         0         1  93.0        4      1      0          0          0   \n",
       "23517         0         3  95.0        6      1      0          0          0   \n",
       "11471         0         6  83.0        1      0      1          0          1   \n",
       "\n",
       "       marstat_S  marstat_W  race_American Indian  race_Black  race_Chinese  \\\n",
       "24945          1          0                     0           0             0   \n",
       "16696          0          1                     0           0             0   \n",
       "1053           0          0                     0           0             0   \n",
       "5771           0          0                     0           0             0   \n",
       "31485          0          0                     0           0             0   \n",
       "...          ...        ...                   ...         ...           ...   \n",
       "10506          0          0                     0           0             0   \n",
       "29388          1          0                     0           0             0   \n",
       "20625          0          1                     0           0             0   \n",
       "23517          0          1                     0           0             0   \n",
       "11471          0          0                     0           0             0   \n",
       "\n",
       "       race_Filipino  race_Guamanian  race_Hawaiian  race_Japanese  \\\n",
       "24945              0               0              0              0   \n",
       "16696              0               0              0              0   \n",
       "1053               0               0              0              0   \n",
       "5771               0               0              0              0   \n",
       "31485              0               0              0              0   \n",
       "...              ...             ...            ...            ...   \n",
       "10506              0               0              0              0   \n",
       "29388              0               0              0              0   \n",
       "20625              0               0              0              0   \n",
       "23517              0               0              0              0   \n",
       "11471              0               0              0              0   \n",
       "\n",
       "       race_Korean  race_White  \n",
       "24945            0           1  \n",
       "16696            0           1  \n",
       "1053             0           0  \n",
       "5771             0           1  \n",
       "31485            0           1  \n",
       "...            ...         ...  \n",
       "10506            0           1  \n",
       "29388            0           1  \n",
       "20625            0           1  \n",
       "23517            0           1  \n",
       "11471            0           1  \n",
       "\n",
       "[220 rows x 19 columns]"
      ]
     },
     "execution_count": 88,
     "metadata": {},
     "output_type": "execute_result"
    }
   ],
   "source": [
    "no_suicide_people"
   ]
  },
  {
   "cell_type": "code",
   "execution_count": 91,
   "id": "dbad91ae",
   "metadata": {},
   "outputs": [
    {
     "data": {
      "text/html": [
       "<div>\n",
       "<style scoped>\n",
       "    .dataframe tbody tr th:only-of-type {\n",
       "        vertical-align: middle;\n",
       "    }\n",
       "\n",
       "    .dataframe tbody tr th {\n",
       "        vertical-align: top;\n",
       "    }\n",
       "\n",
       "    .dataframe thead th {\n",
       "        text-align: right;\n",
       "    }\n",
       "</style>\n",
       "<table border=\"1\" class=\"dataframe\">\n",
       "  <thead>\n",
       "    <tr style=\"text-align: right;\">\n",
       "      <th></th>\n",
       "      <th>mandeath</th>\n",
       "      <th>educ2003</th>\n",
       "      <th>age</th>\n",
       "      <th>placdth</th>\n",
       "      <th>sex_F</th>\n",
       "      <th>sex_M</th>\n",
       "      <th>marstat_D</th>\n",
       "      <th>marstat_M</th>\n",
       "      <th>marstat_S</th>\n",
       "      <th>marstat_W</th>\n",
       "      <th>race_American Indian</th>\n",
       "      <th>race_Black</th>\n",
       "      <th>race_Chinese</th>\n",
       "      <th>race_Filipino</th>\n",
       "      <th>race_Guamanian</th>\n",
       "      <th>race_Hawaiian</th>\n",
       "      <th>race_Japanese</th>\n",
       "      <th>race_Korean</th>\n",
       "      <th>race_White</th>\n",
       "    </tr>\n",
       "  </thead>\n",
       "  <tbody>\n",
       "    <tr>\n",
       "      <th>24</th>\n",
       "      <td>1</td>\n",
       "      <td>3</td>\n",
       "      <td>43.0</td>\n",
       "      <td>3</td>\n",
       "      <td>0</td>\n",
       "      <td>1</td>\n",
       "      <td>0</td>\n",
       "      <td>1</td>\n",
       "      <td>0</td>\n",
       "      <td>0</td>\n",
       "      <td>0</td>\n",
       "      <td>0</td>\n",
       "      <td>0</td>\n",
       "      <td>1</td>\n",
       "      <td>0</td>\n",
       "      <td>0</td>\n",
       "      <td>0</td>\n",
       "      <td>0</td>\n",
       "      <td>0</td>\n",
       "    </tr>\n",
       "    <tr>\n",
       "      <th>34</th>\n",
       "      <td>1</td>\n",
       "      <td>2</td>\n",
       "      <td>37.0</td>\n",
       "      <td>3</td>\n",
       "      <td>0</td>\n",
       "      <td>1</td>\n",
       "      <td>0</td>\n",
       "      <td>0</td>\n",
       "      <td>1</td>\n",
       "      <td>0</td>\n",
       "      <td>0</td>\n",
       "      <td>0</td>\n",
       "      <td>0</td>\n",
       "      <td>0</td>\n",
       "      <td>1</td>\n",
       "      <td>0</td>\n",
       "      <td>0</td>\n",
       "      <td>0</td>\n",
       "      <td>0</td>\n",
       "    </tr>\n",
       "    <tr>\n",
       "      <th>83</th>\n",
       "      <td>1</td>\n",
       "      <td>2</td>\n",
       "      <td>47.0</td>\n",
       "      <td>3</td>\n",
       "      <td>0</td>\n",
       "      <td>1</td>\n",
       "      <td>0</td>\n",
       "      <td>0</td>\n",
       "      <td>1</td>\n",
       "      <td>0</td>\n",
       "      <td>0</td>\n",
       "      <td>0</td>\n",
       "      <td>0</td>\n",
       "      <td>0</td>\n",
       "      <td>1</td>\n",
       "      <td>0</td>\n",
       "      <td>0</td>\n",
       "      <td>0</td>\n",
       "      <td>0</td>\n",
       "    </tr>\n",
       "    <tr>\n",
       "      <th>115</th>\n",
       "      <td>1</td>\n",
       "      <td>3</td>\n",
       "      <td>32.0</td>\n",
       "      <td>3</td>\n",
       "      <td>0</td>\n",
       "      <td>1</td>\n",
       "      <td>0</td>\n",
       "      <td>0</td>\n",
       "      <td>1</td>\n",
       "      <td>0</td>\n",
       "      <td>0</td>\n",
       "      <td>0</td>\n",
       "      <td>0</td>\n",
       "      <td>1</td>\n",
       "      <td>0</td>\n",
       "      <td>0</td>\n",
       "      <td>0</td>\n",
       "      <td>0</td>\n",
       "      <td>0</td>\n",
       "    </tr>\n",
       "    <tr>\n",
       "      <th>138</th>\n",
       "      <td>1</td>\n",
       "      <td>7</td>\n",
       "      <td>37.0</td>\n",
       "      <td>1</td>\n",
       "      <td>0</td>\n",
       "      <td>1</td>\n",
       "      <td>0</td>\n",
       "      <td>1</td>\n",
       "      <td>0</td>\n",
       "      <td>0</td>\n",
       "      <td>0</td>\n",
       "      <td>0</td>\n",
       "      <td>0</td>\n",
       "      <td>0</td>\n",
       "      <td>1</td>\n",
       "      <td>0</td>\n",
       "      <td>0</td>\n",
       "      <td>0</td>\n",
       "      <td>0</td>\n",
       "    </tr>\n",
       "    <tr>\n",
       "      <th>...</th>\n",
       "      <td>...</td>\n",
       "      <td>...</td>\n",
       "      <td>...</td>\n",
       "      <td>...</td>\n",
       "      <td>...</td>\n",
       "      <td>...</td>\n",
       "      <td>...</td>\n",
       "      <td>...</td>\n",
       "      <td>...</td>\n",
       "      <td>...</td>\n",
       "      <td>...</td>\n",
       "      <td>...</td>\n",
       "      <td>...</td>\n",
       "      <td>...</td>\n",
       "      <td>...</td>\n",
       "      <td>...</td>\n",
       "      <td>...</td>\n",
       "      <td>...</td>\n",
       "      <td>...</td>\n",
       "    </tr>\n",
       "    <tr>\n",
       "      <th>10506</th>\n",
       "      <td>0</td>\n",
       "      <td>4</td>\n",
       "      <td>60.0</td>\n",
       "      <td>4</td>\n",
       "      <td>1</td>\n",
       "      <td>0</td>\n",
       "      <td>0</td>\n",
       "      <td>1</td>\n",
       "      <td>0</td>\n",
       "      <td>0</td>\n",
       "      <td>0</td>\n",
       "      <td>0</td>\n",
       "      <td>0</td>\n",
       "      <td>0</td>\n",
       "      <td>0</td>\n",
       "      <td>0</td>\n",
       "      <td>0</td>\n",
       "      <td>0</td>\n",
       "      <td>1</td>\n",
       "    </tr>\n",
       "    <tr>\n",
       "      <th>29388</th>\n",
       "      <td>0</td>\n",
       "      <td>2</td>\n",
       "      <td>34.0</td>\n",
       "      <td>2</td>\n",
       "      <td>0</td>\n",
       "      <td>1</td>\n",
       "      <td>0</td>\n",
       "      <td>0</td>\n",
       "      <td>1</td>\n",
       "      <td>0</td>\n",
       "      <td>0</td>\n",
       "      <td>0</td>\n",
       "      <td>0</td>\n",
       "      <td>0</td>\n",
       "      <td>0</td>\n",
       "      <td>0</td>\n",
       "      <td>0</td>\n",
       "      <td>0</td>\n",
       "      <td>1</td>\n",
       "    </tr>\n",
       "    <tr>\n",
       "      <th>20625</th>\n",
       "      <td>0</td>\n",
       "      <td>1</td>\n",
       "      <td>93.0</td>\n",
       "      <td>4</td>\n",
       "      <td>1</td>\n",
       "      <td>0</td>\n",
       "      <td>0</td>\n",
       "      <td>0</td>\n",
       "      <td>0</td>\n",
       "      <td>1</td>\n",
       "      <td>0</td>\n",
       "      <td>0</td>\n",
       "      <td>0</td>\n",
       "      <td>0</td>\n",
       "      <td>0</td>\n",
       "      <td>0</td>\n",
       "      <td>0</td>\n",
       "      <td>0</td>\n",
       "      <td>1</td>\n",
       "    </tr>\n",
       "    <tr>\n",
       "      <th>23517</th>\n",
       "      <td>0</td>\n",
       "      <td>3</td>\n",
       "      <td>95.0</td>\n",
       "      <td>6</td>\n",
       "      <td>1</td>\n",
       "      <td>0</td>\n",
       "      <td>0</td>\n",
       "      <td>0</td>\n",
       "      <td>0</td>\n",
       "      <td>1</td>\n",
       "      <td>0</td>\n",
       "      <td>0</td>\n",
       "      <td>0</td>\n",
       "      <td>0</td>\n",
       "      <td>0</td>\n",
       "      <td>0</td>\n",
       "      <td>0</td>\n",
       "      <td>0</td>\n",
       "      <td>1</td>\n",
       "    </tr>\n",
       "    <tr>\n",
       "      <th>11471</th>\n",
       "      <td>0</td>\n",
       "      <td>6</td>\n",
       "      <td>83.0</td>\n",
       "      <td>1</td>\n",
       "      <td>0</td>\n",
       "      <td>1</td>\n",
       "      <td>0</td>\n",
       "      <td>1</td>\n",
       "      <td>0</td>\n",
       "      <td>0</td>\n",
       "      <td>0</td>\n",
       "      <td>0</td>\n",
       "      <td>0</td>\n",
       "      <td>0</td>\n",
       "      <td>0</td>\n",
       "      <td>0</td>\n",
       "      <td>0</td>\n",
       "      <td>0</td>\n",
       "      <td>1</td>\n",
       "    </tr>\n",
       "  </tbody>\n",
       "</table>\n",
       "<p>440 rows × 19 columns</p>\n",
       "</div>"
      ],
      "text/plain": [
       "       mandeath  educ2003   age  placdth  sex_F  sex_M  marstat_D  marstat_M  \\\n",
       "24            1         3  43.0        3      0      1          0          1   \n",
       "34            1         2  37.0        3      0      1          0          0   \n",
       "83            1         2  47.0        3      0      1          0          0   \n",
       "115           1         3  32.0        3      0      1          0          0   \n",
       "138           1         7  37.0        1      0      1          0          1   \n",
       "...         ...       ...   ...      ...    ...    ...        ...        ...   \n",
       "10506         0         4  60.0        4      1      0          0          1   \n",
       "29388         0         2  34.0        2      0      1          0          0   \n",
       "20625         0         1  93.0        4      1      0          0          0   \n",
       "23517         0         3  95.0        6      1      0          0          0   \n",
       "11471         0         6  83.0        1      0      1          0          1   \n",
       "\n",
       "       marstat_S  marstat_W  race_American Indian  race_Black  race_Chinese  \\\n",
       "24             0          0                     0           0             0   \n",
       "34             1          0                     0           0             0   \n",
       "83             1          0                     0           0             0   \n",
       "115            1          0                     0           0             0   \n",
       "138            0          0                     0           0             0   \n",
       "...          ...        ...                   ...         ...           ...   \n",
       "10506          0          0                     0           0             0   \n",
       "29388          1          0                     0           0             0   \n",
       "20625          0          1                     0           0             0   \n",
       "23517          0          1                     0           0             0   \n",
       "11471          0          0                     0           0             0   \n",
       "\n",
       "       race_Filipino  race_Guamanian  race_Hawaiian  race_Japanese  \\\n",
       "24                 1               0              0              0   \n",
       "34                 0               1              0              0   \n",
       "83                 0               1              0              0   \n",
       "115                1               0              0              0   \n",
       "138                0               1              0              0   \n",
       "...              ...             ...            ...            ...   \n",
       "10506              0               0              0              0   \n",
       "29388              0               0              0              0   \n",
       "20625              0               0              0              0   \n",
       "23517              0               0              0              0   \n",
       "11471              0               0              0              0   \n",
       "\n",
       "       race_Korean  race_White  \n",
       "24               0           0  \n",
       "34               0           0  \n",
       "83               0           0  \n",
       "115              0           0  \n",
       "138              0           0  \n",
       "...            ...         ...  \n",
       "10506            0           1  \n",
       "29388            0           1  \n",
       "20625            0           1  \n",
       "23517            0           1  \n",
       "11471            0           1  \n",
       "\n",
       "[440 rows x 19 columns]"
      ]
     },
     "execution_count": 91,
     "metadata": {},
     "output_type": "execute_result"
    }
   ],
   "source": [
    "final_model_data = pd.concat([suicide_people ,no_suicide_people])\n",
    "final_model_data"
   ]
  },
  {
   "cell_type": "markdown",
   "id": "cff2dcf6",
   "metadata": {},
   "source": [
    "Model"
   ]
  },
  {
   "cell_type": "code",
   "execution_count": 93,
   "id": "9bcb54f2",
   "metadata": {},
   "outputs": [],
   "source": [
    "Y = final_model_data[['mandeath']]\n",
    "X = final_model_data[['educ2003','age','placdth',\n",
    " 'sex_F', 'sex_M', 'marstat_D', 'marstat_M','marstat_S', 'marstat_W',\n",
    "'race_American Indian', 'race_Black', 'race_Chinese', 'race_Filipino', 'race_Guamanian',\n",
    "'race_Hawaiian', 'race_Japanese', 'race_Korean', 'race_White']]"
   ]
  },
  {
   "cell_type": "code",
   "execution_count": 94,
   "id": "309b11ba",
   "metadata": {},
   "outputs": [],
   "source": [
    "X = StandardScaler().fit_transform(X) #Standardize features by removing the mean and scaling to unit variance."
   ]
  },
  {
   "cell_type": "code",
   "execution_count": 96,
   "id": "eafd3a51",
   "metadata": {},
   "outputs": [],
   "source": [
    "from sklearn.model_selection import train_test_split\n",
    "X_train, X_test, y_train, y_test = train_test_split(X, Y, test_size=0.33, random_state=42)"
   ]
  },
  {
   "cell_type": "markdown",
   "id": "ddafe232",
   "metadata": {},
   "source": [
    "Decision tree"
   ]
  },
  {
   "cell_type": "code",
   "execution_count": 101,
   "id": "77cc3ea6",
   "metadata": {},
   "outputs": [
    {
     "data": {
      "text/plain": [
       "0.7945205479452054"
      ]
     },
     "execution_count": 101,
     "metadata": {},
     "output_type": "execute_result"
    }
   ],
   "source": [
    "DecisionTree = tree.DecisionTreeClassifier()\n",
    "DecisionTree = DecisionTree.fit(X_train, y_train)\n",
    "DecisionTree.score(X_test, y_test, sample_weight=None)"
   ]
  },
  {
   "cell_type": "code",
   "execution_count": null,
   "id": "35b66819",
   "metadata": {},
   "outputs": [],
   "source": []
  }
 ],
 "metadata": {
  "kernelspec": {
   "display_name": "Python 3 (ipykernel)",
   "language": "python",
   "name": "python3"
  },
  "language_info": {
   "codemirror_mode": {
    "name": "ipython",
    "version": 3
   },
   "file_extension": ".py",
   "mimetype": "text/x-python",
   "name": "python",
   "nbconvert_exporter": "python",
   "pygments_lexer": "ipython3",
   "version": "3.8.8"
  },
  "vscode": {
   "interpreter": {
    "hash": "c3ecf7120c634e8a1fb844c1a1a703abe048be847471c2eb881a4e23593dd9f1"
   }
  }
 },
 "nbformat": 4,
 "nbformat_minor": 5
}
