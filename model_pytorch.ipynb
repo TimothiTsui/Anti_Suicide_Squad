{
 "cells": [
  {
   "cell_type": "code",
   "execution_count": 56,
   "id": "4a8eaa26",
   "metadata": {},
   "outputs": [],
   "source": [
    "import torch\n",
    "import pandas as pd\n",
    "import seaborn as sns\n",
    "import matplotlib.pyplot as plt\n",
    "from sklearn.model_selection import train_test_split"
   ]
  },
  {
   "cell_type": "code",
   "execution_count": 59,
   "id": "cac8df52",
   "metadata": {},
   "outputs": [],
   "source": [
    "import torch\n",
    "import torch.nn as nn\n",
    "import torch.optim as optim\n",
    "from torch.utils.data import Dataset, DataLoader\n",
    "\n",
    "from sklearn.preprocessing import StandardScaler    \n",
    "from sklearn.model_selection import train_test_split\n",
    "from sklearn.metrics import confusion_matrix, classification_report, ConfusionMatrixDisplay"
   ]
  },
  {
   "cell_type": "markdown",
   "id": "6cb1dc68",
   "metadata": {},
   "source": [
    "# 1.Read Data File"
   ]
  },
  {
   "cell_type": "code",
   "execution_count": 42,
   "id": "d637b08c",
   "metadata": {},
   "outputs": [],
   "source": [
    "dataframe = pd.read_csv(\"Data File/final_model_data.csv\")\n",
    "dataframe = dataframe.rename(columns={'mandeath':'target'})\n",
    "dataframe = dataframe.drop('Unnamed: 0',axis=1)\n",
    "dataframe = dataframe.drop('index',axis=1)\n",
    "y = dataframe['target']\n",
    "X=dataframe.drop('target',axis=1)\n",
    "X=X.drop('IX',axis=1)\n",
    "X=X.drop('X',axis=1)\n",
    "X=X.drop('XIX',axis=1)\n",
    "X=X.drop('XX',axis=1)\n",
    "#X=dataframe.drop(labels=['IX','X','XIX','XX'],axis=1)\n",
    "X_train, X_test, y_train, y_test = train_test_split(X, y, test_size=0.33, random_state=69)"
   ]
  },
  {
   "cell_type": "code",
   "execution_count": 46,
   "id": "da3142ee",
   "metadata": {},
   "outputs": [],
   "source": [
    "scaler = StandardScaler()\n",
    "X_train = scaler.fit_transform(X_train)\n",
    "X_test = scaler.transform(X_test)"
   ]
  },
  {
   "cell_type": "markdown",
   "id": "501b551d",
   "metadata": {},
   "source": [
    "# 3. Training\n",
    "\n",
    "## 3.1 Decision Tree\n"
   ]
  },
  {
   "cell_type": "code",
   "execution_count": 47,
   "id": "fd274b82",
   "metadata": {},
   "outputs": [],
   "source": [
    "EPOCHS = 50\n",
    "BATCH_SIZE = 64\n",
    "LEARNING_RATE = 0.001\n",
    "\n",
    "## train data\n",
    "class TrainData(Dataset):\n",
    "    \n",
    "    def __init__(self, X_data, y_data):\n",
    "        self.X_data = X_data\n",
    "        self.y_data = y_data\n",
    "        \n",
    "    def __getitem__(self, index):\n",
    "        return self.X_data[index], self.y_data[index]\n",
    "        \n",
    "    def __len__ (self):\n",
    "        return len(self.X_data)\n",
    "\n",
    "\n",
    "train_data = TrainData(torch.FloatTensor(X_train), \n",
    "                       torch.FloatTensor(y_train))\n",
    "\n",
    "## test data    \n",
    "class TestData(Dataset):\n",
    "    \n",
    "    def __init__(self, X_data):\n",
    "        self.X_data = X_data\n",
    "        \n",
    "    def __getitem__(self, index):\n",
    "        return self.X_data[index]\n",
    "        \n",
    "    def __len__ (self):\n",
    "        return len(self.X_data)\n",
    "    \n",
    "\n",
    "test_data = TestData(torch.FloatTensor(X_test))\n",
    "\n",
    "train_loader = DataLoader(dataset=train_data, batch_size=BATCH_SIZE, shuffle=True)\n",
    "test_loader = DataLoader(dataset=test_data, batch_size=1)"
   ]
  },
  {
   "cell_type": "code",
   "execution_count": 48,
   "id": "ef8e6197",
   "metadata": {},
   "outputs": [],
   "source": [
    "class BinaryClassification(nn.Module):\n",
    "    def __init__(self):\n",
    "        super(BinaryClassification, self).__init__()\n",
    "        # Number of input features is 12.\n",
    "        self.layer_1 = nn.Linear(49, 64) \n",
    "        self.layer_2 = nn.Linear(64, 64)\n",
    "        self.layer_out = nn.Linear(64, 1) \n",
    "        \n",
    "        self.relu = nn.ReLU()\n",
    "        self.dropout = nn.Dropout(p=0.1)\n",
    "        self.batchnorm1 = nn.BatchNorm1d(64)\n",
    "        self.batchnorm2 = nn.BatchNorm1d(64)\n",
    "        \n",
    "    def forward(self, inputs):\n",
    "        x = self.relu(self.layer_1(inputs))\n",
    "        x = self.batchnorm1(x)\n",
    "        x = self.relu(self.layer_2(x))\n",
    "        x = self.batchnorm2(x)\n",
    "        x = self.dropout(x)\n",
    "        x = self.layer_out(x)\n",
    "        \n",
    "        return x"
   ]
  },
  {
   "cell_type": "code",
   "execution_count": 49,
   "id": "6ac48c3b",
   "metadata": {},
   "outputs": [
    {
     "name": "stdout",
     "output_type": "stream",
     "text": [
      "cpu\n"
     ]
    }
   ],
   "source": [
    "device = torch.device(\"cuda:0\" if torch.cuda.is_available() else \"cpu\")\n",
    "print(device)"
   ]
  },
  {
   "cell_type": "code",
   "execution_count": 50,
   "id": "b98f4b5f",
   "metadata": {},
   "outputs": [
    {
     "name": "stdout",
     "output_type": "stream",
     "text": [
      "BinaryClassification(\n",
      "  (layer_1): Linear(in_features=49, out_features=64, bias=True)\n",
      "  (layer_2): Linear(in_features=64, out_features=64, bias=True)\n",
      "  (layer_out): Linear(in_features=64, out_features=1, bias=True)\n",
      "  (relu): ReLU()\n",
      "  (dropout): Dropout(p=0.1, inplace=False)\n",
      "  (batchnorm1): BatchNorm1d(64, eps=1e-05, momentum=0.1, affine=True, track_running_stats=True)\n",
      "  (batchnorm2): BatchNorm1d(64, eps=1e-05, momentum=0.1, affine=True, track_running_stats=True)\n",
      ")\n"
     ]
    }
   ],
   "source": [
    "model = BinaryClassification()\n",
    "model.to(device)\n",
    "print(model)\n",
    "criterion = nn.BCEWithLogitsLoss()\n",
    "optimizer = optim.Adam(model.parameters(), lr=LEARNING_RATE)"
   ]
  },
  {
   "cell_type": "code",
   "execution_count": 51,
   "id": "422e05c0",
   "metadata": {},
   "outputs": [],
   "source": [
    "def binary_acc(y_pred, y_test):\n",
    "    y_pred_tag = torch.round(torch.sigmoid(y_pred))\n",
    "\n",
    "    correct_results_sum = (y_pred_tag == y_test).sum().float()\n",
    "    acc = correct_results_sum/y_test.shape[0]\n",
    "    acc = torch.round(acc * 100)\n",
    "    \n",
    "    return acc"
   ]
  },
  {
   "cell_type": "code",
   "execution_count": 52,
   "id": "8d2bf5f7",
   "metadata": {},
   "outputs": [
    {
     "name": "stdout",
     "output_type": "stream",
     "text": [
      "Epoch 001: | Loss: 0.24380 | Acc: 90.718\n",
      "Epoch 002: | Loss: 0.23151 | Acc: 91.194\n",
      "Epoch 003: | Loss: 0.22903 | Acc: 91.340\n",
      "Epoch 004: | Loss: 0.22715 | Acc: 91.365\n",
      "Epoch 005: | Loss: 0.22539 | Acc: 91.444\n",
      "Epoch 006: | Loss: 0.22357 | Acc: 91.501\n",
      "Epoch 007: | Loss: 0.22264 | Acc: 91.503\n",
      "Epoch 008: | Loss: 0.22178 | Acc: 91.536\n",
      "Epoch 009: | Loss: 0.22138 | Acc: 91.561\n",
      "Epoch 010: | Loss: 0.22101 | Acc: 91.603\n",
      "Epoch 011: | Loss: 0.22045 | Acc: 91.595\n",
      "Epoch 012: | Loss: 0.22020 | Acc: 91.591\n",
      "Epoch 013: | Loss: 0.21991 | Acc: 91.608\n",
      "Epoch 014: | Loss: 0.21955 | Acc: 91.615\n",
      "Epoch 015: | Loss: 0.21967 | Acc: 91.629\n",
      "Epoch 016: | Loss: 0.21889 | Acc: 91.649\n",
      "Epoch 017: | Loss: 0.21904 | Acc: 91.627\n",
      "Epoch 018: | Loss: 0.21864 | Acc: 91.644\n",
      "Epoch 019: | Loss: 0.21904 | Acc: 91.665\n",
      "Epoch 020: | Loss: 0.21868 | Acc: 91.666\n",
      "Epoch 021: | Loss: 0.21868 | Acc: 91.662\n",
      "Epoch 022: | Loss: 0.21811 | Acc: 91.684\n",
      "Epoch 023: | Loss: 0.21814 | Acc: 91.691\n",
      "Epoch 024: | Loss: 0.21823 | Acc: 91.684\n",
      "Epoch 025: | Loss: 0.21812 | Acc: 91.690\n",
      "Epoch 026: | Loss: 0.21794 | Acc: 91.694\n",
      "Epoch 027: | Loss: 0.21788 | Acc: 91.685\n",
      "Epoch 028: | Loss: 0.21770 | Acc: 91.681\n",
      "Epoch 029: | Loss: 0.21779 | Acc: 91.689\n",
      "Epoch 030: | Loss: 0.21747 | Acc: 91.705\n",
      "Epoch 031: | Loss: 0.21715 | Acc: 91.701\n",
      "Epoch 032: | Loss: 0.21726 | Acc: 91.691\n",
      "Epoch 033: | Loss: 0.21753 | Acc: 91.675\n",
      "Epoch 034: | Loss: 0.21716 | Acc: 91.701\n",
      "Epoch 035: | Loss: 0.21700 | Acc: 91.706\n",
      "Epoch 036: | Loss: 0.21683 | Acc: 91.718\n",
      "Epoch 037: | Loss: 0.21713 | Acc: 91.708\n",
      "Epoch 038: | Loss: 0.21707 | Acc: 91.710\n",
      "Epoch 039: | Loss: 0.21681 | Acc: 91.720\n",
      "Epoch 040: | Loss: 0.21678 | Acc: 91.706\n",
      "Epoch 041: | Loss: 0.21675 | Acc: 91.732\n",
      "Epoch 042: | Loss: 0.21651 | Acc: 91.738\n",
      "Epoch 043: | Loss: 0.21637 | Acc: 91.744\n",
      "Epoch 044: | Loss: 0.21649 | Acc: 91.720\n",
      "Epoch 045: | Loss: 0.21646 | Acc: 91.721\n",
      "Epoch 046: | Loss: 0.21619 | Acc: 91.739\n",
      "Epoch 047: | Loss: 0.21614 | Acc: 91.730\n",
      "Epoch 048: | Loss: 0.21656 | Acc: 91.724\n",
      "Epoch 049: | Loss: 0.21599 | Acc: 91.762\n",
      "Epoch 050: | Loss: 0.21620 | Acc: 91.739\n"
     ]
    }
   ],
   "source": [
    "model.train()\n",
    "for e in range(1, EPOCHS+1):\n",
    "    epoch_loss = 0\n",
    "    epoch_acc = 0\n",
    "    for X_batch, y_batch in train_loader:\n",
    "        X_batch, y_batch = X_batch.to(device), y_batch.to(device)\n",
    "        optimizer.zero_grad()\n",
    "        \n",
    "        y_pred = model(X_batch)\n",
    "        \n",
    "        loss = criterion(y_pred, y_batch.unsqueeze(1))\n",
    "        acc = binary_acc(y_pred, y_batch.unsqueeze(1))\n",
    "        \n",
    "        loss.backward()\n",
    "        optimizer.step()\n",
    "        \n",
    "        epoch_loss += loss.item()\n",
    "        epoch_acc += acc.item()\n",
    "        \n",
    "\n",
    "    print(f'Epoch {e+0:03}: | Loss: {epoch_loss/len(train_loader):.5f} | Acc: {epoch_acc/len(train_loader):.3f}')"
   ]
  },
  {
   "cell_type": "code",
   "execution_count": 53,
   "id": "e9797cc0",
   "metadata": {},
   "outputs": [],
   "source": [
    "y_pred_list = []\n",
    "model.eval()\n",
    "with torch.no_grad():\n",
    "    for X_batch in test_loader:\n",
    "        X_batch = X_batch.to(device)\n",
    "        y_test_pred = model(X_batch)\n",
    "        y_test_pred = torch.sigmoid(y_test_pred)\n",
    "        y_pred_tag = torch.round(y_test_pred)\n",
    "        y_pred_list.append(y_pred_tag.cpu().numpy())\n",
    "\n",
    "y_pred_list = [a.squeeze().tolist() for a in y_pred_list]"
   ]
  },
  {
   "cell_type": "code",
   "execution_count": 68,
   "id": "938c2edd",
   "metadata": {},
   "outputs": [
    {
     "data": {
      "image/png": "[encoded data removed]",
      "text/plain": [
       "<Figure size 640x480 with 2 Axes>"
      ]
     },
     "metadata": {},
     "output_type": "display_data"
    }
   ],
   "source": [
    "confusion_matrix(y_test, y_pred_list)\n",
    "\n",
    "ConfusionMatrixDisplay.from_predictions(y_test, y_pred_list)\n",
    "\n",
    "plt.show()"
   ]
  },
  {
   "cell_type": "code",
   "execution_count": 55,
   "id": "396642ce",
   "metadata": {},
   "outputs": [
    {
     "name": "stdout",
     "output_type": "stream",
     "text": [
      "              precision    recall  f1-score   support\n",
      "\n",
      "         0.0       0.94      0.89      0.91    103850\n",
      "         1.0       0.89      0.95      0.92    104128\n",
      "\n",
      "    accuracy                           0.92    207978\n",
      "   macro avg       0.92      0.92      0.92    207978\n",
      "weighted avg       0.92      0.92      0.92    207978\n",
      "\n"
     ]
    }
   ],
   "source": [
    "print(classification_report(y_test, y_pred_list))"
   ]
  }
 ],
 "metadata": {
  "kernelspec": {
   "display_name": "Python 3.9.15 ('tensorflow')",
   "language": "python",
   "name": "python3"
  },
  "language_info": {
   "codemirror_mode": {
    "name": "ipython",
    "version": 3
   },
   "file_extension": ".py",
   "mimetype": "text/x-python",
   "name": "python",
   "nbconvert_exporter": "python",
   "pygments_lexer": "ipython3",
   "version": "3.9.15 (main, Nov 24 2022, 08:28:41) \n[Clang 14.0.6 ]"
  },
  "vscode": {
   "interpreter": {
    "hash": "c779f27850aebf3ca39289a4ad321fdc67b37c7eb2cfef545bdccf162df3cb60"
   }
  }
 },
 "nbformat": 4,
 "nbformat_minor": 5
}
