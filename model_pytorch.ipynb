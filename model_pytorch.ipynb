{
 "cells": [
  {
   "cell_type": "code",
   "execution_count": 1,
   "id": "4a8eaa26",
   "metadata": {},
   "outputs": [],
   "source": [
    "import torch\n",
    "import pandas as pd\n",
    "import seaborn as sns\n",
    "import matplotlib.pyplot as plt\n",
    "from sklearn.model_selection import train_test_split"
   ]
  },
  {
   "cell_type": "code",
   "execution_count": 22,
   "id": "cac8df52",
   "metadata": {},
   "outputs": [],
   "source": [
    "import torch\n",
    "import torch.nn as nn\n",
    "import torch.optim as optim\n",
    "from torch.utils.data import Dataset, DataLoader\n",
    "\n",
    "from sklearn.preprocessing import StandardScaler    \n",
    "from sklearn.model_selection import train_test_split\n",
    "from sklearn.metrics import confusion_matrix, classification_report, ConfusionMatrixDisplay\n",
    "import numpy as np"
   ]
  },
  {
   "cell_type": "markdown",
   "id": "6cb1dc68",
   "metadata": {},
   "source": [
    "# 1.Read Data File"
   ]
  },
  {
   "cell_type": "code",
   "execution_count": 12,
   "id": "d637b08c",
   "metadata": {},
   "outputs": [],
   "source": [
    "dataframe = pd.read_csv(\"Data File/final_model_data.csv\")\n",
    "dataframe = dataframe.rename(columns={'mandeath':'target'})\n",
    "dataframe = dataframe.drop('Unnamed: 0',axis=1)\n",
    "dataframe = dataframe.drop('index',axis=1)\n",
    "\n",
    "sample_data = dataframe.sample(frac=0.1)\n",
    "\n",
    "y = sample_data['target']\n",
    "X=sample_data.drop('target',axis=1)\n",
    "X=X.drop('IX',axis=1)\n",
    "X=X.drop('X',axis=1)\n",
    "X=X.drop('XIX',axis=1)\n",
    "X=X.drop('XX',axis=1)"
   ]
  },
  {
   "cell_type": "code",
   "execution_count": 13,
   "id": "fd4e3a0e",
   "metadata": {},
   "outputs": [],
   "source": [
    "X_train, X_test, y_train, y_test = train_test_split(X, y, test_size=0.33, random_state=69)"
   ]
  },
  {
   "cell_type": "code",
   "execution_count": 19,
   "id": "da3142ee",
   "metadata": {},
   "outputs": [],
   "source": [
    "scaler = StandardScaler()\n",
    "X_train = scaler.fit_transform(X_train)\n",
    "X_test = scaler.transform(X_test)"
   ]
  },
  {
   "cell_type": "code",
   "execution_count": 23,
   "id": "fd274b82",
   "metadata": {},
   "outputs": [],
   "source": [
    "EPOCHS = 50\n",
    "BATCH_SIZE = 64\n",
    "LEARNING_RATE = 0.001\n",
    "\n",
    "## train data\n",
    "class TrainData(Dataset):\n",
    "    \n",
    "    def __init__(self, X_data, y_data):\n",
    "        self.X_data = X_data\n",
    "        self.y_data = y_data\n",
    "        \n",
    "    def __getitem__(self, index):\n",
    "        return self.X_data[index], self.y_data[index]\n",
    "        \n",
    "    def __len__ (self):\n",
    "        return len(self.X_data)\n",
    "\n",
    "\n",
    "train_data = TrainData(torch.FloatTensor(X_train), torch.FloatTensor(np.array(y_train)))\n",
    "\n",
    "## test data    \n",
    "class TestData(Dataset):\n",
    "    \n",
    "    def __init__(self, X_data):\n",
    "        self.X_data = X_data\n",
    "        \n",
    "    def __getitem__(self, index):\n",
    "        return self.X_data[index]\n",
    "        \n",
    "    def __len__ (self):\n",
    "        return len(self.X_data)\n",
    "    \n",
    "\n",
    "test_data = TestData(torch.FloatTensor(X_test))\n",
    "\n",
    "train_loader = DataLoader(dataset=train_data, batch_size=BATCH_SIZE, shuffle=True)\n",
    "test_loader = DataLoader(dataset=test_data, batch_size=1)"
   ]
  },
  {
   "cell_type": "code",
   "execution_count": 16,
   "id": "ef8e6197",
   "metadata": {},
   "outputs": [],
   "source": [
    "class BinaryClassification(nn.Module):\n",
    "    def __init__(self):\n",
    "        super(BinaryClassification, self).__init__()\n",
    "        # Number of input features is 12.\n",
    "        self.layer_1 = nn.Linear(49, 64) \n",
    "        self.layer_2 = nn.Linear(64, 64)\n",
    "        self.layer_out = nn.Linear(64, 1) \n",
    "        \n",
    "        self.relu = nn.ReLU()\n",
    "        self.dropout = nn.Dropout(p=0.1)\n",
    "        self.batchnorm1 = nn.BatchNorm1d(64)\n",
    "        self.batchnorm2 = nn.BatchNorm1d(64)\n",
    "        \n",
    "    def forward(self, inputs):\n",
    "        x = self.relu(self.layer_1(inputs))\n",
    "        x = self.batchnorm1(x)\n",
    "        x = self.relu(self.layer_2(x))\n",
    "        x = self.batchnorm2(x)\n",
    "        x = self.dropout(x)\n",
    "        x = self.layer_out(x)\n",
    "        \n",
    "        return x"
   ]
  },
  {
   "cell_type": "code",
   "execution_count": 24,
   "id": "6ac48c3b",
   "metadata": {},
   "outputs": [
    {
     "name": "stdout",
     "output_type": "stream",
     "text": [
      "cpu\n"
     ]
    }
   ],
   "source": [
    "device = torch.device(\"cuda:0\" if torch.cuda.is_available() else \"cpu\")\n",
    "print(device)"
   ]
  },
  {
   "cell_type": "code",
   "execution_count": 25,
   "id": "b98f4b5f",
   "metadata": {},
   "outputs": [
    {
     "name": "stdout",
     "output_type": "stream",
     "text": [
      "BinaryClassification(\n",
      "  (layer_1): Linear(in_features=49, out_features=64, bias=True)\n",
      "  (layer_2): Linear(in_features=64, out_features=64, bias=True)\n",
      "  (layer_out): Linear(in_features=64, out_features=1, bias=True)\n",
      "  (relu): ReLU()\n",
      "  (dropout): Dropout(p=0.1, inplace=False)\n",
      "  (batchnorm1): BatchNorm1d(64, eps=1e-05, momentum=0.1, affine=True, track_running_stats=True)\n",
      "  (batchnorm2): BatchNorm1d(64, eps=1e-05, momentum=0.1, affine=True, track_running_stats=True)\n",
      ")\n"
     ]
    }
   ],
   "source": [
    "model = BinaryClassification()\n",
    "model.to(device)\n",
    "print(model)\n",
    "criterion = nn.BCEWithLogitsLoss()\n",
    "optimizer = optim.Adam(model.parameters(), lr=LEARNING_RATE)"
   ]
  },
  {
   "cell_type": "code",
   "execution_count": 26,
   "id": "422e05c0",
   "metadata": {},
   "outputs": [],
   "source": [
    "def binary_acc(y_pred, y_test):\n",
    "    y_pred_tag = torch.round(torch.sigmoid(y_pred))\n",
    "\n",
    "    correct_results_sum = (y_pred_tag == y_test).sum().float()\n",
    "    acc = correct_results_sum/y_test.shape[0]\n",
    "    acc = torch.round(acc * 100)\n",
    "    \n",
    "    return acc"
   ]
  },
  {
   "cell_type": "code",
   "execution_count": 27,
   "id": "8d2bf5f7",
   "metadata": {},
   "outputs": [
    {
     "name": "stdout",
     "output_type": "stream",
     "text": [
      "Epoch 001: | Loss: 0.28972 | Acc: 88.627\n",
      "Epoch 002: | Loss: 0.24364 | Acc: 90.814\n",
      "Epoch 003: | Loss: 0.23629 | Acc: 91.045\n",
      "Epoch 004: | Loss: 0.23308 | Acc: 91.145\n",
      "Epoch 005: | Loss: 0.22987 | Acc: 91.330\n",
      "Epoch 006: | Loss: 0.22830 | Acc: 91.344\n",
      "Epoch 007: | Loss: 0.22615 | Acc: 91.439\n",
      "Epoch 008: | Loss: 0.22388 | Acc: 91.444\n",
      "Epoch 009: | Loss: 0.22340 | Acc: 91.568\n",
      "Epoch 010: | Loss: 0.22126 | Acc: 91.542\n",
      "Epoch 011: | Loss: 0.22128 | Acc: 91.411\n",
      "Epoch 012: | Loss: 0.21923 | Acc: 91.561\n",
      "Epoch 013: | Loss: 0.21963 | Acc: 91.636\n",
      "Epoch 014: | Loss: 0.21857 | Acc: 91.645\n",
      "Epoch 015: | Loss: 0.21896 | Acc: 91.733\n",
      "Epoch 016: | Loss: 0.21740 | Acc: 91.695\n",
      "Epoch 017: | Loss: 0.21467 | Acc: 91.874\n",
      "Epoch 018: | Loss: 0.21439 | Acc: 91.814\n",
      "Epoch 019: | Loss: 0.21408 | Acc: 91.720\n",
      "Epoch 020: | Loss: 0.21484 | Acc: 91.647\n",
      "Epoch 021: | Loss: 0.21229 | Acc: 91.850\n",
      "Epoch 022: | Loss: 0.21159 | Acc: 91.947\n",
      "Epoch 023: | Loss: 0.20992 | Acc: 91.936\n",
      "Epoch 024: | Loss: 0.21120 | Acc: 91.885\n",
      "Epoch 025: | Loss: 0.21023 | Acc: 91.918\n",
      "Epoch 026: | Loss: 0.20766 | Acc: 92.002\n",
      "Epoch 027: | Loss: 0.20855 | Acc: 91.998\n",
      "Epoch 028: | Loss: 0.20893 | Acc: 91.948\n",
      "Epoch 029: | Loss: 0.20653 | Acc: 92.002\n",
      "Epoch 030: | Loss: 0.20580 | Acc: 91.985\n",
      "Epoch 031: | Loss: 0.20643 | Acc: 91.997\n",
      "Epoch 032: | Loss: 0.20367 | Acc: 92.059\n",
      "Epoch 033: | Loss: 0.20411 | Acc: 92.121\n",
      "Epoch 034: | Loss: 0.20396 | Acc: 92.076\n",
      "Epoch 035: | Loss: 0.20388 | Acc: 92.168\n",
      "Epoch 036: | Loss: 0.20226 | Acc: 92.170\n",
      "Epoch 037: | Loss: 0.20126 | Acc: 92.305\n",
      "Epoch 038: | Loss: 0.20205 | Acc: 92.167\n",
      "Epoch 039: | Loss: 0.20083 | Acc: 92.305\n",
      "Epoch 040: | Loss: 0.19930 | Acc: 92.230\n",
      "Epoch 041: | Loss: 0.19974 | Acc: 92.268\n",
      "Epoch 042: | Loss: 0.20129 | Acc: 92.121\n",
      "Epoch 043: | Loss: 0.19914 | Acc: 92.314\n",
      "Epoch 044: | Loss: 0.19987 | Acc: 92.267\n",
      "Epoch 045: | Loss: 0.19821 | Acc: 92.288\n",
      "Epoch 046: | Loss: 0.19887 | Acc: 92.332\n",
      "Epoch 047: | Loss: 0.19658 | Acc: 92.391\n",
      "Epoch 048: | Loss: 0.19942 | Acc: 92.285\n",
      "Epoch 049: | Loss: 0.19656 | Acc: 92.350\n",
      "Epoch 050: | Loss: 0.19889 | Acc: 92.400\n"
     ]
    }
   ],
   "source": [
    "model.train()\n",
    "for e in range(1, EPOCHS+1):\n",
    "    epoch_loss = 0\n",
    "    epoch_acc = 0\n",
    "    for X_batch, y_batch in train_loader:\n",
    "        X_batch, y_batch = X_batch.to(device), y_batch.to(device)\n",
    "        optimizer.zero_grad()\n",
    "        \n",
    "        y_pred = model(X_batch)\n",
    "        \n",
    "        loss = criterion(y_pred, y_batch.unsqueeze(1))\n",
    "        acc = binary_acc(y_pred, y_batch.unsqueeze(1))\n",
    "        \n",
    "        loss.backward()\n",
    "        optimizer.step()\n",
    "        \n",
    "        epoch_loss += loss.item()\n",
    "        epoch_acc += acc.item()\n",
    "        \n",
    "\n",
    "    print(f'Epoch {e+0:03}: | Loss: {epoch_loss/len(train_loader):.5f} | Acc: {epoch_acc/len(train_loader):.3f}')"
   ]
  },
  {
   "cell_type": "code",
   "execution_count": 28,
   "id": "e9797cc0",
   "metadata": {},
   "outputs": [],
   "source": [
    "y_pred_list = []\n",
    "model.eval()\n",
    "with torch.no_grad():\n",
    "    for X_batch in test_loader:\n",
    "        X_batch = X_batch.to(device)\n",
    "        y_test_pred = model(X_batch)\n",
    "        y_test_pred = torch.sigmoid(y_test_pred)\n",
    "        y_pred_tag = torch.round(y_test_pred)\n",
    "        y_pred_list.append(y_pred_tag.cpu().numpy())\n",
    "\n",
    "y_pred_list = [a.squeeze().tolist() for a in y_pred_list]"
   ]
  },
  {
   "cell_type": "code",
   "execution_count": 29,
   "id": "938c2edd",
   "metadata": {},
   "outputs": [
    {
     "data": {
      "image/png": "[encoded data removed]",
      "text/plain": [
       "<Figure size 640x480 with 2 Axes>"
      ]
     },
     "metadata": {},
     "output_type": "display_data"
    }
   ],
   "source": [
    "confusion_matrix(y_test, y_pred_list)\n",
    "\n",
    "ConfusionMatrixDisplay.from_predictions(y_test, y_pred_list)\n",
    "\n",
    "plt.show()"
   ]
  },
  {
   "cell_type": "code",
   "execution_count": 30,
   "id": "396642ce",
   "metadata": {},
   "outputs": [
    {
     "name": "stdout",
     "output_type": "stream",
     "text": [
      "              precision    recall  f1-score   support\n",
      "\n",
      "         0.0       0.94      0.89      0.91     10393\n",
      "         1.0       0.89      0.94      0.92     10405\n",
      "\n",
      "    accuracy                           0.91     20798\n",
      "   macro avg       0.91      0.91      0.91     20798\n",
      "weighted avg       0.91      0.91      0.91     20798\n",
      "\n"
     ]
    }
   ],
   "source": [
    "print(classification_report(y_test, y_pred_list))"
   ]
  }
 ],
 "metadata": {
  "kernelspec": {
   "display_name": "tensorflow",
   "language": "python",
   "name": "python3"
  },
  "language_info": {
   "codemirror_mode": {
    "name": "ipython",
    "version": 3
   },
   "file_extension": ".py",
   "mimetype": "text/x-python",
   "name": "python",
   "nbconvert_exporter": "python",
   "pygments_lexer": "ipython3",
   "version": "3.9.15"
  },
  "vscode": {
   "interpreter": {
    "hash": "c779f27850aebf3ca39289a4ad321fdc67b37c7eb2cfef545bdccf162df3cb60"
   }
  }
 },
 "nbformat": 4,
 "nbformat_minor": 5
}
