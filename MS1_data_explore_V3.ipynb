{
 "cells": [
  {
   "cell_type": "code",
   "execution_count": 1,
   "id": "1457a943",
   "metadata": {},
   "outputs": [],
   "source": [
    "import matplotlib\n",
    "import matplotlib.pyplot as plt\n",
    "import seaborn as sns; sns.set()\n",
    "import numpy as np\n",
    "import pandas as pd\n",
    "from sklearn.preprocessing import StandardScaler\n",
    "from sklearn.preprocessing import MinMaxScaler\n",
    "from sklearn.neighbors import KernelDensity"
   ]
  },
  {
   "cell_type": "markdown",
   "id": "61da875a",
   "metadata": {},
   "source": [
    "# 1. Get the suicidal dataset"
   ]
  },
  {
   "cell_type": "markdown",
   "id": "300fcca1",
   "metadata": {},
   "source": [
    "## 1.1 Load all death data"
   ]
  },
  {
   "cell_type": "code",
   "execution_count": 2,
   "id": "303324bd",
   "metadata": {},
   "outputs": [],
   "source": [
    "df_raw = pd.read_csv(\"2020.csv\",low_memory=False)"
   ]
  },
  {
   "cell_type": "code",
   "execution_count": 3,
   "id": "176d5595",
   "metadata": {},
   "outputs": [
    {
     "name": "stdout",
     "output_type": "stream",
     "text": [
      "['restatus', 'educ1989', 'educ2003', 'educflag', 'monthdth', 'sex', 'age', 'ageflag', 'ager52', 'ager27', 'ager12', 'ager22', 'placdth', 'marstat', 'weekday', 'year', 'injwork', 'mandeath', 'methdisp', 'autopsy', 'activity', 'injury', 'ucod', 'ucr358', 'ucr113', 'ucr130', 'ucr39', 'eanum', 'econdp_1', 'econds_1', 'enicon_1', 'econdp_2', 'econds_2', 'enicon_2', 'econdp_3', 'econds_3', 'enicon_3', 'econdp_4', 'econds_4', 'enicon_4', 'econdp_5', 'econds_5', 'enicon_5', 'econdp_6', 'econds_6', 'enicon_6', 'econdp_7', 'econds_7', 'enicon_7', 'econdp_8', 'econds_8', 'enicon_8', 'econdp_9', 'econds_9', 'enicon_9', 'econdp_10', 'econds_10', 'enicon_10', 'econdp_11', 'econds_11', 'enicon_11', 'econdp_12', 'econds_12', 'enicon_12', 'econdp_13', 'econds_13', 'enicon_13', 'econdp_14', 'econds_14', 'enicon_14', 'econdp_15', 'econds_15', 'enicon_15', 'econdp_16', 'econds_16', 'enicon_16', 'econdp_17', 'econds_17', 'enicon_17', 'econdp_18', 'econds_18', 'enicon_18', 'econdp_19', 'econds_19', 'enicon_19', 'econdp_20', 'econds_20', 'enicon_20', 'ranum', 'record_1', 'record_2', 'record_3', 'record_4', 'record_5', 'record_6', 'record_7', 'record_8', 'record_9', 'record_10', 'record_11', 'record_12', 'record_13', 'record_14', 'record_15', 'record_16', 'record_17', 'record_18', 'record_19', 'record_20', 'race', 'brace', 'raceimp', 'racer3', 'racer5', 'hispanic', 'hspanicr', 'race40', 'occupation', 'occptnr', 'industry', 'indstryr']，"
     ]
    }
   ],
   "source": [
    "features= df_raw.columns.tolist()\n",
    "print(features,end=\"，\")"
   ]
  },
  {
   "cell_type": "markdown",
   "id": "cd64cd88",
   "metadata": {},
   "source": [
    "## 1.2 Fill the NaN "
   ]
  },
  {
   "cell_type": "code",
   "execution_count": 4,
   "id": "7fb9c95c",
   "metadata": {},
   "outputs": [],
   "source": [
    "df = df_raw.fillna(0)"
   ]
  },
  {
   "cell_type": "code",
   "execution_count": 5,
   "id": "64ccc500",
   "metadata": {},
   "outputs": [
    {
     "data": {
      "text/html": [
       "<div>\n",
       "<style scoped>\n",
       "    .dataframe tbody tr th:only-of-type {\n",
       "        vertical-align: middle;\n",
       "    }\n",
       "\n",
       "    .dataframe tbody tr th {\n",
       "        vertical-align: top;\n",
       "    }\n",
       "\n",
       "    .dataframe thead th {\n",
       "        text-align: right;\n",
       "    }\n",
       "</style>\n",
       "<table border=\"1\" class=\"dataframe\">\n",
       "  <thead>\n",
       "    <tr style=\"text-align: right;\">\n",
       "      <th></th>\n",
       "      <th>restatus</th>\n",
       "      <th>educ1989</th>\n",
       "      <th>educ2003</th>\n",
       "      <th>educflag</th>\n",
       "      <th>monthdth</th>\n",
       "      <th>age</th>\n",
       "      <th>ageflag</th>\n",
       "      <th>ager52</th>\n",
       "      <th>ager27</th>\n",
       "      <th>ager12</th>\n",
       "      <th>...</th>\n",
       "      <th>raceimp</th>\n",
       "      <th>racer3</th>\n",
       "      <th>racer5</th>\n",
       "      <th>hispanic</th>\n",
       "      <th>hspanicr</th>\n",
       "      <th>race40</th>\n",
       "      <th>occupation</th>\n",
       "      <th>occptnr</th>\n",
       "      <th>industry</th>\n",
       "      <th>indstryr</th>\n",
       "    </tr>\n",
       "  </thead>\n",
       "  <tbody>\n",
       "    <tr>\n",
       "      <th>count</th>\n",
       "      <td>34426.000000</td>\n",
       "      <td>34426.0</td>\n",
       "      <td>34426.000000</td>\n",
       "      <td>34426.0</td>\n",
       "      <td>34426.000000</td>\n",
       "      <td>34426.000000</td>\n",
       "      <td>34426.000000</td>\n",
       "      <td>34426.000000</td>\n",
       "      <td>34426.000000</td>\n",
       "      <td>34426.000000</td>\n",
       "      <td>...</td>\n",
       "      <td>34426.000000</td>\n",
       "      <td>34426.000000</td>\n",
       "      <td>34426.000000</td>\n",
       "      <td>34426.000000</td>\n",
       "      <td>34426.000000</td>\n",
       "      <td>34426.000000</td>\n",
       "      <td>34426.0</td>\n",
       "      <td>34426.0</td>\n",
       "      <td>34426.0</td>\n",
       "      <td>34426.0</td>\n",
       "    </tr>\n",
       "    <tr>\n",
       "      <th>mean</th>\n",
       "      <td>1.360629</td>\n",
       "      <td>0.0</td>\n",
       "      <td>3.082932</td>\n",
       "      <td>1.0</td>\n",
       "      <td>6.650061</td>\n",
       "      <td>1105.023732</td>\n",
       "      <td>0.000029</td>\n",
       "      <td>40.256405</td>\n",
       "      <td>20.315198</td>\n",
       "      <td>9.355255</td>\n",
       "      <td>...</td>\n",
       "      <td>0.037123</td>\n",
       "      <td>1.166880</td>\n",
       "      <td>1.186952</td>\n",
       "      <td>255.791756</td>\n",
       "      <td>2.500232</td>\n",
       "      <td>1.530064</td>\n",
       "      <td>0.0</td>\n",
       "      <td>0.0</td>\n",
       "      <td>0.0</td>\n",
       "      <td>0.0</td>\n",
       "    </tr>\n",
       "    <tr>\n",
       "      <th>std</th>\n",
       "      <td>0.537181</td>\n",
       "      <td>0.0</td>\n",
       "      <td>2.206495</td>\n",
       "      <td>0.0</td>\n",
       "      <td>3.496683</td>\n",
       "      <td>442.850876</td>\n",
       "      <td>0.005390</td>\n",
       "      <td>4.116438</td>\n",
       "      <td>3.602842</td>\n",
       "      <td>1.715623</td>\n",
       "      <td>...</td>\n",
       "      <td>0.237669</td>\n",
       "      <td>0.513981</td>\n",
       "      <td>0.631738</td>\n",
       "      <td>83.943738</td>\n",
       "      <td>1.549629</td>\n",
       "      <td>2.398543</td>\n",
       "      <td>0.0</td>\n",
       "      <td>0.0</td>\n",
       "      <td>0.0</td>\n",
       "      <td>0.0</td>\n",
       "    </tr>\n",
       "    <tr>\n",
       "      <th>min</th>\n",
       "      <td>1.000000</td>\n",
       "      <td>0.0</td>\n",
       "      <td>1.000000</td>\n",
       "      <td>1.0</td>\n",
       "      <td>1.000000</td>\n",
       "      <td>1001.000000</td>\n",
       "      <td>0.000000</td>\n",
       "      <td>1.000000</td>\n",
       "      <td>1.000000</td>\n",
       "      <td>1.000000</td>\n",
       "      <td>...</td>\n",
       "      <td>0.000000</td>\n",
       "      <td>1.000000</td>\n",
       "      <td>1.000000</td>\n",
       "      <td>100.000000</td>\n",
       "      <td>1.000000</td>\n",
       "      <td>1.000000</td>\n",
       "      <td>0.0</td>\n",
       "      <td>0.0</td>\n",
       "      <td>0.0</td>\n",
       "      <td>0.0</td>\n",
       "    </tr>\n",
       "    <tr>\n",
       "      <th>25%</th>\n",
       "      <td>1.000000</td>\n",
       "      <td>0.0</td>\n",
       "      <td>1.000000</td>\n",
       "      <td>1.0</td>\n",
       "      <td>4.000000</td>\n",
       "      <td>1065.000000</td>\n",
       "      <td>0.000000</td>\n",
       "      <td>39.000000</td>\n",
       "      <td>19.000000</td>\n",
       "      <td>9.000000</td>\n",
       "      <td>...</td>\n",
       "      <td>0.000000</td>\n",
       "      <td>1.000000</td>\n",
       "      <td>1.000000</td>\n",
       "      <td>260.000000</td>\n",
       "      <td>2.000000</td>\n",
       "      <td>1.000000</td>\n",
       "      <td>0.0</td>\n",
       "      <td>0.0</td>\n",
       "      <td>0.0</td>\n",
       "      <td>0.0</td>\n",
       "    </tr>\n",
       "    <tr>\n",
       "      <th>50%</th>\n",
       "      <td>1.000000</td>\n",
       "      <td>0.0</td>\n",
       "      <td>3.000000</td>\n",
       "      <td>1.0</td>\n",
       "      <td>7.000000</td>\n",
       "      <td>1077.000000</td>\n",
       "      <td>0.000000</td>\n",
       "      <td>41.000000</td>\n",
       "      <td>21.000000</td>\n",
       "      <td>10.000000</td>\n",
       "      <td>...</td>\n",
       "      <td>0.000000</td>\n",
       "      <td>1.000000</td>\n",
       "      <td>1.000000</td>\n",
       "      <td>260.000000</td>\n",
       "      <td>2.000000</td>\n",
       "      <td>1.000000</td>\n",
       "      <td>0.0</td>\n",
       "      <td>0.0</td>\n",
       "      <td>0.0</td>\n",
       "      <td>0.0</td>\n",
       "    </tr>\n",
       "    <tr>\n",
       "      <th>75%</th>\n",
       "      <td>2.000000</td>\n",
       "      <td>0.0</td>\n",
       "      <td>4.000000</td>\n",
       "      <td>1.0</td>\n",
       "      <td>10.000000</td>\n",
       "      <td>1086.000000</td>\n",
       "      <td>0.000000</td>\n",
       "      <td>43.000000</td>\n",
       "      <td>23.000000</td>\n",
       "      <td>11.000000</td>\n",
       "      <td>...</td>\n",
       "      <td>0.000000</td>\n",
       "      <td>1.000000</td>\n",
       "      <td>1.000000</td>\n",
       "      <td>260.000000</td>\n",
       "      <td>2.000000</td>\n",
       "      <td>1.000000</td>\n",
       "      <td>0.0</td>\n",
       "      <td>0.0</td>\n",
       "      <td>0.0</td>\n",
       "      <td>0.0</td>\n",
       "    </tr>\n",
       "    <tr>\n",
       "      <th>max</th>\n",
       "      <td>4.000000</td>\n",
       "      <td>0.0</td>\n",
       "      <td>9.000000</td>\n",
       "      <td>1.0</td>\n",
       "      <td>12.000000</td>\n",
       "      <td>9999.000000</td>\n",
       "      <td>1.000000</td>\n",
       "      <td>52.000000</td>\n",
       "      <td>27.000000</td>\n",
       "      <td>12.000000</td>\n",
       "      <td>...</td>\n",
       "      <td>2.000000</td>\n",
       "      <td>3.000000</td>\n",
       "      <td>4.000000</td>\n",
       "      <td>998.000000</td>\n",
       "      <td>9.000000</td>\n",
       "      <td>39.000000</td>\n",
       "      <td>0.0</td>\n",
       "      <td>0.0</td>\n",
       "      <td>0.0</td>\n",
       "      <td>0.0</td>\n",
       "    </tr>\n",
       "  </tbody>\n",
       "</table>\n",
       "<p>8 rows × 87 columns</p>\n",
       "</div>"
      ],
      "text/plain": [
       "           restatus  educ1989      educ2003  educflag      monthdth  \\\n",
       "count  34426.000000   34426.0  34426.000000   34426.0  34426.000000   \n",
       "mean       1.360629       0.0      3.082932       1.0      6.650061   \n",
       "std        0.537181       0.0      2.206495       0.0      3.496683   \n",
       "min        1.000000       0.0      1.000000       1.0      1.000000   \n",
       "25%        1.000000       0.0      1.000000       1.0      4.000000   \n",
       "50%        1.000000       0.0      3.000000       1.0      7.000000   \n",
       "75%        2.000000       0.0      4.000000       1.0     10.000000   \n",
       "max        4.000000       0.0      9.000000       1.0     12.000000   \n",
       "\n",
       "                age       ageflag        ager52        ager27        ager12  \\\n",
       "count  34426.000000  34426.000000  34426.000000  34426.000000  34426.000000   \n",
       "mean    1105.023732      0.000029     40.256405     20.315198      9.355255   \n",
       "std      442.850876      0.005390      4.116438      3.602842      1.715623   \n",
       "min     1001.000000      0.000000      1.000000      1.000000      1.000000   \n",
       "25%     1065.000000      0.000000     39.000000     19.000000      9.000000   \n",
       "50%     1077.000000      0.000000     41.000000     21.000000     10.000000   \n",
       "75%     1086.000000      0.000000     43.000000     23.000000     11.000000   \n",
       "max     9999.000000      1.000000     52.000000     27.000000     12.000000   \n",
       "\n",
       "       ...       raceimp        racer3        racer5      hispanic  \\\n",
       "count  ...  34426.000000  34426.000000  34426.000000  34426.000000   \n",
       "mean   ...      0.037123      1.166880      1.186952    255.791756   \n",
       "std    ...      0.237669      0.513981      0.631738     83.943738   \n",
       "min    ...      0.000000      1.000000      1.000000    100.000000   \n",
       "25%    ...      0.000000      1.000000      1.000000    260.000000   \n",
       "50%    ...      0.000000      1.000000      1.000000    260.000000   \n",
       "75%    ...      0.000000      1.000000      1.000000    260.000000   \n",
       "max    ...      2.000000      3.000000      4.000000    998.000000   \n",
       "\n",
       "           hspanicr        race40  occupation  occptnr  industry  indstryr  \n",
       "count  34426.000000  34426.000000     34426.0  34426.0   34426.0   34426.0  \n",
       "mean       2.500232      1.530064         0.0      0.0       0.0       0.0  \n",
       "std        1.549629      2.398543         0.0      0.0       0.0       0.0  \n",
       "min        1.000000      1.000000         0.0      0.0       0.0       0.0  \n",
       "25%        2.000000      1.000000         0.0      0.0       0.0       0.0  \n",
       "50%        2.000000      1.000000         0.0      0.0       0.0       0.0  \n",
       "75%        2.000000      1.000000         0.0      0.0       0.0       0.0  \n",
       "max        9.000000     39.000000         0.0      0.0       0.0       0.0  \n",
       "\n",
       "[8 rows x 87 columns]"
      ]
     },
     "execution_count": 5,
     "metadata": {},
     "output_type": "execute_result"
    }
   ],
   "source": [
    "df.describe()"
   ]
  },
  {
   "cell_type": "markdown",
   "id": "ad21e980",
   "metadata": {},
   "source": [
    "## 1.3 Drop those columns with no data"
   ]
  },
  {
   "cell_type": "code",
   "execution_count": 6,
   "id": "57227559",
   "metadata": {},
   "outputs": [],
   "source": [
    "df = df.loc[:, (df != 0).any(axis=0)]"
   ]
  },
  {
   "cell_type": "code",
   "execution_count": 7,
   "id": "276a5729",
   "metadata": {},
   "outputs": [
    {
     "data": {
      "text/html": [
       "<div>\n",
       "<style scoped>\n",
       "    .dataframe tbody tr th:only-of-type {\n",
       "        vertical-align: middle;\n",
       "    }\n",
       "\n",
       "    .dataframe tbody tr th {\n",
       "        vertical-align: top;\n",
       "    }\n",
       "\n",
       "    .dataframe thead th {\n",
       "        text-align: right;\n",
       "    }\n",
       "</style>\n",
       "<table border=\"1\" class=\"dataframe\">\n",
       "  <thead>\n",
       "    <tr style=\"text-align: right;\">\n",
       "      <th></th>\n",
       "      <th>restatus</th>\n",
       "      <th>educ2003</th>\n",
       "      <th>educflag</th>\n",
       "      <th>monthdth</th>\n",
       "      <th>age</th>\n",
       "      <th>ageflag</th>\n",
       "      <th>ager52</th>\n",
       "      <th>ager27</th>\n",
       "      <th>ager12</th>\n",
       "      <th>ager22</th>\n",
       "      <th>...</th>\n",
       "      <th>econds_14</th>\n",
       "      <th>ranum</th>\n",
       "      <th>race</th>\n",
       "      <th>brace</th>\n",
       "      <th>raceimp</th>\n",
       "      <th>racer3</th>\n",
       "      <th>racer5</th>\n",
       "      <th>hispanic</th>\n",
       "      <th>hspanicr</th>\n",
       "      <th>race40</th>\n",
       "    </tr>\n",
       "  </thead>\n",
       "  <tbody>\n",
       "    <tr>\n",
       "      <th>count</th>\n",
       "      <td>34426.000000</td>\n",
       "      <td>34426.000000</td>\n",
       "      <td>34426.0</td>\n",
       "      <td>34426.000000</td>\n",
       "      <td>34426.000000</td>\n",
       "      <td>34426.000000</td>\n",
       "      <td>34426.000000</td>\n",
       "      <td>34426.000000</td>\n",
       "      <td>34426.000000</td>\n",
       "      <td>34426.000000</td>\n",
       "      <td>...</td>\n",
       "      <td>34426.000000</td>\n",
       "      <td>34426.000000</td>\n",
       "      <td>34426.000000</td>\n",
       "      <td>34426.000000</td>\n",
       "      <td>34426.000000</td>\n",
       "      <td>34426.000000</td>\n",
       "      <td>34426.000000</td>\n",
       "      <td>34426.000000</td>\n",
       "      <td>34426.000000</td>\n",
       "      <td>34426.000000</td>\n",
       "    </tr>\n",
       "    <tr>\n",
       "      <th>mean</th>\n",
       "      <td>1.360629</td>\n",
       "      <td>3.082932</td>\n",
       "      <td>1.0</td>\n",
       "      <td>6.650061</td>\n",
       "      <td>1105.023732</td>\n",
       "      <td>0.000029</td>\n",
       "      <td>40.256405</td>\n",
       "      <td>20.315198</td>\n",
       "      <td>9.355255</td>\n",
       "      <td>0.039040</td>\n",
       "      <td>...</td>\n",
       "      <td>0.000320</td>\n",
       "      <td>3.539999</td>\n",
       "      <td>2.382966</td>\n",
       "      <td>0.001307</td>\n",
       "      <td>0.037123</td>\n",
       "      <td>1.166880</td>\n",
       "      <td>1.186952</td>\n",
       "      <td>255.791756</td>\n",
       "      <td>2.500232</td>\n",
       "      <td>1.530064</td>\n",
       "    </tr>\n",
       "    <tr>\n",
       "      <th>std</th>\n",
       "      <td>0.537181</td>\n",
       "      <td>2.206495</td>\n",
       "      <td>0.0</td>\n",
       "      <td>3.496683</td>\n",
       "      <td>442.850876</td>\n",
       "      <td>0.005390</td>\n",
       "      <td>4.116438</td>\n",
       "      <td>3.602842</td>\n",
       "      <td>1.715623</td>\n",
       "      <td>0.654386</td>\n",
       "      <td>...</td>\n",
       "      <td>0.041398</td>\n",
       "      <td>1.535041</td>\n",
       "      <td>8.308837</td>\n",
       "      <td>0.036131</td>\n",
       "      <td>0.237669</td>\n",
       "      <td>0.513981</td>\n",
       "      <td>0.631738</td>\n",
       "      <td>83.943738</td>\n",
       "      <td>1.549629</td>\n",
       "      <td>2.398543</td>\n",
       "    </tr>\n",
       "    <tr>\n",
       "      <th>min</th>\n",
       "      <td>1.000000</td>\n",
       "      <td>1.000000</td>\n",
       "      <td>1.0</td>\n",
       "      <td>1.000000</td>\n",
       "      <td>1001.000000</td>\n",
       "      <td>0.000000</td>\n",
       "      <td>1.000000</td>\n",
       "      <td>1.000000</td>\n",
       "      <td>1.000000</td>\n",
       "      <td>0.000000</td>\n",
       "      <td>...</td>\n",
       "      <td>0.000000</td>\n",
       "      <td>1.000000</td>\n",
       "      <td>0.000000</td>\n",
       "      <td>0.000000</td>\n",
       "      <td>0.000000</td>\n",
       "      <td>1.000000</td>\n",
       "      <td>1.000000</td>\n",
       "      <td>100.000000</td>\n",
       "      <td>1.000000</td>\n",
       "      <td>1.000000</td>\n",
       "    </tr>\n",
       "    <tr>\n",
       "      <th>25%</th>\n",
       "      <td>1.000000</td>\n",
       "      <td>1.000000</td>\n",
       "      <td>1.0</td>\n",
       "      <td>4.000000</td>\n",
       "      <td>1065.000000</td>\n",
       "      <td>0.000000</td>\n",
       "      <td>39.000000</td>\n",
       "      <td>19.000000</td>\n",
       "      <td>9.000000</td>\n",
       "      <td>0.000000</td>\n",
       "      <td>...</td>\n",
       "      <td>0.000000</td>\n",
       "      <td>3.000000</td>\n",
       "      <td>1.000000</td>\n",
       "      <td>0.000000</td>\n",
       "      <td>0.000000</td>\n",
       "      <td>1.000000</td>\n",
       "      <td>1.000000</td>\n",
       "      <td>260.000000</td>\n",
       "      <td>2.000000</td>\n",
       "      <td>1.000000</td>\n",
       "    </tr>\n",
       "    <tr>\n",
       "      <th>50%</th>\n",
       "      <td>1.000000</td>\n",
       "      <td>3.000000</td>\n",
       "      <td>1.0</td>\n",
       "      <td>7.000000</td>\n",
       "      <td>1077.000000</td>\n",
       "      <td>0.000000</td>\n",
       "      <td>41.000000</td>\n",
       "      <td>21.000000</td>\n",
       "      <td>10.000000</td>\n",
       "      <td>0.000000</td>\n",
       "      <td>...</td>\n",
       "      <td>0.000000</td>\n",
       "      <td>3.000000</td>\n",
       "      <td>1.000000</td>\n",
       "      <td>0.000000</td>\n",
       "      <td>0.000000</td>\n",
       "      <td>1.000000</td>\n",
       "      <td>1.000000</td>\n",
       "      <td>260.000000</td>\n",
       "      <td>2.000000</td>\n",
       "      <td>1.000000</td>\n",
       "    </tr>\n",
       "    <tr>\n",
       "      <th>75%</th>\n",
       "      <td>2.000000</td>\n",
       "      <td>4.000000</td>\n",
       "      <td>1.0</td>\n",
       "      <td>10.000000</td>\n",
       "      <td>1086.000000</td>\n",
       "      <td>0.000000</td>\n",
       "      <td>43.000000</td>\n",
       "      <td>23.000000</td>\n",
       "      <td>11.000000</td>\n",
       "      <td>0.000000</td>\n",
       "      <td>...</td>\n",
       "      <td>0.000000</td>\n",
       "      <td>4.000000</td>\n",
       "      <td>1.000000</td>\n",
       "      <td>0.000000</td>\n",
       "      <td>0.000000</td>\n",
       "      <td>1.000000</td>\n",
       "      <td>1.000000</td>\n",
       "      <td>260.000000</td>\n",
       "      <td>2.000000</td>\n",
       "      <td>1.000000</td>\n",
       "    </tr>\n",
       "    <tr>\n",
       "      <th>max</th>\n",
       "      <td>4.000000</td>\n",
       "      <td>9.000000</td>\n",
       "      <td>1.0</td>\n",
       "      <td>12.000000</td>\n",
       "      <td>9999.000000</td>\n",
       "      <td>1.000000</td>\n",
       "      <td>52.000000</td>\n",
       "      <td>27.000000</td>\n",
       "      <td>12.000000</td>\n",
       "      <td>22.000000</td>\n",
       "      <td>...</td>\n",
       "      <td>7.000000</td>\n",
       "      <td>14.000000</td>\n",
       "      <td>78.000000</td>\n",
       "      <td>1.000000</td>\n",
       "      <td>2.000000</td>\n",
       "      <td>3.000000</td>\n",
       "      <td>4.000000</td>\n",
       "      <td>998.000000</td>\n",
       "      <td>9.000000</td>\n",
       "      <td>39.000000</td>\n",
       "    </tr>\n",
       "  </tbody>\n",
       "</table>\n",
       "<p>8 rows × 58 columns</p>\n",
       "</div>"
      ],
      "text/plain": [
       "           restatus      educ2003  educflag      monthdth           age  \\\n",
       "count  34426.000000  34426.000000   34426.0  34426.000000  34426.000000   \n",
       "mean       1.360629      3.082932       1.0      6.650061   1105.023732   \n",
       "std        0.537181      2.206495       0.0      3.496683    442.850876   \n",
       "min        1.000000      1.000000       1.0      1.000000   1001.000000   \n",
       "25%        1.000000      1.000000       1.0      4.000000   1065.000000   \n",
       "50%        1.000000      3.000000       1.0      7.000000   1077.000000   \n",
       "75%        2.000000      4.000000       1.0     10.000000   1086.000000   \n",
       "max        4.000000      9.000000       1.0     12.000000   9999.000000   \n",
       "\n",
       "            ageflag        ager52        ager27        ager12        ager22  \\\n",
       "count  34426.000000  34426.000000  34426.000000  34426.000000  34426.000000   \n",
       "mean       0.000029     40.256405     20.315198      9.355255      0.039040   \n",
       "std        0.005390      4.116438      3.602842      1.715623      0.654386   \n",
       "min        0.000000      1.000000      1.000000      1.000000      0.000000   \n",
       "25%        0.000000     39.000000     19.000000      9.000000      0.000000   \n",
       "50%        0.000000     41.000000     21.000000     10.000000      0.000000   \n",
       "75%        0.000000     43.000000     23.000000     11.000000      0.000000   \n",
       "max        1.000000     52.000000     27.000000     12.000000     22.000000   \n",
       "\n",
       "       ...     econds_14         ranum          race         brace  \\\n",
       "count  ...  34426.000000  34426.000000  34426.000000  34426.000000   \n",
       "mean   ...      0.000320      3.539999      2.382966      0.001307   \n",
       "std    ...      0.041398      1.535041      8.308837      0.036131   \n",
       "min    ...      0.000000      1.000000      0.000000      0.000000   \n",
       "25%    ...      0.000000      3.000000      1.000000      0.000000   \n",
       "50%    ...      0.000000      3.000000      1.000000      0.000000   \n",
       "75%    ...      0.000000      4.000000      1.000000      0.000000   \n",
       "max    ...      7.000000     14.000000     78.000000      1.000000   \n",
       "\n",
       "            raceimp        racer3        racer5      hispanic      hspanicr  \\\n",
       "count  34426.000000  34426.000000  34426.000000  34426.000000  34426.000000   \n",
       "mean       0.037123      1.166880      1.186952    255.791756      2.500232   \n",
       "std        0.237669      0.513981      0.631738     83.943738      1.549629   \n",
       "min        0.000000      1.000000      1.000000    100.000000      1.000000   \n",
       "25%        0.000000      1.000000      1.000000    260.000000      2.000000   \n",
       "50%        0.000000      1.000000      1.000000    260.000000      2.000000   \n",
       "75%        0.000000      1.000000      1.000000    260.000000      2.000000   \n",
       "max        2.000000      3.000000      4.000000    998.000000      9.000000   \n",
       "\n",
       "             race40  \n",
       "count  34426.000000  \n",
       "mean       1.530064  \n",
       "std        2.398543  \n",
       "min        1.000000  \n",
       "25%        1.000000  \n",
       "50%        1.000000  \n",
       "75%        1.000000  \n",
       "max       39.000000  \n",
       "\n",
       "[8 rows x 58 columns]"
      ]
     },
     "execution_count": 7,
     "metadata": {},
     "output_type": "execute_result"
    }
   ],
   "source": [
    "df.describe()"
   ]
  },
  {
   "cell_type": "code",
   "execution_count": 8,
   "id": "3240580d",
   "metadata": {},
   "outputs": [
    {
     "data": {
      "text/plain": [
       "31294"
      ]
     },
     "execution_count": 8,
     "metadata": {},
     "output_type": "execute_result"
    }
   ],
   "source": [
    "sum(df['mandeath'] == 7)"
   ]
  },
  {
   "cell_type": "markdown",
   "id": "9bdbe13f",
   "metadata": {},
   "source": [
    "## 1.4 Drop the data points that hasn't specified the manner of death"
   ]
  },
  {
   "cell_type": "code",
   "execution_count": 9,
   "id": "e90d7e60",
   "metadata": {},
   "outputs": [],
   "source": [
    "df = df.loc[df['mandeath'] != 0]"
   ]
  },
  {
   "cell_type": "code",
   "execution_count": 10,
   "id": "4eb71bed",
   "metadata": {
    "scrolled": true
   },
   "outputs": [
    {
     "data": {
      "text/html": [
       "<div>\n",
       "<style scoped>\n",
       "    .dataframe tbody tr th:only-of-type {\n",
       "        vertical-align: middle;\n",
       "    }\n",
       "\n",
       "    .dataframe tbody tr th {\n",
       "        vertical-align: top;\n",
       "    }\n",
       "\n",
       "    .dataframe thead th {\n",
       "        text-align: right;\n",
       "    }\n",
       "</style>\n",
       "<table border=\"1\" class=\"dataframe\">\n",
       "  <thead>\n",
       "    <tr style=\"text-align: right;\">\n",
       "      <th></th>\n",
       "      <th>restatus</th>\n",
       "      <th>educ2003</th>\n",
       "      <th>educflag</th>\n",
       "      <th>monthdth</th>\n",
       "      <th>age</th>\n",
       "      <th>ageflag</th>\n",
       "      <th>ager52</th>\n",
       "      <th>ager27</th>\n",
       "      <th>ager12</th>\n",
       "      <th>ager22</th>\n",
       "      <th>...</th>\n",
       "      <th>econds_14</th>\n",
       "      <th>ranum</th>\n",
       "      <th>race</th>\n",
       "      <th>brace</th>\n",
       "      <th>raceimp</th>\n",
       "      <th>racer3</th>\n",
       "      <th>racer5</th>\n",
       "      <th>hispanic</th>\n",
       "      <th>hspanicr</th>\n",
       "      <th>race40</th>\n",
       "    </tr>\n",
       "  </thead>\n",
       "  <tbody>\n",
       "    <tr>\n",
       "      <th>count</th>\n",
       "      <td>34267.000000</td>\n",
       "      <td>34267.000000</td>\n",
       "      <td>34267.0</td>\n",
       "      <td>34267.000000</td>\n",
       "      <td>34267.000000</td>\n",
       "      <td>34267.0</td>\n",
       "      <td>34267.000000</td>\n",
       "      <td>34267.000000</td>\n",
       "      <td>34267.000000</td>\n",
       "      <td>34267.000000</td>\n",
       "      <td>...</td>\n",
       "      <td>34267.000000</td>\n",
       "      <td>34267.000000</td>\n",
       "      <td>34267.000000</td>\n",
       "      <td>34267.000000</td>\n",
       "      <td>34267.000000</td>\n",
       "      <td>34267.000000</td>\n",
       "      <td>34267.000000</td>\n",
       "      <td>34267.000000</td>\n",
       "      <td>34267.000000</td>\n",
       "      <td>34267.000000</td>\n",
       "    </tr>\n",
       "    <tr>\n",
       "      <th>mean</th>\n",
       "      <td>1.361835</td>\n",
       "      <td>3.079785</td>\n",
       "      <td>1.0</td>\n",
       "      <td>6.646570</td>\n",
       "      <td>1104.309686</td>\n",
       "      <td>0.0</td>\n",
       "      <td>40.265007</td>\n",
       "      <td>20.319870</td>\n",
       "      <td>9.357253</td>\n",
       "      <td>0.037266</td>\n",
       "      <td>...</td>\n",
       "      <td>0.000321</td>\n",
       "      <td>3.547932</td>\n",
       "      <td>2.367730</td>\n",
       "      <td>0.001313</td>\n",
       "      <td>0.036391</td>\n",
       "      <td>1.161175</td>\n",
       "      <td>1.182420</td>\n",
       "      <td>255.674147</td>\n",
       "      <td>2.480754</td>\n",
       "      <td>1.521172</td>\n",
       "    </tr>\n",
       "    <tr>\n",
       "      <th>std</th>\n",
       "      <td>0.537634</td>\n",
       "      <td>2.203476</td>\n",
       "      <td>0.0</td>\n",
       "      <td>3.497548</td>\n",
       "      <td>440.702564</td>\n",
       "      <td>0.0</td>\n",
       "      <td>4.080955</td>\n",
       "      <td>3.591817</td>\n",
       "      <td>1.711478</td>\n",
       "      <td>0.640138</td>\n",
       "      <td>...</td>\n",
       "      <td>0.041494</td>\n",
       "      <td>1.532237</td>\n",
       "      <td>8.278049</td>\n",
       "      <td>0.036215</td>\n",
       "      <td>0.235328</td>\n",
       "      <td>0.505293</td>\n",
       "      <td>0.626295</td>\n",
       "      <td>81.064199</td>\n",
       "      <td>1.519922</td>\n",
       "      <td>2.386007</td>\n",
       "    </tr>\n",
       "    <tr>\n",
       "      <th>min</th>\n",
       "      <td>1.000000</td>\n",
       "      <td>1.000000</td>\n",
       "      <td>1.0</td>\n",
       "      <td>1.000000</td>\n",
       "      <td>1001.000000</td>\n",
       "      <td>0.0</td>\n",
       "      <td>1.000000</td>\n",
       "      <td>1.000000</td>\n",
       "      <td>1.000000</td>\n",
       "      <td>0.000000</td>\n",
       "      <td>...</td>\n",
       "      <td>0.000000</td>\n",
       "      <td>1.000000</td>\n",
       "      <td>0.000000</td>\n",
       "      <td>0.000000</td>\n",
       "      <td>0.000000</td>\n",
       "      <td>1.000000</td>\n",
       "      <td>1.000000</td>\n",
       "      <td>100.000000</td>\n",
       "      <td>1.000000</td>\n",
       "      <td>1.000000</td>\n",
       "    </tr>\n",
       "    <tr>\n",
       "      <th>25%</th>\n",
       "      <td>1.000000</td>\n",
       "      <td>1.000000</td>\n",
       "      <td>1.0</td>\n",
       "      <td>4.000000</td>\n",
       "      <td>1065.000000</td>\n",
       "      <td>0.0</td>\n",
       "      <td>39.000000</td>\n",
       "      <td>19.000000</td>\n",
       "      <td>9.000000</td>\n",
       "      <td>0.000000</td>\n",
       "      <td>...</td>\n",
       "      <td>0.000000</td>\n",
       "      <td>3.000000</td>\n",
       "      <td>1.000000</td>\n",
       "      <td>0.000000</td>\n",
       "      <td>0.000000</td>\n",
       "      <td>1.000000</td>\n",
       "      <td>1.000000</td>\n",
       "      <td>260.000000</td>\n",
       "      <td>2.000000</td>\n",
       "      <td>1.000000</td>\n",
       "    </tr>\n",
       "    <tr>\n",
       "      <th>50%</th>\n",
       "      <td>1.000000</td>\n",
       "      <td>3.000000</td>\n",
       "      <td>1.0</td>\n",
       "      <td>7.000000</td>\n",
       "      <td>1077.000000</td>\n",
       "      <td>0.0</td>\n",
       "      <td>41.000000</td>\n",
       "      <td>21.000000</td>\n",
       "      <td>10.000000</td>\n",
       "      <td>0.000000</td>\n",
       "      <td>...</td>\n",
       "      <td>0.000000</td>\n",
       "      <td>3.000000</td>\n",
       "      <td>1.000000</td>\n",
       "      <td>0.000000</td>\n",
       "      <td>0.000000</td>\n",
       "      <td>1.000000</td>\n",
       "      <td>1.000000</td>\n",
       "      <td>260.000000</td>\n",
       "      <td>2.000000</td>\n",
       "      <td>1.000000</td>\n",
       "    </tr>\n",
       "    <tr>\n",
       "      <th>75%</th>\n",
       "      <td>2.000000</td>\n",
       "      <td>4.000000</td>\n",
       "      <td>1.0</td>\n",
       "      <td>10.000000</td>\n",
       "      <td>1086.000000</td>\n",
       "      <td>0.0</td>\n",
       "      <td>43.000000</td>\n",
       "      <td>23.000000</td>\n",
       "      <td>11.000000</td>\n",
       "      <td>0.000000</td>\n",
       "      <td>...</td>\n",
       "      <td>0.000000</td>\n",
       "      <td>4.000000</td>\n",
       "      <td>1.000000</td>\n",
       "      <td>0.000000</td>\n",
       "      <td>0.000000</td>\n",
       "      <td>1.000000</td>\n",
       "      <td>1.000000</td>\n",
       "      <td>260.000000</td>\n",
       "      <td>2.000000</td>\n",
       "      <td>1.000000</td>\n",
       "    </tr>\n",
       "    <tr>\n",
       "      <th>max</th>\n",
       "      <td>4.000000</td>\n",
       "      <td>9.000000</td>\n",
       "      <td>1.0</td>\n",
       "      <td>12.000000</td>\n",
       "      <td>9999.000000</td>\n",
       "      <td>0.0</td>\n",
       "      <td>52.000000</td>\n",
       "      <td>27.000000</td>\n",
       "      <td>12.000000</td>\n",
       "      <td>22.000000</td>\n",
       "      <td>...</td>\n",
       "      <td>7.000000</td>\n",
       "      <td>14.000000</td>\n",
       "      <td>78.000000</td>\n",
       "      <td>1.000000</td>\n",
       "      <td>2.000000</td>\n",
       "      <td>3.000000</td>\n",
       "      <td>4.000000</td>\n",
       "      <td>998.000000</td>\n",
       "      <td>9.000000</td>\n",
       "      <td>39.000000</td>\n",
       "    </tr>\n",
       "  </tbody>\n",
       "</table>\n",
       "<p>8 rows × 58 columns</p>\n",
       "</div>"
      ],
      "text/plain": [
       "           restatus      educ2003  educflag      monthdth           age  \\\n",
       "count  34267.000000  34267.000000   34267.0  34267.000000  34267.000000   \n",
       "mean       1.361835      3.079785       1.0      6.646570   1104.309686   \n",
       "std        0.537634      2.203476       0.0      3.497548    440.702564   \n",
       "min        1.000000      1.000000       1.0      1.000000   1001.000000   \n",
       "25%        1.000000      1.000000       1.0      4.000000   1065.000000   \n",
       "50%        1.000000      3.000000       1.0      7.000000   1077.000000   \n",
       "75%        2.000000      4.000000       1.0     10.000000   1086.000000   \n",
       "max        4.000000      9.000000       1.0     12.000000   9999.000000   \n",
       "\n",
       "       ageflag        ager52        ager27        ager12        ager22  ...  \\\n",
       "count  34267.0  34267.000000  34267.000000  34267.000000  34267.000000  ...   \n",
       "mean       0.0     40.265007     20.319870      9.357253      0.037266  ...   \n",
       "std        0.0      4.080955      3.591817      1.711478      0.640138  ...   \n",
       "min        0.0      1.000000      1.000000      1.000000      0.000000  ...   \n",
       "25%        0.0     39.000000     19.000000      9.000000      0.000000  ...   \n",
       "50%        0.0     41.000000     21.000000     10.000000      0.000000  ...   \n",
       "75%        0.0     43.000000     23.000000     11.000000      0.000000  ...   \n",
       "max        0.0     52.000000     27.000000     12.000000     22.000000  ...   \n",
       "\n",
       "          econds_14         ranum          race         brace       raceimp  \\\n",
       "count  34267.000000  34267.000000  34267.000000  34267.000000  34267.000000   \n",
       "mean       0.000321      3.547932      2.367730      0.001313      0.036391   \n",
       "std        0.041494      1.532237      8.278049      0.036215      0.235328   \n",
       "min        0.000000      1.000000      0.000000      0.000000      0.000000   \n",
       "25%        0.000000      3.000000      1.000000      0.000000      0.000000   \n",
       "50%        0.000000      3.000000      1.000000      0.000000      0.000000   \n",
       "75%        0.000000      4.000000      1.000000      0.000000      0.000000   \n",
       "max        7.000000     14.000000     78.000000      1.000000      2.000000   \n",
       "\n",
       "             racer3        racer5      hispanic      hspanicr        race40  \n",
       "count  34267.000000  34267.000000  34267.000000  34267.000000  34267.000000  \n",
       "mean       1.161175      1.182420    255.674147      2.480754      1.521172  \n",
       "std        0.505293      0.626295     81.064199      1.519922      2.386007  \n",
       "min        1.000000      1.000000    100.000000      1.000000      1.000000  \n",
       "25%        1.000000      1.000000    260.000000      2.000000      1.000000  \n",
       "50%        1.000000      1.000000    260.000000      2.000000      1.000000  \n",
       "75%        1.000000      1.000000    260.000000      2.000000      1.000000  \n",
       "max        3.000000      4.000000    998.000000      9.000000     39.000000  \n",
       "\n",
       "[8 rows x 58 columns]"
      ]
     },
     "execution_count": 10,
     "metadata": {},
     "output_type": "execute_result"
    }
   ],
   "source": [
    "df.describe()"
   ]
  },
  {
   "cell_type": "markdown",
   "id": "ca703014",
   "metadata": {},
   "source": [
    "#### Manner of Death: 1. accident 2. suicide 3. homicide 4. pending investigation 5. could not determine 6. self-inflicted 7. natural Nan: Not Specified "
   ]
  },
  {
   "cell_type": "code",
   "execution_count": 11,
   "id": "0214d009",
   "metadata": {},
   "outputs": [],
   "source": [
    "df[\"mandeath\"].replace({2: 1, 1: 0,3: 0,4: 0,5: 0,6: 0,7: 0}, inplace=True)"
   ]
  },
  {
   "cell_type": "markdown",
   "id": "3b8ba77a",
   "metadata": {},
   "source": [
    "Now we have the modified death data, mandeath == 1 is suicide, mandeath == other values means death caused by other reasons."
   ]
  },
  {
   "cell_type": "code",
   "execution_count": 12,
   "id": "f47c9d77",
   "metadata": {},
   "outputs": [],
   "source": [
    "suicide = df"
   ]
  },
  {
   "cell_type": "code",
   "execution_count": 13,
   "id": "19fc18aa",
   "metadata": {},
   "outputs": [
    {
     "data": {
      "text/html": [
       "<div>\n",
       "<style scoped>\n",
       "    .dataframe tbody tr th:only-of-type {\n",
       "        vertical-align: middle;\n",
       "    }\n",
       "\n",
       "    .dataframe tbody tr th {\n",
       "        vertical-align: top;\n",
       "    }\n",
       "\n",
       "    .dataframe thead th {\n",
       "        text-align: right;\n",
       "    }\n",
       "</style>\n",
       "<table border=\"1\" class=\"dataframe\">\n",
       "  <thead>\n",
       "    <tr style=\"text-align: right;\">\n",
       "      <th></th>\n",
       "      <th>restatus</th>\n",
       "      <th>educ2003</th>\n",
       "      <th>educflag</th>\n",
       "      <th>monthdth</th>\n",
       "      <th>sex</th>\n",
       "      <th>age</th>\n",
       "      <th>ageflag</th>\n",
       "      <th>ager52</th>\n",
       "      <th>ager27</th>\n",
       "      <th>ager12</th>\n",
       "      <th>...</th>\n",
       "      <th>record_13</th>\n",
       "      <th>record_14</th>\n",
       "      <th>race</th>\n",
       "      <th>brace</th>\n",
       "      <th>raceimp</th>\n",
       "      <th>racer3</th>\n",
       "      <th>racer5</th>\n",
       "      <th>hispanic</th>\n",
       "      <th>hspanicr</th>\n",
       "      <th>race40</th>\n",
       "    </tr>\n",
       "  </thead>\n",
       "  <tbody>\n",
       "    <tr>\n",
       "      <th>0</th>\n",
       "      <td>1</td>\n",
       "      <td>3</td>\n",
       "      <td>1</td>\n",
       "      <td>1</td>\n",
       "      <td>M</td>\n",
       "      <td>1072</td>\n",
       "      <td>0.0</td>\n",
       "      <td>40</td>\n",
       "      <td>20</td>\n",
       "      <td>9</td>\n",
       "      <td>...</td>\n",
       "      <td>0</td>\n",
       "      <td>0</td>\n",
       "      <td>58</td>\n",
       "      <td>0.0</td>\n",
       "      <td>0.0</td>\n",
       "      <td>2</td>\n",
       "      <td>4</td>\n",
       "      <td>100</td>\n",
       "      <td>8</td>\n",
       "      <td>12</td>\n",
       "    </tr>\n",
       "    <tr>\n",
       "      <th>1</th>\n",
       "      <td>1</td>\n",
       "      <td>3</td>\n",
       "      <td>1</td>\n",
       "      <td>1</td>\n",
       "      <td>M</td>\n",
       "      <td>1043</td>\n",
       "      <td>0.0</td>\n",
       "      <td>34</td>\n",
       "      <td>14</td>\n",
       "      <td>6</td>\n",
       "      <td>...</td>\n",
       "      <td>0</td>\n",
       "      <td>0</td>\n",
       "      <td>58</td>\n",
       "      <td>0.0</td>\n",
       "      <td>0.0</td>\n",
       "      <td>2</td>\n",
       "      <td>4</td>\n",
       "      <td>100</td>\n",
       "      <td>8</td>\n",
       "      <td>12</td>\n",
       "    </tr>\n",
       "    <tr>\n",
       "      <th>2</th>\n",
       "      <td>1</td>\n",
       "      <td>1</td>\n",
       "      <td>1</td>\n",
       "      <td>1</td>\n",
       "      <td>F</td>\n",
       "      <td>1064</td>\n",
       "      <td>0.0</td>\n",
       "      <td>38</td>\n",
       "      <td>18</td>\n",
       "      <td>8</td>\n",
       "      <td>...</td>\n",
       "      <td>0</td>\n",
       "      <td>0</td>\n",
       "      <td>58</td>\n",
       "      <td>0.0</td>\n",
       "      <td>0.0</td>\n",
       "      <td>2</td>\n",
       "      <td>4</td>\n",
       "      <td>100</td>\n",
       "      <td>8</td>\n",
       "      <td>12</td>\n",
       "    </tr>\n",
       "    <tr>\n",
       "      <th>3</th>\n",
       "      <td>1</td>\n",
       "      <td>3</td>\n",
       "      <td>1</td>\n",
       "      <td>1</td>\n",
       "      <td>M</td>\n",
       "      <td>1085</td>\n",
       "      <td>0.0</td>\n",
       "      <td>43</td>\n",
       "      <td>23</td>\n",
       "      <td>11</td>\n",
       "      <td>...</td>\n",
       "      <td>0</td>\n",
       "      <td>0</td>\n",
       "      <td>58</td>\n",
       "      <td>0.0</td>\n",
       "      <td>0.0</td>\n",
       "      <td>2</td>\n",
       "      <td>4</td>\n",
       "      <td>100</td>\n",
       "      <td>8</td>\n",
       "      <td>12</td>\n",
       "    </tr>\n",
       "    <tr>\n",
       "      <th>4</th>\n",
       "      <td>1</td>\n",
       "      <td>3</td>\n",
       "      <td>1</td>\n",
       "      <td>1</td>\n",
       "      <td>M</td>\n",
       "      <td>1076</td>\n",
       "      <td>0.0</td>\n",
       "      <td>41</td>\n",
       "      <td>21</td>\n",
       "      <td>10</td>\n",
       "      <td>...</td>\n",
       "      <td>0</td>\n",
       "      <td>0</td>\n",
       "      <td>58</td>\n",
       "      <td>0.0</td>\n",
       "      <td>0.0</td>\n",
       "      <td>2</td>\n",
       "      <td>4</td>\n",
       "      <td>100</td>\n",
       "      <td>8</td>\n",
       "      <td>12</td>\n",
       "    </tr>\n",
       "    <tr>\n",
       "      <th>...</th>\n",
       "      <td>...</td>\n",
       "      <td>...</td>\n",
       "      <td>...</td>\n",
       "      <td>...</td>\n",
       "      <td>...</td>\n",
       "      <td>...</td>\n",
       "      <td>...</td>\n",
       "      <td>...</td>\n",
       "      <td>...</td>\n",
       "      <td>...</td>\n",
       "      <td>...</td>\n",
       "      <td>...</td>\n",
       "      <td>...</td>\n",
       "      <td>...</td>\n",
       "      <td>...</td>\n",
       "      <td>...</td>\n",
       "      <td>...</td>\n",
       "      <td>...</td>\n",
       "      <td>...</td>\n",
       "      <td>...</td>\n",
       "      <td>...</td>\n",
       "    </tr>\n",
       "    <tr>\n",
       "      <th>34421</th>\n",
       "      <td>1</td>\n",
       "      <td>9</td>\n",
       "      <td>1</td>\n",
       "      <td>3</td>\n",
       "      <td>F</td>\n",
       "      <td>1087</td>\n",
       "      <td>0.0</td>\n",
       "      <td>43</td>\n",
       "      <td>23</td>\n",
       "      <td>11</td>\n",
       "      <td>...</td>\n",
       "      <td>0</td>\n",
       "      <td>0</td>\n",
       "      <td>4</td>\n",
       "      <td>0.0</td>\n",
       "      <td>0.0</td>\n",
       "      <td>2</td>\n",
       "      <td>4</td>\n",
       "      <td>998</td>\n",
       "      <td>9</td>\n",
       "      <td>5</td>\n",
       "    </tr>\n",
       "    <tr>\n",
       "      <th>34422</th>\n",
       "      <td>1</td>\n",
       "      <td>4</td>\n",
       "      <td>1</td>\n",
       "      <td>3</td>\n",
       "      <td>F</td>\n",
       "      <td>1065</td>\n",
       "      <td>0.0</td>\n",
       "      <td>39</td>\n",
       "      <td>19</td>\n",
       "      <td>9</td>\n",
       "      <td>...</td>\n",
       "      <td>0</td>\n",
       "      <td>0</td>\n",
       "      <td>1</td>\n",
       "      <td>0.0</td>\n",
       "      <td>0.0</td>\n",
       "      <td>1</td>\n",
       "      <td>1</td>\n",
       "      <td>100</td>\n",
       "      <td>6</td>\n",
       "      <td>1</td>\n",
       "    </tr>\n",
       "    <tr>\n",
       "      <th>34423</th>\n",
       "      <td>4</td>\n",
       "      <td>9</td>\n",
       "      <td>1</td>\n",
       "      <td>6</td>\n",
       "      <td>M</td>\n",
       "      <td>1999</td>\n",
       "      <td>0.0</td>\n",
       "      <td>52</td>\n",
       "      <td>27</td>\n",
       "      <td>12</td>\n",
       "      <td>...</td>\n",
       "      <td>0</td>\n",
       "      <td>0</td>\n",
       "      <td>1</td>\n",
       "      <td>0.0</td>\n",
       "      <td>1.0</td>\n",
       "      <td>1</td>\n",
       "      <td>1</td>\n",
       "      <td>998</td>\n",
       "      <td>9</td>\n",
       "      <td>1</td>\n",
       "    </tr>\n",
       "    <tr>\n",
       "      <th>34424</th>\n",
       "      <td>1</td>\n",
       "      <td>3</td>\n",
       "      <td>1</td>\n",
       "      <td>7</td>\n",
       "      <td>F</td>\n",
       "      <td>1084</td>\n",
       "      <td>0.0</td>\n",
       "      <td>42</td>\n",
       "      <td>22</td>\n",
       "      <td>10</td>\n",
       "      <td>...</td>\n",
       "      <td>0</td>\n",
       "      <td>0</td>\n",
       "      <td>2</td>\n",
       "      <td>0.0</td>\n",
       "      <td>0.0</td>\n",
       "      <td>3</td>\n",
       "      <td>2</td>\n",
       "      <td>998</td>\n",
       "      <td>9</td>\n",
       "      <td>2</td>\n",
       "    </tr>\n",
       "    <tr>\n",
       "      <th>34425</th>\n",
       "      <td>1</td>\n",
       "      <td>9</td>\n",
       "      <td>1</td>\n",
       "      <td>7</td>\n",
       "      <td>M</td>\n",
       "      <td>1064</td>\n",
       "      <td>0.0</td>\n",
       "      <td>38</td>\n",
       "      <td>18</td>\n",
       "      <td>8</td>\n",
       "      <td>...</td>\n",
       "      <td>0</td>\n",
       "      <td>0</td>\n",
       "      <td>2</td>\n",
       "      <td>0.0</td>\n",
       "      <td>1.0</td>\n",
       "      <td>3</td>\n",
       "      <td>2</td>\n",
       "      <td>998</td>\n",
       "      <td>9</td>\n",
       "      <td>2</td>\n",
       "    </tr>\n",
       "  </tbody>\n",
       "</table>\n",
       "<p>34267 rows × 92 columns</p>\n",
       "</div>"
      ],
      "text/plain": [
       "       restatus  educ2003  educflag  monthdth sex   age  ageflag  ager52  \\\n",
       "0             1         3         1         1   M  1072      0.0      40   \n",
       "1             1         3         1         1   M  1043      0.0      34   \n",
       "2             1         1         1         1   F  1064      0.0      38   \n",
       "3             1         3         1         1   M  1085      0.0      43   \n",
       "4             1         3         1         1   M  1076      0.0      41   \n",
       "...         ...       ...       ...       ...  ..   ...      ...     ...   \n",
       "34421         1         9         1         3   F  1087      0.0      43   \n",
       "34422         1         4         1         3   F  1065      0.0      39   \n",
       "34423         4         9         1         6   M  1999      0.0      52   \n",
       "34424         1         3         1         7   F  1084      0.0      42   \n",
       "34425         1         9         1         7   M  1064      0.0      38   \n",
       "\n",
       "       ager27  ager12  ...  record_13  record_14 race  brace  raceimp racer3  \\\n",
       "0          20       9  ...          0          0   58    0.0      0.0      2   \n",
       "1          14       6  ...          0          0   58    0.0      0.0      2   \n",
       "2          18       8  ...          0          0   58    0.0      0.0      2   \n",
       "3          23      11  ...          0          0   58    0.0      0.0      2   \n",
       "4          21      10  ...          0          0   58    0.0      0.0      2   \n",
       "...       ...     ...  ...        ...        ...  ...    ...      ...    ...   \n",
       "34421      23      11  ...          0          0    4    0.0      0.0      2   \n",
       "34422      19       9  ...          0          0    1    0.0      0.0      1   \n",
       "34423      27      12  ...          0          0    1    0.0      1.0      1   \n",
       "34424      22      10  ...          0          0    2    0.0      0.0      3   \n",
       "34425      18       8  ...          0          0    2    0.0      1.0      3   \n",
       "\n",
       "       racer5 hispanic hspanicr  race40  \n",
       "0           4      100        8      12  \n",
       "1           4      100        8      12  \n",
       "2           4      100        8      12  \n",
       "3           4      100        8      12  \n",
       "4           4      100        8      12  \n",
       "...       ...      ...      ...     ...  \n",
       "34421       4      998        9       5  \n",
       "34422       1      100        6       1  \n",
       "34423       1      998        9       1  \n",
       "34424       2      998        9       2  \n",
       "34425       2      998        9       2  \n",
       "\n",
       "[34267 rows x 92 columns]"
      ]
     },
     "execution_count": 13,
     "metadata": {},
     "output_type": "execute_result"
    }
   ],
   "source": [
    "suicide"
   ]
  },
  {
   "cell_type": "markdown",
   "id": "7953f290",
   "metadata": {},
   "source": [
    "#扔数据\n",
    "年龄定义在12岁之后，因为之前的年龄都不一定"
   ]
  },
  {
   "cell_type": "code",
   "execution_count": 14,
   "id": "df5f535c",
   "metadata": {},
   "outputs": [],
   "source": [
    "suicide_str = pd.DataFrame(suicide)\n",
    "suicide_str['age'] = suicide['age'].apply(str)\n",
    "age_NotSpecified = list(suicide_str[suicide_str['age'].str.contains('999')].index)\n",
    "suicide = suicide.drop(index = age_NotSpecified, axis=1)\n",
    "suicide['age'] = suicide['age'].apply(int)"
   ]
  },
  {
   "cell_type": "markdown",
   "id": "72967538",
   "metadata": {},
   "source": [
    "## 1.5 Decoding the age:\n",
    "#### 1. if the first digit is 1, then the last three digits represent the age under years.\n",
    "#### 2. if the first digit is 2, then the last three digits represent the age under months.\n",
    "#### 3. if the first digit is 4, then the last three digits represent the age under days.\n",
    "#### 4. if the first digit is 5, then the last three digits represent the age under hours.\n",
    "#### 5. if the first digit is 6, then the last three digits represent the age under minutes.\n",
    "#### 6. if any three digits are 999, then the age is not speficied.\n",
    "\n",
    "Here we filter out the index of keys with unspecified age, and get the index list to drop at next step."
   ]
  },
  {
   "cell_type": "code",
   "execution_count": 15,
   "id": "0bb3caf0",
   "metadata": {},
   "outputs": [],
   "source": [
    "suicide.loc[(suicide['age']>=1000)&(suicide['age']<2000),'age']= suicide['age'] - 1000"
   ]
  },
  {
   "cell_type": "code",
   "execution_count": 16,
   "id": "270a91ca",
   "metadata": {},
   "outputs": [],
   "source": [
    "suicide.loc[(suicide['age']>=2000)&(suicide['age']<3000),'age']=(suicide['age']-2000)/12"
   ]
  },
  {
   "cell_type": "code",
   "execution_count": 17,
   "id": "5255cce7",
   "metadata": {},
   "outputs": [],
   "source": [
    "suicide.loc[(suicide['age']>=4000)&(suicide['age']<5000),'age']=(suicide['age']-4000)/365"
   ]
  },
  {
   "cell_type": "markdown",
   "id": "02c73dc8",
   "metadata": {},
   "source": [
    "Although we have people died when they were just a couple of hours old, we actually can ignore that since since they were that young, it is impossible for them to \"commit a suicide\""
   ]
  },
  {
   "cell_type": "code",
   "execution_count": 18,
   "id": "e62f18f2",
   "metadata": {},
   "outputs": [],
   "source": [
    "suicide[(suicide['age']>=5000)&(suicide['age']<6000)]\n",
    "suicide.loc[(suicide['age']>=5000)&(suicide['age']<6000),'age']=(suicide['age']-5000)/24/365"
   ]
  },
  {
   "cell_type": "markdown",
   "id": "f5429b9f",
   "metadata": {},
   "source": [
    "I am so sorry that you died so young babe!"
   ]
  },
  {
   "cell_type": "code",
   "execution_count": 19,
   "id": "6dd7055d",
   "metadata": {},
   "outputs": [],
   "source": [
    "suicide[(suicide['age']>=6000)&(suicide['age']<7000)]\n",
    "suicide.loc[(suicide['age']>=6000)&(suicide['age']<7000),'age']=(suicide['age']-6000)/60/24/365"
   ]
  },
  {
   "cell_type": "code",
   "execution_count": null,
   "id": "690b443e",
   "metadata": {},
   "outputs": [],
   "source": []
  },
  {
   "cell_type": "markdown",
   "id": "c75c9b5b",
   "metadata": {},
   "source": [
    "We throw away rows with unspecified education levels."
   ]
  },
  {
   "cell_type": "code",
   "execution_count": 20,
   "id": "ad27926f",
   "metadata": {},
   "outputs": [],
   "source": [
    "suicide=suicide.loc[suicide['educ2003'] != 9]\n",
    "suicide=suicide.loc[suicide['marstat'] != 'U']\n",
    "suicide=suicide.loc[suicide['weekday'] != 9]\n",
    "suicide=suicide.loc[suicide['placdth'] != 9]\n",
    "suicide=suicide.loc[suicide['injury'] != 'U']"
   ]
  },
  {
   "cell_type": "markdown",
   "id": "aef29451",
   "metadata": {},
   "source": [
    "One hot Encoding for Sex"
   ]
  },
  {
   "cell_type": "code",
   "execution_count": 21,
   "id": "30b9cbcb",
   "metadata": {},
   "outputs": [],
   "source": [
    "suicide = suicide.join(pd.get_dummies(suicide[[\"sex\"]]))"
   ]
  },
  {
   "cell_type": "markdown",
   "id": "cc7810bf",
   "metadata": {},
   "source": [
    "One hot Encoding for Maritial Status"
   ]
  },
  {
   "cell_type": "code",
   "execution_count": 22,
   "id": "61ee90e9",
   "metadata": {},
   "outputs": [],
   "source": [
    "suicide = suicide.join(pd.get_dummies(suicide[[\"marstat\"]]))"
   ]
  },
  {
   "cell_type": "markdown",
   "id": "e3f1d6fd",
   "metadata": {},
   "source": [
    "可能要先encode一下race 然后再去one hot encoding；"
   ]
  },
  {
   "cell_type": "code",
   "execution_count": 23,
   "id": "6e29d894",
   "metadata": {},
   "outputs": [
    {
     "name": "stdout",
     "output_type": "stream",
     "text": [
      "Index(['restatus', 'educ2003', 'educflag', 'monthdth', 'sex', 'age', 'ageflag',\n",
      "       'ager52', 'ager27', 'ager12', 'ager22', 'placdth', 'marstat', 'weekday',\n",
      "       'year', 'injwork', 'mandeath', 'methdisp', 'autopsy', 'activity',\n",
      "       'injury', 'ucod', 'ucr358', 'ucr113', 'ucr130', 'ucr39', 'eanum',\n",
      "       'econdp_1', 'econds_1', 'enicon_1', 'econdp_2', 'econds_2', 'enicon_2',\n",
      "       'econdp_3', 'econds_3', 'enicon_3', 'econdp_4', 'econds_4', 'enicon_4',\n",
      "       'econdp_5', 'econds_5', 'enicon_5', 'econdp_6', 'econds_6', 'enicon_6',\n",
      "       'econdp_7', 'econds_7', 'enicon_7', 'econdp_8', 'econds_8', 'enicon_8',\n",
      "       'econdp_9', 'econds_9', 'enicon_9', 'econdp_10', 'econds_10',\n",
      "       'enicon_10', 'econdp_11', 'econds_11', 'enicon_11', 'econdp_12',\n",
      "       'econds_12', 'enicon_12', 'econdp_13', 'econds_13', 'enicon_13',\n",
      "       'econdp_14', 'econds_14', 'enicon_14', 'ranum', 'record_1', 'record_2',\n",
      "       'record_3', 'record_4', 'record_5', 'record_6', 'record_7', 'record_8',\n",
      "       'record_9', 'record_10', 'record_11', 'record_12', 'record_13',\n",
      "       'record_14', 'race', 'brace', 'raceimp', 'racer3', 'racer5', 'hispanic',\n",
      "       'hspanicr', 'race40', 'sex_F', 'sex_M', 'marstat_D', 'marstat_M',\n",
      "       'marstat_S', 'marstat_W'],\n",
      "      dtype='object')\n"
     ]
    }
   ],
   "source": [
    "print(suicide.columns)\n",
    "suicide=suicide.drop(columns=['educflag','econds_1','year','methdisp','autopsy',\\\n",
    "                      'ageflag','ager52', 'ager27', 'ager12', 'ager22',\\\n",
    "                      'brace','raceimp', 'racer3', 'racer5', 'hspanicr', 'race40'])"
   ]
  },
  {
   "cell_type": "markdown",
   "id": "730126cd",
   "metadata": {},
   "source": [
    "1. ranum: Number of Entity-Axis Conditions 这个列出来了有多少个conditions\n",
    "2. record_n: position number of nth condition\n",
    "3. record_n: Sequence of condition within part/line\n",
    "\n",
    "The record axis codes are assigned in terms of the set of codes that best describe the overall medical certification portion of the death certificate.\n",
    "\n",
    "Refer to https://www.cdc.gov/nchs/data/datalinkage/underlying_and_multiple_cause_of_death_codes.pdf\n",
    "\n"
   ]
  },
  {
   "cell_type": "code",
   "execution_count": 24,
   "id": "a40d5074",
   "metadata": {},
   "outputs": [],
   "source": [
    "suicide[\"raceforvis\"]= suicide[\"race\"]"
   ]
  },
  {
   "cell_type": "code",
   "execution_count": 25,
   "id": "f14b7fd5",
   "metadata": {},
   "outputs": [],
   "source": [
    "suicide[\"race\"].replace({0:\"Other Race\",1: \"White\", 2: \"Black\",3: \"American Indian\",4: \"Chinese\", 5: \"Japanese\",\\\n",
    "                         6: \"Hawaiian\",7: \"Filipino\",8:\"Other Asian or Pacific Islander\", 18: \"Asian Indian\",\\\n",
    "                         28: \"Korean\", 38: \"Samoan\",48:\"Vietnamese\", 58: \"Guamanian\", 68:\"Other Asian\",78:\"Combined Other Asian\"}, inplace=True)"
   ]
  },
  {
   "cell_type": "code",
   "execution_count": 26,
   "id": "c86a6222",
   "metadata": {},
   "outputs": [],
   "source": [
    "suicide = suicide.join(pd.get_dummies(suicide[[\"race\"]]))"
   ]
  },
  {
   "cell_type": "markdown",
   "id": "cdc45721",
   "metadata": {},
   "source": [
    "出一个自杀情况下的 ICD-10 编码热力图 横轴（A,B,C,...) 纵轴(10,20,30,...),热力是数量\n",
    "    这样我们就可以清楚地看到自杀的人的疾病记录大概率集中在哪个部分。\n",
    "    "
   ]
  },
  {
   "cell_type": "markdown",
   "id": "6ba75a6e",
   "metadata": {},
   "source": [
    "Let‘s define a function to split ICD code."
   ]
  },
  {
   "cell_type": "code",
   "execution_count": 27,
   "id": "2dd3cf3f",
   "metadata": {},
   "outputs": [],
   "source": [
    "def concat_split(x,width=1):\n",
    "    result=''\n",
    "    start=0\n",
    "    while True:\n",
    "        s=str(x)[start:start+width]\n",
    "        \n",
    "        if s:\n",
    "            result =result + s \n",
    "        else:\n",
    "            break\n",
    "        start=start+width\n",
    "        \n",
    "    return result[:-1]"
   ]
  },
  {
   "cell_type": "code",
   "execution_count": 28,
   "id": "ca07bb86",
   "metadata": {},
   "outputs": [],
   "source": [
    "ICD_Split = suicide['ucod'].map(concat_split).str.split('',expand=True)"
   ]
  },
  {
   "cell_type": "code",
   "execution_count": 29,
   "id": "57d5600b",
   "metadata": {},
   "outputs": [],
   "source": [
    "ICD_Split.columns = ['ICD_'+str(i) for i in ICD_Split.columns]"
   ]
  },
  {
   "cell_type": "code",
   "execution_count": 30,
   "id": "0ae66095",
   "metadata": {},
   "outputs": [],
   "source": [
    "ICD_Split['ICD_3']=ICD_Split['ICD_3'].replace({'':'0'})\n",
    "ICD_Split['ICD_3']=ICD_Split['ICD_3'].apply(int)\n",
    "ICD_Split['ICD_4']=ICD_Split['ICD_4'].replace({'':'0',None :'0'})\n",
    "ICD_Split['ICD_4']=ICD_Split['ICD_4'].apply(int)\n",
    "suicide = suicide.join(ICD_Split[['ICD_1','ICD_2','ICD_3','ICD_4']])"
   ]
  },
  {
   "cell_type": "code",
   "execution_count": null,
   "id": "698efbb9",
   "metadata": {},
   "outputs": [],
   "source": []
  },
  {
   "cell_type": "markdown",
   "id": "928a5a5a",
   "metadata": {},
   "source": [
    "## 2 Descriptive Analysis"
   ]
  },
  {
   "cell_type": "markdown",
   "id": "8ff9c5cb",
   "metadata": {},
   "source": [
    "Pie Chart for 自杀人数占总死亡人数百分比"
   ]
  },
  {
   "cell_type": "markdown",
   "id": "692e5160",
   "metadata": {},
   "source": [
    "### 2.1 Underlying Cause of Suicide Analysis"
   ]
  },
  {
   "cell_type": "markdown",
   "id": "577cebe1",
   "metadata": {},
   "source": [
    "#### 2.1.1 Heatmap of ICD-10 encoding system for Suicide cases."
   ]
  },
  {
   "cell_type": "code",
   "execution_count": 31,
   "id": "4220c7c5",
   "metadata": {},
   "outputs": [
    {
     "data": {
      "text/plain": [
       "<AxesSubplot:xlabel='ICD_2', ylabel='ICD_1'>"
      ]
     },
     "execution_count": 31,
     "metadata": {},
     "output_type": "execute_result"
    },
    {
     "data": {
      "image/png": "[encoded data removed]",
      "text/plain": [
       "<Figure size 720x720 with 2 Axes>"
      ]
     },
     "metadata": {},
     "output_type": "display_data"
    }
   ],
   "source": [
    "heattable = suicide.pivot_table(index = 'ICD_1', columns = 'ICD_2', values = 'mandeath', aggfunc = np.sum)\n",
    "plt.figure(figsize=(10, 10))\n",
    "sns.heatmap(data = heattable,cmap='YlGnBu', annot=True, fmt=\"g\")"
   ]
  },
  {
   "cell_type": "code",
   "execution_count": 32,
   "id": "3cfa7a93",
   "metadata": {},
   "outputs": [
    {
     "name": "stdout",
     "output_type": "stream",
     "text": [
      "ICD_2    0    1    2    3    4    5    6      7     8    9\n",
      "ICD_1                                                     \n",
      "A      0.0  0.0  0.0  0.0  0.0  NaN  NaN    NaN   0.0  0.0\n",
      "B      0.0  0.0  0.0  0.0  0.0  NaN  0.0    0.0   NaN  0.0\n",
      "C      0.0  0.0  0.0  0.0  0.0  0.0  0.0    0.0   1.0  0.0\n",
      "D      0.0  0.0  NaN  0.0  0.0  0.0  0.0    0.0   0.0  NaN\n",
      "E      0.0  1.0  0.0  NaN  0.0  NaN  0.0    0.0   0.0  NaN\n",
      "F      0.0  0.0  0.0  0.0  0.0  0.0  NaN    0.0   NaN  NaN\n",
      "G      0.0  0.0  0.0  0.0  0.0  NaN  0.0    0.0   0.0  0.0\n",
      "H      NaN  NaN  NaN  NaN  NaN  NaN  0.0    0.0   NaN  NaN\n",
      "I      0.0  0.0  0.0  0.0  0.0  0.0  0.0    0.0   0.0  0.0\n",
      "J      0.0  0.0  0.0  0.0  0.0  NaN  0.0    NaN   0.0  0.0\n",
      "K      NaN  0.0  0.0  0.0  0.0  0.0  0.0    0.0   0.0  0.0\n",
      "L      0.0  0.0  NaN  NaN  0.0  0.0  NaN    NaN   0.0  0.0\n",
      "M      0.0  0.0  0.0  0.0  0.0  0.0  0.0    0.0   0.0  NaN\n",
      "N      0.0  0.0  0.0  0.0  0.0  0.0  0.0    0.0   0.0  0.0\n",
      "O      NaN  NaN  0.0  NaN  0.0  NaN  NaN    0.0   NaN  0.0\n",
      "P      0.0  NaN  0.0  0.0  NaN  0.0  0.0    0.0   NaN  0.0\n",
      "Q      0.0  NaN  0.0  0.0  NaN  NaN  0.0    0.0   0.0  0.0\n",
      "R      0.0  0.0  0.0  NaN  0.0  0.0  0.0    NaN   NaN  0.0\n",
      "U      0.0  NaN  NaN  NaN  NaN  NaN  NaN    NaN   NaN  NaN\n",
      "V      0.0  0.0  0.0  NaN  0.0  NaN  NaN    NaN   0.0  0.0\n",
      "W      0.0  0.0  0.0  0.0  0.0  0.0  0.0    0.0   0.0  NaN\n",
      "X      0.0  NaN  NaN  0.0  0.0  0.0  6.0  199.0  12.0  0.0\n",
      "Y      0.0  0.0  0.0  0.0  0.0  0.0  NaN    NaN   1.0  NaN\n"
     ]
    }
   ],
   "source": [
    "print(heattable)"
   ]
  },
  {
   "cell_type": "markdown",
   "id": "ccd42d40",
   "metadata": {},
   "source": [
    "上图解释：X60-X84 这一块是ICD10系统里的X60-X84 故意自害，make sense\n",
    "于是之后我们可以再dig into X7 这一块儿看看他们自杀的方式有哪些：具体可以查阅\n",
    "https://zh.m.wikipedia.org/wiki/ICD-10_第二十章：疾病和死亡的外因\n",
    "这里有一个假设，或许我们可以分析一下某个有自杀倾向的人，会倾向于用什么样的方式自杀，然后可以让他们远离这种东西。"
   ]
  },
  {
   "cell_type": "markdown",
   "id": "463ff839",
   "metadata": {},
   "source": [
    "From the Figure above we can see that most of the suicidal cases, the underlying cause of death belongs to X7**"
   ]
  },
  {
   "cell_type": "markdown",
   "id": "8c622f69",
   "metadata": {},
   "source": [
    "### 2.1.2 Deeper insight into X7"
   ]
  },
  {
   "cell_type": "markdown",
   "id": "523a1ff0",
   "metadata": {},
   "source": [
    "We can dig into Block X7 and take a look inside to see the main method that people use to suicide."
   ]
  },
  {
   "cell_type": "code",
   "execution_count": 33,
   "id": "9f071183",
   "metadata": {},
   "outputs": [
    {
     "data": {
      "text/plain": [
       "<AxesSubplot:xlabel='ICD_4', ylabel='ICD_3'>"
      ]
     },
     "execution_count": 33,
     "metadata": {},
     "output_type": "execute_result"
    },
    {
     "data": {
      "image/png": "[encoded data removed]",
      "text/plain": [
       "<Figure size 720x720 with 2 Axes>"
      ]
     },
     "metadata": {},
     "output_type": "display_data"
    }
   ],
   "source": [
    "suicide_X=suicide[suicide['ICD_1']==\"X\"]\n",
    "suicide_X7=suicide_X[suicide_X['ICD_2']=='7']\n",
    "heattable_X7 = suicide_X7.pivot_table(index = 'ICD_3', columns = 'ICD_4',values='mandeath',aggfunc=np.sum)\n",
    "plt.figure(figsize=(10, 10))\n",
    "sns.heatmap(data = heattable_X7,cmap='YlGnBu',annot = True, fmt=\"g\")"
   ]
  },
  {
   "cell_type": "markdown",
   "id": "ac607301",
   "metadata": {},
   "source": [
    "From the Figure above we can see they did not further define "
   ]
  },
  {
   "cell_type": "markdown",
   "id": "6aad9371",
   "metadata": {},
   "source": [
    "### 2.1.3 Other underlying cause of death"
   ]
  },
  {
   "cell_type": "markdown",
   "id": "f10da766",
   "metadata": {},
   "source": [
    "Let's remove Block X7 and see what other underlying causes of suicide."
   ]
  },
  {
   "cell_type": "code",
   "execution_count": 34,
   "id": "7994edf2",
   "metadata": {},
   "outputs": [
    {
     "data": {
      "text/plain": [
       "<AxesSubplot:xlabel='ICD_2', ylabel='ICD_1'>"
      ]
     },
     "execution_count": 34,
     "metadata": {},
     "output_type": "execute_result"
    },
    {
     "data": {
      "image/png": "[encoded data removed]",
      "text/plain": [
       "<Figure size 720x720 with 2 Axes>"
      ]
     },
     "metadata": {},
     "output_type": "display_data"
    }
   ],
   "source": [
    "#suicide_other = suicide.loc[(suicide['ICD_1'] != \"X\")&(suicide['ICD_2'] != \"7\")]\n",
    "#heaptable_other = suicide_other.pivot_table(index = 'ICD_1', columns = 'ICD_2', values = 'mandeath', aggfunc = np.sum)\n",
    "plt.figure(figsize=(10, 10))\n",
    "sns.heatmap(data = heattable,cmap='coolwarm', annot=True,fmt='g',mask = heattable == 199 )"
   ]
  },
  {
   "cell_type": "markdown",
   "id": "902ef16c",
   "metadata": {},
   "source": [
    "### Let's refer to the ICD System, we can see that:\n",
    "#### 1. There are 12 cases people's underlying cause of death is \"Intentional self-harm by jumping from a high place\"\n",
    "#### 2. There are 6 peoples' ucod is \"Intentional self-poisoning by and exposure to nonopioid analgesics, antipyretics and antirheumatics\"\n",
    "#### 3. There is 1 person's ucod is \"Type 1 Diabetes\"\n",
    "#### 4. There is 1 person's ucod is \"Malignant neoplasms\""
   ]
  },
  {
   "cell_type": "markdown",
   "id": "79af6b09",
   "metadata": {},
   "source": [
    "## 2.2 Trends"
   ]
  },
  {
   "cell_type": "code",
   "execution_count": 35,
   "id": "7acb9e45",
   "metadata": {},
   "outputs": [
    {
     "data": {
      "text/plain": [
       "<AxesSubplot:xlabel='weekday', ylabel='monthdth'>"
      ]
     },
     "execution_count": 35,
     "metadata": {},
     "output_type": "execute_result"
    },
    {
     "data": {
      "image/png": "[encoded data removed]",
      "text/plain": [
       "<Figure size 720x720 with 2 Axes>"
      ]
     },
     "metadata": {},
     "output_type": "display_data"
    }
   ],
   "source": [
    "heaptable_trends = suicide.pivot_table(index = 'monthdth', columns = 'weekday', values = 'mandeath', aggfunc = np.sum)\n",
    "\n",
    "plt.figure(figsize=(10, 10))\n",
    "sns.heatmap(data = heaptable_trends,cmap='YlGnBu',annot = True, fmt=\"g\")\n"
   ]
  },
  {
   "cell_type": "markdown",
   "id": "0e0af20d",
   "metadata": {},
   "source": [
    "The figure about tells us the suicide case number regarding to Month and weekday. 重灾区在1月的周六，8月的周日"
   ]
  },
  {
   "cell_type": "code",
   "execution_count": 36,
   "id": "6d5a84c3",
   "metadata": {},
   "outputs": [
    {
     "data": {
      "image/png": "[encoded data removed]",
      "text/plain": [
       "<Figure size 432x288 with 1 Axes>"
      ]
     },
     "metadata": {},
     "output_type": "display_data"
    }
   ],
   "source": [
    "monthly_trends = suicide.pivot_table(index = 'monthdth', columns = 'sex', values = 'mandeath', aggfunc = np.sum)\n",
    "monthly_trends.plot()\n",
    "plt.xticks(np.arange(1, 13, step=1))\n",
    "plt.show()"
   ]
  },
  {
   "cell_type": "code",
   "execution_count": 37,
   "id": "cecda978",
   "metadata": {},
   "outputs": [
    {
     "data": {
      "image/png": "[encoded data removed]",
      "text/plain": [
       "<Figure size 432x288 with 1 Axes>"
      ]
     },
     "metadata": {},
     "output_type": "display_data"
    }
   ],
   "source": [
    "weekly_trends = suicide.pivot_table(index = 'weekday',columns= 'sex',values = 'mandeath', aggfunc = np.sum)\n",
    "weekly_trends.plot()\n",
    "plt.xticks(np.arange(1, 8, step=1))\n",
    "plt.show()"
   ]
  },
  {
   "cell_type": "markdown",
   "id": "e4dc9566",
   "metadata": {},
   "source": [
    "Everyone Enjoys Friday"
   ]
  },
  {
   "cell_type": "markdown",
   "id": "95a97abb",
   "metadata": {},
   "source": [
    "## 2.3 Gender & Age Analysis"
   ]
  },
  {
   "cell_type": "markdown",
   "id": "8373372b",
   "metadata": {},
   "source": [
    "Age Category Referred to :https://integrisok.com/resources/on-your-health/2015/october/stages-of-life-health-for-every-age"
   ]
  },
  {
   "cell_type": "code",
   "execution_count": 38,
   "id": "550c1c05",
   "metadata": {},
   "outputs": [],
   "source": [
    "def get_age_group(x):\n",
    "    if (x[\"age\"] >= 0) &(x[\"age\"] <= 1):\n",
    "        return \"Infant\"\n",
    "    if (x[\"age\"] >= 2) &(x[\"age\"] <= 4):\n",
    "        return \"Toddler\"\n",
    "    if (x[\"age\"] >= 5) &(x[\"age\"] <= 12):\n",
    "        return \"Child\"\n",
    "    if (x[\"age\"] >= 13) &(x[\"age\"] <= 19):\n",
    "        return \"Teen\"\n",
    "    if (x[\"age\"] >= 20) &(x[\"age\"] <= 39):\n",
    "        return \"Adult\"\n",
    "    if (x[\"age\"] >= 40) &(x[\"age\"] <= 59):\n",
    "        return \"Mid-age Adult\"\n",
    "    else:\n",
    "        return \"Senior\"\n",
    "    \n",
    "suicide.loc[:,\"Age Group\"] = suicide.apply(get_age_group,axis=1)"
   ]
  },
  {
   "cell_type": "code",
   "execution_count": 39,
   "id": "3cf01458",
   "metadata": {},
   "outputs": [
    {
     "data": {
      "text/plain": [
       "<AxesSubplot:xlabel='Age Group', ylabel='sex'>"
      ]
     },
     "execution_count": 39,
     "metadata": {},
     "output_type": "execute_result"
    },
    {
     "data": {
      "image/png": "[encoded data removed]",
      "text/plain": [
       "<Figure size 720x720 with 2 Axes>"
      ]
     },
     "metadata": {},
     "output_type": "display_data"
    }
   ],
   "source": [
    "heaptable_genderage = suicide.pivot_table(index = 'sex', columns = 'Age Group', values = 'mandeath', aggfunc = np.sum)\n",
    "\n",
    "plt.figure(figsize=(10, 10))\n",
    "sns.heatmap(data = heaptable_genderage,cmap='YlGnBu',annot = True, fmt=\"g\")"
   ]
  },
  {
   "cell_type": "markdown",
   "id": "23f061fc",
   "metadata": {},
   "source": [
    "From the Figure above we can see that male people have larger potential to suicide than female.\n",
    "More, Adult and Senior are more likely to suicide."
   ]
  },
  {
   "cell_type": "markdown",
   "id": "62d22f5f",
   "metadata": {},
   "source": [
    "## 2.3 Gender & Martial Status Analysis"
   ]
  },
  {
   "cell_type": "code",
   "execution_count": 40,
   "id": "610af1a6",
   "metadata": {},
   "outputs": [
    {
     "data": {
      "text/plain": [
       "<AxesSubplot:xlabel='marstat', ylabel='sex'>"
      ]
     },
     "execution_count": 40,
     "metadata": {},
     "output_type": "execute_result"
    },
    {
     "data": {
      "image/png": "[encoded data removed]",
      "text/plain": [
       "<Figure size 720x720 with 2 Axes>"
      ]
     },
     "metadata": {},
     "output_type": "display_data"
    }
   ],
   "source": [
    "heaptable_gendermarstat = suicide.pivot_table(index = 'sex', columns = 'marstat', values = 'mandeath', aggfunc = np.sum)\n",
    "\n",
    "\n",
    "plt.figure(figsize=(10, 10))\n",
    "\n",
    "\n",
    "sns.heatmap(data = heaptable_gendermarstat,cmap='YlGnBu',annot = True, fmt=\"g\")"
   ]
  },
  {
   "cell_type": "markdown",
   "id": "024230d1",
   "metadata": {},
   "source": [
    "We need to revise this part in order to get the ratio value of the stuff above."
   ]
  },
  {
   "cell_type": "code",
   "execution_count": 51,
   "id": "92b2edfd",
   "metadata": {},
   "outputs": [],
   "source": [
    "Widowed_Male=len(suicide.loc[(suicide[\"sex\"] == \"M\") & (suicide[\"marstat\"] == \"W\")])\n",
    "Widowed_Female=len(suicide.loc[(suicide[\"sex\"] == \"F\") & (suicide[\"marstat\"] == \"W\")])\n",
    "Married_Male=len(suicide.loc[(suicide[\"sex\"] == \"M\") & (suicide[\"marstat\"] == \"M\")])\n",
    "Married_Female=len(suicide.loc[(suicide[\"sex\"] == \"F\") & (suicide[\"marstat\"] == \"M\")])\n",
    "Single_Male=len(suicide.loc[(suicide[\"sex\"] == \"M\") & (suicide[\"marstat\"] == \"S\")])\n",
    "Single_Female=len(suicide.loc[(suicide[\"sex\"] == \"F\") & (suicide[\"marstat\"] == \"S\")])\n",
    "Div_Male=len(suicide.loc[(suicide[\"sex\"] == \"M\") & (suicide[\"marstat\"] == \"D\")])\n",
    "Div_Female=len(suicide.loc[(suicide[\"sex\"] == \"F\") & (suicide[\"marstat\"] == \"D\")])\n",
    "\n",
    "heaptable_gendermarstat.loc['F','W']=heaptable_gendermarstat.loc['F','W']/Widowed_Female\n",
    "heaptable_gendermarstat.loc['M','W']=heaptable_gendermarstat.loc['M','W']/Widowed_Male\n",
    "heaptable_gendermarstat.loc['F','S']=heaptable_gendermarstat.loc['F','S']/Single_Female\n",
    "heaptable_gendermarstat.loc['M','S']=heaptable_gendermarstat.loc['M','S']/Single_Male\n",
    "heaptable_gendermarstat.loc['F','M']=heaptable_gendermarstat.loc['F','M']/Married_Female\n",
    "heaptable_gendermarstat.loc['M','M']=heaptable_gendermarstat.loc['M','M']/Married_Male\n",
    "heaptable_gendermarstat.loc['F','D']=heaptable_gendermarstat.loc['F','D']/Div_Female\n",
    "heaptable_gendermarstat.loc['M','D']=heaptable_gendermarstat.loc['M','D']/Div_Male"
   ]
  },
  {
   "cell_type": "code",
   "execution_count": 52,
   "id": "c319ab64",
   "metadata": {},
   "outputs": [
    {
     "data": {
      "text/plain": [
       "<AxesSubplot:xlabel='marstat', ylabel='sex'>"
      ]
     },
     "execution_count": 52,
     "metadata": {},
     "output_type": "execute_result"
    },
    {
     "data": {
      "image/png": "[encoded data removed]",
      "text/plain": [
       "<Figure size 432x288 with 2 Axes>"
      ]
     },
     "metadata": {},
     "output_type": "display_data"
    }
   ],
   "source": [
    "sns.heatmap(data = heaptable_gendermarstat,cmap='YlGnBu',annot = True, fmt=\"g\")"
   ]
  },
  {
   "cell_type": "markdown",
   "id": "f9680ce3",
   "metadata": {},
   "source": [
    "# Conclusion: Single Male, in the Hell; (and why the HELL are WIDOWED people less likely to commit suicide???)"
   ]
  },
  {
   "cell_type": "markdown",
   "id": "d97598df",
   "metadata": {},
   "source": [
    "## 2.4 Gender Race Analysis"
   ]
  },
  {
   "cell_type": "code",
   "execution_count": null,
   "id": "1e1b9f62",
   "metadata": {},
   "outputs": [],
   "source": [
    "heaptable_genderrace = suicide.pivot_table(index = 'sex', columns = 'race', values = 'mandeath', aggfunc = np.sum)\n",
    "\n",
    "plt.figure(figsize=(10, 10))\n",
    "sns.heatmap(data = heaptable_genderrace,cmap='YlGnBu',annot = True, fmt=\"g\")"
   ]
  },
  {
   "cell_type": "markdown",
   "id": "7c881328",
   "metadata": {},
   "source": [
    "## 2.5 Education Level Analysis"
   ]
  },
  {
   "cell_type": "code",
   "execution_count": null,
   "id": "4a5a9f4d",
   "metadata": {},
   "outputs": [],
   "source": [
    "heaptable_educlevel = suicide.pivot_table(index = 'educ2003',columns='sex', values = 'mandeath', aggfunc = np.sum)\n",
    "heaptable_educlevel.plot()\n",
    "plt.xticks(np.arange(1, 10, step=1))\n",
    "plt.show()"
   ]
  },
  {
   "cell_type": "code",
   "execution_count": null,
   "id": "c4f3d334",
   "metadata": {},
   "outputs": [],
   "source": [
    "suicide.to_csv(\"suicide2020.csv\")"
   ]
  },
  {
   "cell_type": "markdown",
   "id": "7ab196ed",
   "metadata": {},
   "source": [
    "### Make a kernel density estimate of the distribution of the target values and interpret the distribution. \n"
   ]
  },
  {
   "cell_type": "code",
   "execution_count": null,
   "id": "06357d9f",
   "metadata": {},
   "outputs": [],
   "source": [
    "sns.kdeplot(data=suicide[\"mandeath\"])\n",
    "plt.xlabel(\"target\")\n",
    "plt.show()"
   ]
  },
  {
   "cell_type": "markdown",
   "id": "583db46e",
   "metadata": {},
   "source": [
    "from this distribution, we can see that the target variable follows a skewed distribution with the mean not centered with the median."
   ]
  },
  {
   "cell_type": "markdown",
   "id": "b356dff9",
   "metadata": {},
   "source": [
    "### Compute the correlation between each feature and the target and find the 3 most correlated features.\n"
   ]
  },
  {
   "cell_type": "code",
   "execution_count": null,
   "id": "a0a7467e",
   "metadata": {},
   "outputs": [],
   "source": [
    "suicide.corr()"
   ]
  },
  {
   "cell_type": "code",
   "execution_count": null,
   "id": "595a8a16",
   "metadata": {},
   "outputs": [],
   "source": [
    "correlation = suicide.corrwith(suicide['mandeath'])\n",
    "correlationmost = correlation.loc[suicide.corrwith(suicide['mandeath'])>0.01]\n",
    "correlationmost.sort_values()"
   ]
  },
  {
   "cell_type": "code",
   "execution_count": null,
   "id": "d8e5f34f",
   "metadata": {},
   "outputs": [],
   "source": [
    "correlationleast = correlation.loc[suicide.corrwith(suicide['mandeath'])<-0.01]\n",
    "correlationleast.sort_values()"
   ]
  },
  {
   "cell_type": "code",
   "execution_count": null,
   "id": "bd537419",
   "metadata": {
    "scrolled": true
   },
   "outputs": [],
   "source": [
    "suicide.columns.tolist()"
   ]
  },
  {
   "cell_type": "code",
   "execution_count": null,
   "id": "04173ca2",
   "metadata": {},
   "outputs": [],
   "source": [
    "plt.figure(figsize=(58,58))\n",
    "sns.heatmap(suicide.corr(),annot=True, cmap='coolwarm',fmt='.2f')"
   ]
  },
  {
   "cell_type": "code",
   "execution_count": null,
   "id": "75d2231e",
   "metadata": {},
   "outputs": [],
   "source": [
    "dfhalf = suicide[['mandeath','educ2003','sex','age','placdth',\n",
    " 'sex_F', 'sex_M', 'marstat_D', 'marstat_M','marstat_S', 'marstat_W',\n",
    "'race_American Indian', 'race_Black', 'race_Chinese', 'race_Filipino', 'race_Guamanian',\n",
    "'race_Hawaiian', 'race_Japanese', 'race_Korean', 'race_White','ranum','hispanic','restatus']]\n",
    "plt.figure(figsize=(20,20))\n",
    "sns.heatmap(dfhalf.corr(),annot=True, cmap='coolwarm',fmt='.3f')"
   ]
  },
  {
   "cell_type": "code",
   "execution_count": null,
   "id": "1de050b8",
   "metadata": {},
   "outputs": [],
   "source": [
    "suicide[['mandeath','educ2003','sex','age','placdth',\n",
    " 'sex_F', 'sex_M', 'marstat_D', 'marstat_M','marstat_S', 'marstat_W',\n",
    "'race_American Indian', 'race_Black', 'race_Chinese', 'race_Filipino', 'race_Guamanian',\n",
    "'race_Hawaiian', 'race_Japanese', 'race_Korean', 'race_White']]"
   ]
  },
  {
   "cell_type": "code",
   "execution_count": null,
   "id": "ee146c10",
   "metadata": {},
   "outputs": [],
   "source": [
    "suicide['raceforvis']"
   ]
  },
  {
   "cell_type": "code",
   "execution_count": null,
   "id": "16ebac3b",
   "metadata": {},
   "outputs": [],
   "source": [
    "suicide[\"raceforvis\"].replace({18: 8, 28: 9, 38: 10,\\\n",
    "                         48:11, 58: 12,68:13,78:14}, inplace=True)\n",
    "suicide[\"raceforvis\"].describe()"
   ]
  },
  {
   "cell_type": "code",
   "execution_count": null,
   "id": "672d00d0",
   "metadata": {},
   "outputs": [],
   "source": [
    "suicide['mandeath'] =  suicide['mandeath'].astype(int)\n",
    "suicide['mandeath']"
   ]
  },
  {
   "cell_type": "code",
   "execution_count": null,
   "id": "e1bda347",
   "metadata": {},
   "outputs": [],
   "source": [
    "plt.hist(suicide['raceforvis'])"
   ]
  },
  {
   "cell_type": "code",
   "execution_count": null,
   "id": "31f4e38f",
   "metadata": {},
   "outputs": [],
   "source": [
    "plt.hist(suicide['mandeath'])"
   ]
  },
  {
   "cell_type": "code",
   "execution_count": null,
   "id": "483658f4",
   "metadata": {},
   "outputs": [],
   "source": [
    "suicide[\"age\"].describe()"
   ]
  },
  {
   "cell_type": "code",
   "execution_count": null,
   "id": "56756e77",
   "metadata": {},
   "outputs": [],
   "source": [
    "plt.hist(suicide['age'])"
   ]
  },
  {
   "cell_type": "code",
   "execution_count": null,
   "id": "9757583f",
   "metadata": {},
   "outputs": [],
   "source": [
    "plt.hist(suicide['sex'])"
   ]
  },
  {
   "cell_type": "code",
   "execution_count": null,
   "id": "8fe1124b",
   "metadata": {},
   "outputs": [],
   "source": [
    "plt.hist(suicide['educ2003'])"
   ]
  },
  {
   "cell_type": "code",
   "execution_count": null,
   "id": "59944e36",
   "metadata": {},
   "outputs": [],
   "source": [
    "plt.hist(suicide['marstat'])"
   ]
  },
  {
   "cell_type": "code",
   "execution_count": null,
   "id": "89de80e0",
   "metadata": {},
   "outputs": [],
   "source": [
    "plt.hist(suicide['placdth'])"
   ]
  },
  {
   "cell_type": "code",
   "execution_count": null,
   "id": "fab4c0ea",
   "metadata": {},
   "outputs": [],
   "source": [
    "plt.hist(suicide['ranum'])\n",
    "plt.xticks(np.arange(15,step=1))"
   ]
  },
  {
   "cell_type": "code",
   "execution_count": null,
   "id": "3f84fa48",
   "metadata": {},
   "outputs": [],
   "source": [
    "plt.hist(suicide['restatus'])\n",
    "plt.xticks([1,2,3,4])"
   ]
  },
  {
   "cell_type": "code",
   "execution_count": null,
   "id": "a542de8b",
   "metadata": {},
   "outputs": [],
   "source": [
    "plt.hist(suicide['hispanic'])"
   ]
  },
  {
   "cell_type": "code",
   "execution_count": null,
   "id": "f90a52cf",
   "metadata": {},
   "outputs": [],
   "source": [
    "suicide_people=suicide.loc[suicide['mandeath']==1]"
   ]
  },
  {
   "cell_type": "code",
   "execution_count": null,
   "id": "e8d0d94b",
   "metadata": {},
   "outputs": [],
   "source": [
    "plt.hist(suicide_people['sex'])"
   ]
  },
  {
   "cell_type": "code",
   "execution_count": null,
   "id": "c880ea32",
   "metadata": {},
   "outputs": [],
   "source": [
    "plt.hist(suicide_people['raceforvis'],log=True)\n",
    "plt.xticks(np.arange(max(suicide_people['raceforvis']),step=1))"
   ]
  },
  {
   "cell_type": "code",
   "execution_count": null,
   "id": "f43eb967",
   "metadata": {},
   "outputs": [],
   "source": [
    "white_suicide_ratio_all = sum(suicide_people['raceforvis']==1)/len(suicide_people)\n",
    "white_suicide_ratio_all"
   ]
  },
  {
   "cell_type": "code",
   "execution_count": null,
   "id": "15ae57b7",
   "metadata": {},
   "outputs": [],
   "source": [
    "white_suicide_ratio_suicide = sum(suicide['raceforvis']==1)/len(suicide)\n",
    "white_suicide_ratio_suicide"
   ]
  },
  {
   "cell_type": "code",
   "execution_count": null,
   "id": "e3979631",
   "metadata": {},
   "outputs": [],
   "source": [
    "plt.hist(suicide_people['educ2003'])\n",
    "plt.xticks(np.arange(max(suicide_people['educ2003']),step=1))"
   ]
  },
  {
   "cell_type": "code",
   "execution_count": null,
   "id": "bf1ba330",
   "metadata": {},
   "outputs": [],
   "source": [
    "plt.hist(suicide_people['age'])"
   ]
  },
  {
   "cell_type": "code",
   "execution_count": null,
   "id": "15a30911",
   "metadata": {},
   "outputs": [],
   "source": [
    "plt.hist(suicide_people['marstat'])"
   ]
  },
  {
   "cell_type": "code",
   "execution_count": null,
   "id": "5d3b551d",
   "metadata": {},
   "outputs": [],
   "source": [
    "plt.hist(suicide_people['placdth'])"
   ]
  },
  {
   "cell_type": "code",
   "execution_count": null,
   "id": "bc4ef524",
   "metadata": {},
   "outputs": [],
   "source": [
    "plt.hist(suicide_people['ranum'])"
   ]
  },
  {
   "cell_type": "code",
   "execution_count": null,
   "id": "b7c45dd2",
   "metadata": {},
   "outputs": [],
   "source": [
    "plt.hist(suicide_people['restatus'])"
   ]
  },
  {
   "cell_type": "code",
   "execution_count": null,
   "id": "f607fe3e",
   "metadata": {},
   "outputs": [],
   "source": [
    "plt.hist(suicide_people['hispanic'])"
   ]
  },
  {
   "cell_type": "code",
   "execution_count": null,
   "id": "628b2467",
   "metadata": {},
   "outputs": [],
   "source": []
  },
  {
   "cell_type": "code",
   "execution_count": null,
   "id": "95f817aa",
   "metadata": {},
   "outputs": [],
   "source": []
  },
  {
   "cell_type": "code",
   "execution_count": null,
   "id": "95a0b426",
   "metadata": {},
   "outputs": [],
   "source": []
  },
  {
   "cell_type": "code",
   "execution_count": null,
   "id": "8c5792df",
   "metadata": {},
   "outputs": [],
   "source": []
  }
 ],
 "metadata": {
  "kernelspec": {
   "display_name": "Python 3",
   "language": "python",
   "name": "python3"
  },
  "language_info": {
   "codemirror_mode": {
    "name": "ipython",
    "version": 3
   },
   "file_extension": ".py",
   "mimetype": "text/x-python",
   "name": "python",
   "nbconvert_exporter": "python",
   "pygments_lexer": "ipython3",
   "version": "3.8.8"
  }
 },
 "nbformat": 4,
 "nbformat_minor": 5
}
