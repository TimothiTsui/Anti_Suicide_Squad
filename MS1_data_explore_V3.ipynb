{
 "cells": [
  {
   "cell_type": "code",
   "execution_count": null,
   "id": "1457a943",
   "metadata": {},
   "outputs": [],
   "source": [
    "import matplotlib\n",
    "import matplotlib.pyplot as plt\n",
    "import seaborn as sns; sns.set()\n",
    "import numpy as np\n",
    "import pandas as pd\n",
    "from sklearn.preprocessing import StandardScaler\n",
    "from sklearn.preprocessing import MinMaxScaler\n",
    "from sklearn.neighbors import KernelDensity\n"
   ]
  },
  {
   "cell_type": "markdown",
   "id": "61da875a",
   "metadata": {},
   "source": [
    "# 1. Get the suicidal dataset"
   ]
  },
  {
   "cell_type": "markdown",
   "id": "300fcca1",
   "metadata": {},
   "source": [
    "## 1.1 Load all death data"
   ]
  },
  {
   "cell_type": "code",
   "execution_count": null,
   "id": "303324bd",
   "metadata": {},
   "outputs": [],
   "source": [
    "df_raw = pd.read_csv(\"2020.csv\",low_memory=False)"
   ]
  },
  {
   "cell_type": "code",
   "execution_count": null,
   "id": "176d5595",
   "metadata": {},
   "outputs": [],
   "source": [
    "features= df_raw.columns.tolist()\n",
    "print(features,end=\"，\")"
   ]
  },
  {
   "cell_type": "markdown",
   "id": "cd64cd88",
   "metadata": {},
   "source": [
    "## 1.2 Fill the NaN "
   ]
  },
  {
   "cell_type": "code",
   "execution_count": null,
   "id": "7fb9c95c",
   "metadata": {},
   "outputs": [],
   "source": [
    "df = df_raw.fillna(0)"
   ]
  },
  {
   "cell_type": "code",
   "execution_count": null,
   "id": "64ccc500",
   "metadata": {},
   "outputs": [],
   "source": [
    "df.describe()"
   ]
  },
  {
   "cell_type": "markdown",
   "id": "ad21e980",
   "metadata": {},
   "source": [
    "## 1.3 Drop those columns with no data"
   ]
  },
  {
   "cell_type": "code",
   "execution_count": null,
   "id": "57227559",
   "metadata": {},
   "outputs": [],
   "source": [
    "df = df.loc[:, (df != 0).any(axis=0)]"
   ]
  },
  {
   "cell_type": "code",
   "execution_count": null,
   "id": "276a5729",
   "metadata": {},
   "outputs": [],
   "source": [
    "df.describe()"
   ]
  },
  {
   "cell_type": "code",
   "execution_count": null,
   "id": "3240580d",
   "metadata": {},
   "outputs": [],
   "source": [
    "sum(df['mandeath'] == 7)"
   ]
  },
  {
   "cell_type": "markdown",
   "id": "9bdbe13f",
   "metadata": {},
   "source": [
    "## 1.4 Drop the data points that hasn't specified the manner of death"
   ]
  },
  {
   "cell_type": "code",
   "execution_count": null,
   "id": "e90d7e60",
   "metadata": {},
   "outputs": [],
   "source": [
    "df = df.loc[df['mandeath'] != 0]"
   ]
  },
  {
   "cell_type": "code",
   "execution_count": null,
   "id": "4eb71bed",
   "metadata": {
    "scrolled": true
   },
   "outputs": [],
   "source": [
    "df.describe()"
   ]
  },
  {
   "cell_type": "markdown",
   "id": "ca703014",
   "metadata": {},
   "source": [
    "#### Manner of Death: 1. accident 2. suicide 3. homicide 4. pending investigation 5. could not determine 6. self-inflicted 7. natural Nan: Not Specified "
   ]
  },
  {
   "cell_type": "code",
   "execution_count": null,
   "id": "0214d009",
   "metadata": {},
   "outputs": [],
   "source": [
    "df[\"mandeath\"].replace({2: 1, 1: 0,3: 0,4: 0,5: 0,6: 0,7: 0}, inplace=True)"
   ]
  },
  {
   "cell_type": "markdown",
   "id": "3b8ba77a",
   "metadata": {},
   "source": [
    "Now we have the modified death data, mandeath == 1 is suicide, mandeath == other values means death caused by other reasons."
   ]
  },
  {
   "cell_type": "code",
   "execution_count": null,
   "id": "f47c9d77",
   "metadata": {},
   "outputs": [],
   "source": [
    "suicide = df"
   ]
  },
  {
   "cell_type": "code",
   "execution_count": null,
   "id": "19fc18aa",
   "metadata": {},
   "outputs": [],
   "source": [
    "suicide"
   ]
  },
  {
   "cell_type": "markdown",
   "id": "7953f290",
   "metadata": {},
   "source": [
    "#扔数据\n",
    "年龄定义在12岁之后，因为之前的年龄都不一定"
   ]
  },
  {
   "cell_type": "code",
   "execution_count": null,
   "id": "df5f535c",
   "metadata": {},
   "outputs": [],
   "source": [
    "suicide_str = pd.DataFrame(suicide)\n",
    "suicide_str['age'] = suicide['age'].apply(str)\n",
    "age_NotSpecified = list(suicide_str[suicide_str['age'].str.contains('999')].index)\n",
    "suicide = suicide.drop(index = age_NotSpecified, axis=1)\n",
    "suicide['age'] = suicide['age'].apply(int)"
   ]
  },
  {
   "cell_type": "markdown",
   "id": "72967538",
   "metadata": {},
   "source": [
    "## 1.5 Decoding the age:\n",
    "#### 1. if the first digit is 1, then the last three digits represent the age under years.\n",
    "#### 2. if the first digit is 2, then the last three digits represent the age under months.\n",
    "#### 3. if the first digit is 4, then the last three digits represent the age under days.\n",
    "#### 4. if the first digit is 5, then the last three digits represent the age under hours.\n",
    "#### 5. if the first digit is 6, then the last three digits represent the age under minutes.\n",
    "#### 6. if any three digits are 999, then the age is not speficied.\n",
    "\n",
    "Here we filter out the index of keys with unspecified age, and get the index list to drop at next step."
   ]
  },
  {
   "cell_type": "code",
   "execution_count": null,
   "id": "0bb3caf0",
   "metadata": {},
   "outputs": [],
   "source": [
    "suicide.loc[(suicide['age']>=1000)&(suicide['age']<2000),'age']= suicide['age'] - 1000"
   ]
  },
  {
   "cell_type": "code",
   "execution_count": null,
   "id": "270a91ca",
   "metadata": {},
   "outputs": [],
   "source": [
    "suicide.loc[(suicide['age']>=2000)&(suicide['age']<3000),'age']=(suicide['age']-2000)/12"
   ]
  },
  {
   "cell_type": "code",
   "execution_count": null,
   "id": "5255cce7",
   "metadata": {},
   "outputs": [],
   "source": [
    "suicide.loc[(suicide['age']>=4000)&(suicide['age']<5000),'age']=(suicide['age']-4000)/365"
   ]
  },
  {
   "cell_type": "markdown",
   "id": "02c73dc8",
   "metadata": {},
   "source": [
    "Although we have people died when they were just a couple of hours old, we actually can ignore that since since they were that young, it is impossible for them to \"commit a suicide\""
   ]
  },
  {
   "cell_type": "code",
   "execution_count": null,
   "id": "e62f18f2",
   "metadata": {},
   "outputs": [],
   "source": [
    "suicide[(suicide['age']>=5000)&(suicide['age']<6000)]\n",
    "suicide.loc[(suicide['age']>=5000)&(suicide['age']<6000),'age']=(suicide['age']-5000)/24/365"
   ]
  },
  {
   "cell_type": "markdown",
   "id": "f5429b9f",
   "metadata": {},
   "source": [
    "I am so sorry that you died so young babe!"
   ]
  },
  {
   "cell_type": "code",
   "execution_count": null,
   "id": "6dd7055d",
   "metadata": {},
   "outputs": [],
   "source": [
    "suicide[(suicide['age']>=6000)&(suicide['age']<7000)]\n",
    "suicide.loc[(suicide['age']>=6000)&(suicide['age']<7000),'age']=(suicide['age']-6000)/60/24/365"
   ]
  },
  {
   "cell_type": "code",
   "execution_count": null,
   "id": "690b443e",
   "metadata": {},
   "outputs": [],
   "source": []
  },
  {
   "cell_type": "markdown",
   "id": "c75c9b5b",
   "metadata": {},
   "source": [
    "We throw away rows with unspecified education levels."
   ]
  },
  {
   "cell_type": "code",
   "execution_count": null,
   "id": "ad27926f",
   "metadata": {},
   "outputs": [],
   "source": [
    "suicide=suicide.loc[suicide['educ2003'] != 9]\n",
    "suicide=suicide.loc[suicide['marstat'] != 'U']\n",
    "suicide=suicide.loc[suicide['weekday'] != 9]\n",
    "suicide=suicide.loc[suicide['placdth'] != 9]\n",
    "suicide=suicide.loc[suicide['injury'] != 'U']"
   ]
  },
  {
   "cell_type": "markdown",
   "id": "aef29451",
   "metadata": {},
   "source": [
    "One hot Encoding for Sex"
   ]
  },
  {
   "cell_type": "code",
   "execution_count": null,
   "id": "30b9cbcb",
   "metadata": {},
   "outputs": [],
   "source": [
    "suicide = suicide.join(pd.get_dummies(suicide[[\"sex\"]]))"
   ]
  },
  {
   "cell_type": "markdown",
   "id": "cc7810bf",
   "metadata": {},
   "source": [
    "One hot Encoding for Maritial Status"
   ]
  },
  {
   "cell_type": "code",
   "execution_count": null,
   "id": "61ee90e9",
   "metadata": {},
   "outputs": [],
   "source": [
    "suicide = suicide.join(pd.get_dummies(suicide[[\"marstat\"]]))"
   ]
  },
  {
   "cell_type": "markdown",
   "id": "e3f1d6fd",
   "metadata": {},
   "source": [
    "可能要先encode一下race 然后再去one hot encoding；"
   ]
  },
  {
   "cell_type": "code",
   "execution_count": null,
   "id": "6e29d894",
   "metadata": {},
   "outputs": [],
   "source": [
    "print(suicide.columns)\n",
    "suicide=suicide.drop(columns=['educflag','econds_1','year','methdisp','autopsy',\\\n",
    "                      'ageflag','ager52', 'ager27', 'ager12', 'ager22',\\\n",
    "                      'brace','raceimp', 'racer3', 'racer5', 'hspanicr', 'race40'])"
   ]
  },
  {
   "cell_type": "markdown",
   "id": "730126cd",
   "metadata": {},
   "source": [
    "1. ranum: Number of Entity-Axis Conditions 这个列出来了有多少个conditions\n",
    "2. record_n: position number of nth condition\n",
    "3. record_n: Sequence of condition within part/line\n",
    "\n",
    "The record axis codes are assigned in terms of the set of codes that best describe the overall medical certification portion of the death certificate.\n",
    "\n",
    "Refer to https://www.cdc.gov/nchs/data/datalinkage/underlying_and_multiple_cause_of_death_codes.pdf\n",
    "\n"
   ]
  },
  {
   "cell_type": "code",
   "execution_count": null,
   "id": "a40d5074",
   "metadata": {},
   "outputs": [],
   "source": [
    "suicide[\"raceforvis\"]= suicide[\"race\"]"
   ]
  },
  {
   "cell_type": "code",
   "execution_count": null,
   "id": "f14b7fd5",
   "metadata": {},
   "outputs": [],
   "source": [
    "suicide[\"race\"].replace({0:\"Other Race\",1: \"White\", 2: \"Black\",3: \"American Indian\",4: \"Chinese\", 5: \"Japanese\",\\\n",
    "                         6: \"Hawaiian\",7: \"Filipino\",8:\"Other Asian or Pacific Islander\", 18: \"Asian Indian\",\\\n",
    "                         28: \"Korean\", 38: \"Samoan\",48:\"Vietnamese\", 58: \"Guamanian\", 68:\"Other Asian\",78:\"Combined Other Asian\"}, inplace=True)"
   ]
  },
  {
   "cell_type": "code",
   "execution_count": null,
   "id": "c86a6222",
   "metadata": {},
   "outputs": [],
   "source": [
    "suicide = suicide.join(pd.get_dummies(suicide[[\"race\"]]))"
   ]
  },
  {
   "cell_type": "markdown",
   "id": "cdc45721",
   "metadata": {},
   "source": [
    "出一个自杀情况下的 ICD-10 编码热力图 横轴（A,B,C,...) 纵轴(10,20,30,...),热力是数量\n",
    "    这样我们就可以清楚地看到自杀的人的疾病记录大概率集中在哪个部分。\n",
    "    "
   ]
  },
  {
   "cell_type": "markdown",
   "id": "6ba75a6e",
   "metadata": {},
   "source": [
    "Let‘s define a function to split ICD code."
   ]
  },
  {
   "cell_type": "code",
   "execution_count": null,
   "id": "2dd3cf3f",
   "metadata": {},
   "outputs": [],
   "source": [
    "def concat_split(x,width=1):\n",
    "    result=''\n",
    "    start=0\n",
    "    while True:\n",
    "        s=str(x)[start:start+width]\n",
    "        \n",
    "        if s:\n",
    "            result =result + s \n",
    "        else:\n",
    "            break\n",
    "        start=start+width\n",
    "        \n",
    "    return result[:-1]"
   ]
  },
  {
   "cell_type": "code",
   "execution_count": null,
   "id": "ca07bb86",
   "metadata": {},
   "outputs": [],
   "source": [
    "ICD_Split = suicide['ucod'].map(concat_split).str.split('',expand=True)"
   ]
  },
  {
   "cell_type": "code",
   "execution_count": null,
   "id": "57d5600b",
   "metadata": {},
   "outputs": [],
   "source": [
    "ICD_Split.columns = ['ICD_'+str(i) for i in ICD_Split.columns]"
   ]
  },
  {
   "cell_type": "code",
   "execution_count": null,
   "id": "0ae66095",
   "metadata": {},
   "outputs": [],
   "source": [
    "ICD_Split['ICD_3']=ICD_Split['ICD_3'].replace({'':'0'})\n",
    "ICD_Split['ICD_3']=ICD_Split['ICD_3'].apply(int)\n",
    "ICD_Split['ICD_4']=ICD_Split['ICD_4'].replace({'':'0',None :'0'})\n",
    "ICD_Split['ICD_4']=ICD_Split['ICD_4'].apply(int)\n",
    "suicide = suicide.join(ICD_Split[['ICD_1','ICD_2','ICD_3','ICD_4']])"
   ]
  },
  {
   "cell_type": "code",
   "execution_count": null,
   "id": "698efbb9",
   "metadata": {},
   "outputs": [],
   "source": []
  },
  {
   "cell_type": "markdown",
   "id": "928a5a5a",
   "metadata": {},
   "source": [
    "## 2 Descriptive Analysis"
   ]
  },
  {
   "cell_type": "markdown",
   "id": "8ff9c5cb",
   "metadata": {},
   "source": [
    "Pie Chart for 自杀人数占总死亡人数百分比"
   ]
  },
  {
   "cell_type": "markdown",
   "id": "692e5160",
   "metadata": {},
   "source": [
    "### 2.1 Underlying Cause of Suicide Analysis"
   ]
  },
  {
   "cell_type": "markdown",
   "id": "577cebe1",
   "metadata": {},
   "source": [
    "#### 2.1.1 Heatmap of ICD-10 encoding system for Suicide cases."
   ]
  },
  {
   "cell_type": "code",
   "execution_count": null,
   "id": "4220c7c5",
   "metadata": {},
   "outputs": [],
   "source": [
    "heattable = suicide.pivot_table(index = 'ICD_1', columns = 'ICD_2', values = 'mandeath', aggfunc = np.sum)\n",
    "plt.figure(figsize=(10, 10))\n",
    "sns.heatmap(data = heattable,cmap='YlGnBu', annot=True, fmt=\"g\")"
   ]
  },
  {
   "cell_type": "code",
   "execution_count": null,
   "id": "3cfa7a93",
   "metadata": {},
   "outputs": [],
   "source": [
    "print(heattable)"
   ]
  },
  {
   "cell_type": "markdown",
   "id": "ccd42d40",
   "metadata": {},
   "source": [
    "上图解释：X60-X84 这一块是ICD10系统里的X60-X84 故意自害，make sense\n",
    "于是之后我们可以再dig into X7 这一块儿看看他们自杀的方式有哪些：具体可以查阅\n",
    "https://zh.m.wikipedia.org/wiki/ICD-10_第二十章：疾病和死亡的外因\n",
    "这里有一个假设，或许我们可以分析一下某个有自杀倾向的人，会倾向于用什么样的方式自杀，然后可以让他们远离这种东西。"
   ]
  },
  {
   "cell_type": "markdown",
   "id": "463ff839",
   "metadata": {},
   "source": [
    "From the Figure above we can see that most of the suicidal cases, the underlying cause of death belongs to X7**"
   ]
  },
  {
   "cell_type": "markdown",
   "id": "8c622f69",
   "metadata": {},
   "source": [
    "### 2.1.2 Deeper insight into X7"
   ]
  },
  {
   "cell_type": "markdown",
   "id": "523a1ff0",
   "metadata": {},
   "source": [
    "We can dig into Block X7 and take a look inside to see the main method that people use to suicide."
   ]
  },
  {
   "cell_type": "code",
   "execution_count": null,
   "id": "9f071183",
   "metadata": {},
   "outputs": [],
   "source": [
    "suicide_X=suicide[suicide['ICD_1']==\"X\"]\n",
    "suicide_X7=suicide_X[suicide_X['ICD_2']=='7']\n",
    "heattable_X7 = suicide_X7.pivot_table(index = 'ICD_3', columns = 'ICD_4',values='mandeath',aggfunc=np.sum)\n",
    "plt.figure(figsize=(10, 10))\n",
    "sns.heatmap(data = heattable_X7,cmap='YlGnBu',annot = True, fmt=\"g\")"
   ]
  },
  {
   "cell_type": "markdown",
   "id": "ac607301",
   "metadata": {},
   "source": [
    "From the Figure above we can see they did not further define "
   ]
  },
  {
   "cell_type": "markdown",
   "id": "6aad9371",
   "metadata": {},
   "source": [
    "### 2.1.3 Other underlying cause of death"
   ]
  },
  {
   "cell_type": "markdown",
   "id": "f10da766",
   "metadata": {},
   "source": [
    "Let's remove Block X7 and see what other underlying causes of suicide."
   ]
  },
  {
   "cell_type": "code",
   "execution_count": null,
   "id": "7994edf2",
   "metadata": {},
   "outputs": [],
   "source": [
    "#suicide_other = suicide.loc[(suicide['ICD_1'] != \"X\")&(suicide['ICD_2'] != \"7\")]\n",
    "#heaptable_other = suicide_other.pivot_table(index = 'ICD_1', columns = 'ICD_2', values = 'mandeath', aggfunc = np.sum)\n",
    "plt.figure(figsize=(10, 10))\n",
    "sns.heatmap(data = heattable,cmap='coolwarm', annot=True,fmt='g',mask = heattable == 199 )"
   ]
  },
  {
   "cell_type": "markdown",
   "id": "902ef16c",
   "metadata": {},
   "source": [
    "### Let's refer to the ICD System, we can see that:\n",
    "#### 1. There are 12 cases people's underlying cause of death is \"Intentional self-harm by jumping from a high place\"\n",
    "#### 2. There are 6 peoples' ucod is \"Intentional self-poisoning by and exposure to nonopioid analgesics, antipyretics and antirheumatics\"\n",
    "#### 3. There is 1 person's ucod is \"Type 1 Diabetes\"\n",
    "#### 4. There is 1 person's ucod is \"Malignant neoplasms\""
   ]
  },
  {
   "cell_type": "markdown",
   "id": "79af6b09",
   "metadata": {},
   "source": [
    "## 2.2 Trends"
   ]
  },
  {
   "cell_type": "code",
   "execution_count": null,
   "id": "7acb9e45",
   "metadata": {},
   "outputs": [],
   "source": [
    "heaptable_trends = suicide.pivot_table(index = 'monthdth', columns = 'weekday', values = 'mandeath', aggfunc = np.sum)\n",
    "\n",
    "plt.figure(figsize=(10, 10))\n",
    "sns.heatmap(data = heaptable_trends,cmap='YlGnBu',annot = True, fmt=\"g\")\n"
   ]
  },
  {
   "cell_type": "markdown",
   "id": "0e0af20d",
   "metadata": {},
   "source": [
    "The figure about tells us the suicide case number regarding to Month and weekday. 重灾区在1月的周六，8月的周日"
   ]
  },
  {
   "cell_type": "code",
   "execution_count": null,
   "id": "6d5a84c3",
   "metadata": {},
   "outputs": [],
   "source": [
    "monthly_trends = suicide.pivot_table(index = 'monthdth', columns = 'sex', values = 'mandeath', aggfunc = np.sum)\n",
    "monthly_trends.plot()\n",
    "plt.xticks(np.arange(1, 13, step=1))\n",
    "plt.show()"
   ]
  },
  {
   "cell_type": "code",
   "execution_count": null,
   "id": "cecda978",
   "metadata": {},
   "outputs": [],
   "source": [
    "weekly_trends = suicide.pivot_table(index = 'weekday',columns= 'sex',values = 'mandeath', aggfunc = np.sum)\n",
    "weekly_trends.plot()\n",
    "plt.xticks(np.arange(1, 8, step=1))\n",
    "plt.show()"
   ]
  },
  {
   "cell_type": "markdown",
   "id": "e4dc9566",
   "metadata": {},
   "source": [
    "Everyone Enjoys Friday"
   ]
  },
  {
   "cell_type": "markdown",
   "id": "95a97abb",
   "metadata": {},
   "source": [
    "## 2.3 Gender & Age Analysis"
   ]
  },
  {
   "cell_type": "markdown",
   "id": "8373372b",
   "metadata": {},
   "source": [
    "Age Category Referred to :https://integrisok.com/resources/on-your-health/2015/october/stages-of-life-health-for-every-age"
   ]
  },
  {
   "cell_type": "code",
   "execution_count": null,
   "id": "550c1c05",
   "metadata": {},
   "outputs": [],
   "source": [
    "def get_age_group(x):\n",
    "    if (x[\"age\"] >= 0) &(x[\"age\"] <= 1):\n",
    "        return \"Infant\"\n",
    "    if (x[\"age\"] >= 2) &(x[\"age\"] <= 4):\n",
    "        return \"Toddler\"\n",
    "    if (x[\"age\"] >= 5) &(x[\"age\"] <= 12):\n",
    "        return \"Child\"\n",
    "    if (x[\"age\"] >= 13) &(x[\"age\"] <= 19):\n",
    "        return \"Teen\"\n",
    "    if (x[\"age\"] >= 20) &(x[\"age\"] <= 39):\n",
    "        return \"Adult\"\n",
    "    if (x[\"age\"] >= 40) &(x[\"age\"] <= 59):\n",
    "        return \"Mid-age Adult\"\n",
    "    else:\n",
    "        return \"Senior\"\n",
    "    \n",
    "suicide.loc[:,\"Age Group\"] = suicide.apply(get_age_group,axis=1)"
   ]
  },
  {
   "cell_type": "code",
   "execution_count": null,
   "id": "3cf01458",
   "metadata": {},
   "outputs": [],
   "source": [
    "heaptable_genderage = suicide.pivot_table(index = 'sex', columns = 'Age Group', values = 'mandeath', aggfunc = np.sum)\n",
    "\n",
    "plt.figure(figsize=(10, 10))\n",
    "sns.heatmap(data = heaptable_genderage,cmap='YlGnBu',annot = True, fmt=\"g\")"
   ]
  },
  {
   "cell_type": "markdown",
   "id": "23f061fc",
   "metadata": {},
   "source": [
    "From the Figure above we can see that male people have larger potential to suicide than female.\n",
    "More, Adult and Senior are more likely to suicide."
   ]
  },
  {
   "cell_type": "markdown",
   "id": "62d22f5f",
   "metadata": {},
   "source": [
    "## 2.3 Gender & Martial Status Analysis"
   ]
  },
  {
   "cell_type": "code",
   "execution_count": null,
   "id": "610af1a6",
   "metadata": {},
   "outputs": [],
   "source": [
    "heaptable_gendermarstat = suicide.pivot_table(index = 'sex', columns = 'marstat', values = 'mandeath', aggfunc = np.sum)\n",
    "\n",
    "\n",
    "plt.figure(figsize=(10, 10))\n",
    "\n",
    "\n",
    "sns.heatmap(data = heaptable_gendermarstat,cmap='YlGnBu',annot = True, fmt=\"g\")"
   ]
  },
  {
   "cell_type": "markdown",
   "id": "024230d1",
   "metadata": {},
   "source": [
    "We need to revise this part in order to get the ratio value of the stuff above."
   ]
  },
  {
   "cell_type": "code",
   "execution_count": null,
   "id": "92b2edfd",
   "metadata": {},
   "outputs": [],
   "source": [
    "percentage_gendermarstat = heaptable_gendermarstat.copy()\n",
    "gender_list = [\"F\",\"M\"]\n",
    "marstat_list = [\"W\",\"M\",\"S\",\"D\"]\n",
    "\n",
    "for sex in gender_list:\n",
    "    for marstat in marstat_list:\n",
    "        percentage_gendermarstat.loc[sex,marstat] = percentage_gendermarstat.loc[sex,marstat]/len(suicide.loc[(suicide[\"sex\"] == sex) & (suicide[\"marstat\"] == marstat)])\n",
    "    "
   ]
  },
  {
   "cell_type": "code",
   "execution_count": null,
   "id": "c319ab64",
   "metadata": {},
   "outputs": [],
   "source": [
    "plt.figure(figsize=(10, 10))\n",
    "sns.heatmap(data = percentage_gendermarstat,cmap='YlGnBu',annot = True, fmt=\".4f\")"
   ]
  },
  {
   "cell_type": "markdown",
   "id": "9423f96e",
   "metadata": {},
   "source": [
    "# As suggested by Giri, here is a figure for representing the ratio of suicide cases over gender and martial status"
   ]
  },
  {
   "cell_type": "markdown",
   "id": "f9680ce3",
   "metadata": {},
   "source": [
    "# Conclusion: Single Male, in the Hell; (and why the HELL are WIDOWED people less likely to commit suicide???)"
   ]
  },
  {
   "cell_type": "markdown",
   "id": "d97598df",
   "metadata": {},
   "source": [
    "## 2.4 Gender Race Analysis"
   ]
  },
  {
   "cell_type": "code",
   "execution_count": null,
   "id": "1e1b9f62",
   "metadata": {},
   "outputs": [],
   "source": [
    "heaptable_genderrace = suicide.pivot_table(index = 'sex', columns = 'race', values = 'mandeath', aggfunc = np.sum)\n",
    "\n",
    "plt.figure(figsize=(10, 10))\n",
    "sns.heatmap(data = heaptable_genderrace,cmap='YlGnBu',annot = True, fmt=\"g\")"
   ]
  },
  {
   "cell_type": "markdown",
   "id": "7c881328",
   "metadata": {},
   "source": [
    "## 2.5 Education Level Analysis"
   ]
  },
  {
   "cell_type": "code",
   "execution_count": null,
   "id": "4a5a9f4d",
   "metadata": {},
   "outputs": [],
   "source": [
    "heaptable_educlevel = suicide.pivot_table(index = 'educ2003',columns='sex', values = 'mandeath', aggfunc = np.sum)\n",
    "heaptable_educlevel.plot()\n",
    "plt.xticks(np.arange(1, 10, step=1))\n",
    "plt.show()"
   ]
  },
  {
   "cell_type": "markdown",
   "id": "7ab196ed",
   "metadata": {},
   "source": [
    "### Make a kernel density estimate of the distribution of the target values and interpret the distribution. \n"
   ]
  },
  {
   "cell_type": "code",
   "execution_count": null,
   "id": "06357d9f",
   "metadata": {},
   "outputs": [],
   "source": [
    "sns.kdeplot(data=suicide[\"mandeath\"])\n",
    "plt.xlabel(\"target\")\n",
    "plt.show()"
   ]
  },
  {
   "cell_type": "markdown",
   "id": "583db46e",
   "metadata": {},
   "source": [
    "from this distribution, we can see that the target variable follows a skewed distribution with the mean not centered with the median."
   ]
  },
  {
   "cell_type": "markdown",
   "id": "b356dff9",
   "metadata": {},
   "source": [
    "### Compute the correlation between each feature and the target and find the 3 most correlated features.\n"
   ]
  },
  {
   "cell_type": "code",
   "execution_count": null,
   "id": "a0a7467e",
   "metadata": {},
   "outputs": [],
   "source": [
    "suicide.corr()"
   ]
  },
  {
   "cell_type": "code",
   "execution_count": null,
   "id": "595a8a16",
   "metadata": {},
   "outputs": [],
   "source": [
    "correlation = suicide.corrwith(suicide['mandeath'])\n",
    "correlationmost = correlation.loc[suicide.corrwith(suicide['mandeath'])>0.01]\n",
    "correlationmost.sort_values()"
   ]
  },
  {
   "cell_type": "code",
   "execution_count": null,
   "id": "d8e5f34f",
   "metadata": {},
   "outputs": [],
   "source": [
    "correlationleast = correlation.loc[suicide.corrwith(suicide['mandeath'])<-0.01]\n",
    "correlationleast.sort_values()"
   ]
  },
  {
   "cell_type": "code",
   "execution_count": null,
   "id": "bd537419",
   "metadata": {
    "scrolled": true
   },
   "outputs": [],
   "source": [
    "suicide.columns.tolist()"
   ]
  },
  {
   "cell_type": "code",
   "execution_count": null,
   "id": "04173ca2",
   "metadata": {},
   "outputs": [],
   "source": [
    "plt.figure(figsize=(58,58))\n",
    "sns.heatmap(suicide.corr(),annot=True, cmap='coolwarm',fmt='.2f')"
   ]
  },
  {
   "cell_type": "code",
   "execution_count": null,
   "id": "75d2231e",
   "metadata": {},
   "outputs": [],
   "source": [
    "dfhalf = suicide[['mandeath','educ2003','sex','age','placdth',\n",
    " 'sex_F', 'sex_M', 'marstat_D', 'marstat_M','marstat_S', 'marstat_W',\n",
    "'race_American Indian', 'race_Black', 'race_Chinese', 'race_Filipino', 'race_Guamanian',\n",
    "'race_Hawaiian', 'race_Japanese', 'race_Korean', 'race_White','ranum','hispanic','restatus']]\n",
    "plt.figure(figsize=(20,20))\n",
    "sns.heatmap(dfhalf.corr(),annot=True, cmap='coolwarm',fmt='.3f')"
   ]
  },
  {
   "cell_type": "code",
   "execution_count": null,
   "id": "1de050b8",
   "metadata": {},
   "outputs": [],
   "source": [
    "suicide[['mandeath','educ2003','sex','age','placdth',\n",
    " 'sex_F', 'sex_M', 'marstat_D', 'marstat_M','marstat_S', 'marstat_W',\n",
    "'race_American Indian', 'race_Black', 'race_Chinese', 'race_Filipino', 'race_Guamanian',\n",
    "'race_Hawaiian', 'race_Japanese', 'race_Korean', 'race_White']]"
   ]
  },
  {
   "cell_type": "code",
   "execution_count": null,
   "id": "ee146c10",
   "metadata": {},
   "outputs": [],
   "source": [
    "suicide['raceforvis']"
   ]
  },
  {
   "cell_type": "code",
   "execution_count": null,
   "id": "16ebac3b",
   "metadata": {},
   "outputs": [],
   "source": [
    "suicide[\"raceforvis\"].replace({18: 8, 28: 9, 38: 10,\\\n",
    "                         48:11, 58: 12,68:13,78:14}, inplace=True)\n",
    "suicide[\"raceforvis\"].describe()"
   ]
  },
  {
   "cell_type": "code",
   "execution_count": null,
   "id": "672d00d0",
   "metadata": {},
   "outputs": [],
   "source": [
    "suicide['mandeath'] =  suicide['mandeath'].astype(int)\n",
    "suicide['mandeath']"
   ]
  },
  {
   "cell_type": "code",
   "execution_count": null,
   "id": "e1bda347",
   "metadata": {},
   "outputs": [],
   "source": [
    "plt.hist(suicide['raceforvis'])"
   ]
  },
  {
   "cell_type": "code",
   "execution_count": null,
   "id": "31f4e38f",
   "metadata": {},
   "outputs": [],
   "source": [
    "plt.hist(suicide['mandeath'])"
   ]
  },
  {
   "cell_type": "code",
   "execution_count": null,
   "id": "483658f4",
   "metadata": {},
   "outputs": [],
   "source": [
    "suicide[\"age\"].describe()"
   ]
  },
  {
   "cell_type": "code",
   "execution_count": null,
   "id": "56756e77",
   "metadata": {},
   "outputs": [],
   "source": [
    "plt.hist(suicide['age'])"
   ]
  },
  {
   "cell_type": "code",
   "execution_count": null,
   "id": "9757583f",
   "metadata": {},
   "outputs": [],
   "source": [
    "plt.hist(suicide['sex'])"
   ]
  },
  {
   "cell_type": "code",
   "execution_count": null,
   "id": "8fe1124b",
   "metadata": {},
   "outputs": [],
   "source": [
    "plt.hist(suicide['educ2003'])"
   ]
  },
  {
   "cell_type": "code",
   "execution_count": null,
   "id": "59944e36",
   "metadata": {},
   "outputs": [],
   "source": [
    "plt.hist(suicide['marstat'])"
   ]
  },
  {
   "cell_type": "code",
   "execution_count": null,
   "id": "89de80e0",
   "metadata": {},
   "outputs": [],
   "source": [
    "plt.hist(suicide['placdth'])"
   ]
  },
  {
   "cell_type": "code",
   "execution_count": null,
   "id": "fab4c0ea",
   "metadata": {},
   "outputs": [],
   "source": [
    "plt.hist(suicide['ranum'])\n",
    "plt.xticks(np.arange(15,step=1))"
   ]
  },
  {
   "cell_type": "code",
   "execution_count": null,
   "id": "3f84fa48",
   "metadata": {},
   "outputs": [],
   "source": [
    "plt.hist(suicide['restatus'])\n",
    "plt.xticks([1,2,3,4])"
   ]
  },
  {
   "cell_type": "code",
   "execution_count": null,
   "id": "a542de8b",
   "metadata": {},
   "outputs": [],
   "source": [
    "plt.hist(suicide['hispanic'])"
   ]
  },
  {
   "cell_type": "code",
   "execution_count": null,
   "id": "f90a52cf",
   "metadata": {},
   "outputs": [],
   "source": [
    "suicide_people=suicide.loc[suicide['mandeath']==1]"
   ]
  },
  {
   "cell_type": "code",
   "execution_count": null,
   "id": "e8d0d94b",
   "metadata": {},
   "outputs": [],
   "source": [
    "plt.hist(suicide_people['sex'])"
   ]
  },
  {
   "cell_type": "code",
   "execution_count": null,
   "id": "c880ea32",
   "metadata": {},
   "outputs": [],
   "source": [
    "plt.hist(suicide_people['raceforvis'],log=True)\n",
    "plt.xticks(np.arange(max(suicide_people['raceforvis']),step=1))"
   ]
  },
  {
   "cell_type": "code",
   "execution_count": null,
   "id": "f43eb967",
   "metadata": {},
   "outputs": [],
   "source": [
    "white_suicide_ratio_all = sum(suicide_people['raceforvis']==1)/len(suicide_people)\n",
    "white_suicide_ratio_all"
   ]
  },
  {
   "cell_type": "code",
   "execution_count": null,
   "id": "15ae57b7",
   "metadata": {},
   "outputs": [],
   "source": [
    "white_suicide_ratio_suicide = sum(suicide['raceforvis']==1)/len(suicide)\n",
    "white_suicide_ratio_suicide"
   ]
  },
  {
   "cell_type": "code",
   "execution_count": null,
   "id": "e3979631",
   "metadata": {},
   "outputs": [],
   "source": [
    "plt.hist(suicide_people['educ2003'])\n",
    "plt.xticks(np.arange(max(suicide_people['educ2003']),step=1))"
   ]
  },
  {
   "cell_type": "code",
   "execution_count": null,
   "id": "bf1ba330",
   "metadata": {},
   "outputs": [],
   "source": [
    "plt.hist(suicide_people['age'])"
   ]
  },
  {
   "cell_type": "code",
   "execution_count": null,
   "id": "15a30911",
   "metadata": {},
   "outputs": [],
   "source": [
    "plt.hist(suicide_people['marstat'])"
   ]
  },
  {
   "cell_type": "code",
   "execution_count": null,
   "id": "5d3b551d",
   "metadata": {},
   "outputs": [],
   "source": [
    "plt.hist(suicide_people['placdth'])"
   ]
  },
  {
   "cell_type": "code",
   "execution_count": null,
   "id": "bc4ef524",
   "metadata": {},
   "outputs": [],
   "source": [
    "plt.hist(suicide_people['ranum'])"
   ]
  },
  {
   "cell_type": "code",
   "execution_count": null,
   "id": "b7c45dd2",
   "metadata": {},
   "outputs": [],
   "source": [
    "plt.hist(suicide_people['restatus'])"
   ]
  },
  {
   "cell_type": "code",
   "execution_count": null,
   "id": "f607fe3e",
   "metadata": {},
   "outputs": [],
   "source": [
    "plt.hist(suicide_people['hispanic'])"
   ]
  },
  {
   "cell_type": "code",
   "execution_count": null,
   "id": "628b2467",
   "metadata": {},
   "outputs": [],
   "source": []
  },
  {
   "cell_type": "code",
   "execution_count": null,
   "id": "95f817aa",
   "metadata": {},
   "outputs": [],
   "source": []
  },
  {
   "cell_type": "code",
   "execution_count": null,
   "id": "95a0b426",
   "metadata": {},
   "outputs": [],
   "source": []
  },
  {
   "cell_type": "code",
   "execution_count": null,
   "id": "8c5792df",
   "metadata": {},
   "outputs": [],
   "source": []
  }
 ],
 "metadata": {
  "kernelspec": {
   "display_name": "Python 3.8.8 ('base')",
   "language": "python",
   "name": "python3"
  },
  "language_info": {
   "codemirror_mode": {
    "name": "ipython",
    "version": 3
   },
   "file_extension": ".py",
   "mimetype": "text/x-python",
   "name": "python",
   "nbconvert_exporter": "python",
   "pygments_lexer": "ipython3",
   "version": "3.8.8"
  },
  "vscode": {
   "interpreter": {
    "hash": "c3ecf7120c634e8a1fb844c1a1a703abe048be847471c2eb881a4e23593dd9f1"
   }
  }
 },
 "nbformat": 4,
 "nbformat_minor": 5
}
