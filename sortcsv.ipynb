{
 "cells": [
  {
   "cell_type": "code",
   "execution_count": 1,
   "metadata": {},
   "outputs": [],
   "source": [
    "import pandas as pd\n",
    "\n",
    "import glob"
   ]
  },
  {
   "cell_type": "code",
   "execution_count": 2,
   "metadata": {},
   "outputs": [],
   "source": [
    "csv_list = glob.glob('../Morality Data/20**.csv')\n",
    "csv_list.sort()\n",
    "d={}\n",
    "\n",
    "header = []\n",
    "for csv in csv_list:\n",
    "    d[csv] = pd.read_csv(csv,low_memory=False)\n",
    "    header.append(d[csv].columns)\n"
   ]
  },
  {
   "cell_type": "code",
   "execution_count": 3,
   "metadata": {},
   "outputs": [
    {
     "name": "stdout",
     "output_type": "stream",
     "text": [
      "['race40', 'occupation', 'occptnr', 'industry', 'indstryr']\n"
     ]
    }
   ],
   "source": [
    "not_common = []\n",
    "\n",
    "for i in range(len(header)-1):\n",
    "    not_common.extend(list(set(header[i])^set(header[i+1])))\n",
    "print(not_common)\n"
   ]
  },
  {
   "cell_type": "code",
   "execution_count": 4,
   "metadata": {},
   "outputs": [],
   "source": [
    "drop_feature_list = ['educ1989','educflag','ageflag','ager52','ager27','ager12','ager22','methdisp','autopsy','activity','injury','ucod','ucr358','ucr113','ucr39','ucr130','eanum','econdp_1','econds_1','enicon_1',\\\n",
    "    'econdp_2','econds_2','enicon_2','econdp_3','econds_3','enicon_3','econdp_4','econds_4','enicon_4','econdp_5','econds_5','enicon_5','econdp_6','econds_6','enicon_6','econdp_7','econds_7','enicon_7',\\\n",
    "        'econdp_8','econds_8','enicon_8','econdp_9','econds_9','enicon_9','econdp_10','econds_10','enicon_10','econdp_11','econds_11','enicon_11','econdp_12','econds_12','enicon_12','econdp_13','econds_13','enicon_13',\\\n",
    "            'econdp_14','econds_14','enicon_14','econdp_15','econds_15','enicon_15','econdp_16','econds_16','enicon_16','econdp_17','econds_17','enicon_17','econdp_18','econds_18','enicon_18','econdp_19','econds_19','enicon_19',\\\n",
    "                'econdp_20','econds_20','enicon_20','race','brace','raceimp','racer3','hispanic']\n",
    "for csv in csv_list:\n",
    "    d[csv] = pd.read_csv(csv,low_memory=False)\n",
    "    d[csv].drop(not_common,axis=1,inplace=True,errors='ignore')\n",
    "    d[csv].drop(drop_feature_list,axis=1,inplace=True,errors='ignore')"
   ]
  },
  {
   "cell_type": "code",
   "execution_count": null,
   "metadata": {},
   "outputs": [],
   "source": []
  },
  {
   "cell_type": "code",
   "execution_count": 5,
   "metadata": {},
   "outputs": [],
   "source": [
    "combined = d[csv_list[0]].copy()\n",
    "for csv in csv_list:\n",
    "    if(csv==csv_list[0]):\n",
    "       continue\n",
    "    else:\n",
    "        combined=pd.concat([combined,d[csv]])"
   ]
  },
  {
   "cell_type": "code",
   "execution_count": 6,
   "metadata": {},
   "outputs": [],
   "source": [
    "combined.to_csv(r'combined.csv',index=False)"
   ]
  }
 ],
 "metadata": {
  "kernelspec": {
   "display_name": "Python 3.8.8 ('base')",
   "language": "python",
   "name": "python3"
  },
  "language_info": {
   "codemirror_mode": {
    "name": "ipython",
    "version": 3
   },
   "file_extension": ".py",
   "mimetype": "text/x-python",
   "name": "python",
   "nbconvert_exporter": "python",
   "pygments_lexer": "ipython3",
   "version": "3.9.13"
  },
  "orig_nbformat": 4,
  "vscode": {
   "interpreter": {
    "hash": "c3ecf7120c634e8a1fb844c1a1a703abe048be847471c2eb881a4e23593dd9f1"
   }
  }
 },
 "nbformat": 4,
 "nbformat_minor": 2
}
