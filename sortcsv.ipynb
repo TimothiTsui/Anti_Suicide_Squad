{
 "cells": [
  {
   "cell_type": "code",
   "execution_count": 1,
   "metadata": {},
   "outputs": [],
   "source": [
    "import pandas as pd\n",
    "\n",
    "import glob"
   ]
  },
  {
   "cell_type": "code",
   "execution_count": 2,
   "metadata": {},
<<<<<<< Updated upstream
=======
<<<<<<< Updated upstream
=======
<<<<<<< Updated upstream
>>>>>>> Stashed changes
>>>>>>> Stashed changes
   "outputs": [
    {
     "name": "stdout",
     "output_type": "stream",
     "text": [
      "[Index(['restatus', 'educ1989', 'educ2003', 'educflag', 'monthdth', 'sex',\n",
      "       'age', 'ageflag', 'ager52', 'ager27',\n",
      "       ...\n",
      "       'raceimp', 'racer3', 'racer5', 'hispanic', 'hspanicr', 'race40',\n",
      "       'occupation', 'occptnr', 'industry', 'indstryr'],\n",
      "      dtype='object', length=121), Index(['restatus', 'educ1989', 'educ2003', 'educflag', 'monthdth', 'sex',\n",
      "       'age', 'ageflag', 'ager52', 'ager27',\n",
      "       ...\n",
      "       'record_19', 'record_20', 'race', 'brace', 'raceimp', 'racer3',\n",
      "       'racer5', 'hispanic', 'hspanicr', 'race40'],\n",
      "      dtype='object', length=117), Index(['restatus', 'educ1989', 'educ2003', 'educflag', 'monthdth', 'sex',\n",
      "       'age', 'ageflag', 'ager52', 'ager27',\n",
      "       ...\n",
      "       'record_18', 'record_19', 'record_20', 'race', 'brace', 'raceimp',\n",
      "       'racer3', 'racer5', 'hispanic', 'hspanicr'],\n",
      "      dtype='object', length=116), Index(['restatus', 'educ1989', 'educ2003', 'educflag', 'monthdth', 'sex',\n",
      "       'age', 'ageflag', 'ager52', 'ager27',\n",
      "       ...\n",
      "       'record_18', 'record_19', 'record_20', 'race', 'brace', 'raceimp',\n",
      "       'racer3', 'racer5', 'hispanic', 'hspanicr'],\n",
      "      dtype='object', length=116), Index(['restatus', 'educ1989', 'educ2003', 'educflag', 'monthdth', 'sex',\n",
      "       'age', 'ageflag', 'ager52', 'ager27',\n",
      "       ...\n",
      "       'record_18', 'record_19', 'record_20', 'race', 'brace', 'raceimp',\n",
      "       'racer3', 'racer5', 'hispanic', 'hspanicr'],\n",
      "      dtype='object', length=116), Index(['restatus', 'educ1989', 'educ2003', 'educflag', 'monthdth', 'sex',\n",
      "       'age', 'ageflag', 'ager52', 'ager27',\n",
      "       ...\n",
      "       'record_18', 'record_19', 'record_20', 'race', 'brace', 'raceimp',\n",
      "       'racer3', 'racer5', 'hispanic', 'hspanicr'],\n",
      "      dtype='object', length=116)]\n"
     ]
    }
   ],
   "source": [
    "csv_list = glob.glob('*.csv')\n",
<<<<<<< Updated upstream
=======
<<<<<<< Updated upstream
=======
=======
   "outputs": [],
   "source": [
    "# data_2005=pd.read_csv('2005.csv',low_memory=False)\n",
    "\n",
    "# data_2005.rename(columns={'Educ2003':'educ2003'}, inplace= True)\n"
   ]
  },
  {
   "cell_type": "code",
   "execution_count": 3,
   "metadata": {},
   "outputs": [],
   "source": [
    "\n",
    "# data_2005.loc[(data_2005['educ1989']>=0)&(data_2005['educ1989']<=8),'educ2003'] = 1\n",
    "\n",
    "# data_2005.loc[(data_2005['educ1989']>=9)&(data_2005['educ1989']<=11),'educ2003'] = 2\n",
    "\n",
    "# data_2005.loc[(data_2005['educ1989']==12),'educ2003'] = 3\n",
    "\n",
    "# data_2005.loc[(data_2005['educ1989']==13),'educ2003'] = 4\n",
    "\n",
    "# data_2005.loc[(data_2005['educ1989']>=14)&(data_2005['educ1989']<=15),'educ2003'] = 5\n",
    "\n",
    "# data_2005.loc[(data_2005['educ1989']==16),'educ2003'] = 6\n",
    "\n",
    "# data_2005.loc[(data_2005['educ1989']==17),'educ2003'] = 7 # This part we may inference by analyzing data from other years and then calculate from the ratio. To be continued."
   ]
  },
  {
   "cell_type": "code",
   "execution_count": 4,
   "metadata": {},
   "outputs": [],
   "source": [
    "# data_2005.to_csv(r'2005.csv',index=False)"
   ]
  },
  {
   "cell_type": "code",
   "execution_count": 5,
   "metadata": {},
   "outputs": [],
   "source": [
    "csv_list = glob.glob('201*.csv')\n",
>>>>>>> Stashed changes
>>>>>>> Stashed changes
>>>>>>> Stashed changes
    "\n",
    "d={}\n",
    "header = []\n",
    "for csv in csv_list:\n",
    "    d[csv] = pd.read_csv(csv,low_memory=False)\n",
<<<<<<< Updated upstream
    "    header.append(d[csv].columns)\n",
    "\n",
    "print(header)"
=======
<<<<<<< Updated upstream
    "    header.append(d[csv].columns)\n",
    "\n",
    "print(header)"
=======
<<<<<<< Updated upstream
    "    header.append(d[csv].columns)\n",
    "\n",
    "print(header)"
=======
    "    header.append(d[csv].columns)\n"
>>>>>>> Stashed changes
>>>>>>> Stashed changes
>>>>>>> Stashed changes
   ]
  },
  {
   "cell_type": "code",
<<<<<<< Updated upstream
   "execution_count": 3,
=======
<<<<<<< Updated upstream
   "execution_count": 3,
=======
<<<<<<< Updated upstream
   "execution_count": 3,
=======
   "execution_count": null,
   "metadata": {},
   "outputs": [],
   "source": []
  },
  {
   "cell_type": "code",
   "execution_count": 6,
>>>>>>> Stashed changes
>>>>>>> Stashed changes
>>>>>>> Stashed changes
   "metadata": {},
   "outputs": [
    {
     "name": "stdout",
     "output_type": "stream",
     "text": [
<<<<<<< Updated upstream
      "['occupation', 'occptnr', 'indstryr', 'industry', 'race40']\n"
=======
<<<<<<< Updated upstream
      "['occupation', 'occptnr', 'indstryr', 'industry', 'race40']\n"
=======
<<<<<<< Updated upstream
      "['occupation', 'occptnr', 'indstryr', 'industry', 'race40']\n"
=======
      "['race40']\n"
>>>>>>> Stashed changes
>>>>>>> Stashed changes
>>>>>>> Stashed changes
     ]
    }
   ],
   "source": [
    "not_common = []\n",
    "\n",
    "for i in range(len(header)-1):\n",
    "    not_common.extend(list(set(header[i])^set(header[i+1])))\n",
    "print(not_common)"
   ]
  },
  {
   "cell_type": "code",
<<<<<<< Updated upstream
   "execution_count": 4,
=======
<<<<<<< Updated upstream
   "execution_count": 4,
=======
<<<<<<< Updated upstream
   "execution_count": 4,
=======
   "execution_count": 7,
>>>>>>> Stashed changes
>>>>>>> Stashed changes
>>>>>>> Stashed changes
   "metadata": {},
   "outputs": [],
   "source": [
    "for csv in csv_list:\n",
    "    d[csv] = pd.read_csv(csv,low_memory=False)\n",
    "    d[csv].drop(not_common,axis=1,inplace=True,errors='ignore')\n"
   ]
  },
  {
   "cell_type": "code",
<<<<<<< Updated upstream
=======
<<<<<<< Updated upstream
=======
<<<<<<< Updated upstream
>>>>>>> Stashed changes
>>>>>>> Stashed changes
   "execution_count": 12,
   "metadata": {},
   "outputs": [],
   "source": [
    "combined = d['2015.csv'].copy()\n",
    "for csv in csv_list:\n",
    "    if(csv==\"2015.csv\"):\n",
<<<<<<< Updated upstream
=======
<<<<<<< Updated upstream
=======
=======
   "execution_count": null,
   "metadata": {},
   "outputs": [],
   "source": []
  },
  {
   "cell_type": "code",
   "execution_count": 8,
   "metadata": {},
   "outputs": [],
   "source": [
    "combined = d['2010.csv'].copy()\n",
    "for csv in csv_list:\n",
    "    if(csv==\"2010.csv\"):\n",
>>>>>>> Stashed changes
>>>>>>> Stashed changes
>>>>>>> Stashed changes
    "       continue\n",
    "    else:\n",
    "        combined=pd.concat([combined,d[csv]])"
   ]
  },
  {
   "cell_type": "code",
<<<<<<< Updated upstream
   "execution_count": 13,
=======
<<<<<<< Updated upstream
   "execution_count": 13,
=======
<<<<<<< Updated upstream
   "execution_count": 13,
=======
   "execution_count": 9,
>>>>>>> Stashed changes
>>>>>>> Stashed changes
>>>>>>> Stashed changes
   "metadata": {},
   "outputs": [],
   "source": [
    "combined.to_csv(r'combined.csv',index=False)"
   ]
  }
 ],
 "metadata": {
  "kernelspec": {
   "display_name": "Python 3.8.8 ('base')",
   "language": "python",
   "name": "python3"
  },
  "language_info": {
   "codemirror_mode": {
    "name": "ipython",
    "version": 3
   },
   "file_extension": ".py",
   "mimetype": "text/x-python",
   "name": "python",
   "nbconvert_exporter": "python",
   "pygments_lexer": "ipython3",
   "version": "3.8.8"
  },
  "orig_nbformat": 4,
  "vscode": {
   "interpreter": {
    "hash": "c3ecf7120c634e8a1fb844c1a1a703abe048be847471c2eb881a4e23593dd9f1"
   }
  }
 },
 "nbformat": 4,
 "nbformat_minor": 2
}
