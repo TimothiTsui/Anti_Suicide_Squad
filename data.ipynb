{
 "cells": [
  {
   "cell_type": "code",
   "execution_count": 1,
   "id": "6e156ccc",
   "metadata": {},
   "outputs": [],
   "source": [
    "import matplotlib\n",
    "import matplotlib.pyplot as plt\n",
    "import seaborn as sns; sns.set()\n",
    "import numpy as np\n",
    "import pandas as pd\n",
    "from sklearn import preprocessing\n",
    "from sklearn import tree"
   ]
  },
  {
   "cell_type": "code",
   "execution_count": 2,
   "id": "084a85c7",
   "metadata": {},
   "outputs": [],
   "source": [
    "df_1 = pd.read_csv(\"Data File/suicide.csv\",low_memory=False)"
   ]
  },
  {
   "cell_type": "code",
   "execution_count": 3,
   "id": "f22672ef",
   "metadata": {},
   "outputs": [],
   "source": [
    "df_2 = pd.read_csv(\"Data File/NotSuicided.csv\",low_memory=False)\n"
   ]
  },
  {
   "cell_type": "code",
   "execution_count": 4,
   "id": "e9fb00ba",
   "metadata": {},
   "outputs": [],
   "source": [
    "df_2= df_2.drop(columns=['record_1', 'record_2', 'record_3', 'record_4', 'record_5', 'record_6',\n",
    "       'record_7', 'record_8', 'record_9', 'record_10', 'record_11',\n",
    "       'record_12', 'record_13', 'record_14', 'record_15', 'record_16',\n",
    "       'record_17', 'record_18', 'record_19', 'record_20'])"
   ]
  },
  {
   "cell_type": "code",
   "execution_count": 5,
   "id": "a5fb4979",
   "metadata": {},
   "outputs": [],
   "source": [
    "all_data = pd.concat([df_1,df_2],ignore_index=True,axis=0)"
   ]
  },
  {
   "cell_type": "code",
   "execution_count": 6,
   "id": "9e91edcc",
   "metadata": {},
   "outputs": [],
   "source": [
    "SEX_ONE_HOT = pd.get_dummies(all_data.sex, prefix='Sex')\n",
    "all_data = all_data.drop(\"sex\",axis=1)\n",
    "#final_model_data=final_model_data.join(SEX_ONE_HOT)"
   ]
  },
  {
   "cell_type": "code",
   "execution_count": 7,
   "id": "fd094aba",
   "metadata": {},
   "outputs": [],
   "source": [
    "MARSTAT_ONE_HOT = pd.get_dummies(all_data.marstat, prefix='marstat')\n",
    "all_data = all_data.drop(\"marstat\",axis=1)\n",
    "#final_model_data=final_model_data.join(MARSTAT_ONE_HOT)"
   ]
  },
  {
   "cell_type": "code",
   "execution_count": 8,
   "id": "7e3ab7a0",
   "metadata": {},
   "outputs": [],
   "source": [
    "all_data[\"placdth\"].replace({1: \"Medical Facilities - Inpatient\", 2: \"Medical Facilities - Outpatient\",3: \"Medical Facilities - Dead on Arrival\",4: \"Home\",5: \"Hospice Facility\",6: \"Nursing Home\",7: \"Other\"}, inplace=True)\n",
    "all_data[\"racer5\"].replace({0: \"Other\", 1: \"White\",2: \"Black\",3: \"American Indian\",4: \"Asian or Pacific Islander\"}, inplace=True)\n",
    "all_data[\"hspanicr\"].replace({1: \"Mexican\", 2: \"Puerto Rican\",3: \"Cuban\",4: \"Central or South American\",5: \"Other or unknown Hispanic\",6:\"Non-Hispanic white\",7:\"Non-Hispanic black\",8:\"Non-Hispanic other races\",9:\"Hispanic origin unknown\"}, inplace=True)"
   ]
  },
  {
   "cell_type": "code",
   "execution_count": 9,
   "id": "c7deac9e",
   "metadata": {},
   "outputs": [],
   "source": [
    "PLACEDTH_ONE_HOT = pd.get_dummies(all_data.placdth, prefix='placdth')\n",
    "all_data = all_data.drop(\"placdth\",axis=1)\n",
    "\n",
    "RACER5_HOT = pd.get_dummies(all_data.racer5, prefix='racer5')\n",
    "all_data = all_data.drop(\"racer5\",axis=1)\n",
    "\n",
    "HISPANICR_ONE_HOT = pd.get_dummies(all_data.hspanicr, prefix='hspanicr')\n",
    "all_data = all_data.drop(\"hspanicr\",axis=1)\n",
    "#final_model_data=final_model_data.join(MARSTAT_ONE_HOT)"
   ]
  },
  {
   "cell_type": "code",
   "execution_count": 10,
   "id": "0b3b8259",
   "metadata": {},
   "outputs": [],
   "source": [
    "final_model_data=pd.concat([all_data,SEX_ONE_HOT,MARSTAT_ONE_HOT,PLACEDTH_ONE_HOT,RACER5_HOT,HISPANICR_ONE_HOT],axis=1)"
   ]
  },
  {
   "cell_type": "code",
   "execution_count": 11,
   "id": "15422f37",
   "metadata": {},
   "outputs": [],
   "source": [
    "final_model_data[\"mandeath\"].replace({2: 1, 1: 0,3: 0,4: 0,5: 0,6: 0,7: 0}, inplace=True)"
   ]
  },
  {
   "cell_type": "code",
   "execution_count": 12,
   "id": "ed0cfea2",
   "metadata": {},
   "outputs": [
    {
     "name": "stdout",
     "output_type": "stream",
     "text": [
      "['index', 'restatus', 'educ2003', 'monthdth', 'age', 'weekday', 'year', 'injwork', 'mandeath', 'ranum', 'all_in_one', 'all_cat', 'I', 'II', 'III', 'IV', 'V', 'VI', 'VII', 'VIII', 'IX', 'X', 'XI', 'XII', 'XIII', 'XIV', 'XV', 'XVI', 'XVII', 'XVIII', 'XIX', 'XX', 'XXI', 'XXII', 'Sex_F', 'Sex_M', 'marstat_D', 'marstat_M', 'marstat_S', 'marstat_W', 'placdth_Home', 'placdth_Hospice Facility', 'placdth_Medical Facilities - Dead on Arrival', 'placdth_Medical Facilities - Inpatient', 'placdth_Medical Facilities - Outpatient', 'placdth_Nursing Home', 'placdth_Other', 'racer5_American Indian', 'racer5_Asian or Pacific Islander', 'racer5_Black', 'racer5_White', 'hspanicr_Central or South American', 'hspanicr_Cuban', 'hspanicr_Hispanic origin unknown', 'hspanicr_Mexican', 'hspanicr_Non-Hispanic black', 'hspanicr_Non-Hispanic other races', 'hspanicr_Non-Hispanic white', 'hspanicr_Other or unknown Hispanic', 'hspanicr_Puerto Rican'],"
     ]
    }
   ],
   "source": [
    "features= final_model_data.columns.tolist()\n",
    "print(features,end=\",\")"
   ]
  },
  {
   "cell_type": "code",
   "execution_count": 13,
   "id": "62f4a37e",
   "metadata": {},
   "outputs": [],
   "source": [
    "final_model_data = final_model_data.fillna(0)"
   ]
  },
  {
   "cell_type": "code",
   "execution_count": 14,
   "id": "049d9b00",
   "metadata": {},
   "outputs": [],
   "source": [
    "final_model_data = final_model_data.loc[:, (final_model_data != 0).any(axis=0)]"
   ]
  },
  {
   "cell_type": "code",
   "execution_count": 15,
   "id": "2af6e0fc",
   "metadata": {},
   "outputs": [],
   "source": [
    "final_model_data=final_model_data.drop(columns=['all_in_one', 'all_cat','injwork'])"
   ]
  },
  {
   "cell_type": "code",
   "execution_count": 16,
   "id": "5140fb02",
   "metadata": {},
   "outputs": [
    {
     "name": "stdout",
     "output_type": "stream",
     "text": [
      "['index', 'restatus', 'educ2003', 'monthdth', 'age', 'weekday', 'year', 'mandeath', 'ranum', 'I', 'II', 'III', 'IV', 'V', 'VI', 'VII', 'VIII', 'IX', 'X', 'XI', 'XII', 'XIII', 'XIV', 'XV', 'XVI', 'XVII', 'XVIII', 'XIX', 'XX', 'Sex_F', 'Sex_M', 'marstat_D', 'marstat_M', 'marstat_S', 'marstat_W', 'placdth_Home', 'placdth_Hospice Facility', 'placdth_Medical Facilities - Dead on Arrival', 'placdth_Medical Facilities - Inpatient', 'placdth_Medical Facilities - Outpatient', 'placdth_Nursing Home', 'placdth_Other', 'racer5_American Indian', 'racer5_Asian or Pacific Islander', 'racer5_Black', 'racer5_White', 'hspanicr_Central or South American', 'hspanicr_Cuban', 'hspanicr_Hispanic origin unknown', 'hspanicr_Mexican', 'hspanicr_Non-Hispanic black', 'hspanicr_Non-Hispanic other races', 'hspanicr_Non-Hispanic white', 'hspanicr_Other or unknown Hispanic', 'hspanicr_Puerto Rican'],"
     ]
    }
   ],
   "source": [
    "features= final_model_data.columns.tolist()\n",
    "print(features,end=\",\")"
   ]
  },
  {
   "cell_type": "code",
   "execution_count": 17,
   "id": "c83951f2",
   "metadata": {},
   "outputs": [],
   "source": [
    "final_model_data.to_csv(r'Data File/final_model_data.csv')"
   ]
  },
  {
   "cell_type": "code",
   "execution_count": null,
   "id": "588b3ee5",
   "metadata": {},
   "outputs": [],
   "source": []
  }
 ],
 "metadata": {
  "kernelspec": {
   "display_name": "Python 3 (ipykernel)",
   "language": "python",
   "name": "python3"
  },
  "language_info": {
   "codemirror_mode": {
    "name": "ipython",
    "version": 3
   },
   "file_extension": ".py",
   "mimetype": "text/x-python",
   "name": "python",
   "nbconvert_exporter": "python",
   "pygments_lexer": "ipython3",
   "version": "3.8.8"
  },
  "vscode": {
   "interpreter": {
    "hash": "31f2aee4e71d21fbe5cf8b01ff0e069b9275f58929596ceb00d14d90e3e16cd6"
   }
  }
 },
 "nbformat": 4,
 "nbformat_minor": 5
}
