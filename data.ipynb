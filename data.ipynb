{
 "cells": [
  {
   "cell_type": "code",
   "execution_count": 1,
   "id": "6e156ccc",
   "metadata": {},
   "outputs": [],
   "source": [
    "import matplotlib\n",
    "import matplotlib.pyplot as plt\n",
    "import seaborn as sns; sns.set()\n",
    "import numpy as np\n",
    "import pandas as pd\n",
    "from sklearn import preprocessing\n",
    "from sklearn import tree"
   ]
  },
  {
   "cell_type": "code",
   "execution_count": 2,
   "id": "084a85c7",
   "metadata": {},
   "outputs": [],
   "source": [
    "df_1 = pd.read_csv(\"suicide.csv\",low_memory=False)"
   ]
  },
  {
   "cell_type": "code",
   "execution_count": 3,
   "id": "f22672ef",
   "metadata": {},
   "outputs": [],
   "source": [
    "df_2 = pd.read_csv(\"NotSuicided.csv\",low_memory=False)\n"
   ]
  },
  {
   "cell_type": "code",
   "execution_count": 4,
   "id": "e9fb00ba",
   "metadata": {},
   "outputs": [],
   "source": [
    "df_2= df_2.drop(columns=['record_1', 'record_2', 'record_3', 'record_4', 'record_5', 'record_6',\n",
    "       'record_7', 'record_8', 'record_9', 'record_10', 'record_11',\n",
    "       'record_12', 'record_13', 'record_14', 'record_15', 'record_16',\n",
    "       'record_17', 'record_18', 'record_19', 'record_20'])"
   ]
  },
  {
   "cell_type": "code",
   "execution_count": 5,
   "id": "a5fb4979",
   "metadata": {},
   "outputs": [],
   "source": [
    "all_data = pd.concat([df_1,df_2],ignore_index=True,axis=0)"
   ]
  },
  {
   "cell_type": "code",
   "execution_count": 6,
   "id": "9e91edcc",
   "metadata": {},
   "outputs": [],
   "source": [
    "SEX_ONE_HOT = pd.get_dummies(all_data.sex, prefix='Sex')\n",
    "all_data = all_data.drop(\"sex\",axis=1)\n",
    "#final_model_data=final_model_data.join(SEX_ONE_HOT)"
   ]
  },
  {
   "cell_type": "code",
   "execution_count": 7,
   "id": "fd094aba",
   "metadata": {},
   "outputs": [],
   "source": [
    "MARSTAT_ONE_HOT = pd.get_dummies(all_data.marstat, prefix='marstat')\n",
    "all_data = all_data.drop(\"marstat\",axis=1)\n",
    "#final_model_data=final_model_data.join(MARSTAT_ONE_HOT)"
   ]
  },
  {
   "cell_type": "code",
   "execution_count": 8,
   "id": "0b3b8259",
   "metadata": {},
   "outputs": [],
   "source": [
    "final_model_data=pd.concat([all_data,SEX_ONE_HOT,MARSTAT_ONE_HOT],axis=1)"
   ]
  },
  {
   "cell_type": "code",
   "execution_count": 9,
   "id": "15422f37",
   "metadata": {},
   "outputs": [],
   "source": [
    "final_model_data[\"mandeath\"].replace({2: 1, 1: 0,3: 0,4: 0,5: 0,6: 0,7: 0}, inplace=True)"
   ]
  },
  {
   "cell_type": "code",
   "execution_count": 10,
   "id": "ed0cfea2",
   "metadata": {},
   "outputs": [
    {
     "name": "stdout",
     "output_type": "stream",
     "text": [
      "['index', 'restatus', 'educ2003', 'monthdth', 'age', 'placdth', 'weekday', 'year', 'injwork', 'mandeath', 'ranum', 'racer5', 'hspanicr', 'all_in_one', 'all_cat', 'I', 'II', 'III', 'IV', 'V', 'VI', 'VII', 'VIII', 'IX', 'X', 'XI', 'XII', 'XIII', 'XIV', 'XV', 'XVI', 'XVII', 'XVIII', 'XIX', 'XX', 'XXI', 'XXII', 'Sex_F', 'Sex_M', 'marstat_D', 'marstat_M', 'marstat_S', 'marstat_W'],"
     ]
    }
   ],
   "source": [
    "features= final_model_data.columns.tolist()\n",
    "print(features,end=\",\")"
   ]
  },
  {
   "cell_type": "code",
   "execution_count": 11,
   "id": "62f4a37e",
   "metadata": {},
   "outputs": [],
   "source": [
    "final_model_data = final_model_data.fillna(0)"
   ]
  },
  {
   "cell_type": "code",
   "execution_count": 12,
   "id": "049d9b00",
   "metadata": {},
   "outputs": [],
   "source": [
    "final_model_data = final_model_data.loc[:, (final_model_data != 0).any(axis=0)]"
   ]
  },
  {
   "cell_type": "code",
   "execution_count": 13,
   "id": "2af6e0fc",
   "metadata": {},
   "outputs": [],
   "source": [
    "final_model_data=final_model_data.drop(columns=['all_in_one', 'all_cat','injwork'])"
   ]
  },
  {
   "cell_type": "code",
   "execution_count": 14,
   "id": "5140fb02",
   "metadata": {},
   "outputs": [
    {
     "name": "stdout",
     "output_type": "stream",
     "text": [
      "['index', 'restatus', 'educ2003', 'monthdth', 'age', 'placdth', 'weekday', 'year', 'mandeath', 'ranum', 'racer5', 'hspanicr', 'I', 'II', 'III', 'IV', 'V', 'VI', 'VII', 'VIII', 'IX', 'X', 'XI', 'XII', 'XIII', 'XIV', 'XV', 'XVI', 'XVII', 'XVIII', 'XIX', 'XX', 'Sex_F', 'Sex_M', 'marstat_D', 'marstat_M', 'marstat_S', 'marstat_W'],"
     ]
    }
   ],
   "source": [
    "features= final_model_data.columns.tolist()\n",
    "print(features,end=\",\")"
   ]
  },
  {
   "cell_type": "code",
   "execution_count": 15,
   "id": "c83951f2",
   "metadata": {},
   "outputs": [],
   "source": [
    "final_model_data.to_csv(r'final_model_data.csv')"
   ]
  },
  {
   "cell_type": "code",
   "execution_count": null,
   "id": "588b3ee5",
   "metadata": {},
   "outputs": [],
   "source": []
  }
 ],
 "metadata": {
  "kernelspec": {
   "display_name": "Python 3.9.13 64-bit ('base': conda)",
   "language": "python",
   "name": "python3"
  },
  "language_info": {
   "codemirror_mode": {
    "name": "ipython",
    "version": 3
   },
   "file_extension": ".py",
   "mimetype": "text/x-python",
   "name": "python",
   "nbconvert_exporter": "python",
   "pygments_lexer": "ipython3",
   "version": "3.9.13"
  },
  "vscode": {
   "interpreter": {
    "hash": "c3ecf7120c634e8a1fb844c1a1a703abe048be847471c2eb881a4e23593dd9f1"
   }
  }
 },
 "nbformat": 4,
 "nbformat_minor": 5
}
