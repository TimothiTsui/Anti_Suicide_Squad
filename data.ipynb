{
 "cells": [
  {
   "cell_type": "code",
   "execution_count": 1,
   "id": "6e156ccc",
   "metadata": {},
   "outputs": [],
   "source": [
    "import matplotlib\n",
    "import matplotlib.pyplot as plt\n",
    "import seaborn as sns; sns.set()\n",
    "import numpy as np\n",
    "import pandas as pd\n",
    "from sklearn import preprocessing\n",
    "from sklearn import tree"
   ]
  },
  {
   "cell_type": "code",
   "execution_count": 2,
   "id": "084a85c7",
   "metadata": {},
   "outputs": [],
   "source": [
    "df_1 = pd.read_csv(\"values_can_be_trained.csv\")"
   ]
  },
  {
   "cell_type": "code",
   "execution_count": 3,
   "id": "f22672ef",
   "metadata": {},
   "outputs": [],
   "source": [
    "df_2 = pd.read_csv(\"None_suicide_data.csv\")"
   ]
  },
  {
   "cell_type": "code",
   "execution_count": 4,
   "id": "a5fb4979",
   "metadata": {},
   "outputs": [],
   "source": [
    "final_model_data = pd.concat([df_1 ,df_2])"
   ]
  },
  {
   "cell_type": "code",
   "execution_count": 5,
   "id": "9eaf3a47",
   "metadata": {},
   "outputs": [
    {
     "data": {
      "text/html": [
       "<div>\n",
       "<style scoped>\n",
       "    .dataframe tbody tr th:only-of-type {\n",
       "        vertical-align: middle;\n",
       "    }\n",
       "\n",
       "    .dataframe tbody tr th {\n",
       "        vertical-align: top;\n",
       "    }\n",
       "\n",
       "    .dataframe thead th {\n",
       "        text-align: right;\n",
       "    }\n",
       "</style>\n",
       "<table border=\"1\" class=\"dataframe\">\n",
       "  <thead>\n",
       "    <tr style=\"text-align: right;\">\n",
       "      <th></th>\n",
       "      <th>index</th>\n",
       "      <th>restatus</th>\n",
       "      <th>educ2003</th>\n",
       "      <th>monthdth</th>\n",
       "      <th>sex</th>\n",
       "      <th>age</th>\n",
       "      <th>placdth</th>\n",
       "      <th>marstat</th>\n",
       "      <th>weekday</th>\n",
       "      <th>year</th>\n",
       "      <th>...</th>\n",
       "      <th>XIII</th>\n",
       "      <th>XIV</th>\n",
       "      <th>XV</th>\n",
       "      <th>XVI</th>\n",
       "      <th>XVII</th>\n",
       "      <th>XVIII</th>\n",
       "      <th>XIX</th>\n",
       "      <th>XX</th>\n",
       "      <th>XXI</th>\n",
       "      <th>XXII</th>\n",
       "    </tr>\n",
       "  </thead>\n",
       "  <tbody>\n",
       "    <tr>\n",
       "      <th>0</th>\n",
       "      <td>9.0</td>\n",
       "      <td>1.0</td>\n",
       "      <td>3.0</td>\n",
       "      <td>1.0</td>\n",
       "      <td>M</td>\n",
       "      <td>23.0</td>\n",
       "      <td>7.0</td>\n",
       "      <td>S</td>\n",
       "      <td>4.0</td>\n",
       "      <td>2014.0</td>\n",
       "      <td>...</td>\n",
       "      <td>0</td>\n",
       "      <td>0</td>\n",
       "      <td>0</td>\n",
       "      <td>0</td>\n",
       "      <td>0</td>\n",
       "      <td>0</td>\n",
       "      <td>1</td>\n",
       "      <td>1</td>\n",
       "      <td>0</td>\n",
       "      <td>0</td>\n",
       "    </tr>\n",
       "    <tr>\n",
       "      <th>1</th>\n",
       "      <td>24.0</td>\n",
       "      <td>1.0</td>\n",
       "      <td>4.0</td>\n",
       "      <td>1.0</td>\n",
       "      <td>M</td>\n",
       "      <td>20.0</td>\n",
       "      <td>7.0</td>\n",
       "      <td>S</td>\n",
       "      <td>6.0</td>\n",
       "      <td>2014.0</td>\n",
       "      <td>...</td>\n",
       "      <td>0</td>\n",
       "      <td>0</td>\n",
       "      <td>0</td>\n",
       "      <td>0</td>\n",
       "      <td>0</td>\n",
       "      <td>0</td>\n",
       "      <td>1</td>\n",
       "      <td>1</td>\n",
       "      <td>0</td>\n",
       "      <td>0</td>\n",
       "    </tr>\n",
       "    <tr>\n",
       "      <th>2</th>\n",
       "      <td>25.0</td>\n",
       "      <td>1.0</td>\n",
       "      <td>7.0</td>\n",
       "      <td>1.0</td>\n",
       "      <td>M</td>\n",
       "      <td>45.0</td>\n",
       "      <td>4.0</td>\n",
       "      <td>M</td>\n",
       "      <td>1.0</td>\n",
       "      <td>2014.0</td>\n",
       "      <td>...</td>\n",
       "      <td>0</td>\n",
       "      <td>0</td>\n",
       "      <td>0</td>\n",
       "      <td>0</td>\n",
       "      <td>0</td>\n",
       "      <td>0</td>\n",
       "      <td>1</td>\n",
       "      <td>1</td>\n",
       "      <td>0</td>\n",
       "      <td>0</td>\n",
       "    </tr>\n",
       "    <tr>\n",
       "      <th>3</th>\n",
       "      <td>32.0</td>\n",
       "      <td>1.0</td>\n",
       "      <td>3.0</td>\n",
       "      <td>1.0</td>\n",
       "      <td>M</td>\n",
       "      <td>34.0</td>\n",
       "      <td>4.0</td>\n",
       "      <td>M</td>\n",
       "      <td>4.0</td>\n",
       "      <td>2014.0</td>\n",
       "      <td>...</td>\n",
       "      <td>0</td>\n",
       "      <td>0</td>\n",
       "      <td>0</td>\n",
       "      <td>0</td>\n",
       "      <td>0</td>\n",
       "      <td>0</td>\n",
       "      <td>1</td>\n",
       "      <td>1</td>\n",
       "      <td>0</td>\n",
       "      <td>0</td>\n",
       "    </tr>\n",
       "    <tr>\n",
       "      <th>4</th>\n",
       "      <td>40.0</td>\n",
       "      <td>2.0</td>\n",
       "      <td>2.0</td>\n",
       "      <td>1.0</td>\n",
       "      <td>M</td>\n",
       "      <td>23.0</td>\n",
       "      <td>4.0</td>\n",
       "      <td>S</td>\n",
       "      <td>7.0</td>\n",
       "      <td>2014.0</td>\n",
       "      <td>...</td>\n",
       "      <td>0</td>\n",
       "      <td>0</td>\n",
       "      <td>0</td>\n",
       "      <td>0</td>\n",
       "      <td>0</td>\n",
       "      <td>0</td>\n",
       "      <td>1</td>\n",
       "      <td>0</td>\n",
       "      <td>0</td>\n",
       "      <td>0</td>\n",
       "    </tr>\n",
       "    <tr>\n",
       "      <th>...</th>\n",
       "      <td>...</td>\n",
       "      <td>...</td>\n",
       "      <td>...</td>\n",
       "      <td>...</td>\n",
       "      <td>...</td>\n",
       "      <td>...</td>\n",
       "      <td>...</td>\n",
       "      <td>...</td>\n",
       "      <td>...</td>\n",
       "      <td>...</td>\n",
       "      <td>...</td>\n",
       "      <td>...</td>\n",
       "      <td>...</td>\n",
       "      <td>...</td>\n",
       "      <td>...</td>\n",
       "      <td>...</td>\n",
       "      <td>...</td>\n",
       "      <td>...</td>\n",
       "      <td>...</td>\n",
       "      <td>...</td>\n",
       "      <td>...</td>\n",
       "    </tr>\n",
       "    <tr>\n",
       "      <th>315112</th>\n",
       "      <td>19589417.0</td>\n",
       "      <td>2.0</td>\n",
       "      <td>3.0</td>\n",
       "      <td>9.0</td>\n",
       "      <td>M</td>\n",
       "      <td>68.0</td>\n",
       "      <td>1.0</td>\n",
       "      <td>S</td>\n",
       "      <td>4.0</td>\n",
       "      <td>2020.0</td>\n",
       "      <td>...</td>\n",
       "      <td>0</td>\n",
       "      <td>0</td>\n",
       "      <td>0</td>\n",
       "      <td>0</td>\n",
       "      <td>0</td>\n",
       "      <td>0</td>\n",
       "      <td>0</td>\n",
       "      <td>0</td>\n",
       "      <td>0</td>\n",
       "      <td>0</td>\n",
       "    </tr>\n",
       "    <tr>\n",
       "      <th>315113</th>\n",
       "      <td>7375234.0</td>\n",
       "      <td>1.0</td>\n",
       "      <td>3.0</td>\n",
       "      <td>2.0</td>\n",
       "      <td>F</td>\n",
       "      <td>89.0</td>\n",
       "      <td>5.0</td>\n",
       "      <td>W</td>\n",
       "      <td>1.0</td>\n",
       "      <td>2016.0</td>\n",
       "      <td>...</td>\n",
       "      <td>0</td>\n",
       "      <td>0</td>\n",
       "      <td>0</td>\n",
       "      <td>0</td>\n",
       "      <td>0</td>\n",
       "      <td>0</td>\n",
       "      <td>0</td>\n",
       "      <td>0</td>\n",
       "      <td>0</td>\n",
       "      <td>0</td>\n",
       "    </tr>\n",
       "    <tr>\n",
       "      <th>315114</th>\n",
       "      <td>3444295.0</td>\n",
       "      <td>1.0</td>\n",
       "      <td>3.0</td>\n",
       "      <td>1.0</td>\n",
       "      <td>M</td>\n",
       "      <td>39.0</td>\n",
       "      <td>4.0</td>\n",
       "      <td>D</td>\n",
       "      <td>3.0</td>\n",
       "      <td>2015.0</td>\n",
       "      <td>...</td>\n",
       "      <td>0</td>\n",
       "      <td>0</td>\n",
       "      <td>0</td>\n",
       "      <td>0</td>\n",
       "      <td>0</td>\n",
       "      <td>0</td>\n",
       "      <td>0</td>\n",
       "      <td>0</td>\n",
       "      <td>0</td>\n",
       "      <td>0</td>\n",
       "    </tr>\n",
       "    <tr>\n",
       "      <th>315115</th>\n",
       "      <td>2938580.0</td>\n",
       "      <td>1.0</td>\n",
       "      <td>3.0</td>\n",
       "      <td>8.0</td>\n",
       "      <td>M</td>\n",
       "      <td>74.0</td>\n",
       "      <td>6.0</td>\n",
       "      <td>W</td>\n",
       "      <td>4.0</td>\n",
       "      <td>2015.0</td>\n",
       "      <td>...</td>\n",
       "      <td>0</td>\n",
       "      <td>0</td>\n",
       "      <td>0</td>\n",
       "      <td>0</td>\n",
       "      <td>0</td>\n",
       "      <td>1</td>\n",
       "      <td>0</td>\n",
       "      <td>0</td>\n",
       "      <td>0</td>\n",
       "      <td>0</td>\n",
       "    </tr>\n",
       "    <tr>\n",
       "      <th>315116</th>\n",
       "      <td>15301557.0</td>\n",
       "      <td>1.0</td>\n",
       "      <td>5.0</td>\n",
       "      <td>1.0</td>\n",
       "      <td>M</td>\n",
       "      <td>84.0</td>\n",
       "      <td>4.0</td>\n",
       "      <td>W</td>\n",
       "      <td>7.0</td>\n",
       "      <td>2019.0</td>\n",
       "      <td>...</td>\n",
       "      <td>0</td>\n",
       "      <td>0</td>\n",
       "      <td>0</td>\n",
       "      <td>0</td>\n",
       "      <td>0</td>\n",
       "      <td>0</td>\n",
       "      <td>0</td>\n",
       "      <td>0</td>\n",
       "      <td>0</td>\n",
       "      <td>0</td>\n",
       "    </tr>\n",
       "  </tbody>\n",
       "</table>\n",
       "<p>630234 rows × 39 columns</p>\n",
       "</div>"
      ],
      "text/plain": [
       "             index  restatus  educ2003  monthdth sex   age  placdth marstat  \\\n",
       "0              9.0       1.0       3.0       1.0   M  23.0      7.0       S   \n",
       "1             24.0       1.0       4.0       1.0   M  20.0      7.0       S   \n",
       "2             25.0       1.0       7.0       1.0   M  45.0      4.0       M   \n",
       "3             32.0       1.0       3.0       1.0   M  34.0      4.0       M   \n",
       "4             40.0       2.0       2.0       1.0   M  23.0      4.0       S   \n",
       "...            ...       ...       ...       ...  ..   ...      ...     ...   \n",
       "315112  19589417.0       2.0       3.0       9.0   M  68.0      1.0       S   \n",
       "315113   7375234.0       1.0       3.0       2.0   F  89.0      5.0       W   \n",
       "315114   3444295.0       1.0       3.0       1.0   M  39.0      4.0       D   \n",
       "315115   2938580.0       1.0       3.0       8.0   M  74.0      6.0       W   \n",
       "315116  15301557.0       1.0       5.0       1.0   M  84.0      4.0       W   \n",
       "\n",
       "        weekday    year  ... XIII  XIV  XV  XVI  XVII XVIII XIX  XX  XXI  XXII  \n",
       "0           4.0  2014.0  ...    0    0   0    0     0     0   1   1    0     0  \n",
       "1           6.0  2014.0  ...    0    0   0    0     0     0   1   1    0     0  \n",
       "2           1.0  2014.0  ...    0    0   0    0     0     0   1   1    0     0  \n",
       "3           4.0  2014.0  ...    0    0   0    0     0     0   1   1    0     0  \n",
       "4           7.0  2014.0  ...    0    0   0    0     0     0   1   0    0     0  \n",
       "...         ...     ...  ...  ...  ...  ..  ...   ...   ...  ..  ..  ...   ...  \n",
       "315112      4.0  2020.0  ...    0    0   0    0     0     0   0   0    0     0  \n",
       "315113      1.0  2016.0  ...    0    0   0    0     0     0   0   0    0     0  \n",
       "315114      3.0  2015.0  ...    0    0   0    0     0     0   0   0    0     0  \n",
       "315115      4.0  2015.0  ...    0    0   0    0     0     1   0   0    0     0  \n",
       "315116      7.0  2019.0  ...    0    0   0    0     0     0   0   0    0     0  \n",
       "\n",
       "[630234 rows x 39 columns]"
      ]
     },
     "execution_count": 5,
     "metadata": {},
     "output_type": "execute_result"
    }
   ],
   "source": [
    "final_model_data"
   ]
  },
  {
   "cell_type": "code",
   "execution_count": 6,
   "id": "266c6025",
   "metadata": {},
   "outputs": [
    {
     "data": {
      "text/plain": [
       "0         M\n",
       "1         M\n",
       "2         M\n",
       "3         M\n",
       "4         M\n",
       "         ..\n",
       "315112    M\n",
       "315113    F\n",
       "315114    M\n",
       "315115    M\n",
       "315116    M\n",
       "Name: sex, Length: 630234, dtype: object"
      ]
     },
     "execution_count": 6,
     "metadata": {},
     "output_type": "execute_result"
    }
   ],
   "source": [
    "final_model_data['sex']"
   ]
  },
  {
   "cell_type": "code",
   "execution_count": 7,
   "id": "9e91edcc",
   "metadata": {},
   "outputs": [],
   "source": [
    "final_model_data = final_model_data.join(pd.get_dummies(final_model_data[['sex']]))"
   ]
  },
  {
   "cell_type": "code",
   "execution_count": 8,
   "id": "be9c4f78",
   "metadata": {},
   "outputs": [
    {
     "data": {
      "text/plain": [
       "0         M\n",
       "0         M\n",
       "0         F\n",
       "0         F\n",
       "1         M\n",
       "         ..\n",
       "315115    M\n",
       "315116    M\n",
       "315116    M\n",
       "315116    M\n",
       "315116    M\n",
       "Name: sex, Length: 1260468, dtype: object"
      ]
     },
     "execution_count": 8,
     "metadata": {},
     "output_type": "execute_result"
    }
   ],
   "source": [
    "final_model_data['sex']"
   ]
  },
  {
   "cell_type": "code",
   "execution_count": 9,
   "id": "fd094aba",
   "metadata": {},
   "outputs": [
    {
     "data": {
      "text/plain": [
       "0         S\n",
       "0         S\n",
       "0         W\n",
       "0         W\n",
       "1         S\n",
       "         ..\n",
       "315115    W\n",
       "315116    M\n",
       "315116    M\n",
       "315116    W\n",
       "315116    W\n",
       "Name: marstat, Length: 1260468, dtype: object"
      ]
     },
     "execution_count": 9,
     "metadata": {},
     "output_type": "execute_result"
    }
   ],
   "source": [
    "final_model_data['marstat']"
   ]
  },
  {
   "cell_type": "code",
   "execution_count": 10,
   "id": "9e0bda9e",
   "metadata": {},
   "outputs": [],
   "source": [
    "final_model_data = final_model_data.join(pd.get_dummies(final_model_data[[\"marstat\"]]))"
   ]
  },
  {
   "cell_type": "code",
   "execution_count": 11,
   "id": "c0ba6d38",
   "metadata": {},
   "outputs": [],
   "source": [
    "#final_model_data['injwork']"
   ]
  },
  {
   "cell_type": "code",
   "execution_count": 12,
   "id": "08a37e81",
   "metadata": {},
   "outputs": [],
   "source": [
    "#final_model_data = final_model_data.join(pd.get_dummies(final_model_data[[\"injwork\"]]))"
   ]
  },
  {
   "cell_type": "code",
   "execution_count": 14,
   "id": "15422f37",
   "metadata": {},
   "outputs": [],
   "source": [
    "final_model_data[\"mandeath\"].replace({2: 1, 1: 0,3: 0,4: 0,5: 0,6: 0,7: 0}, inplace=True)"
   ]
  },
  {
   "cell_type": "code",
   "execution_count": 15,
   "id": "ed0cfea2",
   "metadata": {},
   "outputs": [
    {
     "name": "stdout",
     "output_type": "stream",
     "text": [
      "['index', 'restatus', 'educ2003', 'monthdth', 'sex', 'age', 'placdth', 'marstat', 'weekday', 'year', 'injwork', 'mandeath', 'ranum', 'racer5', 'hspanicr', 'all_in_one', 'all_cat', 'I', 'II', 'III', 'IV', 'V', 'VI', 'VII', 'VIII', 'IX', 'X', 'XI', 'XII', 'XIII', 'XIV', 'XV', 'XVI', 'XVII', 'XVIII', 'XIX', 'XX', 'XXI', 'XXII', 'sex_F', 'sex_M', 'marstat_D', 'marstat_M', 'marstat_S', 'marstat_W']，"
     ]
    }
   ],
   "source": [
    "features= final_model_data.columns.tolist()\n",
    "print(features,end=\"，\")"
   ]
  },
  {
   "cell_type": "code",
   "execution_count": 16,
   "id": "62f4a37e",
   "metadata": {},
   "outputs": [],
   "source": [
    "final_model_data = final_model_data.fillna(0)"
   ]
  },
  {
   "cell_type": "code",
   "execution_count": 17,
   "id": "049d9b00",
   "metadata": {},
   "outputs": [],
   "source": [
    "final_model_data = final_model_data.loc[:, (final_model_data != 0).any(axis=0)]"
   ]
  },
  {
   "cell_type": "code",
   "execution_count": 18,
   "id": "2af6e0fc",
   "metadata": {},
   "outputs": [],
   "source": [
    "final_model_data=final_model_data.drop(columns=['all_in_one', 'all_cat','injwork','sex','marstat'])"
   ]
  },
  {
   "cell_type": "code",
   "execution_count": 19,
   "id": "5140fb02",
   "metadata": {},
   "outputs": [
    {
     "name": "stdout",
     "output_type": "stream",
     "text": [
      "['index', 'restatus', 'educ2003', 'monthdth', 'age', 'placdth', 'weekday', 'year', 'mandeath', 'ranum', 'racer5', 'hspanicr', 'I', 'II', 'III', 'IV', 'V', 'VI', 'VII', 'VIII', 'IX', 'X', 'XI', 'XII', 'XIII', 'XIV', 'XV', 'XVI', 'XVII', 'XVIII', 'XIX', 'XX', 'sex_F', 'sex_M', 'marstat_D', 'marstat_M', 'marstat_S', 'marstat_W']，"
     ]
    }
   ],
   "source": [
    "features= final_model_data.columns.tolist()\n",
    "print(features,end=\"，\")"
   ]
  },
  {
   "cell_type": "code",
   "execution_count": 20,
   "id": "c83951f2",
   "metadata": {},
   "outputs": [],
   "source": [
    "final_model_data.to_csv('final_model_data.csv')"
   ]
  },
  {
   "cell_type": "code",
   "execution_count": null,
   "id": "588b3ee5",
   "metadata": {},
   "outputs": [],
   "source": []
  }
 ],
 "metadata": {
  "kernelspec": {
   "display_name": "Python 3 (ipykernel)",
   "language": "python",
   "name": "python3"
  },
  "language_info": {
   "codemirror_mode": {
    "name": "ipython",
    "version": 3
   },
   "file_extension": ".py",
   "mimetype": "text/x-python",
   "name": "python",
   "nbconvert_exporter": "python",
   "pygments_lexer": "ipython3",
   "version": "3.8.8"
  }
 },
 "nbformat": 4,
 "nbformat_minor": 5
}
