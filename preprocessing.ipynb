{
 "cells": [
  {
   "cell_type": "code",
   "execution_count": 1,
   "metadata": {},
   "outputs": [],
   "source": [
    "import pandas as pd\n",
    "import numpy as np\n",
    "import seaborn as sns\n",
    "import matplotlib.pyplot as plt\n",
    "import icd10 as icd10\n",
    "import datacompy"
   ]
  },
  {
   "cell_type": "code",
   "execution_count": 2,
   "metadata": {},
   "outputs": [],
   "source": [
    "df_raw = pd.read_csv(\"combined.csv\",low_memory=False)\n",
    "features= df_raw.columns.tolist()"
   ]
  },
  {
   "cell_type": "code",
   "execution_count": 3,
   "metadata": {},
   "outputs": [],
   "source": [
    "df_raw.dropna(axis=1,how='all')\n",
    "df = df_raw.fillna(0)"
   ]
  },
  {
   "cell_type": "code",
   "execution_count": 4,
   "metadata": {},
   "outputs": [],
   "source": [
    "df_str = pd.DataFrame(df)\n",
    "df_str['age'] = df['age'].apply(str)\n",
    "age_NotSpecified = list(df_str[df_str['age'].str.contains('999')].index)\n",
    "df = df.drop(index = age_NotSpecified, axis=1)\n",
    "df['age'] = df['age'].apply(int)"
   ]
  },
  {
   "cell_type": "markdown",
   "id": "72967538",
   "metadata": {},
   "source": [
    "## 1.5 Decoding the age:\n",
    "#### 1. if the first digit is 1, then the last three digits represent the age under years.\n",
    "#### 2. if the first digit is 2, then the last three digits represent the age under months.\n",
    "#### 3. if the first digit is 4, then the last three digits represent the age under days.\n",
    "#### 4. if the first digit is 5, then the last three digits represent the age under hours.\n",
    "#### 5. if the first digit is 6, then the last three digits represent the age under minutes.\n",
    "#### 6. if any three digits are 999, then the age is not speficied.\n",
    "\n",
    "Here we filter out the index of keys with unspecified age, and get the index list to drop at next step."
   ]
  },
  {
   "cell_type": "code",
   "execution_count": 5,
   "metadata": {},
   "outputs": [],
   "source": [
    "df.loc[(df['age']>=1000)&(df['age']<2000),'age']= df['age'] - 1000\n",
    "df.loc[(df['age']>=2000)&(df['age']<3000),'age']=(df['age']-2000)/12\n",
    "df.loc[(df['age']>=4000)&(df['age']<5000),'age']=(df['age']-4000)/365\n",
    "#Although we have people died when they were just a couple of hours old, we actually can ignore that since since they were that young, it is impossible for them to \"commit a df\"\n",
    "df[(df['age']>=5000)&(df['age']<6000)]\n",
    "df.loc[(df['age']>=5000)&(df['age']<6000),'age']=(df['age']-5000)/24/365\n",
    "#I am so sorry that you died so young babe!\n",
    "df[(df['age']>=6000)&(df['age']<7000)]\n",
    "df.loc[(df['age']>=6000)&(df['age']<7000),'age']=(df['age']-6000)/60/24/365"
   ]
  },
  {
   "cell_type": "markdown",
   "id": "c75c9b5b",
   "metadata": {},
   "source": [
    "We throw away rows with unspecified features."
   ]
  },
  {
   "cell_type": "code",
   "execution_count": 6,
   "metadata": {},
   "outputs": [],
   "source": [
    "df=df.loc[df['educ2003'] != 9]\n",
    "df=df.loc[df['marstat'] != 'U']\n",
    "df=df.loc[df['weekday'] != 9]\n",
    "df=df.loc[df['placdth'] != 9]"
   ]
  },
  {
   "cell_type": "code",
   "execution_count": 7,
   "metadata": {},
   "outputs": [],
   "source": [
    "df_suicide = df.loc[df['mandeath'] == 2]\n",
    "from sklearn.utils import resample\n",
    "\n",
    "df_not_suicide = df.loc[df['mandeath']!=2]\n",
    "df_not_suicide=resample(df_not_suicide,replace=True,n_samples=len(df_suicide),random_state=42)"
   ]
  },
  {
   "cell_type": "code",
   "execution_count": 8,
   "metadata": {},
   "outputs": [],
   "source": [
    "def ICD10_Categorize(df_in):\n",
    "\n",
    "    all_record_list=[]\n",
    "    for row in df_in.itertuples():\n",
    "        all_rec=[]\n",
    "        for col in range(int(getattr(row, 'ranum'))):\n",
    "            all_rec.append(getattr(row,'record_'+str(col+1)))\n",
    "\n",
    "        # all_record=(getattr(row, 'record_1'), getattr(row, 'record_2'), getattr(row, 'record_3'), \n",
    "        # getattr(row, 'record_4'), getattr(row, 'record_5'), getattr(row, 'record_6'), getattr(row, 'record_7'), \n",
    "        # getattr(row, 'record_8'), getattr(row, 'record_9'), getattr(row, 'record_10'),getattr(row, 'record_11'), \n",
    "        # getattr(row, 'record_12'), getattr(row, 'record_13'), getattr(row, 'record_14'), getattr(row, 'record_15'), \n",
    "        # getattr(row, 'record_16'), getattr(row, 'record_17'), getattr(row, 'record_18'), getattr(row, 'record_19'), \n",
    "        # getattr(row, 'record_20'))\n",
    "        all_record_list.append(list(all_rec))\n",
    "    \n",
    "    all_cat_list=[]\n",
    "    for row in df_in.itertuples():\n",
    "        all_cat = []\n",
    "        for col in range(int(getattr(row, 'ranum'))):\n",
    "\n",
    "            code = icd10.find(getattr(row, 'record_'+str(col+1)))\n",
    "            if code == None:\n",
    "                break\n",
    "            try:\n",
    "                all_cat.append(code.block_description)\n",
    "            except:\n",
    "                all_cat.append(code.description)\n",
    "\n",
    "    \n",
    "        all_cat_list.append(list(all_cat))\n",
    "   \n",
    "    df_record = pd.DataFrame(all_record_list)\n",
    "    df_record['all_in_one']=df_record[df_record.columns[0:]].apply(lambda x: ','.join(x[x!=0].astype(str)),axis=1)\n",
    "    \n",
    "\n",
    "    df_cat = pd.DataFrame(all_cat_list)\n",
    "    df_cat.fillna(value=0,inplace= True)\n",
    "    \n",
    "\n",
    "    df_cat['all_cat']=df_cat[df_cat.columns[0:]].apply(lambda x: ';'.join(x[x!=0].astype(str)),axis=1)\n",
    "    \n",
    "\n",
    "    df_rec_cat=pd.concat([df_record['all_in_one'],df_cat['all_cat']],axis=1)\n",
    "\n",
    "    df_out = pd.concat([df_in.reset_index(inplace=True),df_rec_cat], axis=1)\n",
    "\n",
    "    df= df_in.reset_index(drop=True)\n",
    "\n",
    "    return pd.concat([df,df_out],axis=1)\n",
    "\n",
    "\n",
    "df_combined=ICD10_Categorize(df_suicide)\n",
    "df_not_suicide=ICD10_Categorize(df_not_suicide)"
   ]
  },
  {
   "cell_type": "code",
   "execution_count": null,
   "metadata": {},
   "outputs": [],
   "source": []
  },
  {
   "cell_type": "code",
   "execution_count": 9,
   "metadata": {},
   "outputs": [],
   "source": [
    "icd_chapter=pd.DataFrame(icd10.chapters)\n",
    "icd_chapter.rename(columns={0:'Chapter',1:\"Block\",2:\"Description\"},inplace=True)\n",
    "all_chapter=icd_chapter['Chapter'].tolist()"
   ]
  },
  {
   "cell_type": "code",
   "execution_count": 10,
   "metadata": {},
   "outputs": [],
   "source": [
    "df_all_blocks= pd.concat([df_combined,pd.DataFrame(columns=all_chapter)],sort=False)\n",
    "df_all_blocks.fillna(value=0,inplace=True)\n",
    "\n",
    "df_all_blocks_not_suicide= pd.concat([df_not_suicide,pd.DataFrame(columns=all_chapter)],sort=False)\n",
    "df_all_blocks_not_suicide.fillna(value=0,inplace=True)"
   ]
  },
  {
   "cell_type": "code",
   "execution_count": 11,
   "metadata": {},
   "outputs": [],
   "source": [
    "def chapter(df_in):\n",
    "\n",
    "    for index, rows in df_in.iterrows():\n",
    "        record_list=[]\n",
    "        for i in range(1,int(rows['ranum']+1),1):\n",
    "            record_list.append('record_'+str(i))\n",
    "        #print(record_list)\n",
    "        \n",
    "        for rec in record_list:\n",
    "            if(rows[rec]==0):\n",
    "                break\n",
    "            else:\n",
    "                \n",
    "                code = icd10.find(rows[rec])\n",
    "                try:\n",
    "                    chap_count = getattr(rows,code.chapter) + 1\n",
    "                    df_in.at[index,code.chapter] = chap_count\n",
    "                except:...\n",
    "                \n",
    "                \n",
    "    return df_in\n",
    "    \n",
    "\n",
    "final_suicide=chapter(df_all_blocks)\n",
    "\n",
    "final_not_suicide=chapter(df_all_blocks_not_suicide)"
   ]
  },
  {
   "cell_type": "code",
   "execution_count": 13,
   "metadata": {},
   "outputs": [
    {
     "data": {
      "text/plain": [
       "PearsonRResult(statistic=-0.09025830617413105, pvalue=0.0)"
      ]
     },
     "execution_count": 13,
     "metadata": {},
     "output_type": "execute_result"
    }
   ],
   "source": [
    "import scipy.stats as stats\n",
    "\n",
    "stats.pearsonr(final_suicide['XX'],final_suicide['XIX'])"
   ]
  },
  {
   "cell_type": "code",
   "execution_count": 14,
   "metadata": {},
   "outputs": [],
   "source": [
    "record_list=[]\n",
    "for i in range(1,21,1):\n",
    "    record_list.append('record_'+str(i))\n",
    "\n",
    "final_suicide = final_suicide.drop(record_list,axis=1)"
   ]
  },
  {
   "cell_type": "code",
   "execution_count": 16,
   "metadata": {},
   "outputs": [],
   "source": [
    "dict_chapter = {}\n",
    "chapter_list = pd.DataFrame(icd10.chapters)\n",
    "\n",
    "for i in chapter_list[0]:\n",
    "    dict_chapter[i] = final_suicide[i].sum()"
   ]
  },
  {
   "cell_type": "code",
   "execution_count": 17,
   "metadata": {},
   "outputs": [
    {
     "data": {
      "text/plain": [
       "Text(0, 0.5, 'Occurance')"
      ]
     },
     "execution_count": 17,
     "metadata": {},
     "output_type": "execute_result"
    },
    {
     "data": {
      "image/png": "[encoded data removed]",
      "text/plain": [
       "<Figure size 1000x500 with 1 Axes>"
      ]
     },
     "metadata": {},
     "output_type": "display_data"
    }
   ],
   "source": [
    "fig = plt.figure(figsize = (10, 5))\n",
    " \n",
    "# creating the bar plot\n",
    "plt.bar(dict_chapter.keys(), dict_chapter.values(), color ='maroon')\n",
    "plt.xlabel(\"Chapter\")\n",
    "plt.ylabel(\"Occurance\")"
   ]
  },
  {
   "cell_type": "markdown",
   "metadata": {},
   "source": [
    "T and S should be outlier because it is caused by the suicides.\n",
    "\n",
    "X is the same"
   ]
  },
  {
   "cell_type": "code",
   "execution_count": 18,
   "metadata": {},
   "outputs": [],
   "source": [
    "outlier = ['XX','XIX']\n",
    "\n",
    "for key in outlier:\n",
    "    del dict_chapter[key]"
   ]
  },
  {
   "cell_type": "code",
   "execution_count": 19,
   "metadata": {},
   "outputs": [
    {
     "data": {
      "text/plain": [
       "Text(0, 0.5, 'Occurance Values')"
      ]
     },
     "execution_count": 19,
     "metadata": {},
     "output_type": "execute_result"
    },
    {
     "data": {
      "image/png": "[encoded data removed]",
      "text/plain": [
       "<Figure size 1000x500 with 1 Axes>"
      ]
     },
     "metadata": {},
     "output_type": "display_data"
    }
   ],
   "source": [
    "fig = plt.figure(figsize = (10, 5))\n",
    " \n",
    "# creating the bar plot\n",
    "plt.bar(dict_chapter.keys(), dict_chapter.values(), color ='maroon')\n",
    "plt.xlabel(\"Chapter\")\n",
    "plt.ylabel(\"Occurance Values\")"
   ]
  },
  {
   "cell_type": "code",
   "execution_count": 20,
   "metadata": {},
   "outputs": [],
   "source": [
    "final_suicide.to_csv(r'suicide.csv',index=False)\n",
    "final_not_suicide.to_csv(r'NotSuicided.csv',index=False)"
   ]
  }
 ],
 "metadata": {
  "kernelspec": {
   "display_name": "base",
   "language": "python",
   "name": "python3"
  },
  "language_info": {
   "codemirror_mode": {
    "name": "ipython",
    "version": 3
   },
   "file_extension": ".py",
   "mimetype": "text/x-python",
   "name": "python",
   "nbconvert_exporter": "python",
   "pygments_lexer": "ipython3",
   "version": "3.9.13 (main, Aug 25 2022, 18:24:45) \n[Clang 12.0.0 ]"
  },
  "orig_nbformat": 4,
  "vscode": {
   "interpreter": {
    "hash": "c3ecf7120c634e8a1fb844c1a1a703abe048be847471c2eb881a4e23593dd9f1"
   }
  }
 },
 "nbformat": 4,
 "nbformat_minor": 2
}
