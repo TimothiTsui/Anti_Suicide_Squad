{
 "cells": [
  {
   "cell_type": "code",
   "execution_count": 16,
   "metadata": {},
   "outputs": [],
   "source": [
    "import pandas as pd\n",
    "import numpy as np\n",
    "import matplotlib.pyplot as plt\n"
   ]
  },
  {
   "cell_type": "code",
   "execution_count": 2,
   "metadata": {},
   "outputs": [
    {
     "name": "stdout",
     "output_type": "stream",
     "text": [
      "['restatus', 'educ1989', 'educ2003', 'educflag', 'monthdth', 'sex', 'age', 'ageflag', 'ager52', 'ager27', 'ager12', 'ager22', 'placdth', 'marstat', 'weekday', 'year', 'injwork', 'mandeath', 'methdisp', 'autopsy', 'activity', 'injury', 'ucod', 'ucr358', 'ucr113', 'ucr130', 'ucr39', 'eanum', 'econdp_1', 'econds_1', 'enicon_1', 'econdp_2', 'econds_2', 'enicon_2', 'econdp_3', 'econds_3', 'enicon_3', 'econdp_4', 'econds_4', 'enicon_4', 'econdp_5', 'econds_5', 'enicon_5', 'econdp_6', 'econds_6', 'enicon_6', 'econdp_7', 'econds_7', 'enicon_7', 'econdp_8', 'econds_8', 'enicon_8', 'econdp_9', 'econds_9', 'enicon_9', 'econdp_10', 'econds_10', 'enicon_10', 'econdp_11', 'econds_11', 'enicon_11', 'econdp_12', 'econds_12', 'enicon_12', 'econdp_13', 'econds_13', 'enicon_13', 'econdp_14', 'econds_14', 'enicon_14', 'econdp_15', 'econds_15', 'enicon_15', 'econdp_16', 'econds_16', 'enicon_16', 'econdp_17', 'econds_17', 'enicon_17', 'econdp_18', 'econds_18', 'enicon_18', 'econdp_19', 'econds_19', 'enicon_19', 'econdp_20', 'econds_20', 'enicon_20', 'ranum', 'record_1', 'record_2', 'record_3', 'record_4', 'record_5', 'record_6', 'record_7', 'record_8', 'record_9', 'record_10', 'record_11', 'record_12', 'record_13', 'record_14', 'record_15', 'record_16', 'record_17', 'record_18', 'record_19', 'record_20', 'race', 'brace', 'raceimp', 'racer3', 'racer5', 'hispanic', 'hspanicr', 'race40', 'occupation', 'occptnr', 'industry', 'indstryr']，"
     ]
    }
   ],
   "source": [
    "df_raw = pd.read_csv(\"../Morality Data/2020.csv\",low_memory=False)\n",
    "features= df_raw.columns.tolist()\n",
    "print(features,end=\"，\")"
   ]
  },
  {
   "cell_type": "code",
   "execution_count": 3,
   "metadata": {},
   "outputs": [
    {
     "data": {
      "text/html": [
       "<div>\n",
       "<style scoped>\n",
       "    .dataframe tbody tr th:only-of-type {\n",
       "        vertical-align: middle;\n",
       "    }\n",
       "\n",
       "    .dataframe tbody tr th {\n",
       "        vertical-align: top;\n",
       "    }\n",
       "\n",
       "    .dataframe thead th {\n",
       "        text-align: right;\n",
       "    }\n",
       "</style>\n",
       "<table border=\"1\" class=\"dataframe\">\n",
       "  <thead>\n",
       "    <tr style=\"text-align: right;\">\n",
       "      <th></th>\n",
       "      <th>restatus</th>\n",
       "      <th>educ1989</th>\n",
       "      <th>educ2003</th>\n",
       "      <th>educflag</th>\n",
       "      <th>monthdth</th>\n",
       "      <th>sex</th>\n",
       "      <th>age</th>\n",
       "      <th>placdth</th>\n",
       "      <th>marstat</th>\n",
       "      <th>weekday</th>\n",
       "      <th>...</th>\n",
       "      <th>raceimp</th>\n",
       "      <th>racer3</th>\n",
       "      <th>racer5</th>\n",
       "      <th>hispanic</th>\n",
       "      <th>hspanicr</th>\n",
       "      <th>race40</th>\n",
       "      <th>occupation</th>\n",
       "      <th>occptnr</th>\n",
       "      <th>industry</th>\n",
       "      <th>indstryr</th>\n",
       "    </tr>\n",
       "  </thead>\n",
       "  <tbody>\n",
       "    <tr>\n",
       "      <th>0</th>\n",
       "      <td>1</td>\n",
       "      <td>NaN</td>\n",
       "      <td>1</td>\n",
       "      <td>1</td>\n",
       "      <td>1</td>\n",
       "      <td>F</td>\n",
       "      <td>1086</td>\n",
       "      <td>1</td>\n",
       "      <td>W</td>\n",
       "      <td>6</td>\n",
       "      <td>...</td>\n",
       "      <td>NaN</td>\n",
       "      <td>2</td>\n",
       "      <td>3</td>\n",
       "      <td>100</td>\n",
       "      <td>8</td>\n",
       "      <td>3</td>\n",
       "      <td>NaN</td>\n",
       "      <td>13.0</td>\n",
       "      <td>NaN</td>\n",
       "      <td>78.0</td>\n",
       "    </tr>\n",
       "    <tr>\n",
       "      <th>1</th>\n",
       "      <td>1</td>\n",
       "      <td>NaN</td>\n",
       "      <td>6</td>\n",
       "      <td>1</td>\n",
       "      <td>1</td>\n",
       "      <td>M</td>\n",
       "      <td>1064</td>\n",
       "      <td>4</td>\n",
       "      <td>S</td>\n",
       "      <td>5</td>\n",
       "      <td>...</td>\n",
       "      <td>NaN</td>\n",
       "      <td>1</td>\n",
       "      <td>1</td>\n",
       "      <td>100</td>\n",
       "      <td>6</td>\n",
       "      <td>1</td>\n",
       "      <td>NaN</td>\n",
       "      <td>3.0</td>\n",
       "      <td>NaN</td>\n",
       "      <td>93.0</td>\n",
       "    </tr>\n",
       "    <tr>\n",
       "      <th>2</th>\n",
       "      <td>1</td>\n",
       "      <td>NaN</td>\n",
       "      <td>4</td>\n",
       "      <td>1</td>\n",
       "      <td>1</td>\n",
       "      <td>F</td>\n",
       "      <td>1039</td>\n",
       "      <td>4</td>\n",
       "      <td>D</td>\n",
       "      <td>4</td>\n",
       "      <td>...</td>\n",
       "      <td>NaN</td>\n",
       "      <td>1</td>\n",
       "      <td>1</td>\n",
       "      <td>100</td>\n",
       "      <td>6</td>\n",
       "      <td>1</td>\n",
       "      <td>NaN</td>\n",
       "      <td>11.0</td>\n",
       "      <td>NaN</td>\n",
       "      <td>81.0</td>\n",
       "    </tr>\n",
       "    <tr>\n",
       "      <th>3</th>\n",
       "      <td>1</td>\n",
       "      <td>NaN</td>\n",
       "      <td>3</td>\n",
       "      <td>1</td>\n",
       "      <td>1</td>\n",
       "      <td>F</td>\n",
       "      <td>1059</td>\n",
       "      <td>4</td>\n",
       "      <td>S</td>\n",
       "      <td>5</td>\n",
       "      <td>...</td>\n",
       "      <td>NaN</td>\n",
       "      <td>3</td>\n",
       "      <td>2</td>\n",
       "      <td>100</td>\n",
       "      <td>7</td>\n",
       "      <td>2</td>\n",
       "      <td>NaN</td>\n",
       "      <td>22.0</td>\n",
       "      <td>NaN</td>\n",
       "      <td>99.0</td>\n",
       "    </tr>\n",
       "    <tr>\n",
       "      <th>4</th>\n",
       "      <td>1</td>\n",
       "      <td>NaN</td>\n",
       "      <td>3</td>\n",
       "      <td>1</td>\n",
       "      <td>1</td>\n",
       "      <td>M</td>\n",
       "      <td>1069</td>\n",
       "      <td>2</td>\n",
       "      <td>M</td>\n",
       "      <td>4</td>\n",
       "      <td>...</td>\n",
       "      <td>NaN</td>\n",
       "      <td>1</td>\n",
       "      <td>1</td>\n",
       "      <td>100</td>\n",
       "      <td>6</td>\n",
       "      <td>1</td>\n",
       "      <td>NaN</td>\n",
       "      <td>18.0</td>\n",
       "      <td>NaN</td>\n",
       "      <td>2.0</td>\n",
       "    </tr>\n",
       "    <tr>\n",
       "      <th>...</th>\n",
       "      <td>...</td>\n",
       "      <td>...</td>\n",
       "      <td>...</td>\n",
       "      <td>...</td>\n",
       "      <td>...</td>\n",
       "      <td>...</td>\n",
       "      <td>...</td>\n",
       "      <td>...</td>\n",
       "      <td>...</td>\n",
       "      <td>...</td>\n",
       "      <td>...</td>\n",
       "      <td>...</td>\n",
       "      <td>...</td>\n",
       "      <td>...</td>\n",
       "      <td>...</td>\n",
       "      <td>...</td>\n",
       "      <td>...</td>\n",
       "      <td>...</td>\n",
       "      <td>...</td>\n",
       "      <td>...</td>\n",
       "      <td>...</td>\n",
       "    </tr>\n",
       "    <tr>\n",
       "      <th>3390273</th>\n",
       "      <td>1</td>\n",
       "      <td>NaN</td>\n",
       "      <td>3</td>\n",
       "      <td>1</td>\n",
       "      <td>12</td>\n",
       "      <td>M</td>\n",
       "      <td>1071</td>\n",
       "      <td>4</td>\n",
       "      <td>W</td>\n",
       "      <td>5</td>\n",
       "      <td>...</td>\n",
       "      <td>NaN</td>\n",
       "      <td>3</td>\n",
       "      <td>2</td>\n",
       "      <td>100</td>\n",
       "      <td>7</td>\n",
       "      <td>2</td>\n",
       "      <td>NaN</td>\n",
       "      <td>16.0</td>\n",
       "      <td>NaN</td>\n",
       "      <td>57.0</td>\n",
       "    </tr>\n",
       "    <tr>\n",
       "      <th>3390274</th>\n",
       "      <td>1</td>\n",
       "      <td>NaN</td>\n",
       "      <td>9</td>\n",
       "      <td>1</td>\n",
       "      <td>12</td>\n",
       "      <td>M</td>\n",
       "      <td>1060</td>\n",
       "      <td>4</td>\n",
       "      <td>U</td>\n",
       "      <td>2</td>\n",
       "      <td>...</td>\n",
       "      <td>1.0</td>\n",
       "      <td>3</td>\n",
       "      <td>2</td>\n",
       "      <td>998</td>\n",
       "      <td>9</td>\n",
       "      <td>2</td>\n",
       "      <td>NaN</td>\n",
       "      <td>25.0</td>\n",
       "      <td>NaN</td>\n",
       "      <td>99.0</td>\n",
       "    </tr>\n",
       "    <tr>\n",
       "      <th>3390275</th>\n",
       "      <td>1</td>\n",
       "      <td>NaN</td>\n",
       "      <td>9</td>\n",
       "      <td>1</td>\n",
       "      <td>12</td>\n",
       "      <td>M</td>\n",
       "      <td>1067</td>\n",
       "      <td>4</td>\n",
       "      <td>U</td>\n",
       "      <td>6</td>\n",
       "      <td>...</td>\n",
       "      <td>1.0</td>\n",
       "      <td>3</td>\n",
       "      <td>2</td>\n",
       "      <td>998</td>\n",
       "      <td>9</td>\n",
       "      <td>2</td>\n",
       "      <td>NaN</td>\n",
       "      <td>25.0</td>\n",
       "      <td>NaN</td>\n",
       "      <td>99.0</td>\n",
       "    </tr>\n",
       "    <tr>\n",
       "      <th>3390276</th>\n",
       "      <td>1</td>\n",
       "      <td>NaN</td>\n",
       "      <td>9</td>\n",
       "      <td>1</td>\n",
       "      <td>12</td>\n",
       "      <td>M</td>\n",
       "      <td>1054</td>\n",
       "      <td>4</td>\n",
       "      <td>U</td>\n",
       "      <td>2</td>\n",
       "      <td>...</td>\n",
       "      <td>1.0</td>\n",
       "      <td>3</td>\n",
       "      <td>2</td>\n",
       "      <td>998</td>\n",
       "      <td>9</td>\n",
       "      <td>2</td>\n",
       "      <td>NaN</td>\n",
       "      <td>NaN</td>\n",
       "      <td>NaN</td>\n",
       "      <td>NaN</td>\n",
       "    </tr>\n",
       "    <tr>\n",
       "      <th>3390277</th>\n",
       "      <td>1</td>\n",
       "      <td>NaN</td>\n",
       "      <td>9</td>\n",
       "      <td>1</td>\n",
       "      <td>4</td>\n",
       "      <td>M</td>\n",
       "      <td>1067</td>\n",
       "      <td>4</td>\n",
       "      <td>S</td>\n",
       "      <td>2</td>\n",
       "      <td>...</td>\n",
       "      <td>NaN</td>\n",
       "      <td>3</td>\n",
       "      <td>2</td>\n",
       "      <td>998</td>\n",
       "      <td>9</td>\n",
       "      <td>2</td>\n",
       "      <td>NaN</td>\n",
       "      <td>NaN</td>\n",
       "      <td>NaN</td>\n",
       "      <td>NaN</td>\n",
       "    </tr>\n",
       "  </tbody>\n",
       "</table>\n",
       "<p>3390278 rows × 49 columns</p>\n",
       "</div>"
      ],
      "text/plain": [
       "         restatus  educ1989  educ2003  educflag  monthdth sex   age  placdth  \\\n",
       "0               1       NaN         1         1         1   F  1086        1   \n",
       "1               1       NaN         6         1         1   M  1064        4   \n",
       "2               1       NaN         4         1         1   F  1039        4   \n",
       "3               1       NaN         3         1         1   F  1059        4   \n",
       "4               1       NaN         3         1         1   M  1069        2   \n",
       "...           ...       ...       ...       ...       ...  ..   ...      ...   \n",
       "3390273         1       NaN         3         1        12   M  1071        4   \n",
       "3390274         1       NaN         9         1        12   M  1060        4   \n",
       "3390275         1       NaN         9         1        12   M  1067        4   \n",
       "3390276         1       NaN         9         1        12   M  1054        4   \n",
       "3390277         1       NaN         9         1         4   M  1067        4   \n",
       "\n",
       "        marstat  weekday  ...  raceimp racer3  racer5  hispanic  hspanicr  \\\n",
       "0             W        6  ...      NaN      2       3       100         8   \n",
       "1             S        5  ...      NaN      1       1       100         6   \n",
       "2             D        4  ...      NaN      1       1       100         6   \n",
       "3             S        5  ...      NaN      3       2       100         7   \n",
       "4             M        4  ...      NaN      1       1       100         6   \n",
       "...         ...      ...  ...      ...    ...     ...       ...       ...   \n",
       "3390273       W        5  ...      NaN      3       2       100         7   \n",
       "3390274       U        2  ...      1.0      3       2       998         9   \n",
       "3390275       U        6  ...      1.0      3       2       998         9   \n",
       "3390276       U        2  ...      1.0      3       2       998         9   \n",
       "3390277       S        2  ...      NaN      3       2       998         9   \n",
       "\n",
       "        race40  occupation occptnr industry indstryr  \n",
       "0            3         NaN    13.0      NaN     78.0  \n",
       "1            1         NaN     3.0      NaN     93.0  \n",
       "2            1         NaN    11.0      NaN     81.0  \n",
       "3            2         NaN    22.0      NaN     99.0  \n",
       "4            1         NaN    18.0      NaN      2.0  \n",
       "...        ...         ...     ...      ...      ...  \n",
       "3390273      2         NaN    16.0      NaN     57.0  \n",
       "3390274      2         NaN    25.0      NaN     99.0  \n",
       "3390275      2         NaN    25.0      NaN     99.0  \n",
       "3390276      2         NaN     NaN      NaN      NaN  \n",
       "3390277      2         NaN     NaN      NaN      NaN  \n",
       "\n",
       "[3390278 rows x 49 columns]"
      ]
     },
     "execution_count": 3,
     "metadata": {},
     "output_type": "execute_result"
    }
   ],
   "source": [
    "df_raw.drop(columns=['ageflag', 'ager52', 'ager27', 'ager12', 'ager22','methdisp', 'autopsy','ucr358', 'ucr113', 'ucr130', 'ucr39', 'eanum', 'econdp_1',\\\n",
    "    'econds_1', 'enicon_1', 'econdp_2', 'econds_2', 'enicon_2', 'econdp_3', 'econds_3', 'enicon_3', 'econdp_4', 'econds_4', 'enicon_4', 'econdp_5', 'econds_5', \\\n",
    "        'enicon_5', 'econdp_6', 'econds_6', 'enicon_6', 'econdp_7', 'econds_7', 'enicon_7', 'econdp_8', 'econds_8', 'enicon_8', 'econdp_9', 'econds_9', 'enicon_9',\\\n",
    "             'econdp_10', 'econds_10', 'enicon_10', 'econdp_11', 'econds_11', 'enicon_11', 'econdp_12', 'econds_12', 'enicon_12', 'econdp_13', 'econds_13', 'enicon_13', \\\n",
    "                'econdp_14', 'econds_14', 'enicon_14', 'econdp_15', 'econds_15', 'enicon_15', 'econdp_16', 'econds_16', 'enicon_16', 'econdp_17', 'econds_17', 'enicon_17', \\\n",
    "                    'econdp_18', 'econds_18', 'enicon_18', 'econdp_19', 'econds_19', 'enicon_19', 'econdp_20', 'econds_20', 'enicon_20'])\n"
   ]
  },
  {
   "cell_type": "code",
   "execution_count": 4,
   "metadata": {},
   "outputs": [],
   "source": [
    "df_raw.dropna(axis=1,how='all')\n",
    "df = df_raw.fillna(0)"
   ]
  },
  {
   "cell_type": "code",
   "execution_count": 5,
   "metadata": {},
   "outputs": [],
   "source": [
    "df_str = pd.DataFrame(df)\n",
    "df_str['age'] = df['age'].apply(str)\n",
    "age_NotSpecified = list(df_str[df_str['age'].str.contains('999')].index)\n",
    "df = df.drop(index = age_NotSpecified, axis=1)\n",
    "df['age'] = df['age'].apply(int)"
   ]
  },
  {
   "cell_type": "markdown",
   "id": "72967538",
   "metadata": {},
   "source": [
    "## 1.5 Decoding the age:\n",
    "#### 1. if the first digit is 1, then the last three digits represent the age under years.\n",
    "#### 2. if the first digit is 2, then the last three digits represent the age under months.\n",
    "#### 3. if the first digit is 4, then the last three digits represent the age under days.\n",
    "#### 4. if the first digit is 5, then the last three digits represent the age under hours.\n",
    "#### 5. if the first digit is 6, then the last three digits represent the age under minutes.\n",
    "#### 6. if any three digits are 999, then the age is not speficied.\n",
    "\n",
    "Here we filter out the index of keys with unspecified age, and get the index list to drop at next step."
   ]
  },
  {
   "cell_type": "code",
   "execution_count": 6,
   "metadata": {},
   "outputs": [],
   "source": [
    "df.loc[(df['age']>=1000)&(df['age']<2000),'age']= df['age'] - 1000\n",
    "df.loc[(df['age']>=2000)&(df['age']<3000),'age']=(df['age']-2000)/12\n",
    "df.loc[(df['age']>=4000)&(df['age']<5000),'age']=(df['age']-4000)/365\n",
    "#Although we have people died when they were just a couple of hours old, we actually can ignore that since since they were that young, it is impossible for them to \"commit a df\"\n",
    "df[(df['age']>=5000)&(df['age']<6000)]\n",
    "df.loc[(df['age']>=5000)&(df['age']<6000),'age']=(df['age']-5000)/24/365\n",
    "#I am so sorry that you died so young babe!\n",
    "df[(df['age']>=6000)&(df['age']<7000)]\n",
    "df.loc[(df['age']>=6000)&(df['age']<7000),'age']=(df['age']-6000)/60/24/365"
   ]
  },
  {
   "cell_type": "markdown",
   "id": "c75c9b5b",
   "metadata": {},
   "source": [
    "We throw away rows with unspecified features."
   ]
  },
  {
   "cell_type": "code",
   "execution_count": 7,
   "metadata": {},
   "outputs": [],
   "source": [
    "df=df.loc[df['educ2003'] != 9]\n",
    "df=df.loc[df['marstat'] != 'U']\n",
    "df=df.loc[df['weekday'] != 9]\n",
    "df=df.loc[df['placdth'] != 9]\n",
    "df=df.loc[df['injury'] != 'U']"
   ]
  },
  {
   "cell_type": "code",
   "execution_count": 8,
   "metadata": {},
   "outputs": [],
   "source": [
    "import string\n",
    "import numpy as np\n",
    "alphabet = list(string.ascii_uppercase)"
   ]
  },
  {
   "cell_type": "code",
   "execution_count": 9,
   "metadata": {},
   "outputs": [],
   "source": [
    "ICD10_X_list = [\"ICD_1_\" + alpha for alpha in alphabet]\n",
    "\n",
    "df = pd.concat([df,pd.DataFrame(columns=ICD10_X_list)])\n",
    "\n",
    "df.update(df[ICD10_X_list].fillna(0))\n"
   ]
  },
  {
   "cell_type": "code",
   "execution_count": 27,
   "metadata": {},
   "outputs": [],
   "source": [
    "df_suicide = df.loc[df['mandeath'] == 2]"
   ]
  },
  {
   "cell_type": "code",
   "execution_count": 28,
   "metadata": {},
   "outputs": [],
   "source": [
    "def ICD10_Categorize(df_in):\n",
    "\n",
    "    num_list=list(range(1,21,1))\n",
    "    number_list=[]\n",
    "    for i in num_list:\n",
    "        number_list.append(str(i))\n",
    "    record_list = [\"record_\"+ i for i in number_list]\n",
    "\n",
    "    all_record_list=[]\n",
    "    for row in df_in.itertuples():\n",
    "        all_record=(getattr(row, 'record_1'), getattr(row, 'record_2'), getattr(row, 'record_3'), getattr(row, 'record_4'), getattr(row, 'record_5'), getattr(row, 'record_6'), getattr(row, 'record_7'), getattr(row, 'record_8'), getattr(row, 'record_9'), getattr(row, 'record_10'),getattr(row, 'record_11'), getattr(row, 'record_12'), getattr(row, 'record_13'), getattr(row, 'record_14'), getattr(row, 'record_15'),getattr(row, 'record_16'), getattr(row, 'record_17'), getattr(row, 'record_18'), getattr(row, 'record_19'), getattr(row, 'record_20'))\n",
    "        all_record_list.append(list(all_record))\n",
    "\n",
    "    df_record = pd.DataFrame(all_record_list)\n",
    "    df_record['all_in_one']=df_record[df_record.columns[0:]].apply(lambda x: ','.join(x[x!=0].astype(str)),axis=1)\n",
    "\n",
    "    df_out = pd.concat([df_in,df_record[\"all_in_one\"]], axis=1, join='inner')\n",
    "\n",
    "    for alpha in alphabet:\n",
    "        df_out['ICD_1_'+alpha] = df_out['all_in_one'].str.count(alpha)\n",
    "\n",
    "    return df_out\n"
   ]
  },
  {
   "cell_type": "code",
   "execution_count": 29,
   "metadata": {},
   "outputs": [],
   "source": [
    "df_combined=ICD10_Categorize(df_suicide)"
   ]
  },
  {
   "cell_type": "code",
   "execution_count": 25,
   "metadata": {},
   "outputs": [],
   "source": []
  },
  {
   "cell_type": "code",
   "execution_count": 38,
   "metadata": {},
   "outputs": [],
   "source": [
    "dict_ICD = {}\n",
    "for i in ICD10_X_list:\n",
    "    dict_ICD[i[-1]] = df_combined[i].sum()"
   ]
  },
  {
   "cell_type": "code",
   "execution_count": 39,
   "metadata": {},
   "outputs": [
    {
     "data": {
      "text/plain": [
       "Text(0, 0.5, 'Occurance Values')"
      ]
     },
     "execution_count": 39,
     "metadata": {},
     "output_type": "execute_result"
    },
    {
     "data": {
      "image/png": "[encoded data removed]",
      "text/plain": [
       "<Figure size 1000x500 with 1 Axes>"
      ]
     },
     "metadata": {},
     "output_type": "display_data"
    }
   ],
   "source": [
    "fig = plt.figure(figsize = (10, 5))\n",
    " \n",
    "# creating the bar plot\n",
    "plt.bar(dict_ICD.keys(), dict_ICD.values(), color ='maroon')\n",
    "plt.xlabel(\"First Code of ICD 10\")\n",
    "plt.ylabel(\"Occurance Values\")"
   ]
  },
  {
   "cell_type": "markdown",
   "metadata": {},
   "source": [
    "T and S should be outlier because it is caused by the suicides.\n",
    "\n",
    "X is the same\n"
   ]
  },
  {
   "cell_type": "code",
   "execution_count": 40,
   "metadata": {},
   "outputs": [],
   "source": [
    "outlier = ['X', 'S', 'T']\n",
    "\n",
    "for key in outlier:\n",
    "    del dict_ICD[key]"
   ]
  },
  {
   "cell_type": "code",
   "execution_count": 41,
   "metadata": {},
   "outputs": [
    {
     "data": {
      "text/plain": [
       "Text(0, 0.5, 'Occurance Values')"
      ]
     },
     "execution_count": 41,
     "metadata": {},
     "output_type": "execute_result"
    },
    {
     "data": {
      "image/png": "[encoded data removed]",
      "text/plain": [
       "<Figure size 1000x500 with 1 Axes>"
      ]
     },
     "metadata": {},
     "output_type": "display_data"
    }
   ],
   "source": [
    "fig = plt.figure(figsize = (10, 5))\n",
    " \n",
    "# creating the bar plot\n",
    "plt.bar(dict_ICD.keys(), dict_ICD.values(), color ='maroon')\n",
    "plt.xlabel(\"First Code of ICD 10\")\n",
    "plt.ylabel(\"Occurance Values\")"
   ]
  },
  {
   "cell_type": "code",
   "execution_count": null,
   "metadata": {},
   "outputs": [],
   "source": [
    "#df.to_csv(r'../Morality Data/2020_preprocessed.csv',index=False)"
   ]
  }
 ],
 "metadata": {
  "kernelspec": {
   "display_name": "Python 3.8.8 ('base')",
   "language": "python",
   "name": "python3"
  },
  "language_info": {
   "codemirror_mode": {
    "name": "ipython",
    "version": 3
   },
   "file_extension": ".py",
   "mimetype": "text/x-python",
   "name": "python",
   "nbconvert_exporter": "python",
   "pygments_lexer": "ipython3",
   "version": "3.8.8"
  },
  "orig_nbformat": 4,
  "vscode": {
   "interpreter": {
    "hash": "c3ecf7120c634e8a1fb844c1a1a703abe048be847471c2eb881a4e23593dd9f1"
   }
  }
 },
 "nbformat": 4,
 "nbformat_minor": 2
}
